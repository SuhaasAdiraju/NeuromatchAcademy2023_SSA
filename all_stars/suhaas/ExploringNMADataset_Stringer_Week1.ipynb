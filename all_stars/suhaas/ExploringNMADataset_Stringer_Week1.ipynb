{
  "nbformat": 4,
  "nbformat_minor": 0,
  "metadata": {
    "colab": {
      "provenance": [],
      "authorship_tag": "ABX9TyNG051ypPdwi2fGVurhpMeS",
      "include_colab_link": true
    },
    "kernelspec": {
      "name": "python3",
      "display_name": "Python 3"
    },
    "language_info": {
      "name": "python"
    }
  },
  "cells": [
    {
      "cell_type": "markdown",
      "metadata": {
        "id": "view-in-github",
        "colab_type": "text"
      },
      "source": [
        "<a href=\"https://colab.research.google.com/github/SuhaasAdiraju/NeuromatchAcademy2023_SSA/blob/main/all_stars/suhaas/ExploringNMADataset_Stringer_Week1.ipynb\" target=\"_parent\"><img src=\"https://colab.research.google.com/assets/colab-badge.svg\" alt=\"Open In Colab\"/></a>"
      ]
    },
    {
      "cell_type": "code",
      "execution_count": 1,
      "metadata": {
        "id": "FyRWMUnfsqJs"
      },
      "outputs": [],
      "source": [
        "#Get numpy in as np for ease\n",
        "import numpy as np\n",
        "#Get matplotlib for plotting\n",
        "import matplotlib.pyplot as plt\n",
        "\n",
        "# @title Data retrieval\n",
        "import os, requests\n",
        "\n",
        "fname = \"stringer_spontaneous.npy\"\n",
        "url = \"https://osf.io/dpqaj/download\"\n",
        "\n",
        "if not os.path.isfile(fname):\n",
        "  try:\n",
        "    r = requests.get(url)\n",
        "  except requests.ConnectionError:\n",
        "    print(\"!!! Failed to download data !!!\")\n",
        "  else:\n",
        "    if r.status_code != requests.codes.ok:\n",
        "      print(\"!!! Failed to download data !!!\")\n",
        "    else:\n",
        "      with open(fname, \"wb\") as fid:\n",
        "        fid.write(r.content)\n",
        "\n",
        "# @title Data loading\n",
        "\n",
        "dat = np.load('stringer_spontaneous.npy', allow_pickle=True).item()\n"
      ]
    },
    {
      "cell_type": "markdown",
      "source": [
        "# Explore/Understand the data set\n"
      ],
      "metadata": {
        "id": "kHSbeZ-nuNSU"
      }
    },
    {
      "cell_type": "code",
      "source": [
        "print(dat.keys())\n",
        "\n"
      ],
      "metadata": {
        "colab": {
          "base_uri": "https://localhost:8080/"
        },
        "id": "5GudwOCLuO9p",
        "outputId": "6e0068e2-5bb3-4783-e9df-391164382e1a"
      },
      "execution_count": null,
      "outputs": [
        {
          "output_type": "stream",
          "name": "stdout",
          "text": [
            "dict_keys(['sresp', 'run', 'beh_svd_time', 'beh_svd_mask', 'stat', 'pupilArea', 'pupilCOM', 'xyz'])\n"
          ]
        }
      ]
    },
    {
      "cell_type": "markdown",
      "source": [
        "# Neural Data"
      ],
      "metadata": {
        "id": "2cSKgh-madxX"
      }
    },
    {
      "cell_type": "code",
      "source": [
        "# Isolate the neuronal activity\n",
        "TimeBinnedNeuronal = dat['sresp'];\n",
        "\n",
        "# make a time axis\n",
        "timeax1Full = np.linspace(0,len(TimeBinnedNeuronal[1,:])/1.2, len(TimeBinnedNeuronal[1,:]))\n",
        "for neuron in range(0,3):\n",
        "  plt.plot(timeax1Full, TimeBinnedNeuronal[neuron,:])\n"
      ],
      "metadata": {
        "id": "MKtrk0NlaVoY"
      },
      "execution_count": null,
      "outputs": []
    },
    {
      "cell_type": "markdown",
      "source": [
        "# Behavioral Data\n"
      ],
      "metadata": {
        "id": "Mgv_6hcXaqfq"
      }
    },
    {
      "cell_type": "code",
      "source": [
        "Masks = dat['beh_svd_mask'];\n",
        "MaskTimes = dat['beh_svd_time'];\n",
        "np.shape(Masks)\n",
        "\n",
        "rows = 1; cols = 10;\n",
        "fig, ax = plt.subplots(rows,cols,sharex= True, sharey= True, squeeze = False)\n",
        "for idx in range(0,1000,100):\n",
        "  for coli in range(cols):\n",
        "    ax[rows,coli].imshow(Masks[:,:,idx])\n",
        "\n",
        "fig.show()"
      ],
      "metadata": {
        "id": "6p68BPlkaujs",
        "outputId": "b1befcaf-29f1-4f01-e365-df92adf9036e",
        "colab": {
          "base_uri": "https://localhost:8080/",
          "height": 618
        }
      },
      "execution_count": 43,
      "outputs": [
        {
          "output_type": "error",
          "ename": "IndexError",
          "evalue": "ignored",
          "traceback": [
            "\u001b[0;31m---------------------------------------------------------------------------\u001b[0m",
            "\u001b[0;31mIndexError\u001b[0m                                Traceback (most recent call last)",
            "\u001b[0;32m<ipython-input-43-d6ac88687b0b>\u001b[0m in \u001b[0;36m<cell line: 3>\u001b[0;34m()\u001b[0m\n\u001b[1;32m      3\u001b[0m \u001b[0;32mfor\u001b[0m \u001b[0midx\u001b[0m \u001b[0;32min\u001b[0m \u001b[0mrange\u001b[0m\u001b[0;34m(\u001b[0m\u001b[0;36m0\u001b[0m\u001b[0;34m,\u001b[0m\u001b[0;36m1000\u001b[0m\u001b[0;34m,\u001b[0m\u001b[0;36m100\u001b[0m\u001b[0;34m)\u001b[0m\u001b[0;34m:\u001b[0m\u001b[0;34m\u001b[0m\u001b[0;34m\u001b[0m\u001b[0m\n\u001b[1;32m      4\u001b[0m   \u001b[0;32mfor\u001b[0m \u001b[0mcoli\u001b[0m \u001b[0;32min\u001b[0m \u001b[0mrange\u001b[0m\u001b[0;34m(\u001b[0m\u001b[0mcols\u001b[0m\u001b[0;34m)\u001b[0m\u001b[0;34m:\u001b[0m\u001b[0;34m\u001b[0m\u001b[0;34m\u001b[0m\u001b[0m\n\u001b[0;32m----> 5\u001b[0;31m     \u001b[0max\u001b[0m\u001b[0;34m[\u001b[0m\u001b[0mrows\u001b[0m\u001b[0;34m,\u001b[0m\u001b[0mcoli\u001b[0m\u001b[0;34m]\u001b[0m\u001b[0;34m.\u001b[0m\u001b[0mimshow\u001b[0m\u001b[0;34m(\u001b[0m\u001b[0mMasks\u001b[0m\u001b[0;34m[\u001b[0m\u001b[0;34m:\u001b[0m\u001b[0;34m,\u001b[0m\u001b[0;34m:\u001b[0m\u001b[0;34m,\u001b[0m\u001b[0midx\u001b[0m\u001b[0;34m]\u001b[0m\u001b[0;34m)\u001b[0m\u001b[0;34m\u001b[0m\u001b[0;34m\u001b[0m\u001b[0m\n\u001b[0m",
            "\u001b[0;31mIndexError\u001b[0m: index 1 is out of bounds for axis 0 with size 1"
          ]
        },
        {
          "output_type": "display_data",
          "data": {
            "text/plain": [
              "<Figure size 640x480 with 10 Axes>"
            ],
            "image/png": "[encoded data removed]"
          },
          "metadata": {}
        }
      ]
    },
    {
      "cell_type": "code",
      "source": [],
      "metadata": {
        "id": "dBnkiJi4p5Ro"
      },
      "execution_count": null,
      "outputs": []
    }
  ]
}