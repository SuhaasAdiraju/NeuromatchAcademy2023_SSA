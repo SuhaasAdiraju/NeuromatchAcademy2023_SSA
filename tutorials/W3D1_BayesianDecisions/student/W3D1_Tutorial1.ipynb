{
  "cells": [
    {
      "cell_type": "markdown",
      "metadata": {
        "id": "view-in-github",
        "colab_type": "text"
      },
      "source": [
        "<a href=\"https://colab.research.google.com/github/SuhaasAdiraju/NeuromatchAcademy2023_SSA/blob/main/tutorials/W3D1_BayesianDecisions/student/W3D1_Tutorial1.ipynb\" target=\"_parent\"><img src=\"https://colab.research.google.com/assets/colab-badge.svg\" alt=\"Open In Colab\"/></a>"
      ]
    },
    {
      "cell_type": "markdown",
      "metadata": {
        "execution": {},
        "id": "HqGDqEGA_Btq"
      },
      "source": [
        "# Tutorial 1: Bayes with a binary hidden state\n",
        "\n",
        "**Week 3, Day 1: Bayesian Decisions**\n",
        "\n",
        "**By Neuromatch Academy**\n",
        "\n",
        "**Content creators:** Eric DeWitt, Xaq Pitkow, Ella Batty, Saeed Salehi\n",
        "\n",
        "**Content reviewers:** Hyosub Kim, Zahra Arjmandi, Anoop Kulkarni\n",
        "\n",
        "**Production editors:** Ella Batty, Gagana B, Spiros Chavlis"
      ]
    },
    {
      "cell_type": "markdown",
      "metadata": {
        "execution": {},
        "id": "Uw7HBaqh_Btt"
      },
      "source": [
        "# Tutorial Objectives\n",
        "\n",
        "*Estimated timing of tutorial: 1 hour, 30 minutes*\n",
        "\n",
        "This is the first of two core tutorials on Bayesian statistics. In these tutorials, we will explore the fundamental concepts of the Bayesian approach. In this tutorial you will work through an example of Bayesian inference and decision making using a binary hidden state. The second tutorial extends these concepts to a continuous hidden state. In the related NMA days, each of these basic ideas will be extended. In Hidden Dynamics, we consider these ideas through time as you explore what happens when we infer a hidden state using repeated observations and when the hidden state changes across time. On the Optimal Control day, we will introduce the notion of how to use inference and decisions to select actions for optimal control.\n",
        "\n",
        "This notebook will introduce the fundamental building blocks for Bayesian statistics:\n",
        "\n",
        "1. How do we combine the possible loss (or gain) for making a decision with our probabilistic knowledge?\n",
        "2. How do we use probability distributions to represent hidden states?\n",
        "3. How does marginalization work and how can we use it?\n",
        "4. How do we combine new information with our prior knowledge?"
      ]
    },
    {
      "cell_type": "code",
      "execution_count": null,
      "metadata": {
        "cellView": "form",
        "execution": {},
        "id": "AgjMpqWs_Btu"
      },
      "outputs": [],
      "source": [
        "# @title Tutorial slides\n",
        "# @markdown These are the slides for the videos in this tutorial\n",
        "from IPython.display import IFrame\n",
        "link_id = \"dx7jt\"\n",
        "print(f\"If you want to download the slides: https://osf.io/download/{link_id}/\")\n",
        "IFrame(src=f\"https://mfr.ca-1.osf.io/render?url=https://osf.io/{link_id}/?direct%26mode=render%26action=download%26mode=render\", width=854, height=480)"
      ]
    },
    {
      "cell_type": "markdown",
      "metadata": {
        "execution": {},
        "id": "Z7eNd8AA_Btv"
      },
      "source": [
        "---\n",
        "# Setup\n"
      ]
    },
    {
      "cell_type": "code",
      "execution_count": 1,
      "metadata": {
        "cellView": "form",
        "execution": {},
        "colab": {
          "base_uri": "https://localhost:8080/"
        },
        "id": "6X5ukJBL_Btw",
        "outputId": "639861a8-cdad-4b46-f0e4-159f451ce03c"
      },
      "outputs": [
        {
          "output_type": "stream",
          "name": "stdout",
          "text": [
            "  Preparing metadata (setup.py) ... \u001b[?25l\u001b[?25hdone\n",
            "  Preparing metadata (setup.py) ... \u001b[?25l\u001b[?25hdone\n",
            "\u001b[2K     \u001b[90m━━━━━━━━━━━━━━━━━━━━━━━━━━━━━━━━━━━━━━━━\u001b[0m \u001b[32m1.6/1.6 MB\u001b[0m \u001b[31m12.9 MB/s\u001b[0m eta \u001b[36m0:00:00\u001b[0m\n",
            "\u001b[?25h  Building wheel for vibecheck (setup.py) ... \u001b[?25l\u001b[?25hdone\n",
            "  Building wheel for datatops (setup.py) ... \u001b[?25l\u001b[?25hdone\n"
          ]
        }
      ],
      "source": [
        "# @title Install and import feedback gadget\n",
        "\n",
        "!pip3 install vibecheck datatops --quiet\n",
        "\n",
        "from vibecheck import DatatopsContentReviewContainer\n",
        "def content_review(notebook_section: str):\n",
        "    return DatatopsContentReviewContainer(\n",
        "        \"\",  # No text prompt\n",
        "        notebook_section,\n",
        "        {\n",
        "            \"url\": \"https://pmyvdlilci.execute-api.us-east-1.amazonaws.com/klab\",\n",
        "            \"name\": \"neuromatch_cn\",\n",
        "            \"user_key\": \"y1x3mpx5\",\n",
        "        },\n",
        "    ).render()\n",
        "\n",
        "\n",
        "feedback_prefix = \"W3D1_T1\""
      ]
    },
    {
      "cell_type": "code",
      "execution_count": 2,
      "metadata": {
        "execution": {},
        "id": "jhYwC5ZY_Btw"
      },
      "outputs": [],
      "source": [
        "# Imports\n",
        "import numpy as np\n",
        "import matplotlib.pyplot as plt\n",
        "from matplotlib import patches, transforms, gridspec\n",
        "from scipy.optimize import fsolve\n",
        "from collections import namedtuple"
      ]
    },
    {
      "cell_type": "code",
      "execution_count": 3,
      "metadata": {
        "cellView": "form",
        "execution": {},
        "id": "90mMyDFr_Btw"
      },
      "outputs": [],
      "source": [
        "# @title Figure Settings\n",
        "import logging\n",
        "logging.getLogger('matplotlib.font_manager').disabled = True\n",
        "\n",
        "import ipywidgets as widgets  # interactive display\n",
        "from ipywidgets import GridspecLayout, HBox, VBox, FloatSlider, Layout, ToggleButtons\n",
        "from ipywidgets import interactive, interactive_output, Checkbox, Select\n",
        "from IPython.display import clear_output\n",
        "%config InlineBackend.figure_format = 'retina'\n",
        "plt.style.use(\"https://raw.githubusercontent.com/NeuromatchAcademy/course-content/main/nma.mplstyle\")\n",
        "\n",
        "import warnings\n",
        "warnings.filterwarnings(\"ignore\")"
      ]
    },
    {
      "cell_type": "code",
      "execution_count": 4,
      "metadata": {
        "cellView": "form",
        "execution": {},
        "id": "cKll_YhL_Btx"
      },
      "outputs": [],
      "source": [
        "# @title Plotting Functions\n",
        "from matplotlib import colors\n",
        "\n",
        "def plot_joint_probs(P, ):\n",
        "  assert np.all(P >= 0), \"probabilities should be >= 0\"\n",
        "  # normalize if not\n",
        "  P = P / np.sum(P)\n",
        "  marginal_y = np.sum(P,axis=1)\n",
        "  marginal_x = np.sum(P,axis=0)\n",
        "\n",
        "  # definitions for the axes\n",
        "  left, width = 0.1, 0.65\n",
        "  bottom, height = 0.1, 0.65\n",
        "  spacing = 0.005\n",
        "\n",
        "  # start with a square Figure\n",
        "  fig = plt.figure(figsize=(5, 5))\n",
        "\n",
        "  joint_prob = [left, bottom, width, height]\n",
        "  rect_histx = [left, bottom + height + spacing, width, 0.2]\n",
        "  rect_histy = [left + width + spacing, bottom, 0.2, height]\n",
        "\n",
        "  rect_x_cmap = plt.cm.Blues\n",
        "  rect_y_cmap = plt.cm.Reds\n",
        "\n",
        "  # Show joint probs and marginals\n",
        "  ax = fig.add_axes(joint_prob)\n",
        "  ax_x = fig.add_axes(rect_histx, sharex=ax)\n",
        "  ax_y = fig.add_axes(rect_histy, sharey=ax)\n",
        "\n",
        "  # Show joint probs and marginals\n",
        "  ax.matshow(P,vmin=0., vmax=1., cmap='Greys')\n",
        "  ax_x.bar(0, marginal_x[0], facecolor=rect_x_cmap(marginal_x[0]))\n",
        "  ax_x.bar(1, marginal_x[1], facecolor=rect_x_cmap(marginal_x[1]))\n",
        "  ax_y.barh(0, marginal_y[0], facecolor=rect_y_cmap(marginal_y[0]))\n",
        "  ax_y.barh(1, marginal_y[1], facecolor=rect_y_cmap(marginal_y[1]))\n",
        "  # set limits\n",
        "  ax_x.set_ylim([0, 1])\n",
        "  ax_y.set_xlim([0, 1])\n",
        "\n",
        "  # show values\n",
        "  ind = np.arange(2)\n",
        "  x,y = np.meshgrid(ind,ind)\n",
        "  for i,j in zip(x.flatten(), y.flatten()):\n",
        "    c = f\"{P[i, j]:.2f}\"\n",
        "    ax.text(j,i, c, va='center', ha='center', color='black')\n",
        "  for i in ind:\n",
        "    v = marginal_x[i]\n",
        "    c = f\"{v:.2f}\"\n",
        "    ax_x.text(i, v +0.1, c, va='center', ha='center', color='black')\n",
        "    v = marginal_y[i]\n",
        "    c = f\"{v:.2f}\"\n",
        "    ax_y.text(v+0.2, i, c, va='center', ha='center', color='black')\n",
        "\n",
        "  # set up labels\n",
        "  ax.xaxis.tick_bottom()\n",
        "  ax.yaxis.tick_left()\n",
        "  ax.set_xticks([0,1])\n",
        "  ax.set_yticks([0,1])\n",
        "  ax.set_xticklabels(['Silver', 'Gold'])\n",
        "  ax.set_yticklabels(['Small', 'Large'])\n",
        "  ax.set_xlabel('color')\n",
        "  ax.set_ylabel('size')\n",
        "  ax_x.axis('off')\n",
        "  ax_y.axis('off')\n",
        "  return fig\n",
        "\n",
        "\n",
        "def plot_prior_likelihood_posterior(prior, likelihood, posterior):\n",
        "  # definitions for the axes\n",
        "  left, width = 0.05, 0.3\n",
        "  bottom, height = 0.05, 0.9\n",
        "  padding = 0.12\n",
        "  small_width = 0.1\n",
        "  left_space = left + small_width + padding\n",
        "  added_space = padding + width\n",
        "\n",
        "  fig = plt.figure(figsize=(12, 4))\n",
        "\n",
        "  rect_prior = [left, bottom, small_width, height]\n",
        "  rect_likelihood = [left_space , bottom , width, height]\n",
        "  rect_posterior = [left_space +  added_space, bottom , width, height]\n",
        "\n",
        "  ax_prior = fig.add_axes(rect_prior)\n",
        "  ax_likelihood = fig.add_axes(rect_likelihood, sharey=ax_prior)\n",
        "  ax_posterior = fig.add_axes(rect_posterior, sharey = ax_prior)\n",
        "\n",
        "  rect_colormap = plt.cm.Blues\n",
        "\n",
        "  # Show posterior probs and marginals\n",
        "  ax_prior.barh(0, prior[0], facecolor=rect_colormap(prior[0, 0]))\n",
        "  ax_prior.barh(1, prior[1], facecolor=rect_colormap(prior[1, 0]))\n",
        "  ax_likelihood.matshow(likelihood, vmin=0., vmax=1., cmap='Reds')\n",
        "  ax_posterior.matshow(posterior, vmin=0., vmax=1., cmap='Greens')\n",
        "\n",
        "  # Probabilities plot details\n",
        "  ax_prior.set(xlim=[1, 0], xticks=[], yticks=[0, 1],\n",
        "                yticklabels=['left', 'right'], title=\"Prior p(s)\")\n",
        "  ax_prior.yaxis.tick_right()\n",
        "  ax_prior.spines['left'].set_visible(False)\n",
        "  ax_prior.spines['bottom'].set_visible(False)\n",
        "\n",
        "  # Likelihood plot details\n",
        "  ax_likelihood.set(xticks=[0, 1], xticklabels=['fish', 'no fish'],\n",
        "                    yticks=[0, 1], yticklabels=['left', 'right'],\n",
        "                    ylabel='state (s)', xlabel='measurement (m)',\n",
        "                    title='Likelihood p(m (left) | s)')\n",
        "  ax_likelihood.xaxis.set_ticks_position('bottom')\n",
        "  ax_likelihood.spines['left'].set_visible(False)\n",
        "  ax_likelihood.spines['bottom'].set_visible(False)\n",
        "\n",
        "  # Posterior plot details\n",
        "  ax_posterior.set(xticks=[0, 1], xticklabels=['fish', 'no fish'],\n",
        "                    yticks=[0, 1], yticklabels=['left', 'right'],\n",
        "                    ylabel='state (s)', xlabel='measurement (m)',\n",
        "                    title='Posterior p(s | m)')\n",
        "  ax_posterior.xaxis.set_ticks_position('bottom')\n",
        "  ax_posterior.spines['left'].set_visible(False)\n",
        "  ax_posterior.spines['bottom'].set_visible(False)\n",
        "\n",
        "  # show values\n",
        "  ind = np.arange(2)\n",
        "  x,y = np.meshgrid(ind,ind)\n",
        "  for i,j in zip(x.flatten(), y.flatten()):\n",
        "    c = f\"{posterior[i, j]:.2f}\"\n",
        "    ax_posterior.text(j, i, c, va='center', ha='center', color='black')\n",
        "  for i,j in zip(x.flatten(), y.flatten()):\n",
        "    c = f\"{likelihood[i, j]:.2f}\"\n",
        "    ax_likelihood.text(j, i, c, va='center', ha='center', color='black')\n",
        "  for i in ind:\n",
        "    v = prior[i, 0]\n",
        "    c = f\"{v:.2f}\"\n",
        "    ax_prior.text(v+0.2, i, c, va='center', ha='center', color='black')\n",
        "\n",
        "\n",
        "def plot_prior_likelihood(ps, p_a_s1, p_a_s0, measurement):\n",
        "  likelihood = np.asarray([[p_a_s1, 1-p_a_s1], [p_a_s0, 1-p_a_s0]])\n",
        "  assert 0.0 <= ps <= 1.0\n",
        "  prior = np.asarray([ps, 1 - ps])\n",
        "  if measurement == \"Fish\":\n",
        "    posterior = likelihood[:, 0] * prior\n",
        "  else:\n",
        "    posterior = (likelihood[:, 1] * prior).reshape(-1)\n",
        "  posterior /= np.sum(posterior)\n",
        "\n",
        "  # definitions for the axes\n",
        "  left, width = 0.05, 0.3\n",
        "  bottom, height = 0.05, 0.9\n",
        "  padding = 0.12\n",
        "  small_width = 0.2\n",
        "  left_space = left + small_width + padding\n",
        "  small_padding = 0.05\n",
        "\n",
        "  fig = plt.figure(figsize=(12, 4))\n",
        "\n",
        "  rect_prior = [left, bottom, small_width, height]\n",
        "  rect_likelihood = [left_space , bottom , width, height]\n",
        "  rect_posterior = [left_space + width + small_padding, bottom , small_width, height]\n",
        "\n",
        "  ax_prior = fig.add_axes(rect_prior)\n",
        "  ax_likelihood = fig.add_axes(rect_likelihood, sharey=ax_prior)\n",
        "  ax_posterior = fig.add_axes(rect_posterior, sharey=ax_prior)\n",
        "\n",
        "  prior_colormap = plt.cm.Blues\n",
        "  posterior_colormap = plt.cm.Greens\n",
        "\n",
        "  # Show posterior probs and marginals\n",
        "  ax_prior.barh(0, prior[0], facecolor=prior_colormap(prior[0]))\n",
        "  ax_prior.barh(1, prior[1], facecolor=prior_colormap(prior[1]))\n",
        "  ax_likelihood.matshow(likelihood, vmin=0., vmax=1., cmap='Reds')\n",
        "  ax_posterior.barh(0, posterior[0], facecolor=posterior_colormap(posterior[0]))\n",
        "  ax_posterior.barh(1, posterior[1], facecolor=posterior_colormap(posterior[1]))\n",
        "\n",
        "  # Probabilities plot details\n",
        "  ax_prior.set(xlim=[1, 0], yticks=[0, 1], yticklabels=['left', 'right'],\n",
        "                title=\"Prior p(s)\", xticks=[])\n",
        "  ax_prior.yaxis.tick_right()\n",
        "  ax_prior.spines['left'].set_visible(False)\n",
        "  ax_prior.spines['bottom'].set_visible(False)\n",
        "\n",
        "  # Likelihood plot details\n",
        "  ax_likelihood.set(xticks=[0, 1], xticklabels=['fish', 'no fish'],\n",
        "                    yticks=[0, 1], yticklabels=['left', 'right'],\n",
        "                    ylabel='state (s)', xlabel='measurement (m)',\n",
        "                    title='Likelihood p(m | s)')\n",
        "  ax_likelihood.xaxis.set_ticks_position('bottom')\n",
        "  ax_likelihood.spines['left'].set_visible(False)\n",
        "  ax_likelihood.spines['bottom'].set_visible(False)\n",
        "\n",
        "  # Posterior plot details\n",
        "  ax_posterior.set(xlim=[0, 1], xticks=[], yticks=[0, 1],\n",
        "                    yticklabels=['left', 'right'],\n",
        "                    title=\"Posterior p(s | m)\")\n",
        "  ax_posterior.spines['left'].set_visible(False)\n",
        "  ax_posterior.spines['bottom'].set_visible(False)\n",
        "\n",
        "  # show values\n",
        "  ind = np.arange(2)\n",
        "  x,y = np.meshgrid(ind, ind)\n",
        "  for i in ind:\n",
        "    v = posterior[i]\n",
        "    c = f\"{v:.2f}\"\n",
        "    ax_posterior.text(v+0.2, i, c, va='center', ha='center', color='black')\n",
        "  for i,j in zip(x.flatten(), y.flatten()):\n",
        "    c = f\"{likelihood[i, j]:.2f}\"\n",
        "    ax_likelihood.text(j, i, c, va='center', ha='center', color='black')\n",
        "  for i in ind:\n",
        "    v = prior[i]\n",
        "    c = f\"{v:.2f}\"\n",
        "    ax_prior.text(v+0.2, i, c, va='center', ha='center', color='black')\n",
        "  plt.show()\n",
        "  return fig\n",
        "\n",
        "\n",
        "def plot_utility(ps):\n",
        "  prior = np.asarray([ps, 1 - ps])\n",
        "\n",
        "  utility = np.array([[2, -3], [-2, 1]])\n",
        "\n",
        "  expected = prior @ utility\n",
        "\n",
        "  # definitions for the axes\n",
        "  left, width = 0.05, 0.16\n",
        "  bottom, height = 0.05, 0.9\n",
        "  padding = 0.02\n",
        "  small_width = 0.1\n",
        "  left_space = left + small_width + padding\n",
        "  added_space = padding + width\n",
        "\n",
        "  fig = plt.figure(figsize=(17, 3))\n",
        "\n",
        "  rect_prior = [left, bottom, small_width, height]\n",
        "  rect_utility = [left + added_space , bottom , width, height]\n",
        "  rect_expected = [left + 2* added_space, bottom , width, height]\n",
        "\n",
        "  ax_prior = fig.add_axes(rect_prior)\n",
        "  ax_utility = fig.add_axes(rect_utility, sharey=ax_prior)\n",
        "  ax_expected = fig.add_axes(rect_expected)\n",
        "\n",
        "  rect_colormap = plt.cm.Blues\n",
        "\n",
        "  # Data of plots\n",
        "  ax_prior.barh(0, prior[0], facecolor=rect_colormap(prior[0]))\n",
        "  ax_prior.barh(1, prior[1], facecolor=rect_colormap(prior[1]))\n",
        "  ax_utility.matshow(utility, cmap='cool')\n",
        "  norm = colors.Normalize(vmin=-3, vmax=3)\n",
        "  ax_expected.bar(0, expected[0], facecolor=rect_colormap(norm(expected[0])))\n",
        "  ax_expected.bar(1, expected[1], facecolor=rect_colormap(norm(expected[1])))\n",
        "\n",
        "  # Probabilities plot details\n",
        "  ax_prior.set(xlim=[1, 0], xticks=[], yticks=[0, 1],\n",
        "                yticklabels=['left', 'right'], title=\"Probability of state\")\n",
        "  ax_prior.yaxis.tick_right()\n",
        "  ax_prior.spines['left'].set_visible(False)\n",
        "  ax_prior.spines['bottom'].set_visible(False)\n",
        "\n",
        "  # Utility plot details\n",
        "  ax_utility.set(xticks=[0, 1], xticklabels=['left', 'right'],\n",
        "                  yticks=[0, 1], yticklabels=['left', 'right'],\n",
        "                  ylabel='state (s)', xlabel='action (a)',\n",
        "                  title='Utility')\n",
        "  ax_utility.xaxis.set_ticks_position('bottom')\n",
        "  ax_utility.spines['left'].set_visible(False)\n",
        "  ax_utility.spines['bottom'].set_visible(False)\n",
        "\n",
        "  # Expected utility plot details\n",
        "  ax_expected.set(title='Expected utility', ylim=[-3, 3],\n",
        "                  xticks=[0, 1], xticklabels=['left', 'right'],\n",
        "                  xlabel='action (a)', yticks=[])\n",
        "  ax_expected.xaxis.set_ticks_position('bottom')\n",
        "  ax_expected.spines['left'].set_visible(False)\n",
        "  ax_expected.spines['bottom'].set_visible(False)\n",
        "\n",
        "  # show values\n",
        "  ind = np.arange(2)\n",
        "  x,y = np.meshgrid(ind,ind)\n",
        "\n",
        "  for i,j in zip(x.flatten(), y.flatten()):\n",
        "    c = f\"{utility[i, j]:.2f}\"\n",
        "    ax_utility.text(j, i, c, va='center', ha='center', color='black')\n",
        "  for i in ind:\n",
        "    v = prior[i]\n",
        "    c = f\"{v:.2f}\"\n",
        "    ax_prior.text(v+0.2, i, c, va='center', ha='center', color='black')\n",
        "  for i in ind:\n",
        "    v = expected[i]\n",
        "    c = f\"{v:.2f}\"\n",
        "    ax_expected.text(i, 2.5, c, va='center', ha='center', color='black')\n",
        "\n",
        "  return fig\n",
        "\n",
        "\n",
        "def plot_prior_likelihood_utility(ps, p_a_s1, p_a_s0, measurement):\n",
        "  assert 0.0 <= ps <= 1.0\n",
        "  assert 0.0 <= p_a_s1 <= 1.0\n",
        "  assert 0.0 <= p_a_s0 <= 1.0\n",
        "  prior = np.asarray([ps, 1 - ps])\n",
        "  likelihood = np.asarray([[p_a_s1, 1-p_a_s1],[p_a_s0, 1-p_a_s0]])\n",
        "  utility = np.array([[2.0, -3.0], [-2.0, 1.0]])\n",
        "\n",
        "  if measurement == \"Fish\":\n",
        "    posterior = likelihood[:, 0] * prior\n",
        "  else:\n",
        "    posterior = (likelihood[:, 1] * prior).reshape(-1)\n",
        "  posterior /= np.sum(posterior)\n",
        "  expected = posterior @ utility\n",
        "\n",
        "  # definitions for the axes\n",
        "  left, width = 0.05, 0.3\n",
        "  bottom, height = 0.05, 0.3\n",
        "  padding = 0.12\n",
        "  small_width = 0.2\n",
        "  left_space = left + small_width + padding\n",
        "  small_padding = 0.05\n",
        "\n",
        "  fig = plt.figure(figsize=(10, 9))\n",
        "\n",
        "  rect_prior = [left, bottom + height + padding, small_width, height]\n",
        "  rect_likelihood = [left_space , bottom + height + padding , width, height]\n",
        "  rect_posterior = [left_space + width + small_padding,\n",
        "                    bottom + height + padding,\n",
        "                    small_width, height]\n",
        "\n",
        "  rect_utility = [padding, bottom, width, height]\n",
        "  rect_expected = [padding + width + padding + left, bottom, width, height]\n",
        "\n",
        "  ax_likelihood = fig.add_axes(rect_likelihood)\n",
        "  ax_prior = fig.add_axes(rect_prior, sharey=ax_likelihood)\n",
        "  ax_posterior = fig.add_axes(rect_posterior, sharey=ax_likelihood)\n",
        "  ax_utility = fig.add_axes(rect_utility)\n",
        "  ax_expected = fig.add_axes(rect_expected)\n",
        "\n",
        "  prior_colormap = plt.cm.Blues\n",
        "  posterior_colormap = plt.cm.Greens\n",
        "  expected_colormap = plt.cm.Wistia\n",
        "\n",
        "  # Show posterior probs and marginals\n",
        "  ax_prior.barh(0, prior[0], facecolor=prior_colormap(prior[0]))\n",
        "  ax_prior.barh(1, prior[1], facecolor=prior_colormap(prior[1]))\n",
        "  ax_likelihood.matshow(likelihood, vmin=0., vmax=1., cmap='Reds')\n",
        "  ax_posterior.barh(0, posterior[0], facecolor=posterior_colormap(posterior[0]))\n",
        "  ax_posterior.barh(1, posterior[1], facecolor=posterior_colormap(posterior[1]))\n",
        "  ax_utility.matshow(utility, vmin=0., vmax=1., cmap='cool')\n",
        "  ax_expected.bar(0, expected[0], facecolor=expected_colormap(expected[0]))\n",
        "  ax_expected.bar(1, expected[1], facecolor=expected_colormap(expected[1]))\n",
        "\n",
        "  # Probabilities plot details\n",
        "  ax_prior.set(xlim=[1, 0], yticks=[0, 1], yticklabels=['left', 'right'],\n",
        "                title=\"Prior p(s)\", xticks=[])\n",
        "  ax_prior.yaxis.tick_right()\n",
        "  ax_prior.spines['left'].set_visible(False)\n",
        "  ax_prior.spines['bottom'].set_visible(False)\n",
        "\n",
        "  # Likelihood plot details\n",
        "  ax_likelihood.set(xticks=[0, 1], xticklabels=['fish', 'no fish'],\n",
        "                    yticks=[0, 1], yticklabels=['left', 'right'],\n",
        "                    ylabel='state (s)', xlabel='measurement (m)',\n",
        "                    title='Likelihood p(m | s)')\n",
        "  ax_likelihood.xaxis.set_ticks_position('bottom')\n",
        "  ax_likelihood.spines['left'].set_visible(False)\n",
        "  ax_likelihood.spines['bottom'].set_visible(False)\n",
        "\n",
        "  # Posterior plot details\n",
        "  ax_posterior.set(xlim=[0, 1], xticks=[], yticks=[0, 1],\n",
        "                    yticklabels=['left', 'right'],\n",
        "                    title=\"Posterior p(s | m)\")\n",
        "  ax_posterior.spines['left'].set_visible(False)\n",
        "  ax_posterior.spines['bottom'].set_visible(False)\n",
        "\n",
        "  # Utility plot details\n",
        "  ax_utility.set(xticks=[0, 1], xticklabels=['left', 'right'],\n",
        "                  xlabel='action (a)', yticks=[0, 1],\n",
        "                  yticklabels=['left', 'right'],\n",
        "                  title='Utility', ylabel='state (s)')\n",
        "  ax_utility.xaxis.set_ticks_position('bottom')\n",
        "  ax_utility.spines['left'].set_visible(False)\n",
        "  ax_utility.spines['bottom'].set_visible(False)\n",
        "\n",
        "  # Expected Utility plot details\n",
        "  ax_expected.set(ylim=[-2, 2], xticks=[0, 1],\n",
        "                  xticklabels=['left', 'right'],\n",
        "                  xlabel='action (a)',\n",
        "                  title='Expected utility', yticks=[])\n",
        "  ax_expected.spines['left'].set_visible(False)\n",
        "\n",
        "  # show values\n",
        "  ind = np.arange(2)\n",
        "  x,y = np.meshgrid(ind,ind)\n",
        "  for i in ind:\n",
        "    v = posterior[i]\n",
        "    c = f\"{v:.2f}\"\n",
        "    ax_posterior.text(v+0.2, i, c, va='center', ha='center', color='black')\n",
        "  for i,j in zip(x.flatten(), y.flatten()):\n",
        "    c = f\"{likelihood[i,j]:.2f}\"\n",
        "    ax_likelihood.text(j, i, c, va='center', ha='center', color='black')\n",
        "  for i,j in zip(x.flatten(), y.flatten()):\n",
        "    c = f\"{utility[i, j]:.2f}\"\n",
        "    ax_utility.text(j,i, c, va='center', ha='center', color='black')\n",
        "  for i in ind:\n",
        "    v = prior[i]\n",
        "    c = f\"{v:.2f}\"\n",
        "    ax_prior.text(v+0.2, i, c, va='center', ha='center', color='black')\n",
        "  for i in ind:\n",
        "    v = expected[i]\n",
        "    c = f\"{v:.2f}\"\n",
        "    ax_expected.text(i, v, c, va='center', ha='center', color='black')\n",
        "  plt.show()\n",
        "  return fig"
      ]
    },
    {
      "cell_type": "code",
      "execution_count": 5,
      "metadata": {
        "cellView": "form",
        "execution": {},
        "id": "jbqJvXvD_Bty"
      },
      "outputs": [],
      "source": [
        "# @title Helper Functions\n",
        "\n",
        "def compute_marginal(px, py, cor):\n",
        "  \"\"\" Calculate 2x2 joint probabilities given marginals p(x=1), p(y=1) and correlation\n",
        "\n",
        "    Args:\n",
        "      px (scalar): marginal probability of x\n",
        "      py (scalar): marginal probability of y\n",
        "      cor (scalar): correlation value\n",
        "\n",
        "    Returns:\n",
        "      ndarray of size (2, 2): joint probability array of x and y\n",
        "  \"\"\"\n",
        "\n",
        "  p11 = px*py + cor*np.sqrt(px*py*(1-px)*(1-py))\n",
        "  p01 = px - p11\n",
        "  p10 = py - p11\n",
        "  p00 = 1.0 - p11 - p01 - p10\n",
        "\n",
        "  return np.asarray([[p00, p01], [p10, p11]])\n",
        "\n",
        "\n",
        "def compute_cor_range(px,py):\n",
        "  \"\"\" Calculate the allowed range of correlation values given marginals p(x=1)\n",
        "    and p(y=1)\n",
        "\n",
        "  Args:\n",
        "    px (scalar): marginal probability of x\n",
        "    py (scalar): marginal probability of y\n",
        "\n",
        "  Returns:\n",
        "    scalar, scalar: minimum and maximum possible values of correlation\n",
        "  \"\"\"\n",
        "\n",
        "  def p11(corr):\n",
        "    return px*py + corr*np.sqrt(px*py*(1-px)*(1-py))\n",
        "  def p01(corr):\n",
        "    return px - p11(corr)\n",
        "  def p10(corr):\n",
        "    return py - p11(corr)\n",
        "  def p00(corr):\n",
        "    return 1.0 - p11(corr) - p01(corr) - p10(corr)\n",
        "  Cmax = min(fsolve(p01, 0.0), fsolve(p10, 0.0))\n",
        "  Cmin = max(fsolve(p11, 0.0), fsolve(p00, 0.0))\n",
        "  return Cmin, Cmax"
      ]
    },
    {
      "cell_type": "markdown",
      "metadata": {
        "execution": {},
        "id": "KrQHC9rU_Btz"
      },
      "source": [
        "---\n",
        "# Section 0: Introduction"
      ]
    },
    {
      "cell_type": "code",
      "execution_count": null,
      "metadata": {
        "cellView": "form",
        "execution": {},
        "id": "240dQ76S_Btz"
      },
      "outputs": [],
      "source": [
        "# @title Video 1: Introduction to Bayesian Statistics and Decisions\n",
        "from ipywidgets import widgets\n",
        "from IPython.display import YouTubeVideo\n",
        "from IPython.display import IFrame\n",
        "from IPython.display import display\n",
        "\n",
        "\n",
        "class PlayVideo(IFrame):\n",
        "  def __init__(self, id, source, page=1, width=400, height=300, **kwargs):\n",
        "    self.id = id\n",
        "    if source == 'Bilibili':\n",
        "      src = f'https://player.bilibili.com/player.html?bvid={id}&page={page}'\n",
        "    elif source == 'Osf':\n",
        "      src = f'https://mfr.ca-1.osf.io/render?url=https://osf.io/download/{id}/?direct%26mode=render'\n",
        "    super(PlayVideo, self).__init__(src, width, height, **kwargs)\n",
        "\n",
        "\n",
        "def display_videos(video_ids, W=400, H=300, fs=1):\n",
        "  tab_contents = []\n",
        "  for i, video_id in enumerate(video_ids):\n",
        "    out = widgets.Output()\n",
        "    with out:\n",
        "      if video_ids[i][0] == 'Youtube':\n",
        "        video = YouTubeVideo(id=video_ids[i][1], width=W,\n",
        "                             height=H, fs=fs, rel=0)\n",
        "        print(f'Video available at https://youtube.com/watch?v={video.id}')\n",
        "      else:\n",
        "        video = PlayVideo(id=video_ids[i][1], source=video_ids[i][0], width=W,\n",
        "                          height=H, fs=fs, autoplay=False)\n",
        "        if video_ids[i][0] == 'Bilibili':\n",
        "          print(f'Video available at https://www.bilibili.com/video/{video.id}')\n",
        "        elif video_ids[i][0] == 'Osf':\n",
        "          print(f'Video available at https://osf.io/{video.id}')\n",
        "      display(video)\n",
        "    tab_contents.append(out)\n",
        "  return tab_contents\n",
        "\n",
        "\n",
        "video_ids = [('Youtube', 'Hcx2_JTpf2M'), ('Bilibili', 'BV1Ch41167jN')]\n",
        "tab_contents = display_videos(video_ids, W=854, H=480)\n",
        "tabs = widgets.Tab()\n",
        "tabs.children = tab_contents\n",
        "for i in range(len(tab_contents)):\n",
        "  tabs.set_title(i, video_ids[i][0])\n",
        "display(tabs)"
      ]
    },
    {
      "cell_type": "code",
      "execution_count": null,
      "metadata": {
        "cellView": "form",
        "execution": {},
        "id": "A-L2GFWi_Btz"
      },
      "outputs": [],
      "source": [
        "# @title Submit your feedback\n",
        "content_review(f\"{feedback_prefix}_Introduction_to_Bayesian_Statistics_and_Decisions_Video\")"
      ]
    },
    {
      "cell_type": "markdown",
      "metadata": {
        "execution": {},
        "id": "dJeNUF9K_Btz"
      },
      "source": [
        "---\n",
        "# Section 1: Gone Fishin'\n"
      ]
    },
    {
      "cell_type": "code",
      "execution_count": null,
      "metadata": {
        "cellView": "form",
        "execution": {},
        "id": "bK0LHx7o_Btz"
      },
      "outputs": [],
      "source": [
        "# @title Video 2: Gone Fishin'\n",
        "from ipywidgets import widgets\n",
        "from IPython.display import YouTubeVideo\n",
        "from IPython.display import IFrame\n",
        "from IPython.display import display\n",
        "\n",
        "\n",
        "class PlayVideo(IFrame):\n",
        "  def __init__(self, id, source, page=1, width=400, height=300, **kwargs):\n",
        "    self.id = id\n",
        "    if source == 'Bilibili':\n",
        "      src = f'https://player.bilibili.com/player.html?bvid={id}&page={page}'\n",
        "    elif source == 'Osf':\n",
        "      src = f'https://mfr.ca-1.osf.io/render?url=https://osf.io/download/{id}/?direct%26mode=render'\n",
        "    super(PlayVideo, self).__init__(src, width, height, **kwargs)\n",
        "\n",
        "\n",
        "def display_videos(video_ids, W=400, H=300, fs=1):\n",
        "  tab_contents = []\n",
        "  for i, video_id in enumerate(video_ids):\n",
        "    out = widgets.Output()\n",
        "    with out:\n",
        "      if video_ids[i][0] == 'Youtube':\n",
        "        video = YouTubeVideo(id=video_ids[i][1], width=W,\n",
        "                             height=H, fs=fs, rel=0)\n",
        "        print(f'Video available at https://youtube.com/watch?v={video.id}')\n",
        "      else:\n",
        "        video = PlayVideo(id=video_ids[i][1], source=video_ids[i][0], width=W,\n",
        "                          height=H, fs=fs, autoplay=False)\n",
        "        if video_ids[i][0] == 'Bilibili':\n",
        "          print(f'Video available at https://www.bilibili.com/video/{video.id}')\n",
        "        elif video_ids[i][0] == 'Osf':\n",
        "          print(f'Video available at https://osf.io/{video.id}')\n",
        "      display(video)\n",
        "    tab_contents.append(out)\n",
        "  return tab_contents\n",
        "\n",
        "\n",
        "video_ids = [('Youtube', 'kAdBjWOI_yE'), ('Bilibili', 'BV1TP4y147pJ')]\n",
        "tab_contents = display_videos(video_ids, W=854, H=480)\n",
        "tabs = widgets.Tab()\n",
        "tabs.children = tab_contents\n",
        "for i in range(len(tab_contents)):\n",
        "  tabs.set_title(i, video_ids[i][0])\n",
        "display(tabs)"
      ]
    },
    {
      "cell_type": "code",
      "execution_count": null,
      "metadata": {
        "cellView": "form",
        "execution": {},
        "id": "X_726wa1_Bt0"
      },
      "outputs": [],
      "source": [
        "# @title Submit your feedback\n",
        "content_review(f\"{feedback_prefix}_Gone_Fishin_Video\")"
      ]
    },
    {
      "cell_type": "markdown",
      "metadata": {
        "execution": {},
        "id": "i4z3E6Kx_Bt0"
      },
      "source": [
        "This video covers the example problem of fishing that we will cover in this tutorial.\n",
        "\n",
        "<details>\n",
        "<summary> <font color=‘blue’>Click here for text recap of video </font></summary>\n",
        "\n",
        "You were just introduced to the **binary hidden state problem** we are going to explore. You need to decide which side to fish on--the hidden state. We know fish like to school together. On different days the school of fish is either on the left or right side, but we don’t know what the case is today. We define our knowledge about the fish location as a distribution over the random hidden state variable. Using our probabilistic knowledge, also called our **belief** about the hidden state, we will explore how to make the decision about where to fish today, based on what to expect in terms of gains or losses for the decision.\n",
        "The gains and losss are defined by the utility of choosing an action, which is fishing on the left or right. The details of the utilities are described\n",
        "</details>\n",
        "\n",
        "In the next two sections we will consider just the probability of where the fish might be and what you gain or lose by choosing where to fish (leaving Bayesian approaches to the last few sections).\n",
        "\n",
        "Remember, you can either think of yourself as a scientist conducting an experiment or as a brain trying to make a decision. The Bayesian approach is the same!\n"
      ]
    },
    {
      "cell_type": "markdown",
      "metadata": {
        "execution": {},
        "id": "3oAEsd21_Bt0"
      },
      "source": [
        "---\n",
        "# Section 2: Deciding where to fish\n",
        "\n",
        "*Estimated timing to here from start of tutorial: 10 min*"
      ]
    },
    {
      "cell_type": "code",
      "execution_count": null,
      "metadata": {
        "cellView": "form",
        "execution": {},
        "id": "PwyWEjYy_Bt0"
      },
      "outputs": [],
      "source": [
        "# @title Video 3: Utility\n",
        "from ipywidgets import widgets\n",
        "from IPython.display import YouTubeVideo\n",
        "from IPython.display import IFrame\n",
        "from IPython.display import display\n",
        "\n",
        "\n",
        "class PlayVideo(IFrame):\n",
        "  def __init__(self, id, source, page=1, width=400, height=300, **kwargs):\n",
        "    self.id = id\n",
        "    if source == 'Bilibili':\n",
        "      src = f'https://player.bilibili.com/player.html?bvid={id}&page={page}'\n",
        "    elif source == 'Osf':\n",
        "      src = f'https://mfr.ca-1.osf.io/render?url=https://osf.io/download/{id}/?direct%26mode=render'\n",
        "    super(PlayVideo, self).__init__(src, width, height, **kwargs)\n",
        "\n",
        "\n",
        "def display_videos(video_ids, W=400, H=300, fs=1):\n",
        "  tab_contents = []\n",
        "  for i, video_id in enumerate(video_ids):\n",
        "    out = widgets.Output()\n",
        "    with out:\n",
        "      if video_ids[i][0] == 'Youtube':\n",
        "        video = YouTubeVideo(id=video_ids[i][1], width=W,\n",
        "                             height=H, fs=fs, rel=0)\n",
        "        print(f'Video available at https://youtube.com/watch?v={video.id}')\n",
        "      else:\n",
        "        video = PlayVideo(id=video_ids[i][1], source=video_ids[i][0], width=W,\n",
        "                          height=H, fs=fs, autoplay=False)\n",
        "        if video_ids[i][0] == 'Bilibili':\n",
        "          print(f'Video available at https://www.bilibili.com/video/{video.id}')\n",
        "        elif video_ids[i][0] == 'Osf':\n",
        "          print(f'Video available at https://osf.io/{video.id}')\n",
        "      display(video)\n",
        "    tab_contents.append(out)\n",
        "  return tab_contents\n",
        "\n",
        "\n",
        "video_ids = [('Youtube', '8-5RM0k3IKE'), ('Bilibili', 'BV1uL411H7ZE')]\n",
        "tab_contents = display_videos(video_ids, W=854, H=480)\n",
        "tabs = widgets.Tab()\n",
        "tabs.children = tab_contents\n",
        "for i in range(len(tab_contents)):\n",
        "  tabs.set_title(i, video_ids[i][0])\n",
        "display(tabs)"
      ]
    },
    {
      "cell_type": "code",
      "execution_count": null,
      "metadata": {
        "cellView": "form",
        "execution": {},
        "id": "Mxh3-gv4_Bt0"
      },
      "outputs": [],
      "source": [
        "# @title Submit your feedback\n",
        "content_review(f\"{feedback_prefix}_Utility_Video\")"
      ]
    },
    {
      "cell_type": "markdown",
      "metadata": {
        "execution": {},
        "id": "ZgwQY83T_Bt0"
      },
      "source": [
        "This video covers utility and expected utility.\n",
        "\n",
        "<details>\n",
        "<summary> <font color=‘blue’>Click here for text recap of video </font></summary>\n",
        "\n",
        "You need to decide where to fish. It may seem obvious - you could just fish on the side where the probability of the fish being is higher! Unfortunately, decisions and actions are always a little more complicated. Deciding to fish may be influenced by more than just the probability of the school of fish being there as we saw by the potential issues of submarines and sunburn. The consequences of the action you take is based on the true (but hidden) state of the world and the action you choose! In our example, fishing on the wrong side, where there aren't many fish, is likely to lead to you spending your afternoon not catching fish and therefore getting a sunburn. The submarine represents a risk to fishing on the right side that is greater than the left side. If you want to know what to expect from taking the action of fishing on one side or the other, you need to calculate the expected utility.\n",
        "\n",
        "You know the (prior) probability that the school of fish is on the left side of the dock today, $P(s = \\textrm{left})$. So, you also know the probability the school is on the right, $P(s = \\textrm{right})$, because these two probabilities must add up to 1.\n",
        "\n",
        "We quantify gains and losses numerically using a **utility** function $U(s,a)$, which describes the consequences of your actions: how much value you gain (or if negative, lose) given the state of the world ($s$) and the action you take ($a$). In our example, our utility can be summarized as:\n",
        "\n",
        "| Utility: U(s,a)   | a = left   | a = right  |\n",
        "| ----------------- |------------|------------|\n",
        "| s = Left          | +2         | -3         |\n",
        "| s = right         | -2         | +1         |\n",
        "\n",
        "To use possible gains and losses to choose an action, we calculate the **expected utility** of that action by weighing these utilities with the probability of that state occuring. This allows us to choose actions by taking probabilities of events into account: we don't care if the outcome of an action-state pair is a loss if the probability of that state is very low. We can formalize this as:\n",
        "\n",
        "\\begin{equation}\n",
        "\\text{Expected utility of action a} = \\sum_{s}U(s,a)P(s)\n",
        "\\end{equation}\n",
        "\n",
        "In other words, the expected utility of an action a is the sum over possible states of the utility of that action and state times the probability of that state.\n",
        "\n",
        "</details>"
      ]
    },
    {
      "cell_type": "markdown",
      "metadata": {
        "execution": {},
        "id": "-6JfFhxj_Bt1"
      },
      "source": [
        "## Interactive Demo 2: Exploring the decision\n",
        "\n",
        "Let's start to get a sense of how all this works using the interactive demo below. You can change the probability that the school of fish is on the left side,$p(s = \\textrm{left})$, using the slider. You will see the utility function (a matrix) in the middle and the corresponding expected utility for each action on the right.\n",
        "\n",
        "First, make sure you understand how the expected utility of each action is being computed from the probabilities and the utility values. In the initial state: the probability of the fish being on the left is 0.9 and on the right is 0.1. The expected utility of the action of fishing on the left is then $U(s = \\textrm{left},a = \\textrm{left})p(s = \\textrm{left}) + U(s = \\textrm{right},a = \\textrm{left})p(s = \\textrm{right}) = 2(0.9) + -2(0.1) = 1.6$. Essentially, to get the expected utility of action $a$, you are doing a weighted sum over the relevant column of the utility matrix (corresponding to action $a$) where the weights are the state probabilities.\n",
        "\n",
        "For each of these scenarios, think and discuss first. Then use the demo to try out each and see if your action would have been correct (that is, if the expected value of that action is the highest).\n",
        "\n",
        "\n",
        "1.  You just arrived at the dock for the first time and have no sense of where the fish might be. So you guess that the probability of the school being on the left side is 0.5 (so the probability on the right side is also 0.5). Which side would you choose to fish on given our utility values?\n",
        "2.  You think that the probability of the school being on the left side is very low (0.1) and correspondingly high on the right side (0.9). Which side would you choose to fish on given our utility values?\n",
        "3.  What would you choose if the probability of the school being on the left side is slightly lower than on the right side (0. 4 vs 0.6)?"
      ]
    },
    {
      "cell_type": "code",
      "execution_count": 6,
      "metadata": {
        "cellView": "form",
        "execution": {},
        "colab": {
          "base_uri": "https://localhost:8080/",
          "height": 421,
          "referenced_widgets": [
            "5d152b290a6c471f88dd87c9516670c2",
            "b2c51277b26b4d309f8da0eb99ac1d58",
            "3873690c9c024fb8b49afafd8ebe2d68",
            "a4173e5360d54fe2863ccc45f72b1388",
            "7d8bd813060b4c38b2a68786cdcbd17b",
            "992e2f232a1147649f8a2ad3db06a567",
            "38c7dceea0e4419db8cb9ea6356a4e16"
          ]
        },
        "id": "8VlAzYpd_Bt1",
        "outputId": "230de998-b909-46d3-8a65-a7df35d37a5a"
      },
      "outputs": [
        {
          "output_type": "display_data",
          "data": {
            "text/plain": [
              "interactive(children=(FloatSlider(value=0.9, description='p(s = left)', max=1.0, step=0.01), Output()), _dom_c…"
            ],
            "application/vnd.jupyter.widget-view+json": {
              "version_major": 2,
              "version_minor": 0,
              "model_id": "5d152b290a6c471f88dd87c9516670c2"
            }
          },
          "metadata": {}
        }
      ],
      "source": [
        "# @markdown Execute this cell to use the widget\n",
        "ps_widget = widgets.FloatSlider(0.9, description='p(s = left)',\n",
        "                                min=0.0, max=1.0, step=0.01)\n",
        "\n",
        "@widgets.interact(\n",
        "    ps = ps_widget,\n",
        ")\n",
        "def make_utility_plot(ps):\n",
        "  fig = plot_utility(ps)\n",
        "  plt.show(fig)\n",
        "  plt.close(fig)"
      ]
    },
    {
      "cell_type": "markdown",
      "metadata": {
        "execution": {},
        "id": "bkvvBN6Y_Bt1"
      },
      "source": [
        "[*Click for solution*](https://github.com/NeuromatchAcademy/course-content/tree/main/tutorials/W3D1_BayesianDecisions/solutions/W3D1_Tutorial1_Solution_01d5c2c5.py)\n",
        "\n"
      ]
    },
    {
      "cell_type": "code",
      "execution_count": null,
      "metadata": {
        "cellView": "form",
        "execution": {},
        "id": "oCCI0PCi_Bt1"
      },
      "outputs": [],
      "source": [
        "# @title Submit your feedback\n",
        "content_review(f\"{feedback_prefix}_Exploring_the_decision_Interactive_Demo_and_Discussion\")"
      ]
    },
    {
      "cell_type": "code",
      "execution_count": null,
      "metadata": {
        "cellView": "form",
        "execution": {},
        "id": "nhv6bQLz_Bt1"
      },
      "outputs": [],
      "source": [
        "# @title Video 4: Utility Demo Discussion\n",
        "from ipywidgets import widgets\n",
        "from IPython.display import YouTubeVideo\n",
        "from IPython.display import IFrame\n",
        "from IPython.display import display\n",
        "\n",
        "\n",
        "class PlayVideo(IFrame):\n",
        "  def __init__(self, id, source, page=1, width=400, height=300, **kwargs):\n",
        "    self.id = id\n",
        "    if source == 'Bilibili':\n",
        "      src = f'https://player.bilibili.com/player.html?bvid={id}&page={page}'\n",
        "    elif source == 'Osf':\n",
        "      src = f'https://mfr.ca-1.osf.io/render?url=https://osf.io/download/{id}/?direct%26mode=render'\n",
        "    super(PlayVideo, self).__init__(src, width, height, **kwargs)\n",
        "\n",
        "\n",
        "def display_videos(video_ids, W=400, H=300, fs=1):\n",
        "  tab_contents = []\n",
        "  for i, video_id in enumerate(video_ids):\n",
        "    out = widgets.Output()\n",
        "    with out:\n",
        "      if video_ids[i][0] == 'Youtube':\n",
        "        video = YouTubeVideo(id=video_ids[i][1], width=W,\n",
        "                             height=H, fs=fs, rel=0)\n",
        "        print(f'Video available at https://youtube.com/watch?v={video.id}')\n",
        "      else:\n",
        "        video = PlayVideo(id=video_ids[i][1], source=video_ids[i][0], width=W,\n",
        "                          height=H, fs=fs, autoplay=False)\n",
        "        if video_ids[i][0] == 'Bilibili':\n",
        "          print(f'Video available at https://www.bilibili.com/video/{video.id}')\n",
        "        elif video_ids[i][0] == 'Osf':\n",
        "          print(f'Video available at https://osf.io/{video.id}')\n",
        "      display(video)\n",
        "    tab_contents.append(out)\n",
        "  return tab_contents\n",
        "\n",
        "\n",
        "video_ids = [('Youtube', 'GHQbmsEyQjE'), ('Bilibili', 'BV1po4y1D7Fu')]\n",
        "tab_contents = display_videos(video_ids, W=854, H=480)\n",
        "tabs = widgets.Tab()\n",
        "tabs.children = tab_contents\n",
        "for i in range(len(tab_contents)):\n",
        "  tabs.set_title(i, video_ids[i][0])\n",
        "display(tabs)"
      ]
    },
    {
      "cell_type": "code",
      "execution_count": null,
      "metadata": {
        "cellView": "form",
        "execution": {},
        "id": "eHeU8jex_Bt1"
      },
      "outputs": [],
      "source": [
        "# @title Submit your feedback\n",
        "content_review(f\"{feedback_prefix}_Utility_demo_discussion_Video\")"
      ]
    },
    {
      "cell_type": "markdown",
      "metadata": {
        "execution": {},
        "id": "z6vUY4dX_Bt1"
      },
      "source": [
        "In this section, you have seen that both the utility of various state and action pairs and our knowledge of the probability of each state affects your decision. Importantly, we want our knowledge of the probability of each state to be as accurate as possible!\n",
        "\n",
        "So how do we know these probabilities? We may have prior knowledge from years of fishing at the same dock, learning that the fish are more likely to be on the left side, for example. Of course, we need to update our knowledge (our belief)! To do this, we need to collect more information, or take some measurements! In the next few sections, we will focus on how we improve our knowledge of the probabilities."
      ]
    },
    {
      "cell_type": "markdown",
      "metadata": {
        "execution": {},
        "id": "JRIeSwro_Bt2"
      },
      "source": [
        "---\n",
        "# Section 3: Likelihood of the fish being on either side\n",
        "\n",
        "*Estimated timing to here from start of tutorial: 25 min*\n",
        "\n"
      ]
    },
    {
      "cell_type": "code",
      "execution_count": null,
      "metadata": {
        "cellView": "form",
        "execution": {},
        "id": "hjD0mCF7_Bt2"
      },
      "outputs": [],
      "source": [
        "# @title Video 5: Likelihood\n",
        "from ipywidgets import widgets\n",
        "from IPython.display import YouTubeVideo\n",
        "from IPython.display import IFrame\n",
        "from IPython.display import display\n",
        "\n",
        "\n",
        "class PlayVideo(IFrame):\n",
        "  def __init__(self, id, source, page=1, width=400, height=300, **kwargs):\n",
        "    self.id = id\n",
        "    if source == 'Bilibili':\n",
        "      src = f'https://player.bilibili.com/player.html?bvid={id}&page={page}'\n",
        "    elif source == 'Osf':\n",
        "      src = f'https://mfr.ca-1.osf.io/render?url=https://osf.io/download/{id}/?direct%26mode=render'\n",
        "    super(PlayVideo, self).__init__(src, width, height, **kwargs)\n",
        "\n",
        "\n",
        "def display_videos(video_ids, W=400, H=300, fs=1):\n",
        "  tab_contents = []\n",
        "  for i, video_id in enumerate(video_ids):\n",
        "    out = widgets.Output()\n",
        "    with out:\n",
        "      if video_ids[i][0] == 'Youtube':\n",
        "        video = YouTubeVideo(id=video_ids[i][1], width=W,\n",
        "                             height=H, fs=fs, rel=0)\n",
        "        print(f'Video available at https://youtube.com/watch?v={video.id}')\n",
        "      else:\n",
        "        video = PlayVideo(id=video_ids[i][1], source=video_ids[i][0], width=W,\n",
        "                          height=H, fs=fs, autoplay=False)\n",
        "        if video_ids[i][0] == 'Bilibili':\n",
        "          print(f'Video available at https://www.bilibili.com/video/{video.id}')\n",
        "        elif video_ids[i][0] == 'Osf':\n",
        "          print(f'Video available at https://osf.io/{video.id}')\n",
        "      display(video)\n",
        "    tab_contents.append(out)\n",
        "  return tab_contents\n",
        "\n",
        "\n",
        "video_ids = [('Youtube', 'Yv8MDjdm1l4'), ('Bilibili', 'BV1EK4y1u7AV')]\n",
        "tab_contents = display_videos(video_ids, W=854, H=480)\n",
        "tabs = widgets.Tab()\n",
        "tabs.children = tab_contents\n",
        "for i in range(len(tab_contents)):\n",
        "  tabs.set_title(i, video_ids[i][0])\n",
        "display(tabs)"
      ]
    },
    {
      "cell_type": "markdown",
      "metadata": {
        "execution": {},
        "id": "RFRLSIGR_Bt2"
      },
      "source": [
        "\n",
        "<details>\n",
        "<summary> <font color=‘blue’>Click here for text recap of video </font></summary>\n",
        "\n",
        "First, we'll think about what it means to take a measurement (also often called an observation or just data) and what it tells you about what the hidden state may be. Specifically, we'll be looking at the **likelihood**, which is the probability of your measurement ($m$) given the hidden state ($s$): $P(m | s)$. Remember that in this case, the hidden state is which side of the dock the school of fish is on.\n",
        "We will watch someone fish (for let's say 10 minutes) and our measurement is whether they catch a fish or not. We know something about what catching a fish means for the likelihood of the fish being on one side or the other.\n",
        "</details>"
      ]
    },
    {
      "cell_type": "code",
      "execution_count": null,
      "metadata": {
        "cellView": "form",
        "execution": {},
        "id": "mtGDE3uC_Bt2"
      },
      "outputs": [],
      "source": [
        "# @title Submit your feedback\n",
        "content_review(f\"{feedback_prefix}_Likelihood_Video\")"
      ]
    },
    {
      "cell_type": "markdown",
      "metadata": {
        "execution": {},
        "id": "yIBSpHpV_Bt2"
      },
      "source": [
        "## Think! 3: Guessing the location of the fish\n",
        "\n",
        "Let's say we go to a different dock to fish. Here, there are different probabilities of catching fish given the state of the world. At this dock, if you fish on the side of the dock where the fish are, you have a 70% chance of catching a fish. If you fish on the wrong side, you will catch a fish with only 20% probability. These are the likelihoods of observing someone catching a fish! That is, you are taking a measurement by seeing if someone else catches a fish!\n",
        "\n",
        "You see a fisher-person is fishing on the left side.\n",
        "\n",
        "1) Please figure out each of the following (might be easiest to do this separately and then compare notes):\n",
        "- probability of catching a fish given that the school of fish is on the left side, $P(m = \\textrm{catch fish} | s = \\textrm{left} )$\n",
        "- probability of not catching a fish given that the school of fish is on the left side, $P(m = \\textrm{no fish} | s = \\textrm{left})$\n",
        "- probability of catching a fish given that the school of fish is on the right side, $P(m = \\textrm{catch  fish} | s = \\textrm{right})$\n",
        "- probability of not catching a fish given that the school of fish is on the right side, $P(m = \\textrm{no fish} | s = \\textrm{right})$\n",
        "\n",
        "2) If the fisher-person catches a fish, which side would you guess the school is on? Why?\n",
        "\n",
        "3) If the fisher-person does not catch a fish, which side would you guess the school is on? Why?\n"
      ]
    },
    {
      "cell_type": "markdown",
      "metadata": {
        "execution": {},
        "id": "E-Jm4cTF_Bt2"
      },
      "source": [
        "[*Click for solution*](https://github.com/NeuromatchAcademy/course-content/tree/main/tutorials/W3D1_BayesianDecisions/solutions/W3D1_Tutorial1_Solution_fdd90301.py)\n",
        "\n"
      ]
    },
    {
      "cell_type": "code",
      "execution_count": null,
      "metadata": {
        "cellView": "form",
        "execution": {},
        "id": "lKv5182l_Bt2"
      },
      "outputs": [],
      "source": [
        "# @title Submit your feedback\n",
        "content_review(f\"{feedback_prefix}_Guessing_the_location_of_the_fish_Discussion\")"
      ]
    },
    {
      "cell_type": "markdown",
      "metadata": {
        "execution": {},
        "id": "7Dq9it9a_Bt2"
      },
      "source": [
        "In the prior exercise, you tried to guess where the school of fish was based on the measurement you took (watching someone fish). You did this by choosing the state (side where you think the fish are) that maximized the probability of the measurement. In other words, you estimated the state by maximizing the likelihood (the side with the highest probability of measurement given state $P(m|s$)). This is called maximum likelihood estimation (MLE) and you've encountered it before during this course, in the [pre-reqs statistics day](https://compneuro.neuromatch.io/tutorials/W0D5_Statistics/student/W0D5_Tutorial2.html#section-2-2-maximum-likelihood) and on [Model Fitting day](https://compneuro.neuromatch.io/tutorials/W1D3_ModelFitting/student/W1D3_Tutorial2.html)!\n",
        "\n",
        "But, what if you had been going to this dock for years and you knew that the fish were almost always on the left side? This should probably affect how you make your estimate -- you would rely less on the single new measurement and more on your prior knowledge. This is the fundamental idea behind Bayesian inference, as we will see later in this tutorial!"
      ]
    },
    {
      "cell_type": "markdown",
      "metadata": {
        "execution": {},
        "id": "6VqY-oiX_Bt2"
      },
      "source": [
        "---\n",
        "# Section 4: Correlation and marginalization\n",
        "\n",
        "*Estimated timing to here from start of tutorial: 35 min*\n"
      ]
    },
    {
      "cell_type": "code",
      "execution_count": null,
      "metadata": {
        "cellView": "form",
        "execution": {},
        "id": "m3Ev1h4k_Bt2"
      },
      "outputs": [],
      "source": [
        "# @title Video 6: Correlation and marginalization\n",
        "from ipywidgets import widgets\n",
        "from IPython.display import YouTubeVideo\n",
        "from IPython.display import IFrame\n",
        "from IPython.display import display\n",
        "\n",
        "\n",
        "class PlayVideo(IFrame):\n",
        "  def __init__(self, id, source, page=1, width=400, height=300, **kwargs):\n",
        "    self.id = id\n",
        "    if source == 'Bilibili':\n",
        "      src = f'https://player.bilibili.com/player.html?bvid={id}&page={page}'\n",
        "    elif source == 'Osf':\n",
        "      src = f'https://mfr.ca-1.osf.io/render?url=https://osf.io/download/{id}/?direct%26mode=render'\n",
        "    super(PlayVideo, self).__init__(src, width, height, **kwargs)\n",
        "\n",
        "\n",
        "def display_videos(video_ids, W=400, H=300, fs=1):\n",
        "  tab_contents = []\n",
        "  for i, video_id in enumerate(video_ids):\n",
        "    out = widgets.Output()\n",
        "    with out:\n",
        "      if video_ids[i][0] == 'Youtube':\n",
        "        video = YouTubeVideo(id=video_ids[i][1], width=W,\n",
        "                             height=H, fs=fs, rel=0)\n",
        "        print(f'Video available at https://youtube.com/watch?v={video.id}')\n",
        "      else:\n",
        "        video = PlayVideo(id=video_ids[i][1], source=video_ids[i][0], width=W,\n",
        "                          height=H, fs=fs, autoplay=False)\n",
        "        if video_ids[i][0] == 'Bilibili':\n",
        "          print(f'Video available at https://www.bilibili.com/video/{video.id}')\n",
        "        elif video_ids[i][0] == 'Osf':\n",
        "          print(f'Video available at https://osf.io/{video.id}')\n",
        "      display(video)\n",
        "    tab_contents.append(out)\n",
        "  return tab_contents\n",
        "\n",
        "\n",
        "video_ids = [('Youtube', 'iprFMHch2_g'), ('Bilibili', 'BV1Zq4y1p7N6')]\n",
        "tab_contents = display_videos(video_ids, W=854, H=480)\n",
        "tabs = widgets.Tab()\n",
        "tabs.children = tab_contents\n",
        "for i in range(len(tab_contents)):\n",
        "  tabs.set_title(i, video_ids[i][0])\n",
        "display(tabs)"
      ]
    },
    {
      "cell_type": "code",
      "execution_count": null,
      "metadata": {
        "cellView": "form",
        "execution": {},
        "id": "ajyU1EXD_Bt3"
      },
      "outputs": [],
      "source": [
        "# @title Submit your feedback\n",
        "content_review(f\"{feedback_prefix}_Correlation_and_marginalization_Video\")"
      ]
    },
    {
      "cell_type": "markdown",
      "metadata": {
        "execution": {},
        "id": "mVDKf5XZ_Bt3"
      },
      "source": [
        "## Section 4.1: Correlation"
      ]
    },
    {
      "cell_type": "markdown",
      "metadata": {
        "execution": {},
        "id": "7zekNASN_Bt_"
      },
      "source": [
        "In this section, we are going to take a step back for a bit and think more generally about the amount of information shared between two random variables. We want to know how much information you gain when you observe one variable (take a measurement) if you know something about another. We will see that the fundamental concept is the same if we think about two attributes, for example the size and color of the fish, or the prior information and the likelihood.\n"
      ]
    },
    {
      "cell_type": "markdown",
      "metadata": {
        "execution": {},
        "id": "O53Z069V_Bt_"
      },
      "source": [
        "### Think! 4.1: Covarying probability distributions\n",
        "\n",
        "The relationship between the marginal probabilities and the joint probabilities is determined by the correlation between the two random variables - a normalized measure of how much the variables covary. We can also think of this as gaining some information about one of the variables when we observe a measurement from the other. We will think about this more formally in Tutorial 2.\n",
        "\n",
        "Here, we want to think about how the correlation between size and color of these fish changes how much information we gain about one attribute based on the other. See Bonus Section 1 for the formula for correlation.\n",
        "\n",
        "Use the widget below and answer the following questions:\n",
        "\n",
        "1. When the correlation is zero, $\\rho = 0$, what does the distribution of size tell you about color?\n",
        "2. Set $\\rho$ to something small. As you change the probability of golden fish, what happens to the ratio of size probabilities? Set $\\rho$ larger (can be negative). Can you explain the pattern of changes in the probabilities of size as you change the probability of golden fish?\n",
        "3. Set the probability of golden fish and of large fish to around 65%. As the correlation goes towards 1, how often will you see silver large fish?\n",
        "4. What is increasing the (absolute) correlation telling you about how likely you are to see one of the properties if you see a fish with the other?\n"
      ]
    },
    {
      "cell_type": "code",
      "execution_count": 7,
      "metadata": {
        "cellView": "form",
        "execution": {},
        "colab": {
          "base_uri": "https://localhost:8080/",
          "height": 615,
          "referenced_widgets": [
            "74faaee030004c069e68dfeaad06eb98",
            "25e0ede5ba104f05aac904055ec4e0b4",
            "f27f487d79c946aba37f9b831e42d792",
            "0dba67bbc6fa46a68c93cf2fd68a75c1",
            "9cb91e74c9b44dc7ac794be120beefe8",
            "bfa6d45dbeb74373ba93e2207a375f1c",
            "cb633df6ba7a4496b103a95bdbf53f05",
            "100ff1b732d248acb3f9ec0cb0c59523",
            "f5f80097c98c44a1846acc2ed8aea4b2",
            "bbbbc459e18b414dad5a4e56ba49ec5c",
            "1bc4be5a06fd4a0da726b0cf4d0adf55",
            "f81f1d39775342e2a752108cf19ab7a5",
            "b9ed7d15897840ba8d3270e572f4c35e"
          ]
        },
        "id": "dgT4cZ8e_Bt_",
        "outputId": "ed155ac3-ff92-4d37-f8ea-91f1d2a1cc17"
      },
      "outputs": [
        {
          "output_type": "display_data",
          "data": {
            "text/plain": [
              "interactive(children=(FloatSlider(value=0.5, description='p(color=golden)', layout=Layout(grid_area='widget002…"
            ],
            "application/vnd.jupyter.widget-view+json": {
              "version_major": 2,
              "version_minor": 0,
              "model_id": "74faaee030004c069e68dfeaad06eb98"
            }
          },
          "metadata": {}
        }
      ],
      "source": [
        "# @markdown Execute this cell to enable the widget\n",
        "style = {'description_width': 'initial'}\n",
        "gs = GridspecLayout(2,2)\n",
        "\n",
        "cor_widget = widgets.FloatSlider(0.0, description='ρ',\n",
        "                                 min=-1, max=1, step=0.01)\n",
        "px_widget = widgets.FloatSlider(0.5, description='p(color=golden)',\n",
        "                                min=0.01, max=0.99, step=0.01,\n",
        "                                style=style)\n",
        "py_widget = widgets.FloatSlider(0.5, description='p(size=large)',\n",
        "                                min=0.01, max=0.99, step=0.01,\n",
        "                                style=style)\n",
        "gs[0, 0] = cor_widget\n",
        "gs[0, 1] = px_widget\n",
        "gs[1, 0] = py_widget\n",
        "\n",
        "\n",
        "@widgets.interact(\n",
        "    px=px_widget,\n",
        "    py=py_widget,\n",
        "    cor=cor_widget,\n",
        ")\n",
        "\n",
        "\n",
        "def make_corr_plot(px, py, cor):\n",
        "  Cmin, Cmax = compute_cor_range(px, py)  # allow correlation values\n",
        "  cor_widget.min, cor_widget.max = Cmin+0.01, Cmax-0.01\n",
        "  if cor_widget.value > Cmax:\n",
        "    cor_widget.value = Cmax\n",
        "  if cor_widget.value < Cmin:\n",
        "    cor_widget.value = Cmin\n",
        "  cor = cor_widget.value\n",
        "  P = compute_marginal(px,py,cor)\n",
        "  fig = plot_joint_probs(P)\n",
        "  plt.show(fig)\n",
        "  plt.close(fig)"
      ]
    },
    {
      "cell_type": "markdown",
      "metadata": {
        "execution": {},
        "id": "20VtfEcO_BuA"
      },
      "source": [
        "[*Click for solution*](https://github.com/NeuromatchAcademy/course-content/tree/main/tutorials/W3D1_BayesianDecisions/solutions/W3D1_Tutorial1_Solution_eb6596af.py)\n",
        "\n"
      ]
    },
    {
      "cell_type": "code",
      "execution_count": null,
      "metadata": {
        "cellView": "form",
        "execution": {},
        "id": "DzIEw1Qk_BuA"
      },
      "outputs": [],
      "source": [
        "# @title Submit your feedback\n",
        "content_review(f\"{feedback_prefix}_Covarying_probability_distributions_Discussion\")"
      ]
    },
    {
      "cell_type": "markdown",
      "metadata": {
        "execution": {},
        "id": "BBGI0LC7_BuB"
      },
      "source": [
        "We have just seen how two random variables can be more or less independent. The more correlated, the less independent, and the more shared information. We also learned that we can marginalize to determine the marginal likelihood of a measurement or to find the marginal probability distribution of two random variables. We are going to now complete our journey towards being fully Bayesian!"
      ]
    },
    {
      "cell_type": "markdown",
      "metadata": {
        "execution": {},
        "id": "fotxlDcJ_BuB"
      },
      "source": [
        "## Section 4.2: Marginalization"
      ]
    },
    {
      "cell_type": "markdown",
      "metadata": {
        "execution": {},
        "id": "Lb1-9QMK_BuB"
      },
      "source": [
        "\n",
        "<details>\n",
        "<summary> <font color=‘blue’>Click here for text recap of relevant part of video </font></summary>\n",
        "\n",
        "We may want to find the probability of one variable while ignoring another: we will do this by averaging out, or marginalizing, the irrelevant variable.\n",
        "\n",
        "We will think of this in two different ways.\n",
        "\n",
        "In the first math exercise, you will think about the case where you know the joint probabilities of two variables and want to figure out the probability of just one variable. To make this explicit, let's assume that a fish has a color that is either gold or silver (our first variable) and a size that is either small or large (our second). We could write out the the **joint probabilities**: the probability of both specific attributes occuring together. For example, the probability of a fish being small and silver, $P(X = \\textrm{small}, Y = \\textrm{silver})$, is 0.4. The following table summarizes our joint probabilities:\n",
        "\n",
        "| P(X, Y)        | Y = silver  | Y = gold  |\n",
        "| -------------- |-------------|-----------|\n",
        "| X = small      | 0.4         | 0.2       |\n",
        "| X = large      | 0.1         | 0.3       |\n",
        "\n",
        "\n",
        "We want to know what the probability of a fish being small  regardless of color. Since the fish are either silver or gold, this would be the probability of a fish being small and silver plus the probability of a fish being small and gold. This is an example of marginalizing, or averaging out, the variable we are not interested in across the rows or columns.. In math speak: $P(X = \\textrm{small}) = \\sum_y{P(X = \\textrm{small}, Y)}$. This gives us a **marginal probability**, a probability of a variable outcome (in this case size), regardless of the other variables (in this case color).\n",
        "\n",
        "More generally, we can marginalize out a second irrelevant variable $y$ by summing over the relevant joint probabilities:\n",
        "\n",
        "\\begin{equation}\n",
        "p(x) = \\sum_y p(x, y)\n",
        "\\end{equation}\n",
        "\n",
        "In the second math exercise, you will remove an unknown (the hidden state) to find the marginal probability of a measurement. You will do this by marginalizing out the hidden state. In this case, you know the conditional probabilities of the measurement given state and the probabilities of each state. You can marginalize using:\n",
        "\n",
        "\\begin{equation}\n",
        "p(m) = \\sum_s p(m | s) p(s)\n",
        "\\end{equation}\n",
        "\n",
        "These two ways of thinking about marginalization (as averaging over joint probabilities or conditioning on some variable) are equivalent because the joint probability of two variables equals the conditional probability of the first given the second times the marginal probability of the second:\n",
        "\n",
        "\\begin{equation}\n",
        "p(x, y) = p(x|y)p(y)\n",
        "\\end{equation}\n"
      ]
    },
    {
      "cell_type": "markdown",
      "metadata": {
        "execution": {},
        "id": "N8z9N1J6_BuB"
      },
      "source": [
        "### Math Exercise 4.2.1: Computing marginal probabilities\n",
        "\n",
        "To understand the information between two variables, let's first consider the joint probabilities over the size and color of the fish.\n",
        "\n",
        "| P(X, Y)        | Y = silver  | Y = gold  |\n",
        "| -------------- |-------------|-----------|\n",
        "| X = small      | 0.4         | 0.2       |\n",
        "| X = large      | 0.1         | 0.3       |\n",
        "\n",
        "Please complete the following math problems to further practice thinking through probabilities:\n",
        "\n",
        "1. Calculate the probability of a fish being silver.\n",
        "2. Calculate the probability of a fish being small, large, silver, or gold.\n",
        "3. Calculate the probability of a fish being small OR gold. **Hint:** $P(A\\ \\textrm{or}\\ B) = P(A) + P(B) - P(A\\ \\textrm{and}\\ B)$.\n",
        "\n",
        "**We don't typically have math exercises in NMA but feel it is important for you to really compute this out yourself. Feel free to use the next cell to write out the math if helpful, or use paper and pen. We recommend doing this exercise individually first and then comparing notes and discussing.**"
      ]
    },
    {
      "cell_type": "code",
      "execution_count": null,
      "metadata": {
        "execution": {},
        "id": "oh26_UjB_BuB"
      },
      "outputs": [],
      "source": [
        "\"\"\"\n",
        "Joint probabilities\n",
        "\n",
        "P( X = small, Y = silver) = 0.4\n",
        "P( X = large, Y = silver) = 0.1\n",
        "P( X = small, Y = gold) = 0.2\n",
        "P( X = large, Y = gold) = 0.3\n",
        "\n",
        "\n",
        "1. P(Y = silver) = p(silver)= p(small,silver) + p(large,silver) = .4+.1 = .5\n",
        "\n",
        "2. P(X = small or large, Y = silver or gold) = 1\n",
        "\n",
        "3. P( X = small or Y = gold) = (p(gold) = 1-p(silver) = .5)  + (psmall = p(small,silver)+p(small,gold) = .6) - (.2)\n",
        "\n",
        "\"\"\""
      ]
    },
    {
      "cell_type": "markdown",
      "metadata": {
        "execution": {},
        "id": "0Tai6tZq_BuB"
      },
      "source": [
        "[*Click for solution*](https://github.com/NeuromatchAcademy/course-content/tree/main/tutorials/W3D1_BayesianDecisions/solutions/W3D1_Tutorial1_Solution_b60a0fd3.py)\n",
        "\n"
      ]
    },
    {
      "cell_type": "code",
      "execution_count": null,
      "metadata": {
        "cellView": "form",
        "execution": {},
        "id": "ebRTyd5k_BuB"
      },
      "outputs": [],
      "source": [
        "# @title Submit your feedback\n",
        "content_review(f\"{feedback_prefix}_Computing_marginal_probabilities_Math_Exercise\")"
      ]
    },
    {
      "cell_type": "markdown",
      "metadata": {
        "execution": {},
        "id": "prz-uUKS_BuB"
      },
      "source": [
        "### Math Exercise 4.2.2: Computing marginal likelihood\n",
        "\n",
        "When we normalize to find the posterior, we need to determine the marginal likelihood--or evidence--for the measurement we observed. To do this, we need to marginalize as we just did above to find the probabilities of a color or size. Only, in this case, we are marginalizing to remove a conditioning variable! In this case, let's consider the likelihood of fish (if we observed a fisher-person fishing on the **right**).\n",
        "\n",
        "| p(m\\|s)       | m = fish | m = no fish  |\n",
        "| ------------ | ---------- | -------------- |\n",
        "| s = left     | 0.1      | 0.9          |\n",
        "| s = right    | 0.5      | 0.5          |\n",
        "\n",
        "\n",
        "The table above shows us the **likelihoods**, just as we explored earlier.\n",
        "\n",
        "You want to know the total probability of a fish being caught, $P(m = \\textrm{fish})$, by the fisher-person fishing on the right. (You would need this to calculate the posterior.) To do this, you will need to consider the prior probability, $p(s)$, and marginalize over the hidden states!\n",
        "\n",
        "This is an example of marginalizing, or conditioning away, the variable we are not interested in as well.\n",
        "\n",
        "Please complete the following math problems to further practice thinking through probabilities:\n",
        "\n",
        "1. Calculate the marginal likelihood of the fish being caught, $P(m = \\textrm{fish})$, if the priors are: $p(s = \\textrm{left}) = 0.3$ and $p(s = \\textrm{right}) = 0.7$.\n",
        "2. Calculate the marginal likelihood of the fish being caught,  $P(m = \\textrm{fish})$, if the priors are: $p(s = \\textrm{left}) = 0.6$ and $p(s = \\textrm{right}) = 0.4$.\n",
        "\n",
        "**We don't typically have math exercises in NMA but feel it is important for you to really compute this out yourself. Feel free to use the next cell to write out the math if helpful, or use paper and pen. We recommend doing this exercise individually first and then comparing notes and discussing.**\n"
      ]
    },
    {
      "cell_type": "code",
      "execution_count": null,
      "metadata": {
        "execution": {},
        "id": "8gNxy5tK_BuC"
      },
      "outputs": [],
      "source": [
        "\"\"\"\n",
        "\n",
        "Priors\n",
        "P(s = left) = 0.3\n",
        "P(s = right) = 0.7\n",
        "\n",
        "Likelihoods\n",
        "P(m = fish | s = left) = 0.1\n",
        "P(m = fish | s = right) = 0.5\n",
        "P(m = no fish | s = left) = 0.9\n",
        "P(m = no fish | s = right) = 0.5\n",
        "\n",
        "1. P(m = fish) = p(m,s=L) + p(m,s=R) = .6\n",
        "\n",
        "2. P(m = fish) = p(m,s=L)*p(m,s=R)\n",
        "\n",
        "\"\"\""
      ]
    },
    {
      "cell_type": "markdown",
      "metadata": {
        "execution": {},
        "id": "uM1h1WKJ_BuC"
      },
      "source": [
        "[*Click for solution*](https://github.com/NeuromatchAcademy/course-content/tree/main/tutorials/W3D1_BayesianDecisions/solutions/W3D1_Tutorial1_Solution_63e04b30.py)\n",
        "\n"
      ]
    },
    {
      "cell_type": "code",
      "execution_count": null,
      "metadata": {
        "cellView": "form",
        "execution": {},
        "id": "XiiHlq6I_BuC"
      },
      "outputs": [],
      "source": [
        "# @title Submit your feedback\n",
        "content_review(f\"{feedback_prefix}_Computing_marginal_likelihood_Math_Exercise\")"
      ]
    },
    {
      "cell_type": "markdown",
      "metadata": {
        "execution": {},
        "id": "OdO9DMQA_BuC"
      },
      "source": [
        "---\n",
        "# Section 5: Bayes' Rule and the Posterior\n",
        "\n",
        "*Estimated timing to here from start of tutorial: 55 min*"
      ]
    },
    {
      "cell_type": "code",
      "execution_count": null,
      "metadata": {
        "cellView": "form",
        "execution": {},
        "id": "gblvnuOj_BuC"
      },
      "outputs": [],
      "source": [
        "# @title Video 7: Posterior Beliefs\n",
        "from ipywidgets import widgets\n",
        "from IPython.display import YouTubeVideo\n",
        "from IPython.display import IFrame\n",
        "from IPython.display import display\n",
        "\n",
        "\n",
        "class PlayVideo(IFrame):\n",
        "  def __init__(self, id, source, page=1, width=400, height=300, **kwargs):\n",
        "    self.id = id\n",
        "    if source == 'Bilibili':\n",
        "      src = f'https://player.bilibili.com/player.html?bvid={id}&page={page}'\n",
        "    elif source == 'Osf':\n",
        "      src = f'https://mfr.ca-1.osf.io/render?url=https://osf.io/download/{id}/?direct%26mode=render'\n",
        "    super(PlayVideo, self).__init__(src, width, height, **kwargs)\n",
        "\n",
        "\n",
        "def display_videos(video_ids, W=400, H=300, fs=1):\n",
        "  tab_contents = []\n",
        "  for i, video_id in enumerate(video_ids):\n",
        "    out = widgets.Output()\n",
        "    with out:\n",
        "      if video_ids[i][0] == 'Youtube':\n",
        "        video = YouTubeVideo(id=video_ids[i][1], width=W,\n",
        "                             height=H, fs=fs, rel=0)\n",
        "        print(f'Video available at https://youtube.com/watch?v={video.id}')\n",
        "      else:\n",
        "        video = PlayVideo(id=video_ids[i][1], source=video_ids[i][0], width=W,\n",
        "                          height=H, fs=fs, autoplay=False)\n",
        "        if video_ids[i][0] == 'Bilibili':\n",
        "          print(f'Video available at https://www.bilibili.com/video/{video.id}')\n",
        "        elif video_ids[i][0] == 'Osf':\n",
        "          print(f'Video available at https://osf.io/{video.id}')\n",
        "      display(video)\n",
        "    tab_contents.append(out)\n",
        "  return tab_contents\n",
        "\n",
        "\n",
        "video_ids = [('Youtube', 'cOAJQ4utwD0'), ('Bilibili', 'BV1fK4y1M7EC')]\n",
        "tab_contents = display_videos(video_ids, W=854, H=480)\n",
        "tabs = widgets.Tab()\n",
        "tabs.children = tab_contents\n",
        "for i in range(len(tab_contents)):\n",
        "  tabs.set_title(i, video_ids[i][0])\n",
        "display(tabs)"
      ]
    },
    {
      "cell_type": "code",
      "execution_count": null,
      "metadata": {
        "cellView": "form",
        "execution": {},
        "id": "pshP9ZhK_BuC"
      },
      "outputs": [],
      "source": [
        "# @title Submit your feedback\n",
        "content_review(f\"{feedback_prefix}_Posterior_Beliefs_Video\")"
      ]
    },
    {
      "cell_type": "markdown",
      "metadata": {
        "execution": {},
        "id": "2NY2BQJg_BuC"
      },
      "source": [
        "Marginalization is going to be used to combine our prior knowledge, which we call the **prior**, and our new information from a measurement, the **likelihood**. Only in this case, the information we gain about the hidden state we are interested in, where the fish are, is based on the relationship between the probabilities of the measurement and our prior.\n",
        "\n",
        "We can now calculate the full posterior distribution for the hidden state ($s$) using Bayes' Rule. As we've seen, the posterior is proportional to the prior times the likelihood. This means that the posterior probability of the hidden state ($s$) given a measurement ($m$) is proportional to the likelihood of the measurement given the state times the prior probability of that state:\n",
        "\n",
        "\\begin{equation}\n",
        "P(s | m) \\propto P(m | s) P(s)\n",
        "\\end{equation}\n",
        "\n",
        "We say proportional to instead of equal because we need to normalize to produce a full probability distribution:\n",
        "\n",
        "\\begin{equation}\n",
        "P(s | m) = \\frac{P(m | s) P(s)}{P(m)}\n",
        "\\end{equation}\n",
        "\n",
        "Normalizing by this $P(m)$ means that our posterior is a complete probability distribution that sums or integrates to 1 appropriately. We now can use this new, complete probability distribution for any future inference or decisions we like! In fact, as we will see tomorrow, we can use it as a new prior! Finally, we often call this probability distribution our beliefs over the hidden states, to emphasize that it is our subjective knowledge about the hidden state.\n",
        "\n",
        "For many complicated cases, like those we might be using to model behavioral or brain inferences, the normalization term can be intractable or extremely complex to calculate. We can be careful to choose probability distributions whfere we can analytically calculate the posterior probability or numerical approximation is reliable. Better yet, we sometimes don't need to bother with this normalization! The normalization term, $P(m)$, is the probability of the measurement. This does not depend on state so is essentially a constant we can often ignore. We can compare the unnormalized posterior distribution values for different states because how they relate to each other is unchanged when divided by the same constant. We will see how to do this to compare evidence for different hypotheses tomorrow. (It's also used to compare the likelihood of models fit using maximum likelihood estimation)\n",
        "\n",
        "In this relatively simple example, we can compute the marginal likelihood $P(m)$ easily by using:\n",
        "\n",
        "\\begin{equation}\n",
        "P(m) = \\sum_s P(m | s) P(s)\n",
        "\\end{equation}\n",
        "\n",
        "We can then normalize so that we deal with the full posterior distribution."
      ]
    },
    {
      "cell_type": "markdown",
      "metadata": {
        "execution": {},
        "id": "gMl4uNqh_BuD"
      },
      "source": [
        "## Math Exercise 5: Calculating a posterior probability\n",
        "\n",
        "Our prior is $p(s = \\textrm{left}) = 0.3$ and $p(s = \\textrm{right}) = 0.7$. In the video, we learned that the chance of catching a fish given they fish on the same side as the school was 50%. Otherwise, it was 10%. We observe a person fishing on the left side. Our likelihood is:\n",
        "\n",
        "\n",
        "| Likelihood: p(m \\| s) | m = fish   | m = no fish  |\n",
        "| ----------------- |----------|----------|\n",
        "| s = left          | 0.5          | 0.5         |\n",
        "| s = right         | 0.1        |  0.9       |\n",
        "\n",
        "\n",
        "Calculate the posterior probability (on paper) that:\n",
        "\n",
        "1. The school is on the left if the fisher-person catches a fish: $p(s = \\textrm{left} | m = \\textrm{fish})$ (hint: normalize by computing $p(m = \\textrm{fish})$)\n",
        "2. The school is on the right if the fisher-person does not catch a fish: $p(s = \\textrm{right} | m = \\textrm{no fish})$\n",
        "\n",
        "<br>\n",
        "\n",
        "**We don't typically have math exercises in NMA but feel it is important for you to really compute this out yourself. Feel free to use the next cell to write out the math if helpful, or use paper and pen. We recommend doing this exercise individually first and then comparing notes and discussing.**"
      ]
    },
    {
      "cell_type": "code",
      "execution_count": null,
      "metadata": {
        "execution": {},
        "id": "pRMtOaH5_BuD"
      },
      "outputs": [],
      "source": [
        "\"\"\"\n",
        "Priors\n",
        "p(s = left) = 0.3\n",
        "p(s = right) = 0.7\n",
        "\n",
        "Likelihoods\n",
        "P(m = fish | s = left) = 0.5\n",
        "P(m = fish | s = right) = 0.1\n",
        "P(m = no fish | s = left) = 0.5\n",
        "P(m = no fish | s = right) = 0.9\n",
        "\n",
        "1. p( s = left | m = fish) =\n",
        "P(m = fish | s = left) * p(s = left)/p(m = fish)\n",
        ".5*.3 / (.5)*(.3)+.1*.7) = .68\n",
        "\n",
        "2. p( s = right | m = no fish ) = P(m = no fish | s = right)P(s = right) / P(m = no fish)\n",
        "\n",
        "p(m=nofish) = P(m = no fish | s = left)P(s = left) +  P(m = no fish | s = right)P(s = right)\n",
        "                  = 0.5 * 0.3 + .9 * .7\n",
        "                  = 0.78\n",
        "\n",
        "\n",
        "\"\"\""
      ]
    },
    {
      "cell_type": "markdown",
      "metadata": {
        "execution": {},
        "id": "Tdqwn4Ce_BuD"
      },
      "source": [
        "[*Click for solution*](https://github.com/NeuromatchAcademy/course-content/tree/main/tutorials/W3D1_BayesianDecisions/solutions/W3D1_Tutorial1_Solution_ef5710ed.py)\n",
        "\n"
      ]
    },
    {
      "cell_type": "code",
      "execution_count": null,
      "metadata": {
        "cellView": "form",
        "execution": {},
        "id": "G7kgjyXC_BuD"
      },
      "outputs": [],
      "source": [
        "# @title Submit your feedback\n",
        "content_review(f\"{feedback_prefix}_Calculating_a_posterior_probability_Math_Exercise\")"
      ]
    },
    {
      "cell_type": "markdown",
      "metadata": {
        "execution": {},
        "id": "hPmv_Ve5_BuD"
      },
      "source": [
        "## Coding Exercise 5: Computing Posteriors\n",
        "\n",
        "Let's implement our above math to be able to compute posteriors for different priors and likelihoods.\n",
        "\n",
        "As before, our prior is $p(s = \\textrm{left}) = 0.3$ and $p(s = \\textrm{right}) = 0.7$. In the video, we learned that the chance of catching a fish given they fish on the same side as the school was 50%. Otherwise, it was 10%. We observe a person fishing on the left side. Our likelihood is:\n",
        "\n",
        "\n",
        "| Likelihood: p(m \\| s) | m = fish   | m = no fish  |\n",
        "| ----------------- |----------|----------|\n",
        "| s = left          | 0.5          | 0.5         |\n",
        "| s = right         | 0.1        |  0.9       |\n",
        "\n",
        "\n",
        "We want our full posterior to take the same 2 by 2 form. Make sure the outputs match your math answers!\n",
        "\n"
      ]
    },
    {
      "cell_type": "code",
      "execution_count": null,
      "metadata": {
        "execution": {},
        "id": "jbhL8Dt9_BuD"
      },
      "outputs": [],
      "source": [
        "def compute_posterior(likelihood, prior):\n",
        "  \"\"\" Use Bayes' Rule to compute posterior from likelihood and prior\n",
        "\n",
        "  Args:\n",
        "    likelihood (ndarray): i x j array with likelihood probabilities where i is\n",
        "                    number of state options, j is number of measurement options\n",
        "    prior (ndarray): i x 1 array with prior probability of each state\n",
        "\n",
        "  Returns:\n",
        "    ndarray: i x j array with posterior probabilities where i is\n",
        "            number of state options, j is number of measurement options\n",
        "\n",
        "  \"\"\"\n",
        "\n",
        "  #################################################\n",
        "  ## TODO for students ##\n",
        "  # Fill out function and remove\n",
        "    #raise NotImplementedError(\"Student exercise: implement compute_posterior\")\n",
        "  #################################################\n",
        "\n",
        "  # Compute unnormalized posterior (likelihood times prior)\n",
        "  posterior = likelihood * prior # first row is s = left, second row is s = right\n",
        "\n",
        "  # Compute p(m)\n",
        "  p_m = np.sum(posterior, axis = 0)\n",
        "\n",
        "  # Normalize posterior (divide elements by p_m)\n",
        "  posterior /= p_m\n",
        "\n",
        "  return posterior\n",
        "\n",
        "\n",
        "# Make prior\n",
        "prior = np.array([0.3, 0.7]).reshape((2, 1)) # first row is s = left, second row is s = right\n",
        "\n",
        "# Make likelihood\n",
        "likelihood = np.array([[0.5, 0.5], [0.1, 0.9]]) # first row is s = left, second row is s = right\n",
        "\n",
        "# Compute posterior\n",
        "posterior = compute_posterior(likelihood, prior)\n",
        "\n",
        "# Visualize\n",
        "plot_prior_likelihood_posterior(prior, likelihood, posterior)"
      ]
    },
    {
      "cell_type": "markdown",
      "metadata": {
        "execution": {},
        "id": "Z-n10h-K_BuE"
      },
      "source": [
        "[*Click for solution*](https://github.com/NeuromatchAcademy/course-content/tree/main/tutorials/W3D1_BayesianDecisions/solutions/W3D1_Tutorial1_Solution_1a2cc907.py)\n",
        "\n",
        "*Example output:*\n",
        "\n",
        "<img alt='Solution hint' align='left' width=1155.0 height=453.0 src=https://raw.githubusercontent.com/NeuromatchAcademy/course-content/main/tutorials/W3D1_BayesianDecisions/static/W3D1_Tutorial1_Solution_1a2cc907_0.png>\n",
        "\n"
      ]
    },
    {
      "cell_type": "code",
      "execution_count": null,
      "metadata": {
        "cellView": "form",
        "execution": {},
        "id": "e2GAYE0U_BuE"
      },
      "outputs": [],
      "source": [
        "# @title Submit your feedback\n",
        "content_review(f\"{feedback_prefix}_Computing_Posteriors_Exercise\")"
      ]
    },
    {
      "cell_type": "markdown",
      "metadata": {
        "execution": {},
        "id": "j6Th_M_6_BuE"
      },
      "source": [
        "## Interactive Demo 5: What affects the posterior?\n",
        "\n",
        "Now that we can understand the implementation of *Bayes rule*, let's vary the parameters of the prior and likelihood to see how changing the prior and likelihood affect the posterior.\n",
        "\n",
        "In the demo below, you can change the prior by playing with the slider for $p( s = left)$. You can also change the likelihood by changing the probability of catching a fish given that the school is on the left and the probability of catching a fish given that the school is on the right. The fisher-person you are observing is fishing on the left.\n",
        "\n",
        "\n",
        "1.   Keeping the likelihood constant, when does the prior have the strongest influence over the posterior? Meaning, when does the posterior look most like the prior no matter whether a fish was caught or not?\n",
        "2.   What happens if the likelihoods for catching a fish are similar when you fish on the correct or incorrect side?\n",
        "3.  Set the prior probability of the state = left to 0.6 and play with the likelihood. When does the likelihood exert the most influence over the posterior?"
      ]
    },
    {
      "cell_type": "code",
      "execution_count": 8,
      "metadata": {
        "cellView": "form",
        "execution": {},
        "colab": {
          "base_uri": "https://localhost:8080/",
          "height": 576,
          "referenced_widgets": [
            "cf2626ccad8b483c834b18d48e844dcf",
            "97968ddd5b174b839401eb476fdf3a85",
            "6508051543a44bd9a605b59c5c35da5d",
            "01360ac6fea84ec68a588f2ed937e1fc",
            "9668cf9c52c44c9ca43a2755c0367bb0",
            "15c743850ca44aadb098800fa60dacae",
            "2fa3ee4ea8b54d2da661598d4f9d3117",
            "ba3e851ba77949d28fa264d7e3733848",
            "cba94c99adfa46f8849acef7ef56aa71",
            "b1e0c763e5354706b4ec0213f0b9e98e",
            "472ca3f900b54ecdbda980e6d07cc226",
            "f0a3526255ec46fdb896e1ed1f82ef55",
            "5eec332c953e4ca9a7fde9c7589850d4",
            "3ec627ca043345c193534da37f1a52a2",
            "07fe9491cadb4a2fb49fb0f2f78cadec",
            "4d643ff0edbc4f3da63f4e08aeff0da7",
            "dd8ce279c6a14bb5b5e5362ff37edb77",
            "14e52a7de6654fba82561c246f4b0218"
          ]
        },
        "id": "YcoAazrl_BuE",
        "outputId": "08aad5c8-1a8e-4f69-d1eb-8e953f426eca"
      },
      "outputs": [
        {
          "output_type": "display_data",
          "data": {
            "text/plain": [
              "VBox(children=(FloatSlider(value=0.3, description='p(s = left)', max=0.99, min=0.01, step=0.01), HBox(children…"
            ],
            "application/vnd.jupyter.widget-view+json": {
              "version_major": 2,
              "version_minor": 0,
              "model_id": "cf2626ccad8b483c834b18d48e844dcf"
            }
          },
          "metadata": {}
        },
        {
          "output_type": "display_data",
          "data": {
            "text/plain": [
              "Output()"
            ],
            "application/vnd.jupyter.widget-view+json": {
              "version_major": 2,
              "version_minor": 0,
              "model_id": "dd8ce279c6a14bb5b5e5362ff37edb77"
            }
          },
          "metadata": {}
        }
      ],
      "source": [
        "# @markdown Execute this cell to enable the widget\n",
        "# style = {'description_width': 'initial'}\n",
        "ps_widget = widgets.FloatSlider(0.3, description='p(s = left)',\n",
        "                                min=0.01, max=0.99, step=0.01)\n",
        "p_a_s1_widget = widgets.FloatSlider(0.5,\n",
        "                                    description='p(fish on left | state = left)',\n",
        "                                    min=0.01, max=0.99, step=0.01, style=style,\n",
        "                                    layout=Layout(width='370px'))\n",
        "p_a_s0_widget = widgets.FloatSlider(0.1,\n",
        "                                    description='p(fish on left | state = right)',\n",
        "                                    min=0.01, max=0.99, step=0.01, style=style,\n",
        "                                    layout=Layout(width='370px'))\n",
        "\n",
        "observed_widget = ToggleButtons(options=['Fish', 'No Fish'],\n",
        "    description='Observation (m) on the left:', disabled=False, button_style='',\n",
        "    layout=Layout(width='auto', display=\"flex\"),\n",
        "    style={'description_width': 'initial'}\n",
        ")\n",
        "\n",
        "widget_ui = VBox([ps_widget,\n",
        "                  HBox([p_a_s1_widget, p_a_s0_widget]),\n",
        "                  observed_widget])\n",
        "widget_out = interactive_output(plot_prior_likelihood,\n",
        "                                {'ps': ps_widget,\n",
        "                                'p_a_s1': p_a_s1_widget,\n",
        "                                'p_a_s0': p_a_s0_widget,\n",
        "                                'measurement': observed_widget})\n",
        "display(widget_ui, widget_out)"
      ]
    },
    {
      "cell_type": "markdown",
      "metadata": {
        "execution": {},
        "id": "aehL2xB7_BuE"
      },
      "source": [
        "[*Click for solution*](https://github.com/NeuromatchAcademy/course-content/tree/main/tutorials/W3D1_BayesianDecisions/solutions/W3D1_Tutorial1_Solution_b12db064.py)\n",
        "\n"
      ]
    },
    {
      "cell_type": "code",
      "execution_count": null,
      "metadata": {
        "cellView": "form",
        "execution": {},
        "id": "vbcERTnZ_BuE"
      },
      "outputs": [],
      "source": [
        "# @title Submit your feedback\n",
        "content_review(f\"{feedback_prefix}_What_affects_the_posterior_Interactive_Demo_and_Discussion\")"
      ]
    },
    {
      "cell_type": "code",
      "execution_count": null,
      "metadata": {
        "cellView": "form",
        "execution": {},
        "id": "Xo7XD3SX_BuE"
      },
      "outputs": [],
      "source": [
        "# @title Video 8: Posterior Beliefs Exercises Discussion\n",
        "from ipywidgets import widgets\n",
        "from IPython.display import YouTubeVideo\n",
        "from IPython.display import IFrame\n",
        "from IPython.display import display\n",
        "\n",
        "\n",
        "class PlayVideo(IFrame):\n",
        "  def __init__(self, id, source, page=1, width=400, height=300, **kwargs):\n",
        "    self.id = id\n",
        "    if source == 'Bilibili':\n",
        "      src = f'https://player.bilibili.com/player.html?bvid={id}&page={page}'\n",
        "    elif source == 'Osf':\n",
        "      src = f'https://mfr.ca-1.osf.io/render?url=https://osf.io/download/{id}/?direct%26mode=render'\n",
        "    super(PlayVideo, self).__init__(src, width, height, **kwargs)\n",
        "\n",
        "\n",
        "def display_videos(video_ids, W=400, H=300, fs=1):\n",
        "  tab_contents = []\n",
        "  for i, video_id in enumerate(video_ids):\n",
        "    out = widgets.Output()\n",
        "    with out:\n",
        "      if video_ids[i][0] == 'Youtube':\n",
        "        video = YouTubeVideo(id=video_ids[i][1], width=W,\n",
        "                             height=H, fs=fs, rel=0)\n",
        "        print(f'Video available at https://youtube.com/watch?v={video.id}')\n",
        "      else:\n",
        "        video = PlayVideo(id=video_ids[i][1], source=video_ids[i][0], width=W,\n",
        "                          height=H, fs=fs, autoplay=False)\n",
        "        if video_ids[i][0] == 'Bilibili':\n",
        "          print(f'Video available at https://www.bilibili.com/video/{video.id}')\n",
        "        elif video_ids[i][0] == 'Osf':\n",
        "          print(f'Video available at https://osf.io/{video.id}')\n",
        "      display(video)\n",
        "    tab_contents.append(out)\n",
        "  return tab_contents\n",
        "\n",
        "\n",
        "video_ids = [('Youtube', 'YPQgLVolvBs'), ('Bilibili', 'BV1TU4y1G7SM')]\n",
        "tab_contents = display_videos(video_ids, W=854, H=480)\n",
        "tabs = widgets.Tab()\n",
        "tabs.children = tab_contents\n",
        "for i in range(len(tab_contents)):\n",
        "  tabs.set_title(i, video_ids[i][0])\n",
        "display(tabs)"
      ]
    },
    {
      "cell_type": "code",
      "execution_count": null,
      "metadata": {
        "cellView": "form",
        "execution": {},
        "id": "V3H_BIXc_BuF"
      },
      "outputs": [],
      "source": [
        "# @title Submit your feedback\n",
        "content_review(f\"{feedback_prefix}_Posterior_Beliefs_Exercises_Discussion_Video\")"
      ]
    },
    {
      "cell_type": "markdown",
      "metadata": {
        "execution": {},
        "id": "vTwV0xW__BuF"
      },
      "source": [
        "# Section 6: Making Bayesian fishing decisions\n",
        "\n",
        "*Estimated timing to here from start of tutorial: 1 hr, 15 min*"
      ]
    },
    {
      "cell_type": "code",
      "execution_count": null,
      "metadata": {
        "cellView": "form",
        "execution": {},
        "id": "By5NYp0a_BuF"
      },
      "outputs": [],
      "source": [
        "# @title Video 9: Bayesian Decisions\n",
        "from ipywidgets import widgets\n",
        "from IPython.display import YouTubeVideo\n",
        "from IPython.display import IFrame\n",
        "from IPython.display import display\n",
        "\n",
        "\n",
        "class PlayVideo(IFrame):\n",
        "  def __init__(self, id, source, page=1, width=400, height=300, **kwargs):\n",
        "    self.id = id\n",
        "    if source == 'Bilibili':\n",
        "      src = f'https://player.bilibili.com/player.html?bvid={id}&page={page}'\n",
        "    elif source == 'Osf':\n",
        "      src = f'https://mfr.ca-1.osf.io/render?url=https://osf.io/download/{id}/?direct%26mode=render'\n",
        "    super(PlayVideo, self).__init__(src, width, height, **kwargs)\n",
        "\n",
        "\n",
        "def display_videos(video_ids, W=400, H=300, fs=1):\n",
        "  tab_contents = []\n",
        "  for i, video_id in enumerate(video_ids):\n",
        "    out = widgets.Output()\n",
        "    with out:\n",
        "      if video_ids[i][0] == 'Youtube':\n",
        "        video = YouTubeVideo(id=video_ids[i][1], width=W,\n",
        "                             height=H, fs=fs, rel=0)\n",
        "        print(f'Video available at https://youtube.com/watch?v={video.id}')\n",
        "      else:\n",
        "        video = PlayVideo(id=video_ids[i][1], source=video_ids[i][0], width=W,\n",
        "                          height=H, fs=fs, autoplay=False)\n",
        "        if video_ids[i][0] == 'Bilibili':\n",
        "          print(f'Video available at https://www.bilibili.com/video/{video.id}')\n",
        "        elif video_ids[i][0] == 'Osf':\n",
        "          print(f'Video available at https://osf.io/{video.id}')\n",
        "      display(video)\n",
        "    tab_contents.append(out)\n",
        "  return tab_contents\n",
        "\n",
        "\n",
        "video_ids = [('Youtube', 'tz9zsmTHR68'), ('Bilibili', 'BV1954y1n7uH')]\n",
        "tab_contents = display_videos(video_ids, W=854, H=480)\n",
        "tabs = widgets.Tab()\n",
        "tabs.children = tab_contents\n",
        "for i in range(len(tab_contents)):\n",
        "  tabs.set_title(i, video_ids[i][0])\n",
        "display(tabs)"
      ]
    },
    {
      "cell_type": "code",
      "execution_count": null,
      "metadata": {
        "cellView": "form",
        "execution": {},
        "id": "HYzicboW_BuF"
      },
      "outputs": [],
      "source": [
        "# @title Submit your feedback\n",
        "content_review(f\"{feedback_prefix}_Bayesian_Decisions_Video\")"
      ]
    },
    {
      "cell_type": "markdown",
      "metadata": {
        "execution": {},
        "id": "R6gS4jsR_BuF"
      },
      "source": [
        "\n",
        "We will explore how to consider the expected utility of an action based on our belief (the posterior distribution) about where we think the fish are. Now we have all the components of a Bayesian decision: our prior information, the likelihood given a measurement, the posterior distribution (belief) and our utility (the gains and losses). This allows us to consider the relationship between the true value of the hidden state, $s$, and what we *expect* to get if we take action, $a$, based on our belief!\n",
        "\n",
        "Let's use the following widget to think about the relationship between these probability distributions and utility function."
      ]
    },
    {
      "cell_type": "markdown",
      "metadata": {
        "execution": {},
        "id": "Naf8aIh5_BuF"
      },
      "source": [
        "## Interactive Demo! 6: What is more important, the probabilities or the utilities?\n",
        "\n",
        "We are now going to put everything we've learned together to gain some intuitions for how each of the elements that goes into a Bayesian decision comes together. Remember, the common assumption in neuroscience, psychology, economics, ecology, etc. is that we (humans and animals) are trying to maximize our expected utility. There is a lot going on in this demo as it brings everything in this tutorial together in one place - please spend time making sure you understand the controls and the plots, especially how everything relates together.\n",
        "\n",
        "1. Can you find a situation where the expected utility is the same for both actions?\n",
        "2. What is more important for determining the expected utility: the prior or a new measurement (the likelihood)?\n",
        "3. Why is this a normative model?\n",
        "4. Can you think of ways in which this model would need to be extended to describe human or animal behavior?"
      ]
    },
    {
      "cell_type": "code",
      "execution_count": null,
      "metadata": {
        "cellView": "form",
        "execution": {},
        "id": "eidR5mbW_BuG"
      },
      "outputs": [],
      "source": [
        "# @markdown Execute this cell to enable the widget\n",
        "# style = {'description_width': 'initial'}\n",
        "\n",
        "ps_widget = widgets.FloatSlider(0.3, description='p(s = left)',\n",
        "                                min=0.01, max=0.99, step=0.01,\n",
        "                                layout=Layout(width='300px'))\n",
        "p_a_s1_widget = widgets.FloatSlider(0.5,\n",
        "                                    description='p(fish on left | state = left)',\n",
        "                                    min=0.01, max=0.99, step=0.01,\n",
        "                                    style=style, layout=Layout(width='370px'))\n",
        "p_a_s0_widget = widgets.FloatSlider(0.1,\n",
        "                                    description='p(fish on left | state = right)',\n",
        "                                    min=0.01, max=0.99, step=0.01,\n",
        "                                    style=style, layout=Layout(width='370px'))\n",
        "\n",
        "observed_widget = ToggleButtons(options=['Fish', 'No Fish'],\n",
        "    description='Observation (m) on the left:', disabled=False, button_style='',\n",
        "    layout=Layout(width='auto', display=\"flex\"),\n",
        "    style={'description_width': 'initial'}\n",
        ")\n",
        "\n",
        "widget_ui = VBox([ps_widget,\n",
        "                  HBox([p_a_s1_widget, p_a_s0_widget]),\n",
        "                  observed_widget])\n",
        "\n",
        "widget_out = interactive_output(plot_prior_likelihood_utility,\n",
        "                                {'ps': ps_widget,\n",
        "                                'p_a_s1': p_a_s1_widget,\n",
        "                                'p_a_s0': p_a_s0_widget,\n",
        "                                'measurement': observed_widget})\n",
        "display(widget_ui, widget_out)"
      ]
    },
    {
      "cell_type": "markdown",
      "metadata": {
        "execution": {},
        "id": "pazR1N6__BuG"
      },
      "source": [
        "[*Click for solution*](https://github.com/NeuromatchAcademy/course-content/tree/main/tutorials/W3D1_BayesianDecisions/solutions/W3D1_Tutorial1_Solution_fb91b9f9.py)\n",
        "\n"
      ]
    },
    {
      "cell_type": "code",
      "execution_count": null,
      "metadata": {
        "cellView": "form",
        "execution": {},
        "id": "-YoWpwbB_BuG"
      },
      "outputs": [],
      "source": [
        "# @title Submit your feedback\n",
        "content_review(f\"{feedback_prefix}_Probabilities_vs_utilities_Interactive_Demo_and_Discussion\")"
      ]
    },
    {
      "cell_type": "code",
      "execution_count": null,
      "metadata": {
        "cellView": "form",
        "execution": {},
        "id": "qwO0r9cY_BuG"
      },
      "outputs": [],
      "source": [
        "# @title Video 10: Bayesian Decisions Demo Discussion\n",
        "from ipywidgets import widgets\n",
        "from IPython.display import YouTubeVideo\n",
        "from IPython.display import IFrame\n",
        "from IPython.display import display\n",
        "\n",
        "\n",
        "class PlayVideo(IFrame):\n",
        "  def __init__(self, id, source, page=1, width=400, height=300, **kwargs):\n",
        "    self.id = id\n",
        "    if source == 'Bilibili':\n",
        "      src = f'https://player.bilibili.com/player.html?bvid={id}&page={page}'\n",
        "    elif source == 'Osf':\n",
        "      src = f'https://mfr.ca-1.osf.io/render?url=https://osf.io/download/{id}/?direct%26mode=render'\n",
        "    super(PlayVideo, self).__init__(src, width, height, **kwargs)\n",
        "\n",
        "\n",
        "def display_videos(video_ids, W=400, H=300, fs=1):\n",
        "  tab_contents = []\n",
        "  for i, video_id in enumerate(video_ids):\n",
        "    out = widgets.Output()\n",
        "    with out:\n",
        "      if video_ids[i][0] == 'Youtube':\n",
        "        video = YouTubeVideo(id=video_ids[i][1], width=W,\n",
        "                             height=H, fs=fs, rel=0)\n",
        "        print(f'Video available at https://youtube.com/watch?v={video.id}')\n",
        "      else:\n",
        "        video = PlayVideo(id=video_ids[i][1], source=video_ids[i][0], width=W,\n",
        "                          height=H, fs=fs, autoplay=False)\n",
        "        if video_ids[i][0] == 'Bilibili':\n",
        "          print(f'Video available at https://www.bilibili.com/video/{video.id}')\n",
        "        elif video_ids[i][0] == 'Osf':\n",
        "          print(f'Video available at https://osf.io/{video.id}')\n",
        "      display(video)\n",
        "    tab_contents.append(out)\n",
        "  return tab_contents\n",
        "\n",
        "\n",
        "video_ids = [('Youtube', 'h9L0EYmUpHs'), ('Bilibili', 'BV1QU4y137BS')]\n",
        "tab_contents = display_videos(video_ids, W=854, H=480)\n",
        "tabs = widgets.Tab()\n",
        "tabs.children = tab_contents\n",
        "for i in range(len(tab_contents)):\n",
        "  tabs.set_title(i, video_ids[i][0])\n",
        "display(tabs)"
      ]
    },
    {
      "cell_type": "code",
      "execution_count": null,
      "metadata": {
        "cellView": "form",
        "execution": {},
        "id": "08re7zQW_BuG"
      },
      "outputs": [],
      "source": [
        "# @title Submit your feedback\n",
        "content_review(f\"{feedback_prefix}_Bayesian_Decisions_Demo_Discussion_Video\")"
      ]
    },
    {
      "cell_type": "markdown",
      "metadata": {
        "execution": {},
        "id": "wSHvdT2D_BuH"
      },
      "source": [
        "---\n",
        "# Summary\n",
        "\n",
        "*Estimated timing of tutorial: 1 hour, 30 minutes*\n",
        "\n",
        "In this tutorial, you learned about combining prior information with new measurements to update your knowledge using Bayes Rule, in the context of a fishing problem.\n",
        "\n",
        "Specifically, we covered:\n",
        "\n",
        "* That the likelihood is the probability of the measurement given some hidden state\n",
        "\n",
        "* That how the prior and likelihood interact to create the posterior, the probability of the hidden state given a measurement, depends on how they covary\n",
        "\n",
        "* That utility is the gain from each action and state pair, and the expected utility for an action is the sum of the utility for all state pairs, weighted by the probability of that state happening. You can then choose the action with the highest expected utility.\n"
      ]
    },
    {
      "cell_type": "markdown",
      "metadata": {
        "execution": {},
        "id": "tVbw5tRm_BuH"
      },
      "source": [
        "---\n",
        "# Bonus"
      ]
    },
    {
      "cell_type": "markdown",
      "metadata": {
        "execution": {},
        "id": "1TVtaznR_BuH"
      },
      "source": [
        "## Bonus Section 1: Correlation Formula\n",
        "\n",
        "To understand the way we calculate the correlation, we need to review the definition of covariance and correlation.\n",
        "\n",
        "<br>\n",
        "\n",
        "Covariance:\n",
        "\n",
        "\\begin{align}\n",
        "\\text{cov}(X,Y) \\equiv \\sigma_{XY} &= \\mathbb{E} [ (X - \\mathbb{E}[X])(Y - \\mathbb{E}[Y]) ] \\\\\n",
        "&= \\mathbb{E}[ XY - X\\mathbb{E}[Y] - \\mathbb{E}[X]Y + \\mathbb{E}[X]\\mathbb{E}[Y] ] \\\\\n",
        "&= \\mathbb{E}[XY] - \\mathbb{E}[X]\\mathbb{E}[Y] - \\mathbb{E}[X]\\mathbb{E}[Y] + \\mathbb{E}[X]\\mathbb{E}[Y]\\\\\n",
        "&= \\mathbb{E}[XY] - \\mathbb{E}[X]\\mathbb{E}[Y].\n",
        "\\end{align}\n",
        "\n",
        "Correlation:\n",
        "\n",
        "\\begin{equation}\n",
        "\\rho_{XY} = \\frac{\\text{cov}(X,Y)}{\\sqrt{\\text{var}(X)\\text{var}(Y)}} = \\frac{\\sigma_{XY}}{\\sigma_{X}\\sigma_{Y}}\n",
        "\\end{equation}"
      ]
    }
  ],
  "metadata": {
    "colab": {
      "collapsed_sections": [
        "jWmfLbhzBpfz"
      ],
      "name": "W3D1_Tutorial1",
      "provenance": [],
      "include_colab_link": true
    },
    "interpreter": {
      "hash": "3e19903e646247cead5404f55ff575624523d45cf244c3f93aaf5fa10367032a"
    },
    "kernel": {
      "display_name": "Python 3",
      "language": "python",
      "name": "python3"
    },
    "kernelspec": {
      "display_name": "Python 3.7.10 64-bit ('nma': conda)",
      "name": "python3"
    },
    "language_info": {
      "codemirror_mode": {
        "name": "ipython",
        "version": 3
      },
      "file_extension": ".py",
      "mimetype": "text/x-python",
      "name": "python",
      "nbconvert_exporter": "python",
      "pygments_lexer": "ipython3",
      "version": "3.9.17"
    },
    "widgets": {
      "application/vnd.jupyter.widget-state+json": {
        "5d152b290a6c471f88dd87c9516670c2": {
          "model_module": "@jupyter-widgets/controls",
          "model_name": "VBoxModel",
          "model_module_version": "1.5.0",
          "state": {
            "_dom_classes": [
              "widget-interact"
            ],
            "_model_module": "@jupyter-widgets/controls",
            "_model_module_version": "1.5.0",
            "_model_name": "VBoxModel",
            "_view_count": null,
            "_view_module": "@jupyter-widgets/controls",
            "_view_module_version": "1.5.0",
            "_view_name": "VBoxView",
            "box_style": "",
            "children": [
              "IPY_MODEL_b2c51277b26b4d309f8da0eb99ac1d58",
              "IPY_MODEL_3873690c9c024fb8b49afafd8ebe2d68"
            ],
            "layout": "IPY_MODEL_a4173e5360d54fe2863ccc45f72b1388"
          }
        },
        "b2c51277b26b4d309f8da0eb99ac1d58": {
          "model_module": "@jupyter-widgets/controls",
          "model_name": "FloatSliderModel",
          "model_module_version": "1.5.0",
          "state": {
            "_dom_classes": [],
            "_model_module": "@jupyter-widgets/controls",
            "_model_module_version": "1.5.0",
            "_model_name": "FloatSliderModel",
            "_view_count": null,
            "_view_module": "@jupyter-widgets/controls",
            "_view_module_version": "1.5.0",
            "_view_name": "FloatSliderView",
            "continuous_update": true,
            "description": "p(s = left)",
            "description_tooltip": null,
            "disabled": false,
            "layout": "IPY_MODEL_7d8bd813060b4c38b2a68786cdcbd17b",
            "max": 1,
            "min": 0,
            "orientation": "horizontal",
            "readout": true,
            "readout_format": ".2f",
            "step": 0.01,
            "style": "IPY_MODEL_992e2f232a1147649f8a2ad3db06a567",
            "value": 0.44
          }
        },
        "3873690c9c024fb8b49afafd8ebe2d68": {
          "model_module": "@jupyter-widgets/output",
          "model_name": "OutputModel",
          "model_module_version": "1.0.0",
          "state": {
            "_dom_classes": [],
            "_model_module": "@jupyter-widgets/output",
            "_model_module_version": "1.0.0",
            "_model_name": "OutputModel",
            "_view_count": null,
            "_view_module": "@jupyter-widgets/output",
            "_view_module_version": "1.0.0",
            "_view_name": "OutputView",
            "layout": "IPY_MODEL_38c7dceea0e4419db8cb9ea6356a4e16",
            "msg_id": "",
            "outputs": [
              {
                "output_type": "display_data",
                "data": {
                  "text/plain": "<Figure size 1700x300 with 3 Axes>",
                  "image/png": "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\n"
                },
                "metadata": {
                  "image/png": {
                    "width": 936,
                    "height": 372
                  }
                }
              }
            ]
          }
        },
        "a4173e5360d54fe2863ccc45f72b1388": {
          "model_module": "@jupyter-widgets/base",
          "model_name": "LayoutModel",
          "model_module_version": "1.2.0",
          "state": {
            "_model_module": "@jupyter-widgets/base",
            "_model_module_version": "1.2.0",
            "_model_name": "LayoutModel",
            "_view_count": null,
            "_view_module": "@jupyter-widgets/base",
            "_view_module_version": "1.2.0",
            "_view_name": "LayoutView",
            "align_content": null,
            "align_items": null,
            "align_self": null,
            "border": null,
            "bottom": null,
            "display": null,
            "flex": null,
            "flex_flow": null,
            "grid_area": null,
            "grid_auto_columns": null,
            "grid_auto_flow": null,
            "grid_auto_rows": null,
            "grid_column": null,
            "grid_gap": null,
            "grid_row": null,
            "grid_template_areas": null,
            "grid_template_columns": null,
            "grid_template_rows": null,
            "height": null,
            "justify_content": null,
            "justify_items": null,
            "left": null,
            "margin": null,
            "max_height": null,
            "max_width": null,
            "min_height": null,
            "min_width": null,
            "object_fit": null,
            "object_position": null,
            "order": null,
            "overflow": null,
            "overflow_x": null,
            "overflow_y": null,
            "padding": null,
            "right": null,
            "top": null,
            "visibility": null,
            "width": null
          }
        },
        "7d8bd813060b4c38b2a68786cdcbd17b": {
          "model_module": "@jupyter-widgets/base",
          "model_name": "LayoutModel",
          "model_module_version": "1.2.0",
          "state": {
            "_model_module": "@jupyter-widgets/base",
            "_model_module_version": "1.2.0",
            "_model_name": "LayoutModel",
            "_view_count": null,
            "_view_module": "@jupyter-widgets/base",
            "_view_module_version": "1.2.0",
            "_view_name": "LayoutView",
            "align_content": null,
            "align_items": null,
            "align_self": null,
            "border": null,
            "bottom": null,
            "display": null,
            "flex": null,
            "flex_flow": null,
            "grid_area": null,
            "grid_auto_columns": null,
            "grid_auto_flow": null,
            "grid_auto_rows": null,
            "grid_column": null,
            "grid_gap": null,
            "grid_row": null,
            "grid_template_areas": null,
            "grid_template_columns": null,
            "grid_template_rows": null,
            "height": null,
            "justify_content": null,
            "justify_items": null,
            "left": null,
            "margin": null,
            "max_height": null,
            "max_width": null,
            "min_height": null,
            "min_width": null,
            "object_fit": null,
            "object_position": null,
            "order": null,
            "overflow": null,
            "overflow_x": null,
            "overflow_y": null,
            "padding": null,
            "right": null,
            "top": null,
            "visibility": null,
            "width": null
          }
        },
        "992e2f232a1147649f8a2ad3db06a567": {
          "model_module": "@jupyter-widgets/controls",
          "model_name": "SliderStyleModel",
          "model_module_version": "1.5.0",
          "state": {
            "_model_module": "@jupyter-widgets/controls",
            "_model_module_version": "1.5.0",
            "_model_name": "SliderStyleModel",
            "_view_count": null,
            "_view_module": "@jupyter-widgets/base",
            "_view_module_version": "1.2.0",
            "_view_name": "StyleView",
            "description_width": "",
            "handle_color": null
          }
        },
        "38c7dceea0e4419db8cb9ea6356a4e16": {
          "model_module": "@jupyter-widgets/base",
          "model_name": "LayoutModel",
          "model_module_version": "1.2.0",
          "state": {
            "_model_module": "@jupyter-widgets/base",
            "_model_module_version": "1.2.0",
            "_model_name": "LayoutModel",
            "_view_count": null,
            "_view_module": "@jupyter-widgets/base",
            "_view_module_version": "1.2.0",
            "_view_name": "LayoutView",
            "align_content": null,
            "align_items": null,
            "align_self": null,
            "border": null,
            "bottom": null,
            "display": null,
            "flex": null,
            "flex_flow": null,
            "grid_area": null,
            "grid_auto_columns": null,
            "grid_auto_flow": null,
            "grid_auto_rows": null,
            "grid_column": null,
            "grid_gap": null,
            "grid_row": null,
            "grid_template_areas": null,
            "grid_template_columns": null,
            "grid_template_rows": null,
            "height": null,
            "justify_content": null,
            "justify_items": null,
            "left": null,
            "margin": null,
            "max_height": null,
            "max_width": null,
            "min_height": null,
            "min_width": null,
            "object_fit": null,
            "object_position": null,
            "order": null,
            "overflow": null,
            "overflow_x": null,
            "overflow_y": null,
            "padding": null,
            "right": null,
            "top": null,
            "visibility": null,
            "width": null
          }
        },
        "74faaee030004c069e68dfeaad06eb98": {
          "model_module": "@jupyter-widgets/controls",
          "model_name": "VBoxModel",
          "model_module_version": "1.5.0",
          "state": {
            "_dom_classes": [
              "widget-interact"
            ],
            "_model_module": "@jupyter-widgets/controls",
            "_model_module_version": "1.5.0",
            "_model_name": "VBoxModel",
            "_view_count": null,
            "_view_module": "@jupyter-widgets/controls",
            "_view_module_version": "1.5.0",
            "_view_name": "VBoxView",
            "box_style": "",
            "children": [
              "IPY_MODEL_25e0ede5ba104f05aac904055ec4e0b4",
              "IPY_MODEL_f27f487d79c946aba37f9b831e42d792",
              "IPY_MODEL_0dba67bbc6fa46a68c93cf2fd68a75c1",
              "IPY_MODEL_9cb91e74c9b44dc7ac794be120beefe8"
            ],
            "layout": "IPY_MODEL_bfa6d45dbeb74373ba93e2207a375f1c"
          }
        },
        "25e0ede5ba104f05aac904055ec4e0b4": {
          "model_module": "@jupyter-widgets/controls",
          "model_name": "FloatSliderModel",
          "model_module_version": "1.5.0",
          "state": {
            "_dom_classes": [],
            "_model_module": "@jupyter-widgets/controls",
            "_model_module_version": "1.5.0",
            "_model_name": "FloatSliderModel",
            "_view_count": null,
            "_view_module": "@jupyter-widgets/controls",
            "_view_module_version": "1.5.0",
            "_view_name": "FloatSliderView",
            "continuous_update": true,
            "description": "p(color=golden)",
            "description_tooltip": null,
            "disabled": false,
            "layout": "IPY_MODEL_cb633df6ba7a4496b103a95bdbf53f05",
            "max": 0.99,
            "min": 0.01,
            "orientation": "horizontal",
            "readout": true,
            "readout_format": ".2f",
            "step": 0.01,
            "style": "IPY_MODEL_100ff1b732d248acb3f9ec0cb0c59523",
            "value": 0.5
          }
        },
        "f27f487d79c946aba37f9b831e42d792": {
          "model_module": "@jupyter-widgets/controls",
          "model_name": "FloatSliderModel",
          "model_module_version": "1.5.0",
          "state": {
            "_dom_classes": [],
            "_model_module": "@jupyter-widgets/controls",
            "_model_module_version": "1.5.0",
            "_model_name": "FloatSliderModel",
            "_view_count": null,
            "_view_module": "@jupyter-widgets/controls",
            "_view_module_version": "1.5.0",
            "_view_name": "FloatSliderView",
            "continuous_update": true,
            "description": "p(size=large)",
            "description_tooltip": null,
            "disabled": false,
            "layout": "IPY_MODEL_f5f80097c98c44a1846acc2ed8aea4b2",
            "max": 0.99,
            "min": 0.01,
            "orientation": "horizontal",
            "readout": true,
            "readout_format": ".2f",
            "step": 0.01,
            "style": "IPY_MODEL_bbbbc459e18b414dad5a4e56ba49ec5c",
            "value": 0.5
          }
        },
        "0dba67bbc6fa46a68c93cf2fd68a75c1": {
          "model_module": "@jupyter-widgets/controls",
          "model_name": "FloatSliderModel",
          "model_module_version": "1.5.0",
          "state": {
            "_dom_classes": [],
            "_model_module": "@jupyter-widgets/controls",
            "_model_module_version": "1.5.0",
            "_model_name": "FloatSliderModel",
            "_view_count": null,
            "_view_module": "@jupyter-widgets/controls",
            "_view_module_version": "1.5.0",
            "_view_name": "FloatSliderView",
            "continuous_update": true,
            "description": "ρ",
            "description_tooltip": null,
            "disabled": false,
            "layout": "IPY_MODEL_1bc4be5a06fd4a0da726b0cf4d0adf55",
            "max": 0.9899999999999998,
            "min": -0.9899999999999998,
            "orientation": "horizontal",
            "readout": true,
            "readout_format": ".2f",
            "step": 0.01,
            "style": "IPY_MODEL_f81f1d39775342e2a752108cf19ab7a5",
            "value": 0.9800000000000002
          }
        },
        "9cb91e74c9b44dc7ac794be120beefe8": {
          "model_module": "@jupyter-widgets/output",
          "model_name": "OutputModel",
          "model_module_version": "1.0.0",
          "state": {
            "_dom_classes": [],
            "_model_module": "@jupyter-widgets/output",
            "_model_module_version": "1.0.0",
            "_model_name": "OutputModel",
            "_view_count": null,
            "_view_module": "@jupyter-widgets/output",
            "_view_module_version": "1.0.0",
            "_view_name": "OutputView",
            "layout": "IPY_MODEL_b9ed7d15897840ba8d3270e572f4c35e",
            "msg_id": "",
            "outputs": [
              {
                "output_type": "display_data",
                "data": {
                  "text/plain": "<Figure size 500x500 with 3 Axes>",
                  "image/png": "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\n"
                },
                "metadata": {
                  "image/png": {
                    "width": 534,
                    "height": 502
                  }
                }
              }
            ]
          }
        },
        "bfa6d45dbeb74373ba93e2207a375f1c": {
          "model_module": "@jupyter-widgets/base",
          "model_name": "LayoutModel",
          "model_module_version": "1.2.0",
          "state": {
            "_model_module": "@jupyter-widgets/base",
            "_model_module_version": "1.2.0",
            "_model_name": "LayoutModel",
            "_view_count": null,
            "_view_module": "@jupyter-widgets/base",
            "_view_module_version": "1.2.0",
            "_view_name": "LayoutView",
            "align_content": null,
            "align_items": null,
            "align_self": null,
            "border": null,
            "bottom": null,
            "display": null,
            "flex": null,
            "flex_flow": null,
            "grid_area": null,
            "grid_auto_columns": null,
            "grid_auto_flow": null,
            "grid_auto_rows": null,
            "grid_column": null,
            "grid_gap": null,
            "grid_row": null,
            "grid_template_areas": null,
            "grid_template_columns": null,
            "grid_template_rows": null,
            "height": null,
            "justify_content": null,
            "justify_items": null,
            "left": null,
            "margin": null,
            "max_height": null,
            "max_width": null,
            "min_height": null,
            "min_width": null,
            "object_fit": null,
            "object_position": null,
            "order": null,
            "overflow": null,
            "overflow_x": null,
            "overflow_y": null,
            "padding": null,
            "right": null,
            "top": null,
            "visibility": null,
            "width": null
          }
        },
        "cb633df6ba7a4496b103a95bdbf53f05": {
          "model_module": "@jupyter-widgets/base",
          "model_name": "LayoutModel",
          "model_module_version": "1.2.0",
          "state": {
            "_model_module": "@jupyter-widgets/base",
            "_model_module_version": "1.2.0",
            "_model_name": "LayoutModel",
            "_view_count": null,
            "_view_module": "@jupyter-widgets/base",
            "_view_module_version": "1.2.0",
            "_view_name": "LayoutView",
            "align_content": null,
            "align_items": null,
            "align_self": null,
            "border": null,
            "bottom": null,
            "display": null,
            "flex": null,
            "flex_flow": null,
            "grid_area": "widget002",
            "grid_auto_columns": null,
            "grid_auto_flow": null,
            "grid_auto_rows": null,
            "grid_column": null,
            "grid_gap": null,
            "grid_row": null,
            "grid_template_areas": null,
            "grid_template_columns": null,
            "grid_template_rows": null,
            "height": null,
            "justify_content": null,
            "justify_items": null,
            "left": null,
            "margin": null,
            "max_height": null,
            "max_width": null,
            "min_height": null,
            "min_width": null,
            "object_fit": null,
            "object_position": null,
            "order": null,
            "overflow": null,
            "overflow_x": null,
            "overflow_y": null,
            "padding": null,
            "right": null,
            "top": null,
            "visibility": null,
            "width": null
          }
        },
        "100ff1b732d248acb3f9ec0cb0c59523": {
          "model_module": "@jupyter-widgets/controls",
          "model_name": "SliderStyleModel",
          "model_module_version": "1.5.0",
          "state": {
            "_model_module": "@jupyter-widgets/controls",
            "_model_module_version": "1.5.0",
            "_model_name": "SliderStyleModel",
            "_view_count": null,
            "_view_module": "@jupyter-widgets/base",
            "_view_module_version": "1.2.0",
            "_view_name": "StyleView",
            "description_width": "initial",
            "handle_color": null
          }
        },
        "f5f80097c98c44a1846acc2ed8aea4b2": {
          "model_module": "@jupyter-widgets/base",
          "model_name": "LayoutModel",
          "model_module_version": "1.2.0",
          "state": {
            "_model_module": "@jupyter-widgets/base",
            "_model_module_version": "1.2.0",
            "_model_name": "LayoutModel",
            "_view_count": null,
            "_view_module": "@jupyter-widgets/base",
            "_view_module_version": "1.2.0",
            "_view_name": "LayoutView",
            "align_content": null,
            "align_items": null,
            "align_self": null,
            "border": null,
            "bottom": null,
            "display": null,
            "flex": null,
            "flex_flow": null,
            "grid_area": "widget003",
            "grid_auto_columns": null,
            "grid_auto_flow": null,
            "grid_auto_rows": null,
            "grid_column": null,
            "grid_gap": null,
            "grid_row": null,
            "grid_template_areas": null,
            "grid_template_columns": null,
            "grid_template_rows": null,
            "height": null,
            "justify_content": null,
            "justify_items": null,
            "left": null,
            "margin": null,
            "max_height": null,
            "max_width": null,
            "min_height": null,
            "min_width": null,
            "object_fit": null,
            "object_position": null,
            "order": null,
            "overflow": null,
            "overflow_x": null,
            "overflow_y": null,
            "padding": null,
            "right": null,
            "top": null,
            "visibility": null,
            "width": null
          }
        },
        "bbbbc459e18b414dad5a4e56ba49ec5c": {
          "model_module": "@jupyter-widgets/controls",
          "model_name": "SliderStyleModel",
          "model_module_version": "1.5.0",
          "state": {
            "_model_module": "@jupyter-widgets/controls",
            "_model_module_version": "1.5.0",
            "_model_name": "SliderStyleModel",
            "_view_count": null,
            "_view_module": "@jupyter-widgets/base",
            "_view_module_version": "1.2.0",
            "_view_name": "StyleView",
            "description_width": "initial",
            "handle_color": null
          }
        },
        "1bc4be5a06fd4a0da726b0cf4d0adf55": {
          "model_module": "@jupyter-widgets/base",
          "model_name": "LayoutModel",
          "model_module_version": "1.2.0",
          "state": {
            "_model_module": "@jupyter-widgets/base",
            "_model_module_version": "1.2.0",
            "_model_name": "LayoutModel",
            "_view_count": null,
            "_view_module": "@jupyter-widgets/base",
            "_view_module_version": "1.2.0",
            "_view_name": "LayoutView",
            "align_content": null,
            "align_items": null,
            "align_self": null,
            "border": null,
            "bottom": null,
            "display": null,
            "flex": null,
            "flex_flow": null,
            "grid_area": "widget001",
            "grid_auto_columns": null,
            "grid_auto_flow": null,
            "grid_auto_rows": null,
            "grid_column": null,
            "grid_gap": null,
            "grid_row": null,
            "grid_template_areas": null,
            "grid_template_columns": null,
            "grid_template_rows": null,
            "height": null,
            "justify_content": null,
            "justify_items": null,
            "left": null,
            "margin": null,
            "max_height": null,
            "max_width": null,
            "min_height": null,
            "min_width": null,
            "object_fit": null,
            "object_position": null,
            "order": null,
            "overflow": null,
            "overflow_x": null,
            "overflow_y": null,
            "padding": null,
            "right": null,
            "top": null,
            "visibility": null,
            "width": null
          }
        },
        "f81f1d39775342e2a752108cf19ab7a5": {
          "model_module": "@jupyter-widgets/controls",
          "model_name": "SliderStyleModel",
          "model_module_version": "1.5.0",
          "state": {
            "_model_module": "@jupyter-widgets/controls",
            "_model_module_version": "1.5.0",
            "_model_name": "SliderStyleModel",
            "_view_count": null,
            "_view_module": "@jupyter-widgets/base",
            "_view_module_version": "1.2.0",
            "_view_name": "StyleView",
            "description_width": "",
            "handle_color": null
          }
        },
        "b9ed7d15897840ba8d3270e572f4c35e": {
          "model_module": "@jupyter-widgets/base",
          "model_name": "LayoutModel",
          "model_module_version": "1.2.0",
          "state": {
            "_model_module": "@jupyter-widgets/base",
            "_model_module_version": "1.2.0",
            "_model_name": "LayoutModel",
            "_view_count": null,
            "_view_module": "@jupyter-widgets/base",
            "_view_module_version": "1.2.0",
            "_view_name": "LayoutView",
            "align_content": null,
            "align_items": null,
            "align_self": null,
            "border": null,
            "bottom": null,
            "display": null,
            "flex": null,
            "flex_flow": null,
            "grid_area": null,
            "grid_auto_columns": null,
            "grid_auto_flow": null,
            "grid_auto_rows": null,
            "grid_column": null,
            "grid_gap": null,
            "grid_row": null,
            "grid_template_areas": null,
            "grid_template_columns": null,
            "grid_template_rows": null,
            "height": null,
            "justify_content": null,
            "justify_items": null,
            "left": null,
            "margin": null,
            "max_height": null,
            "max_width": null,
            "min_height": null,
            "min_width": null,
            "object_fit": null,
            "object_position": null,
            "order": null,
            "overflow": null,
            "overflow_x": null,
            "overflow_y": null,
            "padding": null,
            "right": null,
            "top": null,
            "visibility": null,
            "width": null
          }
        },
        "cf2626ccad8b483c834b18d48e844dcf": {
          "model_module": "@jupyter-widgets/controls",
          "model_name": "VBoxModel",
          "model_module_version": "1.5.0",
          "state": {
            "_dom_classes": [],
            "_model_module": "@jupyter-widgets/controls",
            "_model_module_version": "1.5.0",
            "_model_name": "VBoxModel",
            "_view_count": null,
            "_view_module": "@jupyter-widgets/controls",
            "_view_module_version": "1.5.0",
            "_view_name": "VBoxView",
            "box_style": "",
            "children": [
              "IPY_MODEL_97968ddd5b174b839401eb476fdf3a85",
              "IPY_MODEL_6508051543a44bd9a605b59c5c35da5d",
              "IPY_MODEL_01360ac6fea84ec68a588f2ed937e1fc"
            ],
            "layout": "IPY_MODEL_9668cf9c52c44c9ca43a2755c0367bb0"
          }
        },
        "97968ddd5b174b839401eb476fdf3a85": {
          "model_module": "@jupyter-widgets/controls",
          "model_name": "FloatSliderModel",
          "model_module_version": "1.5.0",
          "state": {
            "_dom_classes": [],
            "_model_module": "@jupyter-widgets/controls",
            "_model_module_version": "1.5.0",
            "_model_name": "FloatSliderModel",
            "_view_count": null,
            "_view_module": "@jupyter-widgets/controls",
            "_view_module_version": "1.5.0",
            "_view_name": "FloatSliderView",
            "continuous_update": true,
            "description": "p(s = left)",
            "description_tooltip": null,
            "disabled": false,
            "layout": "IPY_MODEL_15c743850ca44aadb098800fa60dacae",
            "max": 0.99,
            "min": 0.01,
            "orientation": "horizontal",
            "readout": true,
            "readout_format": ".2f",
            "step": 0.01,
            "style": "IPY_MODEL_2fa3ee4ea8b54d2da661598d4f9d3117",
            "value": 0.46
          }
        },
        "6508051543a44bd9a605b59c5c35da5d": {
          "model_module": "@jupyter-widgets/controls",
          "model_name": "HBoxModel",
          "model_module_version": "1.5.0",
          "state": {
            "_dom_classes": [],
            "_model_module": "@jupyter-widgets/controls",
            "_model_module_version": "1.5.0",
            "_model_name": "HBoxModel",
            "_view_count": null,
            "_view_module": "@jupyter-widgets/controls",
            "_view_module_version": "1.5.0",
            "_view_name": "HBoxView",
            "box_style": "",
            "children": [
              "IPY_MODEL_ba3e851ba77949d28fa264d7e3733848",
              "IPY_MODEL_cba94c99adfa46f8849acef7ef56aa71"
            ],
            "layout": "IPY_MODEL_b1e0c763e5354706b4ec0213f0b9e98e"
          }
        },
        "01360ac6fea84ec68a588f2ed937e1fc": {
          "model_module": "@jupyter-widgets/controls",
          "model_name": "ToggleButtonsModel",
          "model_module_version": "1.5.0",
          "state": {
            "_dom_classes": [],
            "_model_module": "@jupyter-widgets/controls",
            "_model_module_version": "1.5.0",
            "_model_name": "ToggleButtonsModel",
            "_options_labels": [
              "Fish",
              "No Fish"
            ],
            "_view_count": null,
            "_view_module": "@jupyter-widgets/controls",
            "_view_module_version": "1.5.0",
            "_view_name": "ToggleButtonsView",
            "button_style": "",
            "description": "Observation (m) on the left:",
            "description_tooltip": null,
            "disabled": false,
            "icons": [],
            "index": 0,
            "layout": "IPY_MODEL_472ca3f900b54ecdbda980e6d07cc226",
            "style": "IPY_MODEL_f0a3526255ec46fdb896e1ed1f82ef55",
            "tooltips": []
          }
        },
        "9668cf9c52c44c9ca43a2755c0367bb0": {
          "model_module": "@jupyter-widgets/base",
          "model_name": "LayoutModel",
          "model_module_version": "1.2.0",
          "state": {
            "_model_module": "@jupyter-widgets/base",
            "_model_module_version": "1.2.0",
            "_model_name": "LayoutModel",
            "_view_count": null,
            "_view_module": "@jupyter-widgets/base",
            "_view_module_version": "1.2.0",
            "_view_name": "LayoutView",
            "align_content": null,
            "align_items": null,
            "align_self": null,
            "border": null,
            "bottom": null,
            "display": null,
            "flex": null,
            "flex_flow": null,
            "grid_area": null,
            "grid_auto_columns": null,
            "grid_auto_flow": null,
            "grid_auto_rows": null,
            "grid_column": null,
            "grid_gap": null,
            "grid_row": null,
            "grid_template_areas": null,
            "grid_template_columns": null,
            "grid_template_rows": null,
            "height": null,
            "justify_content": null,
            "justify_items": null,
            "left": null,
            "margin": null,
            "max_height": null,
            "max_width": null,
            "min_height": null,
            "min_width": null,
            "object_fit": null,
            "object_position": null,
            "order": null,
            "overflow": null,
            "overflow_x": null,
            "overflow_y": null,
            "padding": null,
            "right": null,
            "top": null,
            "visibility": null,
            "width": null
          }
        },
        "15c743850ca44aadb098800fa60dacae": {
          "model_module": "@jupyter-widgets/base",
          "model_name": "LayoutModel",
          "model_module_version": "1.2.0",
          "state": {
            "_model_module": "@jupyter-widgets/base",
            "_model_module_version": "1.2.0",
            "_model_name": "LayoutModel",
            "_view_count": null,
            "_view_module": "@jupyter-widgets/base",
            "_view_module_version": "1.2.0",
            "_view_name": "LayoutView",
            "align_content": null,
            "align_items": null,
            "align_self": null,
            "border": null,
            "bottom": null,
            "display": null,
            "flex": null,
            "flex_flow": null,
            "grid_area": null,
            "grid_auto_columns": null,
            "grid_auto_flow": null,
            "grid_auto_rows": null,
            "grid_column": null,
            "grid_gap": null,
            "grid_row": null,
            "grid_template_areas": null,
            "grid_template_columns": null,
            "grid_template_rows": null,
            "height": null,
            "justify_content": null,
            "justify_items": null,
            "left": null,
            "margin": null,
            "max_height": null,
            "max_width": null,
            "min_height": null,
            "min_width": null,
            "object_fit": null,
            "object_position": null,
            "order": null,
            "overflow": null,
            "overflow_x": null,
            "overflow_y": null,
            "padding": null,
            "right": null,
            "top": null,
            "visibility": null,
            "width": null
          }
        },
        "2fa3ee4ea8b54d2da661598d4f9d3117": {
          "model_module": "@jupyter-widgets/controls",
          "model_name": "SliderStyleModel",
          "model_module_version": "1.5.0",
          "state": {
            "_model_module": "@jupyter-widgets/controls",
            "_model_module_version": "1.5.0",
            "_model_name": "SliderStyleModel",
            "_view_count": null,
            "_view_module": "@jupyter-widgets/base",
            "_view_module_version": "1.2.0",
            "_view_name": "StyleView",
            "description_width": "",
            "handle_color": null
          }
        },
        "ba3e851ba77949d28fa264d7e3733848": {
          "model_module": "@jupyter-widgets/controls",
          "model_name": "FloatSliderModel",
          "model_module_version": "1.5.0",
          "state": {
            "_dom_classes": [],
            "_model_module": "@jupyter-widgets/controls",
            "_model_module_version": "1.5.0",
            "_model_name": "FloatSliderModel",
            "_view_count": null,
            "_view_module": "@jupyter-widgets/controls",
            "_view_module_version": "1.5.0",
            "_view_name": "FloatSliderView",
            "continuous_update": true,
            "description": "p(fish on left | state = left)",
            "description_tooltip": null,
            "disabled": false,
            "layout": "IPY_MODEL_5eec332c953e4ca9a7fde9c7589850d4",
            "max": 0.99,
            "min": 0.01,
            "orientation": "horizontal",
            "readout": true,
            "readout_format": ".2f",
            "step": 0.01,
            "style": "IPY_MODEL_3ec627ca043345c193534da37f1a52a2",
            "value": 0.54
          }
        },
        "cba94c99adfa46f8849acef7ef56aa71": {
          "model_module": "@jupyter-widgets/controls",
          "model_name": "FloatSliderModel",
          "model_module_version": "1.5.0",
          "state": {
            "_dom_classes": [],
            "_model_module": "@jupyter-widgets/controls",
            "_model_module_version": "1.5.0",
            "_model_name": "FloatSliderModel",
            "_view_count": null,
            "_view_module": "@jupyter-widgets/controls",
            "_view_module_version": "1.5.0",
            "_view_name": "FloatSliderView",
            "continuous_update": true,
            "description": "p(fish on left | state = right)",
            "description_tooltip": null,
            "disabled": false,
            "layout": "IPY_MODEL_07fe9491cadb4a2fb49fb0f2f78cadec",
            "max": 0.99,
            "min": 0.01,
            "orientation": "horizontal",
            "readout": true,
            "readout_format": ".2f",
            "step": 0.01,
            "style": "IPY_MODEL_4d643ff0edbc4f3da63f4e08aeff0da7",
            "value": 0.35
          }
        },
        "b1e0c763e5354706b4ec0213f0b9e98e": {
          "model_module": "@jupyter-widgets/base",
          "model_name": "LayoutModel",
          "model_module_version": "1.2.0",
          "state": {
            "_model_module": "@jupyter-widgets/base",
            "_model_module_version": "1.2.0",
            "_model_name": "LayoutModel",
            "_view_count": null,
            "_view_module": "@jupyter-widgets/base",
            "_view_module_version": "1.2.0",
            "_view_name": "LayoutView",
            "align_content": null,
            "align_items": null,
            "align_self": null,
            "border": null,
            "bottom": null,
            "display": null,
            "flex": null,
            "flex_flow": null,
            "grid_area": null,
            "grid_auto_columns": null,
            "grid_auto_flow": null,
            "grid_auto_rows": null,
            "grid_column": null,
            "grid_gap": null,
            "grid_row": null,
            "grid_template_areas": null,
            "grid_template_columns": null,
            "grid_template_rows": null,
            "height": null,
            "justify_content": null,
            "justify_items": null,
            "left": null,
            "margin": null,
            "max_height": null,
            "max_width": null,
            "min_height": null,
            "min_width": null,
            "object_fit": null,
            "object_position": null,
            "order": null,
            "overflow": null,
            "overflow_x": null,
            "overflow_y": null,
            "padding": null,
            "right": null,
            "top": null,
            "visibility": null,
            "width": null
          }
        },
        "472ca3f900b54ecdbda980e6d07cc226": {
          "model_module": "@jupyter-widgets/base",
          "model_name": "LayoutModel",
          "model_module_version": "1.2.0",
          "state": {
            "_model_module": "@jupyter-widgets/base",
            "_model_module_version": "1.2.0",
            "_model_name": "LayoutModel",
            "_view_count": null,
            "_view_module": "@jupyter-widgets/base",
            "_view_module_version": "1.2.0",
            "_view_name": "LayoutView",
            "align_content": null,
            "align_items": null,
            "align_self": null,
            "border": null,
            "bottom": null,
            "display": "flex",
            "flex": null,
            "flex_flow": null,
            "grid_area": null,
            "grid_auto_columns": null,
            "grid_auto_flow": null,
            "grid_auto_rows": null,
            "grid_column": null,
            "grid_gap": null,
            "grid_row": null,
            "grid_template_areas": null,
            "grid_template_columns": null,
            "grid_template_rows": null,
            "height": null,
            "justify_content": null,
            "justify_items": null,
            "left": null,
            "margin": null,
            "max_height": null,
            "max_width": null,
            "min_height": null,
            "min_width": null,
            "object_fit": null,
            "object_position": null,
            "order": null,
            "overflow": null,
            "overflow_x": null,
            "overflow_y": null,
            "padding": null,
            "right": null,
            "top": null,
            "visibility": null,
            "width": "auto"
          }
        },
        "f0a3526255ec46fdb896e1ed1f82ef55": {
          "model_module": "@jupyter-widgets/controls",
          "model_name": "ToggleButtonsStyleModel",
          "model_module_version": "1.5.0",
          "state": {
            "_model_module": "@jupyter-widgets/controls",
            "_model_module_version": "1.5.0",
            "_model_name": "ToggleButtonsStyleModel",
            "_view_count": null,
            "_view_module": "@jupyter-widgets/base",
            "_view_module_version": "1.2.0",
            "_view_name": "StyleView",
            "button_width": "",
            "description_width": "initial",
            "font_weight": ""
          }
        },
        "5eec332c953e4ca9a7fde9c7589850d4": {
          "model_module": "@jupyter-widgets/base",
          "model_name": "LayoutModel",
          "model_module_version": "1.2.0",
          "state": {
            "_model_module": "@jupyter-widgets/base",
            "_model_module_version": "1.2.0",
            "_model_name": "LayoutModel",
            "_view_count": null,
            "_view_module": "@jupyter-widgets/base",
            "_view_module_version": "1.2.0",
            "_view_name": "LayoutView",
            "align_content": null,
            "align_items": null,
            "align_self": null,
            "border": null,
            "bottom": null,
            "display": null,
            "flex": null,
            "flex_flow": null,
            "grid_area": null,
            "grid_auto_columns": null,
            "grid_auto_flow": null,
            "grid_auto_rows": null,
            "grid_column": null,
            "grid_gap": null,
            "grid_row": null,
            "grid_template_areas": null,
            "grid_template_columns": null,
            "grid_template_rows": null,
            "height": null,
            "justify_content": null,
            "justify_items": null,
            "left": null,
            "margin": null,
            "max_height": null,
            "max_width": null,
            "min_height": null,
            "min_width": null,
            "object_fit": null,
            "object_position": null,
            "order": null,
            "overflow": null,
            "overflow_x": null,
            "overflow_y": null,
            "padding": null,
            "right": null,
            "top": null,
            "visibility": null,
            "width": "370px"
          }
        },
        "3ec627ca043345c193534da37f1a52a2": {
          "model_module": "@jupyter-widgets/controls",
          "model_name": "SliderStyleModel",
          "model_module_version": "1.5.0",
          "state": {
            "_model_module": "@jupyter-widgets/controls",
            "_model_module_version": "1.5.0",
            "_model_name": "SliderStyleModel",
            "_view_count": null,
            "_view_module": "@jupyter-widgets/base",
            "_view_module_version": "1.2.0",
            "_view_name": "StyleView",
            "description_width": "initial",
            "handle_color": null
          }
        },
        "07fe9491cadb4a2fb49fb0f2f78cadec": {
          "model_module": "@jupyter-widgets/base",
          "model_name": "LayoutModel",
          "model_module_version": "1.2.0",
          "state": {
            "_model_module": "@jupyter-widgets/base",
            "_model_module_version": "1.2.0",
            "_model_name": "LayoutModel",
            "_view_count": null,
            "_view_module": "@jupyter-widgets/base",
            "_view_module_version": "1.2.0",
            "_view_name": "LayoutView",
            "align_content": null,
            "align_items": null,
            "align_self": null,
            "border": null,
            "bottom": null,
            "display": null,
            "flex": null,
            "flex_flow": null,
            "grid_area": null,
            "grid_auto_columns": null,
            "grid_auto_flow": null,
            "grid_auto_rows": null,
            "grid_column": null,
            "grid_gap": null,
            "grid_row": null,
            "grid_template_areas": null,
            "grid_template_columns": null,
            "grid_template_rows": null,
            "height": null,
            "justify_content": null,
            "justify_items": null,
            "left": null,
            "margin": null,
            "max_height": null,
            "max_width": null,
            "min_height": null,
            "min_width": null,
            "object_fit": null,
            "object_position": null,
            "order": null,
            "overflow": null,
            "overflow_x": null,
            "overflow_y": null,
            "padding": null,
            "right": null,
            "top": null,
            "visibility": null,
            "width": "370px"
          }
        },
        "4d643ff0edbc4f3da63f4e08aeff0da7": {
          "model_module": "@jupyter-widgets/controls",
          "model_name": "SliderStyleModel",
          "model_module_version": "1.5.0",
          "state": {
            "_model_module": "@jupyter-widgets/controls",
            "_model_module_version": "1.5.0",
            "_model_name": "SliderStyleModel",
            "_view_count": null,
            "_view_module": "@jupyter-widgets/base",
            "_view_module_version": "1.2.0",
            "_view_name": "StyleView",
            "description_width": "initial",
            "handle_color": null
          }
        },
        "dd8ce279c6a14bb5b5e5362ff37edb77": {
          "model_module": "@jupyter-widgets/output",
          "model_name": "OutputModel",
          "model_module_version": "1.0.0",
          "state": {
            "_dom_classes": [],
            "_model_module": "@jupyter-widgets/output",
            "_model_module_version": "1.0.0",
            "_model_name": "OutputModel",
            "_view_count": null,
            "_view_module": "@jupyter-widgets/output",
            "_view_module_version": "1.0.0",
            "_view_name": "OutputView",
            "layout": "IPY_MODEL_14e52a7de6654fba82561c246f4b0218",
            "msg_id": "",
            "outputs": [
              {
                "output_type": "display_data",
                "data": {
                  "text/plain": "<Figure size 1200x400 with 3 Axes>",
                  "image/png": "iVBORw0KGgoAAAANSUhEUgAACFAAAAOdCAYAAACoTAQfAAAAOXRFWHRTb2Z0d2FyZQBNYXRwbG90bGliIHZlcnNpb24zLjcuMSwgaHR0cHM6Ly9tYXRwbG90bGliLm9yZy/bCgiHAAAACXBIWXMAAB7CAAAewgFu0HU+AAEAAElEQVR4nOzdd3RUxfvH8U96IQRISOi99yIdpEhRkG5BwQYqFixYsItgw4K9YQcV/QqCiAqIIE2R3nvvJSQQQnq7vz/4sXJ3N8nuZpNNsu/XOTmHmd2Z++yy2czc+9wZH8MwDAEAAAAAAAAAAAAAAHgxX08HAAAAAAAAAAAAAAAA4GkkUAAAAAAAAAAAAAAAAK9HAgUAAAAAAAAAAAAAAPB6JFAAAAAAAAAAAAAAAACvRwIFAAAAAAAAAAAAAADweiRQAAAAAAAAAAAAAAAAr0cCBQAAAAAAAAAAAAAA8HokUAAAAAAAAAAAAAAAAK9HAgUAAAAAAAAAAAAAAPB6JFAAAAAAAAAAAAAAAACvRwIFAAAAAAAAAAAAAADweiRQAAAAAAAAAAAAAAAAr0cCBQAAAAAAAAAAAAAA8HokUAAAAAAAAAAAAAAAAK9HAgUAAAAAAAAAAAAAAPB6JFAAAAAAAAAAAAAAAACvRwIFAAAAAAAAAAAAAADweiRQAAAAAAAAAAAAAAAAr0cCBQAAAAAAAAAAAAAA8HokUAC5mDp1qnx8fEw/hw4d8nRYcIMzZ86oXLlylv/XGjVqKDU11dNhSZI++ugj02fuueee83RIAAAARZarY/Y77rjD1KZmzZoFHqsnTJgwweb9Kch23bt3N7Xp3r17PqJHYfKW3wlHGIahK6+80vJe+Pn5adu2bZ4Oq9iw/ixNmDDB0yG5Xbt27SyvLzAwUDt37vR0SAAAFArrOUJJ/DvvrUaMGGH6v50/f76nQ3KrQ4cOuTTHxUU33HCD6b1btGiRp0MqUCRQAPBKTzzxhOLj4y3lV155RcHBwZ4L6DKjR49W3bp1LeXJkydr//79HowIAAAAALzHN998o7///ttSHjlypJo2berBiFDUvP7665Z/Z2Rk6KGHHvJgNAAAAPmzbNkyff/995Zyz5491bdvXw9GhKLm1Vdflb+/v6X80EMPKSMjw4MRFSwSKFAg7GVy5fYTEhKiihUrqkGDBhowYIAmTJigxYsXKzs729MvBSXQv//+q2nTplnKLVu21IgRIzwYkVlAQIBeeeUVSzktLU1jx471XEAAAABOsDcXYBUCAMXF+fPn9eSTT1rKISEhevHFFz0YEYqiHj16mC4qLFq0SLNmzfJgRAC8FefhAeRXZmamxowZYyn7+PjojTfe8GBEKIrq1aunu+++21LeuXOn3n//fQ9GVLBIoECRkJqaqtOnT2vPnj367bffNHHiRPXq1Ut16tTRW2+9pczMTE+HiBLk8ccfl2EYlvL48eOL3HJNN9xwgxo1amQp//bbb1q2bJkHIwIAAACAku/111/X6dOnLeW7775blStX9mBEKKrGjx9vKj/11FOcvwJQ5HEePm9Lly61STxZunSpp8MCCsxXX32l7du3W8oDBgxQ69atPRgRiqqnn35aAQEBlvLLL79sWum9JCGBAkXaoUOH9Pjjj6tDhw7au3evp8NBCfDbb79p5cqVlnLjxo01ePBgzwWUAx8fH9NdT5L0zDPPeCgaAAAAACj5Tp8+bbqLKiAgQI8//rgHI0JR1qFDB9MKS/v27dNXX33luYAAIB84Dw94p9TUVL300kumOq5DICfVqlUzreYeHx9fYlcrIYEChaZUqVJq0aKF3Z969eqpXLlyObZdv369evXqpWPHjhVixChpDMPQc889Z6p78skni9zqE5cMHz5cVatWtZRXrlypefPmeTAiAAAAACi5Xn31VSUlJVnKt9xyi6pVq+bBiFDUWd/48NJLLyktLc1D0QDARZyHB+CoTz75xPT73qNHD7Vv396DEaGoe+KJJ0zl999/XzExMR6KpuCQQIFC06ZNG23atMnuz549e3T27Fnt27dPL7/8ssqXL2/T/siRI7rhhhsKNeY77rhDhmGYfmrWrFmoMcB9FixYoM2bN1vKkZGRGjZsmAcjyl1AQIDuuusuU93rr7/uoWgAAACKJsbsBWPChAk27ytQksXFxemLL74w1d1///0eigbFxdVXX63atWtbyseOHdP333/vwYgAoHieh0fxYT1HmDBhgqdDgosyMjL09ttvm+oY/yIvjRo1Mq3ClpSUpI8++shzARUQEihQpNSpU0fPPvustm7dqnbt2tk8vmrVKs2cOdMDkaEksB4M3H777QoKCvJQNI4ZNWqU/Pz8LOXly5dr/fr1HowIAAAAAEqeKVOmKDk52VJu3bq12rRp48GIUBz4+PjozjvvNNW98847HooGABzHeXgAM2bMMK0+UaFCBQ0aNMiDEaG4uPvuu03lTz75RKmpqR6KpmCQQIEiqWLFivrtt99UsWJFm8c+/fRTD0SE4m7btm1atGiRqc76JEdRVK1aNfXu3dtU995773koGgAAAAAoeTIzM/Xhhx+a6orDfBFFw8iRI+Xr+98p1q1bt+qvv/7yYEQA4DjOwwPe69133zWVb7vtNgUEBHgmGBQr1113ncqWLWspnzlzpsStwkYCBYqsqKgom710JOnvv/823RUCOOLrr782lRs3bqzGjRt7KBrnWC+ZN2vWLF24cMFD0QAAAABAyTJ//nydOnXKUvb19dV1113nwYhQnFSqVEmdO3c21VmfgwCAoozz8ID32bZtm9atW2eqY+seOCooKEgDBgww1ZW08a+/pwMAcjN06FA9+uijprq0tDRt375dbdu2danPrKwsbdq0STt27NDp06eVmpqqUqVKqXnz5urZs6c7ws5VcnKyVq9erRMnTujMmTNKTU1VVFSUoqOj1apVK1WtWrXAY5CkvXv3avPmzTp27JgSExMVGBioihUr6rbbbiuU41uLi4vT6tWrtX//fiUkJKhMmTKqXLmyWrRooTp16uSr76ysLJvst+uvvz5ffV5y9uxZbdmyxRJ3UlKSAgMDFRoaqujoaNWsWVP169c3ZeM5a/DgwbrnnnuUmZkp6eJn6KefftLIkSPd8hoAAADgWfHx8Vq7dq1Onz6tM2fOKC0tTeXLl1d0dLTatm2rSpUqeTpEtztz5oxWrVqlAwcOKDExUWXKlFF0dLTat2+vGjVqFMgx9+zZox07digmJkZxcXEqVaqUoqOjVa1aNbVr167A7rZKT0/XmjVrdOzYMcXExCgpKUmRkZGKjo5WkyZNVK9evQI5bmJiov755x8dO3ZMp0+fVlBQkCpVqqRWrVqpUaNGBXLMgpKamqrVq1dr165dOnfunAICAlS5cmXVr19frVu3lo+PT776/+abb0zlLl26qEKFCvnqMyfZ2dnasGGDtm7dqjNnzigrK0uRkZFq0aKF2rRpY9rCMTepqalau3atduzYobNnzyooKEgVKlRQu3btCuwzVRwZhqEDBw5oy5YtOnXqlBISEpSZmamQkBCFhYWpatWqlnm7v7/rp0mvv/56rVixwlL++eeflZiYqLCwMHe8DAAocO46D1/Y463Tp09r8+bNOnz4sBISEpSSkqLg4GCFhoaqYsWKlu/4ovx9fPr0aW3YsEFnzpxRTEyMsrOzFRUVpQoVKqhDhw6KiIgo8BiOHDmijRs36vDhw7pw4YL8/PxUoUIFDRs2TKGhoQV6bMMwtHXrVu3du1dnzpzR2bNnLXODWrVqqXXr1qaVngrKpTnZ/v37FR8fr+zsbEVERKhv374FNj/JTWZmptatW6ft27crNjZWvr6+qlSpkmrVqqUOHTo4PGbMybRp00zlGjVquHzN7XIZGRnauXOntm3bprNnzyohIUE+Pj4KCQlR2bJlVb16ddWuXVs1a9bM97FKooyMDK1Zs0Y7duxQXFycpItbq7Ru3VotWrRwuJ+EhAStXbtWu3fvVnx8vEqVKqWKFSuqc+fObrsGef311+vbb7+1lP/55x8dOHBAtWvXdkv/HmcABeDgwYOGJNNPt27dXOqrVKlSNn39/vvvNs9bsmSJzfOWLFliefzw4cPGmDFjjHLlytk8L6f4vv76a5vnHTx40KXXMWPGDKN3795GUFCQ3eNf+mnSpInxwgsvGOfPn3fpONb9vfDCC5bHEhMTjUmTJhm1a9fO8fju9sILL+R6jKVLlxp9+vQx/Pz8coypdevWxueff25kZ2e7FMOiRYts+lyzZo3LryklJcV4//33jbZt2+b6f3npx8fHx2jYsKExevRoY+HChUZGRobTx+zataupz169erkcPwAAQEFy51zAEa6O2W+//XZTmxo1ajh97JkzZxrBwcGmfnx9fY3Jkyfn2TY5Odl46623jI4dO+Y6Fr40R3jttdeMxMREp2PMazzu7nbdunXL9f9+yZIlRu/evQ1fX98cX2/jxo2N7777zuXx/+WOHz9uPPzww0bNmjVzfY9Lly5tDB482DSHzK8///zTGDhwoBEWFpbrsWvXrm08+uijxsmTJ91y3M2bNxvXXXedERISkusx3333XSM9Pd3Szh2/E87Kax6/f/9+Y+TIkUZoaGiOr6V69erGs88+69Lvh2FcnCdb/x6/8cYbTvdj77vv66+/tjx+7tw54+mnnzaioqJyfC1VqlQx3nnnnVznjAcOHDDuvPPOXD9XTZs2NebOnevK2+EW1p+ly89LFJbdu3cbDz30kFGhQgWH5u2hoaHGlVdeabzyyivG7t27nT7egQMHbPr87rvvCuCVAYCZJ87DWyvs8da5c+eMV155xWjcuLFD3/F+fn5GixYtjLFjxxp///233TGmvbGvsz+33367w6/h7NmzxoQJE4xWrVoZPj4+Ofbp6+trtGnTxpgyZYpp3OaoGjVq5Bhjenq68fHHHxvNmjXL8fj25lXWz3H17/zu3buNO++806hYsWKu72tkZKQxfPhwY8OGDS4dJ68x7rx584xevXrlOCe7fDznDnmNGU+dOmWMHTvWKFu2bI7vSXR0tPHAAw8YMTExLsdRrVo1U5/3339/vl7XX3/9ZQwbNizXOcjlP+XLlzf69+9vfPbZZ8aZM2fydWxH2XvvC0te857jx48b999/v1G6dOkc37P69esb33zzTa7H2bx5s3HDDTfkeh2yY8eOxt9//53v15ScnGxznJdffjnf/RYVJFCgQLhz4Fa5cmWbvqZPn27zvNy+gL744otcT7jkFJ87Eig2bNjg8IV26z8gU6ZMcfr9ymkAs2rVKqN69ep5HtfdcjrxmpmZaYwZM8ap96RLly7GgQMHnI7hkUceMfUTHh5uZGZmuvR6lixZYtSqVcvp/8/Lf+bPn+/0ca3fx8DAQOPChQsuvQYAAICC5C0JFG+++abNyc7g4GDjp59+yrPt559/blSqVMnpcWSFChWMmTNnOhVnUUmgSE1NNe666y6nXm+fPn1cviiemZlpPP/883nOA+399OvXzzh8+LBLxzWMixf9+/Tp4/RxS5UqZbz44otGVlaWS8fNysoynn76acPf39/hYzZr1szYv3+/YRhFL4Hiq6++cvgErHQxkWLRokVOx/DLL7/Y9OVKwn1uJ8NXrFjh1O98165djbNnz9oc47PPPnPqPbn33nvdkojkLE8mUGRnZxvPPfecERgY6PTv4OXfta6wvkh18803u/nVAYAtT5yHv8QT460ZM2bkmozoyM/OnTtt+i2sBIrMzExj0qRJuV4cz+mnVq1axtKlS516v3JKoNizZ4/RtGnTPI9ZEAkUSUlJxn333efUmFW6eJPiLbfcYneMlJucxrgXLlwwrrvuujyPW5gJFL///rsRERHh8HsSGRlp/PDDD07HsHnzZpu+ZsyY4dLrOXv2rDFkyJB8/e4MGzbMpWM7q6gmUMyaNcsoU6aMw+/XDTfcYKSmppr6z87ONiZOnJjnzRmX/z698sor+X5d1vP/jh075rvPoqLg170B8un8+fM2dc5sh/Dmm2/qrrvu8sh+bQsWLNCVV16ptWvXOt02NjZW9957rx5++GFlZ2fnK47ly5ere/fuOnLkSL76cRfDMDRixAh99NFHTrX7+++/1a1bNx04cMCpdvPnzzeVu3Tp4tISV/PmzdM111yjgwcPOt02v3r06GEqp6ena/HixYUeBwAAgLfLysrS/fffr3HjxskwDEt9+fLl9ddff+m6667LsW1GRobuuusu3X333Tp58qTTxz59+rRuvPFGvfTSSy7F7impqanq27evvvjiC6faLVy4UP369VNWVpZT7ZKTkzVkyBC99NJLLs0D582bp44dO2rLli1Ot12/fr06deqkhQsXOt02KSlJ48eP17Bhw5SWluZU2+zsbN1+++2aNGmSZes/R2zdulWdO3fWoUOHnIy2YH3yyScaNWqUUlJSHG5z5MgR9evXT7///rtTx7KeL4aHh6t169ZO9ZGbv/76S7169XLqd3758uUaMmSIMjIyLHUvvfSSRo8e7dR7MmXKFI0bN86peIu722+/XS+//LLS09ML/djW8/aFCxfm+3wOABQmZ87De2K89cUXX2jYsGE6c+aM08crCi5cuKCBAwfq6aefVnx8vNPtDx48qN69e+urr77KVxy7du1Sx44dtW3btnz144rY2FhdddVV+uSTT5was0oXryl899136tKlS76vcyQlJalnz56aNWtWvvpxp19//VWDBg3S2bNnHW4TFxen4cOH6/PPP3fqWNbjX0nq1q2bU31I0rlz59S9e3f9/PPPTrfFRd99952uv/56u9+/OZk5c6ZGjRplKRuGobvvvlsvvPCCw3NnwzD07LPP6sMPP3Q65stZj3/XrFnj1Ge4KHN9cz+gEBw+fFhJSUk29VFRUQ61X7hwoV577TVLOSgoSD169FD37t1VsWJF+fv769ixY1q9erUSExPdFrckLVmyRAMGDLA7EGjZsqUGDBigmjVrKiQkRCdPntSyZcv0xx9/2Jwoe//995WVleXyF9mpU6c0dOhQpaamWuratWunPn36qEaNGipdurROnjypHTt2aObMmS4dw1lvvfWWfvzxR0u5dOnSGjRokNq2basKFSooPj5eu3bt0qxZs3T06FFT26NHj+qqq67Spk2bHEqkiYmJ0a5du0x1bdq0cTrm2NhY3X777Tb/P/7+/uratas6deqkmjVrqnTp0pIu7jEVExOj7du3a8OGDTYxOKtNmzby8fExnaRfunSpBg0alK9+AQAA4LikpCQNGzbM5gJtvXr1NH/+fNWpUyfHttnZ2Ro8eLDmzZtn81jlypXVs2dPtWrVSuXLl1dwcLDOnj2rjRs3av78+aYThIZhaPz48Spfvrzuu+8+9724AjRq1CgtWbLEUm7QoIH69u2rhg0bKiIiQufPn9fGjRs1a9YsnT592tR2+fLleuedd/T44487dKzs7GwNGjRIixYtsnmsdOnSGjBggNq1a6eKFSsqISFBe/fu1c8//6x9+/aZnnvixAl17dpV69evz/X/9XI7d+5U9+7d7c4t69WrpyFDhqhu3boKDw/XqVOntGbNGs2dO9fm+T/99JNSU1P166+/OnRcSRo7dqy+++47m/qwsDANHDjQ8prPnz+vvXv3avbs2ZbE9EtzxsaNGzt8vIK0atUqPffcc5ayv7+/rrrqKvXq1UtVqlRRWlqaDh8+rLlz52rjxo2mtunp6bruuuu0dOlSdejQwaHjLVu2zFRu2bJlvveUvuTw4cMaO3asZR4ZGhqqPn36qGvXrqpYsaIyMjK0f/9+zZo1S9u3b7eJ691339W4ceM0ffp0jR8/3vJYhQoVdO2116p169aKiopSYmKiNm/erB9//NHmd+idd97R9ddf7/D7UZxNmzbNtA/zJVFRUbr66qvVrFkzVa5cWSEhIUpJSdGFCxd08OBBbd++Xf/++6/OnTuXr+O3bdtWU6dOtZTj4uK0detWp/arBgBPceY8vCfGW7t379YDDzxgOjcqSSEhIbrqqqvUtm1b1ahRQ2FhYcrMzFRCQoJOnjyp7du3a+3atXkmi1asWNHyfZ2YmKj9+/ebHq9Tp47CwsJy7aN69eo5PpacnKzu3btrw4YNNo/VqVNHPXr0UPPmzRURESF/f3/FxsZq7dq1mjdvnilh5FJC9qWxgLOSk5M1cOBAxcXFWeqaNm2qvn37qk6dOipXrpxiYmK0Z88et18rSElJUY8ePewmbpQvX15DhgxR8+bNFR0drbi4OO3cuVOzZs3SiRMnTM/dsWOHunTpok2bNikiIsKlWEaPHq01a9ZYypUrV9a1116rZs2aKTo6WgkJCZbxZmE4ePCgHnzwQcu1JB8fH3Xq1En9+vVTtWrVJF28LjJ//nz9888/pt8DwzB0zz33KCIiItdk/stZj3+rV6+u6Ohop+N+9NFH7SZB1a9fX7169VLDhg0VGRmpoKAgJSYmKj4+Xnv27NG2bdu0evVqp5PGS5p169bpmWeesfx/li1bVv369VOHDh0UHR2tlJQU7dy5UzNmzLD5Dvv+++81ePBg3XDDDXr11Vf15ZdfWh6rUaOG+vfvr6ZNmyoyMlLx8fFas2aNZsyYoYSEBFM/Tz75pPr376+aNWu69Bratm1rKmdlZWnFihUl47qVh1a+QAnnrqXD3n77bZt+AgMD7S7jam8JnMuXq7nuuuuMI0eO5HislJQUmzpXlwOOjY01qlSpYtO2evXquW7fcPToUePaa6+1u6TOnDlz8jyuYdguoXX5e9C8eXNj5cqVTr0H+WVv+bPL95cdOXKkce7cObtts7KyjMmTJ9vsRyvJuOOOOxw6/m+//WbT1pFlla299NJLNv307t3b4aXmDh48aLz99ttGvXr1XNrCwzAMo27duqbjd+7c2aV+AAAAClJJ3cLjxIkTRuvWrW2O1blzZyM2NjbP440fP96mbdWqVY0ZM2bkur1cRkaG8fnnnxthYWE286L169fneVxPb+Fx+Vi+YsWKuY7FL1y4YNx22202xy1btqyRnJzs0PEnTZpkdz519913G/Hx8Tm2++qrr+wupdyuXTsjIyMjz+OmpqYaLVq0sGkfERFhfPvttzm2O3v2rHHHHXfYjfndd9916DX/9ddfdvfOvu2223Jc4jg7O9uYMmWKaY9d660hPLWFx+WfmY4dOxq7du3Ksf28efPszr0bNmxos6ytPQkJCYavr6+p7QMPPODSa7H33Xf5nsDDhg0zTpw4YbdtVlaW8eqrr9r97O/cudOyJ72fn5/x8ssv5zh3P3/+vDF48GCbfvr06ePSa3KVp7bwsJ4z+/n5GW+88YZDn4XMzEzj77//NkaPHm3UqVPHpeP//fffNu/9559/7lJfAOAoT5yH98R4684777Rpd8sttxgxMTEOvb7t27cbEydONKpUqWJ3C4/L5bbUvqus/zZKMho3bmwsXLgw1+22kpOTjUmTJhkBAQGmtuXKlTOOHj2a53Gtt/C4/FpBzZo1jd9++y3HtpmZmXb/X6xfh6N/5++55x6btn5+fsYzzzyT49gmMzPTeOONN0xjqks/Q4YMcei41u/95e9BSEiI8e677xrp6ek5tnf3NRN7v7OXj38bNmxorFq1Ksf2q1evNho1amTTR1RUlHHmzBmHYihfvrypbf/+/Z1+HUeOHLGZg0RFRRlz5851qH1iYqLx888/G9dee60xfPhwp4/viqK2hcfln+sHH3wwx+tkqampxpgxY2zaN2jQwFi9erVlPhMaGmp88sknOZ5fOHnypNGpUyebfkaPHu3y6zp27JhNf88++6zL/RUlJFCgQLhj4HbmzBmjYsWKNv1cddVVdp9v7wvo0s9DDz3k0utw9WTs3XffbdOuVq1aDg1qsrOzjVtuucXuH0BHThrm9B507tzZOH/+vCMv261y2z/uqaeecqiPX3/91e6eaMuWLcuz7YQJE2za5XYCLidt2rQx9eHoCTlr2dnZDp/8tWa9l1hoaGiuJ9sBAAA8oSQmUGzdutWoXr26zXFuuOEGh06orVy50uYibceOHXM9wWxt06ZNRnh4uKmPvn375tnO0wkUl35q165tHDp0KM/22dnZxtVXX23TPrckhEsOHjxoc3JZkvHyyy87FPvatWtt3mNJxuTJk/Ns+8orr9i0i4iIMDZv3uzQsZ955hm7J9SOHTuWa7usrCybi8aSjMcff9yh465YsSLHfcs9lUBx6ad79+4O/X7t37/f7p7tL774Yp5tly5datNuypQpLr0We999l34effRRh/oYPXq0Tdvo6GhDuniy/5dffsmzj7S0NKNx48amPnx9fXO9ocTdPJFAsW3bNpv3bsKECS71lZSU5FK78+fP28SQnxPSAOCIwj4P76nxlvUF36uuuirXxIOcZGRkGGlpabk+x90JFD/++KNNf4MHD84zjsv98ccfNu/7fffdl2c76wSKSz8NGjQwjh8/7tLrse7Lkb/z9pIMfX19jW+++cahY/722292P3eO3ChpL3lFklGqVCmHri+4W25jxiZNmjiUnB8bG2s0adLEpv2oUaPybHvo0CGbdo5ep7nchx9+aNPP0qVLne7HMFwfezmrqCVQXPp57733HOrD3jz50lwhLCws18SbS86ePWtERUWZ+ggPD3f5mpVhGEZERISpv8JO3i4ovgKKoNOnT2vgwIE6deqUzWN33323U321a9dOb7/9trtCy1NsbKzNkpF+fn6aPXu2qlatmmd7Hx8fff3112rWrJmp/syZM3aXonREmTJl9OOPPyo8PNyl9gWhe/fumjRpkkPP7d+/v2kJ10vef//9PNvu2bPHpq5GjRoOHfdyl5a3veTWW29VUFCQ0/34+PgoJCTE6XaSbdzJyck6duyYS30BAADAMYsXL7a7z+64ceP0448/Kjg4OM8+Xn75ZWVnZ1vKlStX1rx581SmTBmH42jRooU+/vhjU938+fO1efNmh/vwlICAAM2YMcOhcbiPj4/d+dsff/yRZ9sPP/xQGRkZprqhQ4fq2WefdSjONm3a6LPPPrOpv7StYk4yMjLsbrk4depUNW/e3KFjv/LKK7rmmmtMdWlpafroo49ybff777/bLId95ZVX6s0333TouF26dNE777zj0HMLU2RkpH766SeHfr9q166t6dOn29R//PHHNp8Ha+6aL+bGmf+PiRMn2mwfEhMTI0l65plnNHDgwDz7CAwMNG33IV1can3hwoUORlw8Wc/ZJefPH10SGhrqUrvw8HCbrUbtfcYAoChx9jy8J8ZbFy5cUGxsrKnuzjvvlI+Pj0PHvJy/v78CAwOdbucqwzD04osvmupatGihGTNmOBVHnz599MILL5jqvv76a8s4wRn+/v764YcfVLlyZafbusreeHPs2LG69dZbHWp/7bXX6qWXXrKpf+utt1yO6bXXXlPXrl1dbu9ugYGBmj17tiIjI/N8bmRkpGbPnm3zGZo+fbrN74q1grpeUq9ePXXr1s3pfiTXx14lwfDhw/XQQw859Fx7vwOXvgPee+89tW/fPs8+ypUrp8cee8xUl5CQoJUrVzoUgz3W2xeVlPEvCRQoUg4cOKDXXntNzZs317///mvzeNu2bTVs2DCn+nzzzTfdtn+pI7744gulpqaa6u655x61bNnS4T78/f31wQcf2NTbOynniEcffVRVqlRxqW1BcST54XJPPvmkTQLKL7/8opMnT+baznpvqIiICIdOwlm7cOGCqezIQMbd7CXg5LV/HwAAAFw3depU9e3bV+fPn7fU+fn56eOPP9Ybb7zh0Enbbdu2ad68eaa6V1991eYimyOGDx+uevXqmermzJnjdD+Fbfjw4briiiscfn7jxo3VunVrU9369etzbZOammra91W6eBLS2XnHsGHD1L17d1PdkSNH9Msvv+TYZtasWTbzkn79+mnAgAFOHfvDDz+0mbt+9tlnuSYBTJkyxabO3lwyN3fddZdlz++iYsKECU7Nubp3726z5/OpU6dy/X+T7M+n3D13njRpknx9HTv9VrFiRXXq1Mmmvly5cnryyScdPuaAAQNsTqjb23O9JLGes0tFY97OnB1AUeXKeXhPjbeKyne8K37//Xdt377dVPfee+8pICDA6b4effRRlS5d2lJOTU3V/Pnzne7n1ltvVatWrZxu56rjx4/bzFmio6NtEkvy8uijj9rMhf7991+Xxjh16tTRmDFjnG5XkB588EHVr1/f4efXr19fDz74oKkuLS1NU6dOzbWdu8a/ReF6SXHn5+fn8E3G0sXvZetkBUlq0KCBRo4c6XA/119/vU1dfuYK1uPfY8eO5XoDQnFBAgUKzbp169SyZUu7Pw0aNFBkZKTq1Kmjp59+2m7mZJUqVTRz5kynMkvr1atX6FmEf/75p03d/fff73Q/3bp1U5MmTUx1W7du1enTp53qx8fHR6NGjXL6+AWpQ4cONits5CU4ONgmIzUzM1OLFi3KtZ31Cg0VK1Z06riXWA8A/v77b5f6yY9KlSrZ1B09erTQ4wAAAPAG48eP18iRI00Xr0uVKqVffvlF9913n8P9/PTTT6Zy6dKlnU4Kv8THx0d9+/Y11S1dutSlvgqTK3eBt2vXzlTO6y6WtWvXKj4+3lQ3cOBAl04G2pu/2Zvn5faYK3PAOnXq6OqrrzbVxcXF5XgyKyMjQ3/99Zeprl27dk4nQ/j6+rp8p35BsDf3c8To0aNt6vK6qGBvRT9X54z2NGjQQJ07d3aqjb0LGsOGDVOpUqUc7iM0NFQNGjQw1e3evdupOIobeyfti8K8nVUjAXhCQZ2H99R4KyIiwiYWT3zHu8J6LpCfu/RDQkLUo0cPU50rc4E777zTpeO76q+//rK5mHrbbbc5NbaRLq5qZ2/Mmts4PScjR450aQWTguTKeNyT41/rsdfWrVtNNx4gb7169bKbEJEbezdqO/t5rlOnjs1q9fmZK1iPfzMzM/O88bk4IIEChSYpKUmbN2+2+7Nnzx6dPXs2x7YtW7bU4sWLnV5KyDqTtaBlZWVp9erVprqGDRvaJEI46oYbbrCp++eff5zqo27dug5tHVKYBg8e7FK7oUOH2tStWrUq1zYJCQmmsrMDs0uslz+aPn26Pv74YxmG4VJ/rrC3lJW9DGwAAAC4Lj09XbfddpvN8pgVK1bUsmXLdO211zrV37Jly0zl1q1bu7Qi2iW1atUylTdu3OhyX4UhJCTEJhnCEXXq1DGVs7KylJiYmOPz7c2T7N1Z44hBgwbZbNeX2zzM+rFSpUrZbMfhqBtvvDHP/i/ZuHGjzeqH9uZMjnC1XUHo3r27U9vbXNKrVy+bE4HOzhcl1+eM9rhyQ4e98x5XXnml0/3UrFnTVLa+4FXStG3b1malj7vvvtvmrt+CZj1vz8zMVEpKSqHGAAAFdR7eU+Ot4OBgm23RJk+erNmzZ7t07MJkPRewt9KUM/I7FwgJCVGHDh3yFYOz3Pm5cWasnBvrRBRPa9iwoU3yqyPq169vc+1p7dq1pu0jrblr/Gt9vSQpKUk33XRTrt8vMPPkXMG6n/zMFUrqdSt/TwcA5KZ69eoaM2aMHnnkEZeWtbJe9rWg7d69W0lJSaa6Nm3auNxf27Ztbeo2bNjg1Mmtwn4PHOHM8r2Xa9asmfz9/ZWZmWmpy2sp3+TkZFM5JCTEpWOPHDnStIycYRgaM2aMPv74Y40cOVKDBg1S3bp1XerbUfZit/68AQAAwHXx8fEaMmSIzZ1cjRs31rx585xO6M7KyrK5gLtlyxantvezZn1C6vz588rIyHBpvlQYatSo4VJs9i6gnz9/XmFhYXafb2+VBlfnYoGBgWrevLnWrl1rqdu+fbvS0tJsTvQnJSXZrI7RqlUrl7eRzGkOaI+9uZCrc61KlSqpUqVKReJOIVdfg6+vr1q0aKEVK1ZY6nbu3Knk5OQc91W2ni9KyleCkzVX5oiXL83tzn5K+h2BERERGjhwoGmJ8IMHD6pFixYaNGiQbr75ZvXp08cmycbdcpq3u3ouAgAKiyPn4T013pIunpsdO3aspZyamqrrrrtOHTp00O23367+/fsXuZsIT5w4YbNdwoIFC/I1Fzh16pSpHBsb61T75s2bF+p255Lt5yYgIMDl7eNq1KihqKgonTlzJsf+8+Lj45Ov/4OC4Or4V7p4/efyhNELFy5oz549atiwod3n2xv/ujJOufrqq23mDwsWLFDt2rU1YsQIXX/99erSpUuRnacWBSVlrlBSr1uRQIEiISgoSOHh4Spbtqzq16+vK664Ql27dlWPHj0c3ivUnujoaDdGmTd7A5ZGjRq53F/jxo0dOkZuCvs9cIQr2ZTSxc9JrVq1tHfvXkudvWXmLme9PJirA8RBgwZp8ODBNvu1bd++XY8//rgef/xxVatWTV26dFHbtm3VqVMnXXHFFfL3d9/XrL2+Lk8mAQAAgOsuXLigTp06aefOnab6Hj16aPbs2SpbtqzTfcbFxdmsEHDu3DmdO3cuP6HaOHv2rCpUqODWPt0lIiLCpXb2TrRdvp2KNet5UmBgoM0qFs5o3Lix6YR+dna2zp07Z7O8bVxcnM2qdPmZAzZs2FC+vr6mu8ZymgPamwu5Ote6dOyikECR39dweQKFYRiKjY3NcWlc6/mij49Pvs5BWCtXrpzTbex99t3RT26/PyXF5MmTtXz5clOiWVZWlmbPnq3Zs2fLz89PrVq1UseOHdW2bVt17drV6cS4vDBvB1DU5ec8vKfGW5J077336vvvv9eaNWtM9atWrdKqVat03333qW7duurSpYvatGmjLl26qHnz5h7dpsHeVgmnT592eovu3MTFxTn1fE9cK7D+3NSsWTNfCauNGzc2rezh7PWSsLCwHJNrPSW/419rMTExOSZQWI9/JdeumYSEhOjDDz/U9ddfb5oPnT9/Xh9//LE+/vhjhYaGqmPHjmrfvr3at2+vK6+80qVxbUlVUuYKJXX8SwIFCk23bt0KfX/egr6zwJq9E6GunGi9xN4Xn7NLIBX2e+AIV5ZjzaltXksLhYSEmJb6tT6B7Yzp06fr7rvv1vfff2/38aNHj+qHH37QDz/8IOniYKx379666aab7C5L5yx7y34WtcEeAABAcXX27FmbsXbbtm31xx9/uHzXjLMnNF1VlJeHL6w7jqznYvmZc0g5z8WsT+i7ew7o6+ur8PBw0zwnpzmgvbmQO+danuLu1xAfH59jAoX13VKGYSg9PV2BgYEux3A5d33+uXPPMXXq1NGiRYt03XXX6eDBgzaPZ2Vlad26dVq3bp2lrmbNmho6dKhGjBjhlhU8mbcDKAoK6jy8p8Zb0sXEj99//10333yzFi1aZLe/ffv2ad++fZo6daqki4m8/fr1080336xrrrnGrUmSjiiMuYCz57o9ca3A+nOTn7GyZPu5SUtLy3XFMWsl/XqJlPs1E3urBbh6zWTo0KH67rvvNHr0aLsrDiQnJ2vx4sVavHixpItznVatWumGG27Q8OHDVa1aNZeOW1KUlLlCSR3/Fu5fDKCQufPuf0fY29cnP/un2mvr7N5Bhf0eOMKd70le74f18/Nzcjk0NFTTp0/XH3/8oe7du+eZwZyYmKiff/5Zw4YNU506dfTpp5/a3J3mDHuxu3N/XgAAAG9mb9y8bt06ffzxxy736e6VJpAz63lBfsfJjs7F3D0HtNc+pzlPYcw/PaEw59D2nl+UE5KQt1atWmnbtm16/fXXHTopf+jQIb399tu64oor1KtXL23atClfx2feDqAk89R465Ly5ctr4cKF+vHHHx3a8uDs2bP67rvvdO2116px48aaNWtWvuJ1VlGcC3jiWoGnPzfWSvr1Eqlwx7/Dhw/X7t27df/999vdXuJy2dnZWr9+vZ566inVqVNHd911l2k7FhRPJXX8SwIF4Eb2/kDkZ68fe23z+iNUHLjzPcnr/bBelszZFTzs6dOnj5YsWaKDBw/qww8/1A033KDKlSvn2ub48eO69957NWjQIKWnp7t0XHuxF8UtWgAAAIqjKlWq6OOPPzYlyRqGobFjx+qVV15xqU97d/cMGzZMhmG49admzZquvuwSw3pekN89Vx2di7l7DmivfU5znsKYf3pCYc6h7c2n3DFnhGeFhobqiSee0OHDh7Vs2TI999xz6tq1a577ey9evFjt27fXtGnTXD629ecnIiKi0PeaB4CC4qnx1uV8fHx04403at26ddqxY4cmT56sAQMGKDIyMtd2u3fv1vXXX6/77rsvXze4OcPe350nn3zS7XOBoq4ofG6KuuI+/q1SpYo++ugjnT59WrNnz9YDDzygFi1a5DoGysjI0JdffqnmzZtrw4YN+To+PKukXrcigQJwI3vLjuW1xURu7LV1dQ/houT8+fNua5vXkl/W+5mePHnStJ9wftSoUUNjxozRjBkzdPz4cR0+fNiyZFXVqlXttvn11181ZswYl45nb988d+/XCgAA4M3uu+8+TZs2zeZEz3PPPaennnrK6f7Kly9vU8fF2YJhPRfLz5xDcnwu5u45YHZ2thISEvI8rmR/LuTOuZanuPs15DZntDefsjfvQvHk4+Ojrl276qWXXtKyZcuUkJCgtWvX6u2331a/fv3sXthKT0/XnXfeqeXLl7t0TOvPD3N2ACWJp8ZbOWnUqJEee+wxzZ07V7GxsdqzZ4++/PJL3XrrrXbH4ZI0ZcoUvfrqq66G7BTmAhdZf27yM1a21z4oKKjYbxdQUsa/ISEhGjJkiD744ANt2rRJ8fHx+vPPP/XCCy+offv2drfROXXqlK699tpC2/4S7mf9+SlXrlyxT2qSSKAA3CoqKsqmbufOnS73t2PHDpu6nAZ/xcmePXtcapeenq5Dhw6Z6vLKZKtdu7apnJGRodOnT7t0/LxUr15dI0aM0KeffqqjR49qyZIl6tOnj83zvvzyS23fvt3p/o8fP25Tx92GAAAA7nXrrbdqxowZCgwMNNW//vrreuCBB5y6yysqKspm27fDhw+7JU6YWc/F0tPTtX//fpf7s56L+fr62j2hX758eZv/4/zMAXfv3m2T8J3THNDeXGj37t0uH3vXrl0ut3UnV+eLku3r9/HxyXUObT1flEigKMn8/f3Vpk0bPfLII/r9998VExOjKVOm2KwomZWVpXHjxjndf3Z2tk6dOmWqq1WrVr5iBoCixFPjLUfVq1dPo0aN0jfffKNTp07p119/Vdu2bW2e9+qrryo2Ntbl4ziqQoUKNnXeOBew/twcPHhQaWlpLvdn/bnx5uslkv3xf27XTApz/BsWFqZevXppwoQJWrVqlQ4fPqynn35awcHBpuedOnVKb7zxRoHEgIJnfd2qpIx/SaAA3Kh+/foKCwsz1a1bt87l/tauXWtT58j+bkXd+vXrXWq3ZcsWZWRkmOryej+aN29uU5efk4rO6N69u/744w+NHj3aVG8Yhn7++Wen+7M+oVmrVi2Fh4fnK0YAAADYGjp0qObOnWtzd/JHH32kUaNGKSsry6F+goOD1aJFC1Pdnj17Ciyh15u1bt3aps7VuVh6erq2bNliqmvatKlNUo10cauABg0amOo2bdrk8GfEmjNzQHv1rs61Tp06pZMnT7rU1t1cfQ3Z2dnatGmTqa5Ro0a53pHoyfkiPC8sLEz33HOPNmzYoGrVqpkeW7NmjY4ePepUf/v27VNmZqapzvpvAAAUZ54ab7nCz89P/fv318qVK9W3b1/TY8nJyVqwYIFbjpObunXr2iSErFy50uVxYnFl/bnJzMy0GbM56siRI4qJiTHVefP1EnttS5curfr16+f4/EaNGikgIMBUV1jj36pVq+rVV1/VwoULbVZ9nDVrVqHEAPdKSUnRkSNHTHUlZfxLAgXgRn5+fmrXrp2pbteuXS6tNiBJM2fOtKnr1KmTS30VJXPmzHGp3ezZs23qOnTokGsbe1nGW7duden4rnr11VdtBgTWE4S8GIZhE7e91wYAAAD3uPrqq7VgwQKbpSenTp2qm2++2SaxNye9e/e2qbM3rkX+2Jsn/fTTTy719euvvyo1NTXP/nN6LDEx0eWT8s7MAVu2bGlz95YridpS0TphuWTJEpeWMV60aJHN9id5zRfr1Kljc2GjsOeL8LwKFSroscces6l39rOwefNmmzrm7QBKEk+Ot1zl7++vSZMm2dTndm7W39/fps6VpAdfX1/17NnTVJeYmKiFCxc63Vdx5s7PTUm9XrJz506XVqHYs2ePzbWntm3b2t0q45Lg4GA1bdrUVFfY498rr7xSAwYMMNXt379fycnJhRoH8m/btm02348lZfxLAgXgZldffbVN3ZQpU5zuZ8WKFdq2bZuprnnz5naX/ipu/v33X6eTStLS0vTtt9+a6vz9/dWrV69c2zVp0sRmVRB7JzUKUmRkpM1SZc6eENy/f78SExNNde3bt893bAAAAMhZ165dtXjxYpsLrDNnztSQIUNsTvraM2jQIJu6yZMn29yljPxp166dzV6/v/76q06cOOF0Xx9//LFNnb2t+S5x1xzw4MGDNokX5cuXt3u3pyQFBgbqqquuMtWtXr3a6ROghmHoyy+/dC7YApSamqrvvvvO6Xaff/65TZ31Haf2WM+rCnu+iKKhYcOGNnXOztutPzs+Pj4l5gQyAEieHW/lh7Pf8dYJ1JJszss6yt5cwF5CR0nWs2dPm5sLv/32WyUlJTnVT2Zmpt3xXkF9bgqbvdfmShtHxr/WScY7duwo9PmpO8Ze8Dx7c6eSct2KBArAzUaNGmVzF9CUKVOcWnEgMzNTDz74oE29vbri6uGHH3bq+W+88YbNXlyDBg1SpUqVcm3n5+dnk+m7YsUKp46dX6mpqTp37pypzjqhIi/2YrZ3ohYAAADu1bZtWy1dulQVK1Y01f/+++/q169fnidTO3furO7du5vqDhw4YPduZ7guKChId911l6kuLS1NY8eOdaqfn376SX/99ZeprkaNGho4cGCObYYMGWIzL/ntt980f/58p4794IMP2py4vOeee2yW2L3cvffea1P30EMPOXXcL7/8Uhs3bnSqTUGbMGGCzRwqN8uXL7e5k7FixYp2L1pYsz7pvn///iKznQkKj73/8/zO26+44ooSsS87AFziyfFWfjj7HV+uXDmbugMHDrh07GHDhqlu3bqmuhUrVuidd95xqb/iqHLlyhoyZIip7vTp05o4caJT/bz77rs2W0107txZrVq1yneMRcEHH3ygffv2Ofz8ffv26YMPPjDVBQUF6Y477sizrfX4NzU11e5WggXJ+vfSx8eHcVMxZD3+jY6OLjG/kyRQAG5Wvnx53Xbbbaa6zMxMXXfddQ6dhDEMQ3fddZdN5lZ0dLRuueUWt8bqSYsXL9Zzzz3n0HPnz5+vl156yabe0ROD/fr1M5X37NnjVGb0vn379NJLL+nMmTMOt7ncp59+qrS0NFOds/tALVmyxFSuXr26mjRp4lI8AAAAcE6zZs20fPlyVatWzVS/ZMkS9enTR/Hx8bm2f/nll+Xj42Oqe//99/XCCy/IMAyXYtq2bZtuu+02py4yl3QPPPCATbLBzJkz9eabbzrUfuPGjTYXBaSLyd/Wd81dLiAgwG6y+2233aYdO3Y4dOzx48fr999/N9UFBwfr/vvvz7Vdv379bE7KL126VE8//bRDx/3333+dvuhRGGJjY3XDDTfYzKPsOXTokEaMGGFTf9999+WafHKJ9XxRsp1/oeibOnWqZs2a5dIS6xkZGTZ3Qvv6+tosb52blJQUrVq1ylRn77MFAMWdJ8ZbK1eu1HvvvacLFy44H7Ck9957z6Yut3Oz1apVU5kyZUx18+bNc+nY/v7+dhMFnnjiCX366acu9SldfE+GDx/ucvvC9sgjj9jUvfXWW/rf//7nUPsFCxbo2WeftakvSUnpaWlpGjp0qEPzu3Pnzmno0KE2Y+Xhw4c7lITQq1cvBQYGmuqcHf9OmDBBq1evdqrNJUePHrXZerBRo0YOjd1RtFh/bq655hqbcx/FFQkUQAGYNGmSqlSpYqrbt2+fOnfurEWLFuXY7vjx4xo0aJCmTZtm89hnn31ms7JFcXXpdbzyyiu6++67c1yaKTs7W++++66GDh1qs8f0HXfcoa5duzp0vAEDBtjs+5Xb/4O1xMREjR8/XtWrV9ctt9yin3/+WSkpKXm2S09P1+TJkzVu3DhTvZ+fn2666SaHj28YhhYvXmyqc+ROKgAAALhPvXr19Pfff9tcrP7333911VVX5Zps27lzZ73wwgs29S+++KKuuuoqh1dIi4uL0xdffKHevXurefPm+vbbb126WFhS1ahRQy+//LJN/RNPPKExY8YoISEhx7bffPONevbsaTM3adeunUMrAT722GNq2bKlqS42Nlbdu3fXjz/+mGO7+Ph43XXXXXYTxl9//XVVrlw51+P6+fnps88+szlJ9dprr2nUqFE5noA1DENffPGFrrnmGsvyySEhIbkeq7Bcmi8uXrxYPXv2zHU/6D/++ENdu3a1Wa2wYcOGeuKJJxw6Xv369dWoUSNTnTPzRRQNmzZt0vXXX6+6devqueee04YNGxxqd/jwYQ0cONDmrstevXrZrDyUmxUrVig9Pd1Ux7wdQEnkifFWTEyMxo4dq6pVq+ree+/VwoULbc4V25OYmKgnn3xS7777rqm+TJky6t+/f47tfHx81LFjR1PdokWL9PTTTysmJibP41obPny4Ro4caarLzMzUvffeq+uuu87hlauPHTum9957Tx06dFDnzp01d+5cp2PxlE6dOum+++4z1WVnZ+vWW2/VhAkTbP6GXpKVlaW33npLQ4YMsXnOkCFDbFa2KK4ujX+3bt2qLl26aM2aNTk+d+3atbryyitttu2LiorS66+/7tDxwsLCbFbtdnb8O2fOHHXo0EEdOnTQe++9pyNHjjjUbuXKlbrqqqtsvitK0s3D3mLPnj06evSoqa4kjX/9PR0AUBJFRETo22+/VZ8+fUxLsB48eFC9e/dW69atNWDAANWsWVPBwcE6efKkli9frgULFtjdR3nMmDEl6ovnxRdftJzM+uKLLzRjxgwNHjxYbdu2VXR0tOLj47Vr1y7NmjXL7h/eGjVqOLXMWaVKldSzZ0/9+eeflrpZs2bZrBSSl9TUVE2fPl3Tp09XSEiIWrZsqVatWqlevXoqW7asSpcurbS0NJ06dUqbN2/WggUL7A6qn3rqKZu7F3OzatUqmxUznI0dAADAk9atW2dzcdkVI0aMsElOLUzVq1fXihUr1Lt3b23bts1Sv3HjRnXr1k2LFi3K8YL3+PHjtWvXLpu7rJYuXaquXbuqfv366t69u5o0aaKIiAgFBQUpPj5e586d044dO7R+/Xrt3LmThIk8PP744/rzzz9tTgB+/PHHmj59ugYOHKi2bduqQoUKSkhI0L59+zR79mzt3bvXpq8yZcpo+vTp8vfP+9RJYGCgvv/+e7Vr1860rcuZM2d00003acKECRo8eLDq1q2r0qVL6/Tp01q9erXmzp1r927Ka6+91uEtHHv06KEHHnjAZgnfr7/+Wj/99JMGDhyo9u3bKzo6WhcuXNCePXs0e/Zs7d+/3/Lcli1bqkmTJpo+fbpDxyxIL7zwgp577jllZWXpn3/+UZMmTdSrVy/17NlTVapUUXp6ug4dOqRff/1V69evt2kfFBSkr7/+2qkbEG655RbTXY1z585VZmamQ//3KFoOHTqkV155Ra+88ooqVaqk1q1bq2XLlqpcubLKli2rwMBAJSYm6tChQ1q5cqWWLl1qcxEuKChIb731llPHnTVrlqncpEkTtW7dOt+vBwCKIk+NtxISEvTpp5/q008/VenSpdW6dWu1atVKtWrVUtmyZVWqVCmlpqbq2LFj2rBhg/744w+7N+5Nnjw5z8TRUaNGacGCBaa61157Ta+99poqVaqkiIgIm5gHDhyoF1980W5/U6ZM0b59+2wSp2fPnq3Zs2erRYsW6tatm+rVq6fIyEj5+voqPj5ecXFx2rZtm9avX6+9e/e6vHpdUfDWW29pxYoVpnlUZmamJk6cqE8++URDhgxR8+bNVb58ecscaPbs2TaJstLFVUK++OKLwgy/QD3xxBN6++23lZiYqB07dqhDhw7q0qWL+vbta7mOcPToUS1YsEArVqyw+Rz4+Pjok08+cWr7sVtuucW05eDy5csVGxvr9DYaq1ev1urVqzV27Fg1aNBALVu2VLNmzRQVFaWyZctKupg0vmfPHi1ZssRukmu9evWc3vIdnmc9/o2IiMg1Oa3YMYACcPDgQUOS6adbt24FeswlS5bYHHPJkiX56vPrr7+26fPgwYMOt//999+NUqVK2fThzM+DDz5oZGVlOXxM6/YvvPCC8y/cjV544QWbmLKzs40bb7zRpfejatWqxv79+52O49tvvzX1ExwcbFy4cMGhths3bszX/+HlP8OGDTPS09Odiv2xxx4z9dG4cWOnXz8AAEBhsTcXcNfPww8/bHM8V8fst99+u6lNjRo1HH6NsbGxRps2bWyOW7t27VyPnZWVZTz77LOGj4+P296TM2fO5BqrvfG4I1xt161bN1MbV+eB+ZmLJSUlGf3798/X+1q5cmVj06ZNTse9du1aIzo6Ol/HHjp0qJGSkuLUcbOysowRI0a4dLwKFSoYBw8ezNfvhKtymsd/+OGHLr2WwMBA49dff3U6jsOHD9v8Xv75559O9WHvu+/rr792Opb8noe4xBP/nzkduzDOSzz88MNu+U4NCgoyZsyY4dSxs7KybH7vX3/99QJ6pQBg5onz8IZRuOOtn3/+2S3f8ZKMRx55xKHXl5WVZfTs2dOpvm+//fZc+0xJSTFGjRrlttdSqlSpPF9HjRo1nIrREdZxOPN3PiYmxmjXrl2+XnejRo2Mw4cPO3xMT46J7MlpzPjLL78Yfn5+Tr8fPj4+xqeffup0HMnJyUbp0qVNfX3++ecOt2/RooVbPsdVq1Y1tm3b5nT8rrD33hcWd12/dHWebs0d8/YrrrjC1Md9993nUixFFVt4AAWoX79+Wr58udq0aeN028jISH3yySd6//33bbafKO58fHw0ffp03XPPPU6169y5s5YtW6batWs7fczrr7/elD2ZmppqkyGXk9DQUJUuXdrpY14uLCxMkyZN0g8//ODUXl5ZWVk2S/46+74BAADAvSIjI7V48WJdeeWVpvoDBw7oyiuv1O7du+228/X11csvv6x58+bluu+yI8qUKaO77rpLYWFh+eqnJAoNDdWcOXP03HPPubQtxTXXXKN///3Xpf+jNm3a6N9//1WvXr2cbluqVClNnDhRM2fOdHr7Rl9fX02bNk1PPvmkU6smNG7cWP/8849q1qzpZLQFa8yYMfr888+deh+qVaum33//3aW7nqpXr65rr73WVFcUVuOA46Kjo/O933LTpk31119/6YYbbnCq3aJFi0yrTwYFBemOO+7IVywAUNQV5nirTJky+d7aOioqSl9++aXefvtth57v6+urn376ScOHD8/XcS8XHBysL7/8Ut99951L57cvFx0drfvvv99NkRWeqKgoLVmyRPfee6/TK335+Pho+PDh+ueff1S9evUCitBzBg4cqDlz5lhWbXBERESEpk+frtGjRzt9vJCQEN1+++2mOmfGv85sdZaTAQMGaNWqVWrSpEm++0Lh2rNnj81qgCXtulXJuioLFEGtW7fWmjVr9OOPP6pXr14KCgrK9fmNGzfW+PHjtX//ft17772FFGXh8/f315QpU7Ro0SJdddVVuSaJtGrVSp9//rlWrFjh8uAyODjYZlD52WefOdS2fv36io2N1cKFC/Xoo4+qffv2CgwMdKhto0aNNHHiRO3du1dPPfWU0yd05s+fb1qmrGzZsho1apRTfQAAAMD9wsPDtWDBAvXp08dUf+zYMXXt2lWbN2/Ose0111yjTZs26ddff9XQoUMVERHh0DFr166tu+++Wz/99JNOnjzp9AVmb+Ln56eXXnpJe/fu1UMPPZRngkBYWJgGDRqkv/76S/Pnz8/XSdnatWvrzz//1MKFCzVgwACVKlUqz+c/8sgj2rdvn8aPH+9yAr2fn59ee+01rVu3TkOHDs31s1GjRg29+eab2rhxo+rUqePS8QraXXfdpS1btujWW2/N9cJMtWrV9Mwzz2jHjh0uJa5c8uijj5rKM2bMsLvsN4qmZ555RidPntSXX36pESNGqFatWg61CwgIUN++fTV9+nRt2rRJnTp1cvrY1ucWbrnlFkVHRzvdDwAUN4U13urRo4fi4uI0Z84c3X///WrZsqX8/PwcanvFFVdo8uTJ2rt3r9PnVMuWLavp06dr165dmjBhgvr37686deqoXLlyTt0gZ23EiBHas2ePpk+frr59+zp8417jxo310EMPad68eTp+/LjeeOMNl2PwpNDQUH3yySfatm2bRo0aleeF+IiICN18881av369pk+frnLlyhVSpIWvf//+2rFjh8aMGaPw8PAcnxcVFaUHHnhAu3bt0s033+zy8R5++GHT3GPp0qXas2ePQ20XLFigHTt2aPLkyerfv7/DW3+UKVNGt99+u5YtW6a5c+eqSpUqLsUOz7Ie//bs2TPfN4kUNT6GUYw3TQKKoaSkJK1atUonT55UTEyM0tPTVb58eUVHR6tVq1aWPa1KigkTJmjixImmOntfO7GxsVq1apX279+vxMREhYeHq1KlSmrVqpXbTujFxMSoRo0aSk1NtdRt3bpVTZs2dbqvtLQ07du3T/v379eJEyd04cIFpaWlKTQ0VGXKlFHNmjXVokULp/cMszZo0CDNnTvXUh43blyxHRwDAADAPsMwtHXrVu3fv19xcXGKi4tTdna2SpcurbJly6pOnTpq1KiRU3cjwdbu3bu1fft2nTlzRnFxcSpVqpSioqJUvXp1tWvXzuEkaWelp6dr9erVOnr0qM6cOaOkpCRFRkYqKipKTZs2Vf369QvkuBcuXNA///yjY8eOKSYmRgEBAapcubJatmxZZO7yWrp0qXr06GGqW7Jkibp3726qS0lJ0erVq7Vr1y6dPXtWQUFBqlSpkurVq6c2bdrke+WBS6644grTvswffPCBHnjgAbf07U3uuOMOTZs2zVJ+4YUXNGHChEKPIy4uTnv37tWBAwcUGxurxMRESVLp0qUVERGhRo0aqUmTJnne6JKb06dPq1q1asrIyJB08e7YrVu3FpnfMQAobIU13kpKSrJ8x586dUoXLlxQRkaGwsLCVKZMGdWtW1fNmzdXmTJl3HK8gpSZmamNGzfq8OHDiouL09mzZ+Xr66vSpUurXLlyqlevnho2bFhiV54zDEObN2/Wvn37FBMTo/j4eIWHhysqKkq1atVSmzZtStQK3YcOHbJJ9Pz6669tVq/KyMjQ2rVrtX37dsXFxcnX11eVKlVSrVq11LFjR4eTiPIydOhQ/fzzz5byY489psmTJ7vU15EjR7R//34dOnRI8fHxSkpKUkBAgMLDwxUdHa1mzZqpbt26Hvv/tPfec4nceenp6apSpYpiY2Mtdb///rv69evnwajcjwQKAAXK0QSKwvLII4/o3XfftZRHjRqlL7/80mPx5Gbv3r1q2LChsrOzJV1c0vfAgQPcyQIAAACgRHA0gaKw/PLLLxo8eLClXK9ePe3atatEnbQvDEUlgaIwjB8/Xi+99JKlfP3112vmzJkejAgAABRljiZQFJZNmzapdevWlms2ZcuW1ZEjR/K9pXlRRAKFe3z11Ve68847LeW2bdtqzZo1HoyoYDADBOBVnnnmGVO27nfffWfaIqMoeeONNyzJE9LFJbVIngAAAACAgjFo0CC1b9/eUt67d69++uknD0aEoiwxMVEffvihpXxpKXsAAIDiomXLlrrhhhss5fj4eH3yyScejAhFWXZ2ts0K6a+88oqHoilYJFAA8CpRUVGmvW3T09NdXpKqIB0/flzffPONpRwREaFx48Z5MCIAAAAAKPkmTZpkU+bONNgzZcoUnTt3zlK+7bbb1LBhQw9GBAAA4LyXXnpJ/v7+lvI777yjlJQUD0aEomr27NnavXu3pdyjRw/17t3bgxEVHBIoAHidJ598UtWrV7eUp0yZosOHD3swIlsTJkxQenq6pfzyyy+z5zUAAAAAFLAePXrouuuus5Q3bdqkH3/80YMRoShKSEjQa6+9ZimHh4fr1Vdf9WBEAAAArqlfv74efvhhS/nUqVN67733PBgRiqKsrCw9//zzlrKfn1+J/pyQQAHA64SGhuqdd96xlNPS0vTss896MCKznTt36uuvv7aUW7durXvuuceDEQEAAACA93jnnXdUqlQpS/nZZ581JbgDr7/+uuLi4izliRMnqmLFih6MCAAAwHUTJkxQ5cqVLeXXXnvNNNYBvvrqK+3atctSfuCBB9SsWTMPRlSw/PN+CgCUPEOHDtW7775rWW7T19dXqampCg4O9nBk0tGjR/Xcc89ZykOGDJGvL/luAAAAAFAYqlWrpunTp2vjxo2WukOHDql+/foejApFSdmyZfXCCy9IkgIDA/XAAw94OCIAAADXhYWF6fvvv9eSJUssdfv371dkZKQHo0JRYhiGZfzr4+OjsWPHejagAkYCBQCvdfmyVEVJnz591KdPH0+HAQAAAABea9CgQRo0aJCnw0ARNW7cOE+HAAAA4FbdunVTt27dPB0GiqjRo0d7OoRCxS3NAAAAAAAAAAAAAADA65FAAQAAAAAAAAAAAAAAvB5beAAoUBMmTNCECRM8HQYAAAAAoIjp3r27DMPwdBgAAABAoahZsybjX6AYYAUKAAAAAAAAAAAAAADg9XwMUp0AAAAAAAAAAAAAAICXYwUKAAAAAAAAAAAAAADg9UigAAAAAAAAAAAAAAAAXo8ECgAAAAAAAAAAAAAA4PX8PR0AAAAAgOIrdUQPT4cAALDDv1oFT4cAALDD/7X/eToEAAAA5IIVKAAAAAAAAAAAAAAAgNcjgQIAAAAAAAAAAAAAAHg9EigAAAAAAAAAAAAAAIDXI4ECAAAAAAAAAAAAAAB4PRIoAAAAAAAAAAAAAACA1yOBAgAAAAAAAAAAAAAAeD0SKAAAAAAAAAAAAAAAgNcjgQIAAAAAAAAAAAAAAHg9EigAAAAAAAAAAAAAAIDXI4ECAAAAAAAAAAAAAAB4PRIoAAAAAAAAAAAAAACA1yOBAgAAAAAAAAAAAAAAeD0SKAAAAAAAAAAAAAAAgNcjgQIAAAAAAAAAAAAAAHg9EigAAAAAAAAAAAAAAIDXI4ECAAAAAAAAAAAAAAB4PRIoAAAAAAAAAAAAAACA1yOBAgAAAAAAAAAAAAAAeD0SKAAAAAAAAAAAAAAAgNcjgQIAAAAAAAAAAAAAAHg9EigAAAAAAAAAAAAAAIDXI4ECAAAAAAAAAAAAAAB4PRIoAAAAAAAAAAAAAACA1yOBAgAAAAAAAAAAAAAAeD0SKAAAAAAAAAAAAAAAgNcjgQIAAAAAAAAAAAAAAHg9EigAAAAAAAAAAAAAAIDXI4ECAAAAAAAAAAAAAAB4PRIoAAAAAAAAAAAAAACA1yOBAgAAAAAAAAAAAAAAeD0SKAAAAAAAAAAAAAAAgNcjgQIAAAAAAAAAAAAAAHg9EigAAAAAAAAAAAAAAIDXI4ECAAAAAAAAAAAAAAB4PRIoAAAAAAAAAAAAAACA1/P3dAAASqbnF+z1dAiAV3npmnqeDgEAAAAAAMCr3Tz/Pk+HAKAY+6HvJ54OAYBYgQIAAAAAAAAAAAAAAIAECgAAAAAAAAAAAAAAABIoAAAAAAAAAAAAAACA1yOBAgAAAAAAAAAAAAAAeD0SKAAAAAAAAAAAAAAAgNcjgQIAAAAAAAAAAAAAAHg9EigAAAAAAAAAAAAAAIDXI4ECAAAAAAAAAAAAAAB4PRIoAAAAAAAAAAAAAACA1yOBAgAAAAAAAAAAAAAAeD0SKAAAAAAAAAAAAAAAgNcjgQIAAAAAAAAAAAAAAHg9EigAAAAAAAAAAAAAAIDXI4ECAAAAAAAAAAAAAAB4PRIoAAAAAAAAAAAAAACA1yOBAgAAAAAAAAAAAAAAeD0SKAAAAAAAAAAAAAAAgNcjgQIAAAAAAAAAAAAAAHg9EigAAAAAAAAAAAAAAIDXI4ECAAAAAAAAAAAAAAB4PRIoAAAAAAAAAAAAAACA1yOBAgAAAAAAAAAAAAAAeD0SKAAAAAAAAAAAAAAAgNcjgQIAAAAAAAAAAAAAAHg9EigAAAAAAAAAAAAAAIDXI4ECAAAAAAAAAAAAAAB4PRIoAAAAAAAAAAAAAACA1yOBAgAAAAAAAAAAAAAAeD0SKAAAAAAAAAAAAAAAgNcjgQIAAAAAAAAAAAAAAHg9EigAAAAAAAAAAAAAAIDXI4ECAAAAAAAAAAAAAAB4PRIoAAAAAAAAAAAAAACA1yOBAgAAAAAAAAAAAAAAeD0SKAAAAAAAAAAAAAAAgNcjgQIAAAAAAAAAAAAAAHg9EigAAAAAAAAAAAAAAIDXI4ECAAAAAAAAAAAAAAB4PRIoAAAAAAAAAAAAAACA1yOBAgAAAAAAAAAAAAAAeD0SKAAAAAAAAAAAAAAAgNcjgQIAAAAAAAAAAAAAAHg9EigAAAAAAAAAAAAAAIDXI4ECAAAAAAAAAAAAAAB4PRIoAAAAAAAAAAAAAACA1yOBAgAAAAAAAAAAAAAAeD0SKAAAAAAAAAAAAAAAgNcjgQIAAAAAAAAAAAAAAHg9EigAAAAAAAAAAAAAAIDXI4ECAAAAAAAAAAAAAAB4PRIoAAAAAAAAAAAAAACA1yOBAgAAAAAAAAAAAAAAeD0SKAAAAAAAAAAAAAAAgNcjgQIAAAAAAAAAAAAAAHg9EigAAAAAAAAAAAAAAIDXI4ECAAAAAAAAAAAAAAB4PRIoAAAAAAAAAAAAAACA1yOBAgAAAAAAAAAAAAAAeD0SKAAAAAAAAAAAAAAAgNcjgQIAAAAAAAAAAAAAAHg9EigAAAAAAAAAAAAAAIDXI4ECAAAAAAAAAAAAAAB4PRIoAAAAAAAAAAAAAACA1yOBAgAAAAAAAAAAAAAAeD0SKAAAAAAAAAAAAAAAgNcjgQIAAAAAAAAAAAAAAHg9EigAAAAAAAAAAAAAAIDXI4ECAAAAAAAAAAAAAAB4PRIoAAAAAAAAAAAAAACA1yOBAgAAAAAAAAAAAAAAeD0SKAAAAAAAAAAAAAAAgNcjgQIAAAAAAAAAAAAAAHg9EigAAAAAAAAAAAAAAIDXI4ECAAAAAAAAAAAAAAB4PRIoAAAAAAAAAAAAAACA1yOBAgAAAAAAAAAAAAAAeD0SKAAAAAAAAAAAAAAAgNcjgQIAAAAAAAAAAAAAAHg9EigAAAAAAAAAAAAAAIDXI4ECAAAAAAAAAAAAAAB4PRIoAAAAAAAAAAAAAACA1yOBAgAAAAAAAAAAAAAAeD0SKAAAAAAAAAAAAAAAgNcjgQIAAAAAAAAAAAAAAHg9EigAAAAAAAAAAAAAAIDXI4ECAAAAAAAAAAAAAAB4PRIoAAAAAAAAAAAAAACA1yOBAgAAAAAAAAAAAAAAeD0SKAAAAAAAAAAAAAAAgNcjgQIAAAAAAAAAAAAAAHg9EigAAAAAAAAAAAAAAIDXI4ECAAAAAAAAAAAAAAB4PRIoAAAAAAAAAAAAAACA1yOBAgAAAAAAAAAAAAAAeD0SKAAAAAAAAAAAAAAAgNcjgQIAAAAAAAAAAAAAAHg9EigAAAAAAAAAAAAAAIDXI4ECAAAAAAAAAAAAAAB4PRIoAAAAAAAAAAAAAACA1yOBAgAAAAAAAAAAAAAAeD0SKAAAAAAAAAAAAAAAgNcjgQIAAAAAAAAAAAAAAHg9EigAAAAAAAAAAAAAAIDXI4ECAAAAAAAAAAAAAAB4PRIoAAAAAAAAAAAAAACA1yOBAgAAAAAAAAAAAAAAeD0SKAAAAAAAAAAAAAAAgNcjgQIAAAAAAAAAAAAAAHg9EigAAAAAAAAAAAAAAIDXI4ECAAAAAAAAAAAAAAB4PRIoAAAAAAAAAAAAAACA1yOBAgAAAAAAAAAAAAAAeD0SKAAAAAAAAAAAAAAAgNcjgQIAAAAAAAAAAAAAAHg9EigAAAAAAAAAAAAAAIDXI4ECAAAAAAAAAAAAAAB4PRIoAAAAAAAAAAAAAACA1yOBAgAAAAAAAAAAAAAAeD0SKAAAAAAAAAAAAAAAgNcjgQIAAAAAAAAAAAAAAHg9EigAAAAAAAAAAAAAAIDXI4ECAAAAAAAAAAAAAAB4PRIoAAAAAAAAAAAAAACA1/P3dAAoWfbv3681a9bo2LFjSk9PV7ly5dSwYUN16tRJwcHBng6vUJ06dUpr167VwYMHdeHCBQUEBCgiIkJ169ZVixYtVK5cOU+HCAAAAHjUgQspWhuXoOPJacrINlQ20F8NwkPVISpcwX5+ng4PALzW/nOJWnsyTscvpCg9K1tlgwPUMDJcHauUV7C/d30/n0pM0bpTZ3UwPkmJ6ZkK8PNRueBA1S1XWs2jy6pccKCnQwQAACiWuKaIoooECrjFnDlz9NJLL2nDhg12Hw8LC9Mdd9yhF154QeXLly/k6GwlJyerefPm2r9/v6n+9ttv19SpU13uNzs7W9OnT9dHH32k1atX5/g8Hx8fNW7cWNdee62effZZhYeHu3xMAAAAoLiZe/SMXtt2WBvPJdp9PMzfT7fUrqhnm9ZQ+QK+MNVn0UatiDnvcvvPOjTQrbUruS2eL/ae0INr99jU7xrYXjXCQtx2HACw55c9x/TKyh3aePqc3cfDAv11W9Oaer5zU5UPDSrk6GwlZ2Sq9Vd/aH+8+e/JrU1r6qtr27vcb7Zh6Pvth/XJhr1ac/Jsjs/zkdS4fLj61qmspzs2VnhQgMvHBAAA8BZF6Zpi9+7dtWzZMpfbf/3117rjjjtyfc7UqVM1cuRIl49h7eDBg6pZs6bb+oMttvBAvqSlpemWW27RkCFDcvyik6TExER9+OGHaty4sZYvX16IEdr33HPP2SRP5NeuXbvUrl073XbbbbkmT0iSYRjavn273njjDZ04ccKtcQAAAABFVVpWtkau3KFhK7bnmDwhSYmZWZqy57ha/75Wf8fEF16AHnYsOVXPbnLvPAUAHJGWmaXbfl2l63/+J8fkCUlKTM/Uxxv2qfmX87XiaEwhRmjf+OVbbZIn8mtXXII6fvOnRv6+OtfkCUkyJG2PTdDk1bt0IjHFrXEAAACUNMX1mmJRExjICmgFjQQKuCw7O1vDhg3T9OnTTfV+fn6qVauWWrZsqTJlypgeO3PmjPr27at///23MEM1WbNmjd577z239rls2TK1b99e69evN9X7+fmpWrVquuKKK9SqVStVq1bNrccFAAAAiotsw9At/2zX/w6ZL7j5+Ug1SwWrRbkwlQkwLwt/Ji1Dg5Zs0aozrq8QUZw8vGavEjKyPB0GAC+TbRgaPvdf/bDjsKnez8dHtcqUUovosipjtbLCmeQ09Z+5XP8ejy3MUE3WnIjTB+v3urXP5Udi1PmbRdpwypxE4ufjo2qlQ9W6Yjm1rFBW1UqHuvW4AAAAJV1xvaZY1LRq1UqVK1f2dBglHlt4wGVvvvmmfvnlF1Pdvffeq+eff97yy5udna1ffvlFY8eO1ZEjRyRd3D7jxhtv1LZt22y+DAtaenq67rzzTmVnZ0uSSpUqpaSkpHz1uXnzZg0YMEAXLlyw1DVq1EjPPPOM+vXrp4iICNPzExIS9M8//+jXX3/VDz/8kK9jAwAAAMXF2zuP6rdjcaa6u+tW1lNNa6jy/y8Dn20Y+vVYrMat36ejyWmSpOSsbN3yzw6t79dWZQILfgr7+1XNnXp+ozKl3HLc/x06rXknLr4/pfx9lZSZ7ZZ+ASAvb63epbl7j5vqRreso2c7NVHl0he3Dso2DM3de1yPLd6oIwnJkqTkjCwN/2WlNt15jcoEFe5dcOlZWRo9f62yDUOSVCrAX0kZmfnqc3PMOQ2etUIX0v/rp1FkuJ7s2Eh9a1dSRIh5y5KEtAytPBar3/Yf1487juTr2AAAACVdcbmm+Oeffzr1/CZNmuT5nKuvvtrpfqWL78fQoUNN1zHz2i4E7kECBVwSFxenV155xVQ3adIkPfXUU6Y6X19fDRkyRO3atVOXLl106NAhSdKxY8f09ttva+LEiYUVsiTp1Vdf1bZt2yRJVapU0bBhw/T222+73F96erqGDx9uSp545JFH9PrrrysgwP6+l+Hh4erbt6/69u2rt956Sz4+Pi4fHwAAACgO4tIy9MY2853NL7aopXFNapjqfH18NKhalNpEhqvnnxt1OClVknQ8OU3v7zqq55vXKvBYr6oYkfeT3Cw2NV3j1u+zlJ9vVktPbWQrDwAFLy4lTZP+3WGqe6Vbcz3RoZGpztfHR4PrV1XbShHqPv0vHTp/8STusQspenfNHr1wZdNCi1mSXvt3p7bHXlydqEpYiG5oVE3vrt3jcn/pWVm6be4qU/LEw23qa1L3Fgrws7+Ab3hQgK6pU0nX1KmkN3u05PwOAABADorTNcVevXq5vc9KlSqpUqVKTrdbuHChKXkiICBAw4cPd2doyAFbeMAlb7zxhilpoGvXrnryySdzfH6VKlX0xRdfmOreeecdxcXF5dDC/bZv365JkyZZyh9++KFKly6drz4nTZqkHTv+O9Fw//336+23384xecJaSEiIgoOD8xUDAAAAUNS9veOILmT+tzVFl+gyerxx9RyfXyU0SJ+0b2Cq+2DXMcWlZRRYjJ702Pp9iv3/19Y6IkwPNKjq4YgAeIvJq3eZkgaurBalce0b5vj8KqVD9ek1bU11763brbiUtAKL0dr2M+f1+qqd/x2/d2uVDnTsPExOXv93p3bEJVjK97aqq8k9W+WYPGEtJMBfwf5+eT8RAADACxXHa4pFwdSpU03l/v37q3z58p4JxsuQQAGnZWdn6+uvvzbVTZgwIc9M+549e+rKK6+0lC9cuKAZM2YUSIzWsrOzdeeddyo9PV2SNGTIEA0ePDhffcbExJgSMmrUqKE333wzX30CAAAAJU22YejbA6dMdc81q5nn/KFHxXLqHPXf8pwXMrM060hMgcToSfOOx2rG4Yuvy89H+qhdA/n5chczgIKXbRiatvWgqW585yZ5fj9fVbOCulSNspQvpGdq5q6jBRKjtWzD0Oj5a5SedXGbo8H1q2hQ/fwlncUkpZoSMmqEh+r1Hi3y1ScAAAAuKo7XFIuC8+fPa86cOaY6tu8oPCRQwGkrV67UmTNnLOXatWure/fuDrW98847TWXrX/6C8u6772r16tWSLm6h8eGHH+a7z2nTpikt7b87LMaNG6fQ0NB89wsARV337t3l4+MjHx8fmyzYwnDhwgVNnjxZXbt2VVRUlAICAizx5Dc5DpD4jAPu9u+Z8zpz2coRtcKC1TW6rENt76hjXuLy16Ox7gzN4xIyMvXQ2r2W8gMNqqplRP5WyQMAR608Hqszyf+d16hdtpS6VY92qO1Iqy2V5u457tbYcvLe2j1ac/KsJCk8MEDv9boi331+u+2Q0v4/IUOSHm3fUKEB7HoMXML8CACQH8XxmmJRMGPGDKWkpFjK0dHR6tevnwcj8i7MBuC033//3VTu3bu3w/s89u7d21ReunSpkpKSVKpUKbfFZ+3AgQN6/vnnLeVJkyapcuXK+e73yy+/tPzb399fw4YNy3efAIDcHT9+XN26ddP+/ewLj5KJzzhKogUnzprKPSuWc3j+cFXFcqby8ph4JWVmqVQJWSb92Y37dfz/L17WKBWs8VYXJAGgIM3ff9JU7lmzosPfz71qVjSVlx2NUVJ6pkoFFtypxgPxiZrw91ZL+eVuzVS5dEi++/16ywHLv/19fXRjw5y3mAJQuJgfAUDxV9yuKRYV1kmLI0aMkL8/l/ULCytQwGmbNm0ylTt16uRw28qVK6tmzZqWcnp6unbs2OGmyOy7++67lZycLEnq2LGj7rvvvnz3uX//fu3evdtSbtasGfsOAUAhuPfee00nTho0aKBevXrp6quv1tVXX63WrVtL+m8ZOB8fH5Y2Q7HCZxwl0ZZziaZyh/JlcnimrcqhQapRKthSTs82tPN8ktti86QVp+P15b7/Ll6+37aeQktIYgiA4mHz6XOmcscqkQ63rVw6RDXL/HfiOj0rWzvizrstNnvuXbBWyRlZkqQOlSN1b6u6+e5z/7lE7T77337cTaPKqHxoUL77BeAezI8AoPgrbtcUi4K9e/dq5cqVpjr+vhUuUlXgtJ07d5rKjRs3dqp948aNdejQIVN/bdu2dUdoNr744gv99ddfkqSAgAB9/vnnDme25Wbt2rWmcosW/+2Nefz4cU2bNk1z587V4cOHde7cOUVGRqpatWq66qqrdP3111sG9wAAx50+fdqUsfy///2P1X9QovAZR0m1K8Gc8NCwjHPb3jUqE6rDSamW8u7zyWoTGe6W2HJyPj1TR5JSdT4jU6X8/RQRFKCqIUHy883/XEKSUjKzdP+a3TL+v3xjjWj1qez4hUsAcIddcQmmcqNIxxPcLj4/XIcuS2rbFZegtpUK5rvsy837teRwjCQpwNdXU65p65bzO+tOmldJah5V1vLv4xeS9e22Q/p173EdSUjWudR0RYYEqWrpEPWoUUFDG1RV64oR+Y4BgH3MjwCgZChO1xQvOX/+vA4fPqz4+HiFhYUpMjJSVatWlZ9f4dz0MG3aNFO5VatWat68eaEcGxeRQAGnpKSk6MiRI6a6atWqOdWH9fMvX8nBnU6ePKlx48ZZyk888YSaNGnilr6tEyhq164twzD0/vvv68knn1RaWprp8RMnTujEiRNavXq1Jk2apOuvv14ffPCBKlY0L3kJAMjZhg0bZBgXLzXVqFGDEycocfiMoyRKyczS0STz2LhqaHAOz7avqtWdwHsuJOc7rtx0mL9OW+MTlW2Y68P8/dQxKlyDq0VpRK2KCvJzfUHHl7Ye0r4LF/cyjQj015tX5P8uagBwRkpGpo4kmL9Pq4U7l+BW1er5ey5bycGdTiam6Kklmy3lx9s3VJMo55I9crLuVJypXLtsmAzD0Afr9+qZpZuVlpVtevxEYopOJKZozcmzen3VTl3XoKre7dVaFcPyv5UIADPmRwBQ/BWna4qXtGrVSlu2bFF2tnkcGBYWps6dO+u6667TbbfdpqCgglm1LDs7W99++62pbuTIkQVyLOSMLTzglNjYWMvAVbq4qkN0dLRTfVSpUsVUjomJcUts1u6//37Fx8dLkurVq6fnnnvObX3v27fPVA4PD9c999yjsWPH2iRP2PPTTz+pQ4cO2rVrl9tiAoCS7uzZ/+4Oc3agDRQHfMZREsWmZejyPIQAXx9FBwc41UflEPNJiTOpGW6ILGebz9kmT0hSYmaW/jx5TmPW7FHDX1Zp1hHX5jEbzl7Q+7uOWsqvtqqj6OBAV8MFAJfEpqRbfT/7KtrJrSuqWCUNxCTlfT7EFQ8uXK/4tIvf/fXKhemZTs7dtZib/VbbTJUOCtB9f6zTY4s32iRP2DNr9zF1+XaRzWoeAPKP+REAFH/F6ZriJZs2bbJJnpCkxMRE/fHHHxo9erRq1qypmTNnFsjxlyxZYko6CQwM1PDhwwvkWMgZK1DAKYmJ5ollaGio00smlipVylS27tMdZsyYoTlz5ljKn376qYKDnbvTLTeXEjMu+eabb7RhwwZLuXXr1rrppptUr149SdKePXv0v//9Txs3brQ85/Dhw+rXr582bdqk8PCCXYIYAEqCjIz/LpgV1nJpQGHiM46SKCkzy1QO9fN1ev4Q6m/+fUi06tMTTqWm65a/d2hdowua1KqOw+0ysrN136pdyvr/80ddo8vq9jqVCihKAMhZYnqmqRwa4Of893OA+bRiUkZmDs903cydR/TL3uOW8sdXt1Gwv/vGSZcSMy75btshbTx9zlJuVaGchjWqrrrlwiRJe89d0I87j2jT6XjLcw4nJGvgzOVaN/JqhQc5lyQIIGfMjwCg+Csu1xSdderUKd144416/PHH9eabb7q176lTp5rK/fv3V2QkW34WNhIo4BTrLyZXkhJCQsx3KLj7yy4uLk4PPvigpTxy5Ej16NHDrcewTqC4lDzh6+ur999/X/fff7/NH4Fx48bp3Xff1WOPPWbJuDt48KDGjh2rr776yq3xAUBRcvr0aX377beaP3++9u7dq5iYGIWGhqpq1arq2bOnRo4cmeMeblOnTrW7RNmyZctsvmdr1KihmjVratmyZab6adOm2ewbd8nBgwdVs2ZN114Y8P/4jAM5s052CHZh24sQf3ObpAz3J1AE+/mqZ8Vy6lM5Qs3LhqlO6RCVDfRXWla2zqRlaNWZBM08fFoLTpw13bH97s6jigj017gmNRw6zls7jmhLfJIkKcjXRx+2q+/21wIAjkjMMCcOuJKUEBJgleCW7t4EiriUNI1d9N/NKrc3q6XuNSq49Rjxqemm8qXkCV8fH73Tq5Xua1XXZkz2WLuGem/dHj3x1ybL34SD55P06OKN+qJfO7fGBxRHzI8AAJcUh2uK0sW4evfurb59+6ply5aqW7euypYtq7S0NMXExOjff//VDz/8oHnz5plW1Jg8ebIiIyP11FNPuSWOCxcuaPbs2aa6O+64wy19wzkkUMApqamppnJgoPNLzVrvC5SSkpKvmKyNHTvWsoRPdHS0Jk+e7Nb+pZy/oF9//XWNGTPG7mM+Pj565JFHlJSUpOeff95S/+2332rChAmqXr262+MEAE9788039eKLL9p8b6alpencuXPaunWr3n//fY0ZM0bvvPMOd5Wg2OEzDuQu1Wr58wBf5xMogqzapGS5N4HioYbV1DGqjCLt3DUc4OursAB/1QoL0c21KuifmHjd9s8OnUj574LbC5sP6urKkWr+/3cn52TX+SS9tu2wpfxU0xqqFx7qvhcCAE5IyzR/Pwe68v1slRSX4uYVgh5dvFExyRe3BYkODdIbPVq4tX8p51UzJnVrrvtb17P7mI+Pj8a2baDkjEy9sGKbpX769kMa36WJqoeXstsO8AbMjwAAlysO1xQfffRRde7c2e4qDwEBAQoLC1Pt2rU1YsQI/f3337rpppt0/Ph/K6Q988wz6tu3r1q0yP9YdebMmUpOTraUK1SooL59++a7XziPBAo4xTo7LD09PYdn5iwtzbwnpju31pg/f76+++47S/mdd95RRESE2/q/xF7MjRo10qOPPppn26eeekrTpk3Tvn37JEmZmZn66quvNGHCBHeHCQAek52drTvvvNO05JiPj48aNmyoihUrKikpSVu3blVKSoqys7P1wQcf6NixY5o1a5bprpIqVaro6quvliQdP35c27ZdPEFZrlw5tWtnvrurQoUKqlChgoKDg7Vv3z7t379fklS5cmU1a9bMbpzWGcyAo/iMA46xXnEiw84+onlJs2rjyioWuelftbzDz+0cXVYLe7VU94UbFfv/y74bkiZuPqhZ3e3/HkpStmHo3tW7lZZ98U6VxmVC9VhjEqgBeE6Q1eo+6a58P1slyQX7u+/7ecH+k/p++39JZ5N7tlJESFAuLVwTbOfibaPIcI1t1yDPtk90aKRvtx3SvnMXLxRnZhuauuWgxndp6vY4gaKO+REAwJ6ifk1RkgYOHOjwc7t06aKlS5eqY8eOio2NlSQZhqHnnntOv/76a75jsd6+Y8SIEfL351K+J/CuwylhYea7qqyzxxxhnR1m3aerLly4oHvvvddSvuaaazR8+HC39G3NXsx33nmnfB24Y8Pf31+jRo3SM888Y6mzXmoOAJx17Ngxl9pVrVrVzZFcNGnSJMuAz9fXV4899pgee+wxVajw35K7KSkpeu+99/T8888rMzNTP//8s9555x1TMlrv3r3Vu3dvSealPJs3b64FCxbkePwJEyZo4sSJlj6sB59AfpXEz7ir3yOOX3qGNwqzWhLeekUKR6RY3SVdyoVl5t2pTulQvdqqtkav2m2pW3AyTmfTMhRhZxULSfp493Gtjk2QJPlI+rBdA5dW4wAAdwkLMH9fpbqwekSK1ZZKYQHuOc14IS1DYxaus5SvrlVRNzd2bKskZ5UKtI15ZPNa8nVgb25/X1/d0ayWnlu+1VK3/OgZt8YHFBfMjwAA9hTla4quqlu3rt58803TllPz5s3T2bNn83VD94EDB/T333+b6ti+w3NIoIBTrL+YkpOTZRiGzR50uUlKSsq1T1c99dRTOnLkiCQpNDRUn3zyiVv6tcdezN26dXO4vfVz161bl8MzAcAx1apVc6nd5Xu2ucuuXbssq+r4+vpq5syZGjp0qM3zQkJC9NRTT6lmzZq6+eabJUkTJ07U3XffrdKlS7s9LsBdSupn3NXvkZTh3d0bCEoU62SH5Kxsp+cPyZnWF+g8v9TziFoV9ezGAzrz/6tQZBvSX6fO6foa0TbPPZyYoglbDljKd9errI5RZQotVgCwJ8wqcSA5I8v572er7S/sJSO44pllW3Qk4eLSxaEBfvrw6jZu6dce6/dBkq6sZvtdnhPr564/dTbfMQHFDfMjs5vm3Zv3kwDASxTla4r5cdttt+mJJ57QmTMXk2ezs7O1aNEi3XjjjS73OW3aNNO5+tatW+e4ohIKHre8wCnly5c3fbFlZGQoJibGqT4u3xtIkqKjHZ+Y5uTgwYOmhImJEyeqZs2a+e43J5dnT19Sv359h9s3aGBeCjIxMdHt+zYBgKe88847ysy8eDJ19OjRdk+cXO6mm25Sv379JEkJCQn6/vvvCzxGID/4jAOOKx8UoMtPi2RkG4pJzXCqjxMp5uU6o4Kc3zPV3Xx9fHRlhbKmur0JyXaf+/LWQ0r6/1U0KoUE6qWWtQs6PADIU/mQQKvv52zFJKfl+Hx7jieaz2NEh+Z/OeWD8Yn6dOM+S/mFzk1Vs0ypfPebkwp2Yq4f4fiF3AaR5ucmpmcqxSqxBCjpmB8BAHJSVK8p5pevr6+6d+9uqtu9e7f9JzvAMAx98803pjpWn/AsVqCAU0JCQlS9enUdPvzfPpRHjhyxm1CQk0urRFzSsGHDfMd1/vx5U2bWuHHjNG7cOKf7mTZtmqZNm2YplylTRvHx8TbPa9Sokans4+PjVKZ0eHi4Td25c+fYhw+Ay44ePerpECRJWVlZ+uGHHyzlhx9+2KF2w4cP17x58yRJf/31l+65554CiQ/Ir5L8GXf5e+TJW90bCEqUEH8/VSsVpCNJ/12UO5qcqgohjidBHE0yX9BrEB7qtvjyo2pokKl8aTUKa/GXXUg7mZKuCjP/tvu8vDScu9pUfqN1HT3Y0LU7IwEgJMBf1cNDdfiy5K8jCUmqUMrxJIijVolj1skErjiflqHL18h7culmPbl0s9P9fLvtkL7ddshSLhMUoNixthd1G0aaz8/4SCrtxEoa4YG2WzedS81QiJu2MwGKOuZHtsZtfcXNkQBA8VVUrym6g/VKRZdWo3DFsmXLdOjQIUs5MDBQw4cPd7k/5B+jeTitYcOGpi+7HTt2qG3btg6337lzp01/xU3jxo1NZcMwlJ6erqCgoBxamNnb5yk0tGicCAZQPFWtWtXTIUiStmzZogsXLkiSKlas6PB3fNOmTS3/3rBhQ4HEBrhDSf6Mu/o94vzulfA2DcJDTQkUu84nq02kbUJxTnZZXaCrX0QSKAJ8zUuOZma7f1ssAChIDSLDTQkUO2MT1LZSpMPtd8UlmPuLcPy7vahoVN4csyEpPStbQf6ObReVarXNlHRx2xHAWzA/smOre+MAgOKupF5TDAgwJ9JmZDi32ublpk6daioPGDBAkZGOj8vhfiRQwGktW7bUH3/8YSmvXLlSt99+u0NtT548acqiCggIsElGKA5at25tU3f69GlVr17dofbWSxT5+fmpTBn2QQZQ/G3bts3y7+TkZF1zzTUOtbt8G6PY2Fi3xwW4C59xwHnNy4Xpz5PnLOVVsed1S+2KDrU9mZKmw0n/pekE+PqoUZmikUBxOiXdVC4fbHsXMgAUZS2iy2rhwVOW8r/HY3Vbs1oOtT2ZmKJD5//bjzrA11eNyxe/BIpWFcrZ1J1OTlX1cMe2DbHe9sTPx0dlgvh7AO/B/AgAkJeSek3x1KlTpnJUVJRL/SQmJuqnn34y1bF9h+eRQAGn9e/fX6+//rqlvGjRIhmGYdrHKCcLFy40lXv06KGwsLB8x1S3bl39+eefTrf75ptv9O2331rKffr0MW39YZ1BdkmtWrXUtGlT0yRh/fr1DidQrF+/3lSuX7++Q+8fABR1cXFxln8nJCSYBseOOn/+vDtDAtyKzzjgvL6VI/XWjv+WQP7r1DmH5w+LL0u8kKRu0WUVVkSWRV95xvy7bL2lxyXjm9XSffWrON3/tX9tMZW/6thIFUL+m5/UK100EkkAFF/96lbWm6t3Wcp/HT7t8PfznwfNJ4y7V49WmJ3tLJxVt1yYFgzr5nS7b7cd0vTt/93Z2LtmRT3WvoGlHODra7ddrbJhalK+jLbH/vedvuHUOYcTKDacOmsq148ozfkdeBXmRwCAvBTFa4ru8Pff5u05rbf0cNSsWbOUlPRfYnLFihUdTkhEwSkaZ55QrHTq1Enly5e3ZAcfOHBAS5cuVY8ePfJs++WXX5rKgwYNcktMYWFh6tWrl9PtrL/gKlWq5HA/Q4YMMSVQzJo1S0OGDHGo7cyZM03l7t27O9QOAIq6ywd7rjIMlkBH0cVnHHBex6gyKh8UoNi0i8tZHkxM1fKYeHWzc9evtan7T5rK/auWL5AYnbXidLwOJJo3sOlR0f7raVbOPSd3OkWFq0ZYiFv6AgBJ6lSlvMqHBCk25eIqCgfik7TsSIy618h7T+qvtxw0lQfUq+yWmMICA9SzpmOrFF3un2PmO9grhgU73M/g+lVMCRSzdx/T4PqOLd0/a/dRU7lrddfuPASKK+ZHAIC8FMVrivm1bNky7d+/31TXs2dPl/qy3r5jxIgR8vfn8r2n2U+/BnLh6+trs3zMxIkT8xzsLl68WCtWrLCUS5curRtvvLEgQiwUI0eONK1QMXPmTO3atSuXFhdt2bJFc+bMMdUV5/cBAC53+XZELVq0kGEYLv0ARRWfccB5vj4+Nlt2vLL1UJ6/C0tOndM/l63yUNrfT9cVgQtTSZlZemz9XlNd07KlVIvkBgDFjK+Pj25rVtNU99I/2/P8fv7r0Gn9feyMpVw60F83NHRsRc6i6PZmtUwrVMzafVS74hLybLclJl6/7D1uqivO7wPgCuZHAIC8lLRriklJSXrooYdMdc2aNVPt2rWd7uvw4cNatmyZqY7tO4oGEijgkieffNK0TM6yZctMS/BYO378uO666y5T3cMPP6zy5XO/g8zHx8f0s3Tp0nzF7U61atXS6NGjLeX09HTddNNNOnv2bI5tzpw5o5tvvlmZmZmWug4dOrACBYASo0KF/+5Wi4mJ8WAkQMHgMw645rFG1RTm72cpr4g5r8k7juT4/OPJabpv9W5T3ZgGVVU+ODDX44R8v9T0s/z0uVyf/9i6vTphtX99bmJT03X9sq3aGm++2/I5qwuQAFBcjGvfSGGB/93htvzoGdO2HtaOX0jWPQvWmuoevKK+yuewjdElAa//aPpZdqTojKNqlQ3TXS3/O+GdnpWtEXP/1dmUnP8+nElO1a1z/1Vm9n8n/ttXjlS36tEFGitQ1DA/AgA4oqheU3z44Yd14sSJvF/A/4uNjdXAgQO1ZYt5y82JEyc63Mflpk2bZkokueKKK9S0aVOX+oJ7kUABl5QvX17PPPOMqe7pp5/W/fffb/qyyc7O1pw5c9SpUycdOnTIUl+5cmU99thjhRVugRk/fryiov67C27z5s1q37695s6da0qSyMjI0Jw5c9S+fXvt2LHDUh8cHKwpU6YUaswAUJDat29v+ffJkyd15EjOF8cKku9ld5BxNwvcic844JrywYF6oon5rtzxmw/q4bV7TAkM2YahuUfPqMfCDTqc9N8WGZVCAvVwI8eWU3fGx3uOq/HcVbpx+Tb9cPC0Diem2H3e0aRUvb3jiNrOW6elp+NNjw2oWl6Dqnl+ZQwAcEX50CA91aGRqe7ZZVv0wMJ1OnHhv+/EbMPQL3uOqet3i3Xo/H9JZJXDQvRIuwaFFm9Bea5TE0VdlgSyJSZenb9dpF/3HldmdralPiMrW7/sOabO3yzSjstWqQj299NHV19RqDEDRQHzIwCAI4rqNcX3339ftWvX1pAhQzR9+nTTMS939OhRvfnmm2rWrJn++usv02ODBw/WkCFDnD62YRj65ptvTHWsPlF0sIkKXPbkk09q5cqV+u233yx1n3zyiT777DPVqFFDZcqU0cGDBxUfH29qFxISohkzZqhs2bKFG3ABiI6O1owZM9S3b1+lpl48wbtv3z4NGjRIZcqUUc2aNSVJBw8eVEKCeflHPz8/ffbZZ2rRokVhhw0ABaZ69epq0KCBdu++eNfwtGnT9Pzzzxd6HKVKlbL8OyXF/sUwwBV8xgHXPda4uladSdC8E3GWus/2ntCX+06oeqlglQnw16HEVMVnZJrahfj56rsuTVQ2MMC6S7dIyzb067FY/Xrs4n6s4QF+qhgSqPAAf2VmGzqdmq6TKel223aOKqNpnRrZfQwAiotxHRrp3+Nx+n3/fyevP924X19sOqAaZUIVHhSgQ/FJik/LMLUL8ffT94M6qmweqwMVB9GlgvXDoE7qP3O5UjOzJEn7ziVq6Oy/VSYoQDXKXBx7HYpPUkK6+X3w8/HRJ1e3UYvocoUeN+BpzI8AAI4qqtcU09LSNGfOHM2ZM0eSFB4erkqVKqlMmTLKyMjQ6dOnc1yl4sorr9T333/v0nH//vtv7d+/31IODAzU8OHDXeoL7scKFHCZr6+vZs6cqZtuuslUn5WVpQMHDmjjxo02X3SRkZGaN2+eOnfuXIiRFqzu3bvrjz/+UHS0eZnG8+fPa/Pmzdq8ebNN8kR4eLjmzJmjW2+9tTBDBYBC8cgjj1j+PXnyZMuJlMJUsWJFy7/37dtX6MdHycZnHHCNr4+Ppl/ZWDfUMI+bswzpYGKqNp1LtEmeiAzy15zuzdQpqowKS0JGlvYkpGhd3AVtOpdoN3nC10d6tFE1ze/ZQiGXbU0CAMWRr4+P/je4k4Y1Mq8UlGUYOhCfpE2n422SJyJDAvXrDV3VuWrJWYGnW/Vozbuxq6KttiM5n5ahLTHx2hITb5M8ER4YoFlDu+iWpjULMVKgaGF+BABwRHG5ppiQkKDdu3drzZo12rhxo93kCV9fXz3xxBNavHixQkJCXDrO1KlTTeUBAwYoIiLCpb7gfiRQIF+Cg4P1ww8/6KefflLLli1zfF6pUqV0//33a8eOHerevXuhxVdYunbtqp07d+rxxx/PNQsuIiJCY8eO1b59+9S/f//CCxAACtEdd9yhZs2aSbo44OzVq5dWrlyZZ7s1a9Zo2LBh+vPPP/MdQ+vWrS3/3rRpk5YsWZLvPoFL+IwDrgv289M3nRvr+y5N1KJcWI7PK+Xvq3vqVdaGa9upa4WCu6P3o3b1dUONaFW1uliWk4rBgRrToIq29G+nV1rVUYAvU2oAJUOwv5++G9hRPw7upBbRZXN8XqkAf93bqq623NlX3apH5/i84urKatHaeldfPdqugcoG5bzyUURwoB5qU1+77umna+tWLsQIgaKH+REAwFFF7ZriZ599pptuuknVqlVz6PkVK1bUww8/rN27d+v1119XQIBrK2UmJydr5syZpjq27yhafAw2BYMb7du3T6tXr9bx48eVnp6usmXLqlGjRurcubOCg4M9HV6hyMjI0Jo1a7R9+3bFxsYqICBAUVFRatiwodq1a2fak68ke37BXk+HAHiVl66pV2jH6t69u5YtWyZJ+vrrr+0O7vbt26f27dvr7Nmzlro+ffro2muvVf369RUWFqYLFy7o2LFj2rBhg/744w8dPHhQkjR//nxdc801Nn1OnTpVI0eOlCR169ZNS5cuzTXOVq1aadOmTZZy8+bNVa1aNfn7/7eD2WeffWazghDAZ9w5qSN6FGj/KNn2X0jWmtgLOpGSpozsbJUJ8FfDMqXUMSpcwX6Fu7JDXFqGdp1P0pGkNMWmpSs5M1u+PlK5wABFBgWoZUSYaoW5dmcJ4An+1Sp4OgQUY/vOXdCaE3E6kZii9KxslQkKVKPIcHWqWl7BXrLyTkZWttacjNOO2ATFpaQpwNdX5UOD1CCitNpVjpSvj4+nQ0Qx5f/a/zwdglOYHznn5vn3FWj/AEq2H/p+4ukQClVRuqYYFxennTt36vDhwzpz5oySkpLk5+encuXKqXz58mrVqpVq165dqDHBc/zzfgrguLp166pu3bqeDsOjAgIC1Llz5xK1TQkAOKtu3bpatWqVBgwYYFm+c+HChVq4cGGhxfD555+rd+/elqXftmzZoi1btpie8+677xZaPChZ+IwD7lGndKjqlA71dBiSpMigAHWOLitG8QAg1S1XWnXLlfZ0GB4V4OerzlWjStQ2JUBBYX4EAHBFUbqmGBkZqS5duqhLly6eDgVFgHfcCg8AAApdvXr1tHHjRr399tuqXr16rs8tV66cbrzxRs2dO1e9e/d2y/HbtGmjbdu26dlnn1WHDh0UERFhuvMEyC8+4wAAAABwEfMjAABQUrCFB4ACwRYeQOEqzC08XLVr1y6tX79eZ86cUWJiosLCwlSpUiU1btxYjRs3ll8hL9UOuJu3fsbZwgMAiia28ACAoqm4beHhKm+dH7GFB4D88LYtPICiihRMAABQKBo2bKiGDRt6OgygwPAZBwAAAICLmB8BAIDiii08AAAAAAAAAAAAAACA1yOBAgAAAAAAAAAAAAAAeD0SKAAAAAAAAAAAAAAAgNcjgQIAAAAAAAAAAAAAAHg9EigAAAAAAAAAAAAAAIDXI4ECAAAAAAAAAAAAAAB4PRIoAAAAAAAAAAAAAACA1yOBAgAAAAAAAAAAAAAAeD0SKAAAAAAAAAAAAAAAgNcjgQIAAAAAAAAAAAAAAHg9EigAAAAAAAAAAAAAAIDXI4ECAAAAAAAAAAAAAAB4PRIoAAAAAAAAAAAAAACA1yOBAgAAAAAAAAAAAAAAeD0SKAAAAAAAAAAAAAAAgNcjgQIAAAAAAAAAAAAAAHg9EigAAAAAAAAAAAAAAIDXI4ECAAAAAAAAAAAAAAB4PRIoAAAAAAAAAAAAAACA1yOBAgAAAAAAAAAAAAAAeD0SKAAAAAAAAAAAAAAAgNcjgQIAAAAAAAAAAAAAAHg9EigAAAAAAAAAAAAAAIDXI4ECAAAAAAAAAAAAAAB4PRIoAAAAAAAAAAAAAACA1yOBAgAAAAAAAAAAAAAAeD0SKAAAAAAAAAAAAAAAgNcjgQIAAAAAAAAAAAAAAHg9EigAAAAAAAAAAAAAAIDXI4ECAAAAAAAAAAAAAAB4PRIoAAAAAAAAAAAAAACA1yOBAgAAAAAAAAAAAAAAeD0SKAAAAAAAAAAAAAAAgNcjgQIAAAAAAAAAAAAAAHg9EigAAAAAAAAAAAAAAIDXI4ECAAAAAAAAAAAAAAB4PRIoAAAAAAAAAAAAAACA1yOBAgAAAAAAAAAAAAAAeD0SKPB/7N15eFTV/T/wz4QkBBI2QXZkERWxKtSidUcttVRt1bp9rVXrVqu2WnetVay2ttJNq1VRf1atu3WrS9WquO8bLojKvsoOAUICyfz+oEyZQCCBJBO4r9fz5HnuuXPuuZ/JM0y4c99zDgAAAAAAAAAkngAFAAAAAAAAAJB4AhQAAAAAAAAAQOIJUAAAAAAAAAAAiSdAAQAAAAAAAAAkngAFAAAAAAAAAJB4AhQAAAAAAAAAQOIJUAAAAAAAAAAAiSdAAQAAAAAAAAAkngAFAAAAAAAAAJB4AhQAAAAAAAAAQOIJUAAAAAAAAAAAiSdAAQAAAAAAAAAkngAFAAAAAAAAAJB4AhQAAAAAAAAAQOIJUAAAAAAAAAAAiSdAAQAAAAAAAAAkngAFAAAAAAAAAJB4AhQAAAAAAAAAQOIJUAAAAAAAAAAAiSdAAQAAAAAAAAAkngAFAAAAAAAAAJB4AhQAAAAAAAAAQOIJUAAAAAAAAAAAiSdAAQAAAAAAAAAkngAFAAAAAAAAAJB4AhQAAAAAAAAAQOIJUAAAAAAAAAAAiSdAAQAAAAAAAAAkngAFAAAAAAAAAJB4AhQAAAAAAAAAQOIJUAAAAAAAAAAAiSdAAQAAAAAAAAAkngAFAAAAAAAAAJB4AhQAAAAAAAAAQOIJUAAAAAAAAAAAiSdAAQAAAAAAAAAkngAFAAAAAAAAAJB4AhQAAAAAAAAAQOIJUAAAAAAAAAAAiSdAAQAAAAAAAAAkngAFAAAAAAAAAJB4AhQAAAAAAAAAQOLl57oAAAByo6KiIj755JOYMGFCTJ48ORYsWBCLFy+OiIji4uJo06ZNbLHFFtGrV6/o379/FBYW5rhiAAAAAABoOAIUAAAJsXTp0hg5cmT8+9//jpdeeik++eSTWL58ea2Ozc/Pj+222y722muv2H///WOfffaJoqKiBq4YAAAAAAAajwAFAMAm7plnnol//OMf8cgjj2RmmEin06v1S6VSWe1V+yxbtiw++OCD+PDDD+Ovf/1rtGzZMr7//e/HMcccE9/5znca9gkAAAAAAEAjyMt1AQAA1L/FixfHtddeG1tvvXUMHTo07rrrrli0aFEmFJFKpdYYmFj1Z1Wr9k+n07F48eK455574oADDoi+ffvGtddeG4sWLWqcJwcAAAAAAA3ADBQAAJuQsrKy+Otf/xrDhw+PuXPnZgUmVkqn05Gfnx9bb7119OvXL7p27RpdunSJkpKSaNmyZaTT6SgrK4tFixbFtGnTYtq0afHZZ5/FF198sdqSH+l0OsaNGxe/+MUv4oorrojzzjsvzjjjjGjZsmWjPm8AAAAAANhQAhQAAJuIv//973HxxRfHV199Fel0Ois0UVhYGPvtt1/ss88+sffee8eOO+4YBQUFdRq/oqIiPvzww3jxxRdj5MiR8fzzz8fSpUszj8+ZMycuuuii+POf/xxXXXVVHH/88fX11AAAAAAAoMEJUAAAbAJ22WWXeOeddyIiMrNO5OXlxdChQ+PYY4+NoUOHRnFx8Qado7CwMAYNGhSDBg2Kc889NxYvXhxPPfVU3HnnnfHkk09GZWVlpNPp+Oqrr+LEE0+MG264Id58880Nfm4AAAAAANAYBCgAADYBb7/9dqRSqUin09GhQ4c444wz4uSTT44uXbo02DmLi4vjsMMOi8MOOyxmzJgRI0aMiOuvvz5mzZoV6XQ6E+gAAAAAAICNQV6uCwAAoH507tw5/vrXv8akSZPi0ksvbdDwxJrOfemll8bEiRPjr3/9a6OeGwAAAAAA6oMABQDAJuCqq66KL7/8Mk4//fQoKirKWR1FRUVx+umnx9ixY+O3v/1tzuoAAAAAAIC6soQHAMAm4IILLsh1CVmKioqaXE0AAAAAALA2ZqAAAAAAAAAAABJPgAIAAAAAAAAASDwBCgAAAAAAAAAg8QQoAAAAAAAAAIDEy891AQAANG1TpkyJ66+/Pl555ZWYPXt2tGvXLnbaaac44YQTYuDAgbkuDwAAAAAA6oUABQBAgrz55ptx/fXXZ9qXXnpp9O3bt8b+Dz74YBx33HGxdOnSiIhIp9ORSqXizTffjBtvvDEuuOCCuPLKKxu8bgAAAAAAaGgCFAAACTJixIj4xz/+EalUKvr06bPW8MS7774bxxxzTFRUVERERCqVilQqlXm8srIyrrrqqigsLIxLL720wWsHAAAAAICGlJfrAgAAaDxPP/10Zvvoo49ea9+zzjorKioqMsGJdDqd9bNy35VXXhmffPJJQ5cOAAAAAAANSoACACAhpkyZEtOmTcu0v/vd79bY96233opXX301M+NE79694z//+U+UlZXF5MmT42c/+1kmRFFZWRnDhw9v8PoBAAAAAKAhCVAAACTEZ599ltnOy8uLAQMG1Nj37rvvjoiIdDodeXl58dhjj8W+++4bzZs3j27dusU111wTRxxxRGY2iocffjiWLVvW0E8BAAAAAAAajAAFAEBCTJgwISIiUqlUbLHFFtG8efMa+65c6iOVSsW3v/3t6N+//2p9Lrroosz2okWL4qOPPqrfggEAAAAAoBEJUAAAJMTChQsz2+3ataux31dffRVjxozJLN9x6KGHrrHfjjvuGG3bts20P/nkk/opFAAAAAAAckCAAgAgIcrKyjLba5t94vXXX4+IFct3RETst99+Nfbt1atXZnvOnDkbWCEAAAAAAOSOAAUAQEK0aNEis73qbBTVvfjii5ntrl27ZoUkqisqKspsL1myZMMKBAAAAACAHBKgAABIiJXLdqTT6ZgwYUJmhonqnnnmmYiISKVSsddee611zNLS0sz22ma1AAAAAACApk6AAgAgIfr375/ZXrJkSbz66qur9fn4449j9OjRkUqlIiJi8ODBax1z5syZme2VAQ0AAAAAANgYCVAAACTEjjvuGMXFxZlwxOWXX75anyuuuCIiIjM7xbe//e0ax5sxY0bMmjUr0+7du3d9lgsAAAAAAI1KgAIAICGKiorikEMOyYQjnn/++RgyZEg88MAD8cgjj8Thhx8eDzzwQKRSqUilUrHHHntEz549axzvjTfeyGr369evQesHAAAAAICGlJ/rAgAAaDyXXXZZPPDAA1FRURHpdDqef/75eP7557P6pNPpSKVScckll6x1rEceeSSz3aNHj+jSpUtDlAwAAAAAAI3CDBQAAAmy5ZZbxogRIyIiMkt5pNPpzKwUK/edcsopMWTIkBrHKSsri0cffTQzW8Xee+/dwJUDAAAAAEDDEqAAAEiYH/3oR/Hvf/87+vXrlwlORKwIUrRq1Sp+85vfxA033LDWMW677bZYsGBB5vgDDzywQWsGAAAAAICGZgkPAIAEGjJkSHzyyScxevTo+Pzzz6OsrCy6du0au+yySzRv3nydxy9fvjzOPPPMTHvo0KENWS4AAAAAADQ4AQoAgATbdtttY9ttt63zcT//+c8boBoAAAAAAMgdS3gAAAAAAAAAAIknQAEAAAAAAAAAJJ4ABQAAAAAAAACQeAIUAAAAAAAAAEDiCVAAAGwCLrjggpg/f36uy8iYP39+XHDBBbkuAwAAAAAAak2AAgBgEzB8+PDo06dP/Pa3v81pkGLBggXxm9/8Jvr06RN/+MMfclYHAAAAAADUlQAFAMAmYsGCBfGrX/0qtthiizjnnHPiiy++aLRzf/755/GLX/wievToEZdeemmTmg0DAAAAAABqQ4ACAGATsN9++0U6nY50Oh2LFi2Kv/zlL9GvX78YPHhw3HrrrTF79ux6P+fs2bPjlltuib333ju23XbbuPbaa2PRokWRTqcjIuJb3/pWvZ8TAAAAAAAaSn6uCwAAYMM9++yz8dBDD8V5550X48ePj4iIdDodL7/8crz88stx6qmnxq677hr77LNP7L333vGNb3wjWrduXadzzJ8/P95999146aWX4oUXXojXX389qqqqMudaqXfv3vGHP/whDjnkkPp7ggAAAAAA0MAEKAAANhGHHnpoHHTQQXHzzTfHVVddFVOnTo10Oh2pVCoqKyvj1VdfjVdffTWuvPLKiIjo1q1bbLPNNtG9e/fo0qVLlJSURIsWLSKdTsfSpUujtLQ0pk+fHlOmTIkxY8bEtGnTss63cuyV4Ylu3brFxRdfHCeddFIUFBQ0+vMHAAAAAIANIUABALAJKSgoiNNOOy1OPPHEuPPOO+Ovf/1rfPTRR1l9VgYepkyZElOnTq3VuKvOMJFKpbL2f+1rX4szzzwzfvSjH0VhYWE9PAsAAAAAAGh8ebkuAACA+te8efM46aST4sMPP4yXXnopTj755Gjbtm2NQYiIFWGIVX9WVT000bZt2zj55JPjpZdeilGjRsWJJ54oPAEAAAAAwEYtla7+6TgAAJuk5cuXx2uvvRZPP/10vPzyy/HBBx/EokWLanVscXFxDBw4MPbcc8/Yf//9Y7fddov8fJOZEbH0h/vkugQA1iC/R6dclwDAGuT/7t5clwAAwFr41BsAICHy8/Njr732ir322isiVswkMW7cuBg/fnxMnjw5FixYEEuWLImIiJYtW0bbtm2jR48e0atXr+jTp89qM1YAAAAAAMCmRIACACChUqlUbLnllrHlllvmuhQAAAAAAMi5vFwXAAAAAAAAAACQawIUAAAAAAAAAEDiCVAAAAAAAAAAAIknQAEAAAAAAAAAJJ4ABQAAAAAAAACQeAIUAAAAAAAAAEDiCVAAAAAAAAAAAIknQAEAAAAAAAAAJJ4ABQAAAAAAAACQeAIUAAAAAAAAAEDiCVAAAAAAAAAAAIknQAEAAAAAAAAAJJ4ABQAAAAAAAACQeAIUAAAAAAAAAEDiCVAAAAAAAAAAAIknQAEAAAAAAAAAJJ4ABQAAAAAAAACQePm5LgAAgKZh7ty5MXr06Jg7d24sWLAgqqqqYv/9949OnTrlujQAAAAAAGhwAhQAAAk2c+bMuO666+Kf//xnfPbZZ6s9/uyzz64xQHHbbbfF5MmTIyKia9eucdJJJzV4rQAAAAAA0JAEKAAAEmr48OFx6aWXRkVFRaTT6dUeT6VSNR67aNGiGDZsWKRSqWjWrFkcdNBBZqoAAAAAAGCjlpfrAgAAaFyVlZVx6KGHxoUXXhjl5eWrPb624MRKJ554YrRu3TrS6XRUVlbG3Xff3RClAgAAAABAoxGgAABImNNPPz0eeeSRSKfTkUqlIp1Ox8CBA+OCCy6I66+/fo2zUVTXsmXLOOiggzLtJ598siFLBgAAAACABidAAQCQIK+88kqMGDEiUqlUpFKp6NChQzzxxBPx7rvvxlVXXRU//elPI6J2s1AcfPDBERGRTqfj1VdfjYqKioYsHQAAAAAAGpQABQBAglx66aURsSL00KpVq3jxxRdj6NCh6zXWLrvsktkuLy+PMWPG1EuNAAAAAACQCwIUAAAJMW/evHj55Zczs09ccskl0a9fv/Uer3v37tGuXbtM+7PPPquPMgEAAAAAICcEKAAAEuKVV16JysrKSKfTkZeXFyeddNIGj9mxY8fM9syZMzd4PAAAAAAAyBUBCgCAhJg2bVpERKRSqejTp0+0bdt2g8ds06ZNZru0tHSDxwMAAAAAgFwRoAAASIi5c+dmtjfbbLN6GbO8vDyzXVBQUC9jAgAAAABALghQAAAkREPMFrHqsh0dOnSolzEBAAAAACAXBCgAABJi8803j4iIdDodEydOjKqqqg0ab/LkyTF9+vRMu2vXrhs0HgAAAAAA5JIABQBAQuy4446Z7SVLlsSrr766QeM98MADme1mzZrFN7/5zQ0aDwAAAAAAckmAAgAgIbbeeuvo3bt3pFKpiIj405/+tN5jLVy4MP785z9HKpWKVCoVgwYNilatWtVXqQAAAAAA0Ojyc10AAACN59hjj43LL788IiIee+yxuP322+O4446r0xiVlZVx7LHHxtSpUyMiIpVKxWmnnVbvtbJxKBi8e65LAGANZt30z1yXAMAadM51AQAArJUZKAAAEuTcc8+Njh07RiqVinQ6HSeddFIMHz48Kisra3X8Z599Fvvuu2/861//ysw+sfXWW8fRRx/dwJUDAAAAAEDDMgMFAECCFBcXxy233BKHHHJIVFVVRWVlZVx44YXxt7/9Lf7v//4vdtppp4iISKfTkUql4t133425c+fGl19+Gc8//3w8//zzkU6nI51OR0REixYt4u67784sCwIAAAAAABurVHrlp98AACTGiBEj4rTTTssKQ6wMQaz638PqwYiVwYp0Oh0FBQVx5513xhFHHNF4hdPkVN58Sa5LAGANLOEB0DR1fmd0rksAAGAtLOEBAJBAp5xySjz99NPRqVOniMgOT6xcmmNlUKJ6yCKdTkenTp3iueeeE54AAAAAAGCTIUABAJBQ++23X4wePTp++9vfRpcuXTIhieqhiZXS6XS0bds2Lr/88hgzZkzsscceuSgbAAAAAAAahCU8AACIqqqq+PDDD+Pll1+O0aNHx5w5c2L+/PnRsmXL6NChQ/Tu3Tv22Wef2HnnnSM/Pz/X5dKEWMIDoGmyhAdA02QJDwCAps2n3wAARF5eXgwcODAGDhyY61IAAAAAACAnLOEBAAAAAAAAACSeAAUAAAAAAAAAkHgCFAAACdKsWbNo1qxZ5Ofnx/PPP79BYz333HNZ4wEAAAAAwMbMJ90AAAmSTqeb9HgAAAAAAJArZqAAAEiYVCqV6xIAAAAAAKDJEaAAAAAAAAAAABJPgAIAgPVSUVGR2W7evHkOKwEAAAAAgA0nQAEAwHqZNGlSZrtVq1Y5rAQAAAAAADacAAUAAOvl/vvvj4iIVCoVffr0yXE1AAAAAACwYfJzXQAAAPXrpZdeqlW/Dz/8MPLza//fwXQ6HUuWLInx48fHP//5zxg5cmTmsUGDBtW1TAAAAAAAaFIEKAAANjGDBw+OVCpV4+PpdDoiIs4999x6O+f//d//1dtYAAAAAACQCwIUAACbqJVBifV9fG1WDWgcc8wxseuuu673WAAAAAAA0BTk5boAAADq34aEI2o7fvv27ePXv/513HbbbQ16LgAAAAAAaAxmoAAA2MRcdtllNT52+eWXZ2aPOOaYY6JPnz61HjcvLy+Ki4tjs802i+222y4GDhwY+fn+OwkAAAAAwKYhlW7orycCANBk5OXlZQIUzz77bOy77745roiNXeXNl+S6BADWYNZN/8x1CQCsQed3Rue6BAAA1sJXBgEAEkZ+FgAAAAAAVidAAQCQIC+88EJme8cdd8xhJQAAAAAA0LQIUAAAJMjee++d6xIAAAAAAKBJyst1AQAAAAAAAAAAuSZAAQAAAAAAAAAkngAFAAAAAAAAAJB4+bkuAACA3KmqqopnnnkmXnvttXj//fdj9uzZMX/+/CgvL6/TOKlUKsaOHdtAVQIAAAAAQMMToAAASKhrrrkm/vjHP8bUqVOz9qfT6TqPlUql6qssAAAAAADICQEKAICEWbJkSRx88MHx3HPPZcISKwMQ6XS61mGIlX3XJ3ABAAAAAABNjQAFAEDCHHvssfGf//wnIiITgMjLy4uOHTvG9OnTM/06duwYqVQq5s2bl7Wkx8qARYcOHaK4uLhxiwcAAAAAgAaSl+sCAABoPI8++mg89NBDkUqlIpVKRbt27eKWW26JBQsWrLaUx1133RXTpk2LsrKy+OKLL+Kmm26KAQMGZGacaNasWdx4440xfvz4GD9+fC6eDgAAAAAA1BsBCgCABLn66qsjYsXyG0VFRfH888/HCSecEC1btlzrcVtuuWWcfPLJ8d5778V1110XhYWFMXPmzDjooIPiwQcfbIzSAQAAAACgQQlQAAAkxPz58+ONN97IzD7xi1/8InbYYYc6j3PaaafFAw88EKlUKpYvXx7HHXdcfPnllw1QMQAAAAAANB4BCgCAhHj99dcjnU5nluA44YQT1nusAw88ME455ZSIiFi6dGlccskl9VIjAAAAAADkSn6uCwA2zLF3j8p1CUATcMfRdZ9FgOSZOnVqZrtDhw7Rp0+ftfZfunTpWh8/++yz48Ybb4x0Oh0PP/xwLFy4MFq3bl0vtQIAAMDG5k8fDs91CbBROnvH83JdAkCGGSgAABJi7ty5ERGRSqWiW7dua+xTUFCQ2V5XgKJv377RvXv3iIhYvnx5vPbaa/VUKQAAAAAAND4BCgCABCoqKlrj/tatW2eW+JgxY8Y6x+nSpUtm+8svv6yf4gAAAAAAIAcEKAAAEqJNmzaZ7dLS0jX2adeuXWZ73Lhx6xyzvLw8s71w4cINqA4AAAAAAHJLgAIAICF69+4dERHpdDpmzZq1xj79+/fPbK9rSY7y8vL4/PPPI5VKRUREy5Yt66lSAAAAAABofAIUAAAJsd1222W2Z82aFXPnzl2tz9e//vWIWBGyeOutt+KLL76ocbw77rgjli5dmlnyo3v37vVcMQAAAAAANB4BCgCAhOjWrVv07Nkz037rrbdW63PYYYdFREQqlYqqqqo47rjjYsGCBav1e+ONN+K8887LzD4REbHnnns2QNUAAAAAANA4BCgAABLkW9/6Vmb7ySefXO3x/v37Z4IQqVQq3nzzzdh2223jnHPOiREjRsR1110XRx11VOy1116xcOHCSKfTkUql4qCDDopOnTo12vMAAAAAAID6lp/rAgAAaDyHHXZY3HrrrZFOp+O+++6LP/zhD1FYWJjV57rrrotBgwbFsmXLIiJixowZ8Ze//CWrz8rgRDqdjpKSkrj66qsb6ykAAAAAAECDMAMFAECCfOtb34pDDz00DjjggNh5553j/fffX63P9ttvHw8++GAUFhZmghIRK0IT6XQ6IiITnmjdunU8+OCDsfXWWzfq8wAAAAAAgPpmBgoAgARp1qxZPPjgg+vsd+CBB8aoUaPiggsuiCeffDIqKioyj6XT6SgsLIwf/OAHccUVV0SfPn0asmQAAAAAAGgUAhQAAKzRVlttFQ899FAsXrw43nvvvfjqq68inU5H586dY6eddoqWLVvmukQAAAAAAKg3AhQAAKxVcXFx7LnnnrkuAwAAAAAAGlRergsAAAAAAAAAAMg1M1AAACTIpEmTMtudO3eOwsLC9R6roqIiZsyYkWlvscUWG1QbAAAAAADkkgAFAECC9OrVK1KpVEREPPvss7Hvvvuu91gvv/xyfPvb346IiFQqFcuXL6+XGgEAAAAAIBcEKAAAEiadTmdCFPUxFgAAAAAAbArycl0AAACNq77CEwAAAAAAsCkRoAAAAAAAAAAAEk+AAgCA9bJ06dLMdlFRUQ4rAQAAAACADSdAAQDAehk7dmxmu3Xr1jmsBAAAAAAANpwABQAAdVZZWRl33nlnRESkUqnYeuutc1wRAAAAAABsmPxcFwAAQP264447atXvmWeeiSlTptR63HQ6HUuWLInx48fHY489Fl988UXmsW9+85t1rhMAAAAAAJoSAQoAgE3M8ccfH6lUqsbH0+l0REQMHz58vc+RTqcz50ilUvGjH/1ovccCAAAAAICmQIACAGATtTIosb6P1ySVSkUqlcocf95558XXvva19RoLAAAAAACaCgEKAIBN0PqGI+oy9o477hjnnHNOHHPMMQ12LgAAAAAAaCwCFAAAm5jbbrttjfvT6XSccMIJmaU3zj333Ojfv3+tx83Ly4vi4uLYbLPNYrvttovNN9+8XuoFAAAAAICmQIACAGATc9xxx9X42AknnJDZ3n///WPfffdtjJIAAAAAAKDJE6AAAEiYhlzeAwAAAAAANlYCFAAACTJ+/PjMdufOnXNYCQAAAAAANC0CFAAACdKzZ89clwAAAAAAAE1SXq4LAAAAAAAAAADINTNQAACwVkuWLIk777wzXnnllZg9e3a0a9cudtpppzj66KOjS5cuuS4PAAAAAADqhQAFAECCjB49Ou65555M+4QTTohevXrV2P/VV1+Nww47LGbOnJm1/7777othw4bFn/70pzj55JMbqlwAAAAAAGg0AhQAAAlyww03xPXXXx8REZ06dYpLL720xr5jx46N7373u1FaWhoREalUKvNYOp2OxYsXx6mnnhqpVCpOOumkhi0cAAAAAAAaWF6uCwAAoPE88cQTkU6nIyLimGOOifz8mvO0Z511VpSWlkYqlYpUKhXpdDrzExGZfWeddVZMnjy5UeoHAAAAAICGIkABAJAQM2fOjPHjx2dmkvjud79bY99PP/00nnjiiUxIon379nHLLbfE6NGj4+WXX47vf//7kU6nI5VKRVlZWfz+979vrKcBAAAAAAANQoACACAhPv3004iITPBh0KBBNfa96667svo+/PDDccIJJ8Q222wTu+++ezz88MOx3377ZWakuO+++6KqqqpRngcAAAAAADQEAQoAgISYMGFCZrt79+5RXFxcY9+nnnoqIlYs07HHHnvE7rvvvlqfyy67LLM9d+7cTEADAAAAAAA2RgIUAAAJMW/evIhYEYrYbLPN1trvww8/zCz1cdhhh62x3+677x4lJSWZ9kcffVSP1QIAAAAAQOMSoAAASIglS5Zktlu0aFFjvzfeeCOzNEdExLe//e019kulUtG7d+9Me9asWfVUKQAAAAAAND4BCgCAhGjevHlme/HixTX2e+mllzLbHTp0iG222abGvqsuA7Jo0aINrBAAAAAAAHJHgAIAICHatm0bERHpdDomTJhQY7///Oc/EbFihok99thjrWOuGsQoLCzc4BoBAAAAACBXBCgAABJi1ZkkSktL4/3331+tz/jx4+Pdd9+NVCoVERGDBw9e65izZ8/ObLdp06Z+CgUAAAAAgBwQoAAASIiBAwdGYWFhJhzxu9/9brU+f/jDHyJixSwVERFDhgypcby5c+fG9OnTM+P17NmzvksGAAAAAIBGI0ABAJAQJSUl8d3vfjfS6XSk0+l48MEH44QTToi33347Pvjggzj33HPjhhtuiFQqFalUKgYMGBD9+vWrcby33347Iv4Xtlh1hgsAAAAAANjY5Oe6AAAAGs8ll1wSjz32WCZEcfvtt8ftt9+e1SedTkcqlYrzzz9/rWM9+uijme1OnTqZgQIAAAAAgI2aGSgAABLk61//elx55ZWZkEREZMIUEZHZd9BBB8WRRx5Z4ziVlZXx0EMPZWar2GOPPRq+eAAAAAAAaEACFAAACXPhhRfGzTffHO3atcsEJyJWBCny8vLi5JNPjvvuu2+tY9x7770xc+bMzPEHHHBAg9YMAAAAAAANzRIeAAAJdOKJJ8aPfvSjeO655+Lzzz+PsrKy6Nq1a+y7777RvXv3dR4/ZsyY+P73v59pH3jggQ1ZLgAAAAAANDgBCgCAhCosLIyhQ4fG0KFD63zsr3/96waoCAAAAAAAcscSHgAAAAAAAABA4glQAAAAAAAAAACJJ0ABAAAAAAAAACSeAAUAAAAAAAAAkHgCFAAAAAAAAABA4glQAAAAAAAAAACJJ0ABAAAAAAAAACSeAAUAAAAAAAAAkHgCFAAAAAAAAABA4glQAAAAAAAAAACJJ0ABAAAAAAAAACSeAAUAAAAAAAAAkHgCFAAAAAAAAABA4glQAAAAAAAAAACJJ0ABAAAAAAAAACSeAAUAAAAAAAAAkHgCFAAAAAAAAABA4glQAAAAAAAAAACJJ0ABAAAAAAAAACSeAAUAAAAAAAAAkHgCFAAAAAAAAABA4glQAAAAAAAAAACJJ0ABAAAAAAAAACSeAAUAAAAAAAAAkHgCFAAAAAAAAABA4glQAAAAAAAAAACJJ0ABAAAAAAAAACSeAAUAAAAAAAAAkHgCFAAAAAAAAABA4glQAAAAAAAAAACJJ0ABAAAAAAAAACSeAAUAAAAAAAAAkHgCFAAAAAAAAABA4glQAAAAAAAAAACJJ0ABAAAAAAAAACSeAAUAAAAAAAAAkHgCFAAAAAAAAABA4glQAAAAAAAAAACJJ0ABAAAAAAAAACSeAAUAAAAAAAAAkHgCFAAAAAAAAABA4glQAAAAAAAAAACJJ0ABAAAAAAAAACSeAAUAAAAAAAAAkHgCFAAAAAAAAABA4glQAAAAAAAAAACJJ0ABAAAAAAAAACSeAAUAAAAAAAAAkHgCFAAAAAAAAABA4glQAAAAAAAAAACJJ0ABAAAAAAAAACSeAAUAAAAAAAAAkHgCFAAAAAAAAABA4glQAAAAAAAAAACJJ0ABAAAAAAAAACSeAAUAAAAAAAAAkHgCFAAAAAAAAABA4glQAAAAAAAAAACJJ0ABAAAAAAAAACSeAAUAAAAAAAAAkHgCFAAAAAAAAABA4glQAAAAAAAAAACJJ0ABAAAAAAAAACSeAAUAAAAAAAAAkHgCFAAAAAAAAABA4glQAAAAAAAAAACJJ0ABAAAAAAAAACSeAAUAAAAAAAAAkHgCFAAAAAAAAABA4glQAAAAAAAAAACJJ0ABAAAAAAAAACSeAAUAAAAAAAAAkHgCFAAAAAAAAABA4uXnugDqbuzYsfHWW2/FlClToqKiItq1axf9+vWL3XbbLYqKinJdHgAAQK2MnTkv3p4wLabMWxgVyyujXXFRbNO5Q+y2ZfcoKmj8y9WFZeXx2YzZMWnOwpi+YFEsrqiIiIi2LYqic5viGLhFl+jZvk2j1wXQ2CaUV8T7i5fG9IplUZFOR9tmzaJvUWF8o6RFFOXl/vtYlel0jFqyND4vK4/ZyytjWTodxXl50aUwP7Yqah5bFRVGXiqV6zIBAGqU1Ht96XQ6xo0bF2PHjo3JkyfH/Pnzo6ysLIqLi6Nt27bRr1+/GDBgQLRo0SLXpZJgAhQbkUceeSSuuOKKeO+999b4eElJSRx//PFx2WWXRYcOHRq0lsGDB8eLL7643sffdtttcfzxx9dbPTfddFOceuqpq+0fP3589OrVq97OAwAAbLhH3x8Tv3nilXhv0ow1Pl7SvDCO222H+NWBe0aHVi0brI4l5cvi9tc/jJc/nxxvjZ8aE+YsWOcxvdq3ieN23zFO3+cbsVlx7T/QmTB7fvS9+PoNKTeWj/jlBh0PsC5PzS+NP0+fHR8tKV/j48V5eXFk+9ZxdtcO0T6/8T9WnFReEX/7am48MndhLKisqrFfq7y82K1Vy/jR5m1jvzYlax3ztdLF8YPPJ693Td0L8+Pt7fuu9/EAQLI0pXt9tbFkyZLYYYcdYuzYsVn7jzvuuPj73/9eqzHeeOONePjhh+OVV16JDz/8MBYvXrzW/vn5+XHAAQfE6aefHkOGDFnf0mG95T4yzjqVl5fHMcccE4ccckiNb6gREYsWLYrrrrsu+vfvHy+99FIjVphbU6ZMifPPPz/XZQAAAOtQvmx5HHvro/GDGx6sMTwREbGovCKuf+Gd2H7YTfHS55MarJ5pC0rjZ3c/Hfe/82mtwhMRERPmLIjLH3spvnbpTfHwe581WG0Ajam8qipOHz8tThg7tcbwRETE4qqq+H+z5sfen4yP10uXNFp9Vel0XDt9Tuz1yfi4fdb8tYYnIiJKq6ri6QWL4oFavrcDADS0jfVe3yWXXLJaeKKurrvuurj66qvjtddeW2d4IiJi+fLl8eijj8a3v/3tOPzww2P+/PkbdH6oKwGKJq6qqiqOPPLIuOuuu7L2N2vWLHr37h0DBgyINm2yp5CdNWtWDB06NF5//fXGLDVnfvrTn8bChQtzXQYAALAWVVXp+L8RD8fdb36ctb9ZXip6d2gbA3p0ijYtmmc9Nqt0SRx47b3x+tgpjVlqtG1ZFNt26RA79+4aO3bvGB1bFa/WZ2bp4jjypofi9tc+bNTaAOpbVTodPxk3LR6am/3ZSrOI2KKwIL7Wonm0bpb9EeKc5ZXxwy8nxzuLyhq8vmXpdJw6flpcNW1WlKfTWY+1bpYXfYsKY2DLotiqqDBa5Fm2AwBoejbWe31vvfVWXHPNNQ0ydrNmzaJXr14xYMCA2HnnnWObbbaJgoKC1fo9+OCDsd9++wlR0Kgs4dHEDR8+PB599NGsfaeeemr86le/iq5du0bEijfeRx99NM4666yYNGnFt7OWLFkSRxxxRHz88cervek2hGeffbZO/bfbbrt6Oe/dd98djz/+eEREFBcX1yq5BgAANL4/PPN6PPbh51n7frL31+OXB+wRXdu2iogVIYvHPhwTZ9/3bEz67428JRXL4v9GPBQfXnZKtGnZMOvAfq3r5rH/17aMPbbqETv37hqdWq8+3fv42fPj769+GH965o0oW7Z8Rb3pdPz0H0/FLr27Rb8udZtadUj/PnHOt79ZL/UDbIi/fTU3nl6wKGvfsR3axi+6tI/OhSs+xK5Kp+Pf8xfFpVO+iqkVK94Dy6rS8ZNxU+OF7XpH62bNGqy+sydMj3/NK8208yPiR5u3jSPat4kdWxZFKvW/0ERVOh1jyyti5ILF8a95pbE+cYrDNmsdh7ev/WdpRUIbAMA6bCz3+lZVUVERJ554YlRVrZj5a0PvwZWUlMR3vvOdGDx4cOyxxx7Rr1+/aN48+0sU5eXl8cwzz8Rvf/vbeOONNzL733vvvTjzzDPj9ttvX+/zQ12k0ulq0W2ajDlz5kTv3r2jtPR/F4lXXXVVXHjhhWvsP3Xq1Nhjjz1iwoQJmX2XXnppXH755fVe2+DBg+PFF1/MtHPxMpo9e3Zsu+22MXv27IiI+OMf/xjnnHNOVp/x48dHr169Gr22xnTs3aNyXQLQBNxx9A65LgFIqMqbL8l1CWwE5ixaEn0vvj5Kl1Zk9v3mkH3igqG7rbH/1HkLY++r78haVuOSA/eIYd/bu17rWlxeEdMXLIq+HTer9TEfTJ4RQ/54V8xbsjSz7/BvbBv3nHLoWo+bMHt+9L34+kz72F13iP/344PqXjTU0qyb/pnrEtgIzF1eGbt8NDYWVf1vSYyLu20eP+vcfo39p1csi++PmRSTK5Zl9p3dpX2c13XzBqnvwTkL4mcTpmfanQvy466+3aN/LQN185dXRtv8tYc7XitdHD/4fHKmfU6X9nFuAz0fiIjo/M7oXJdAA/rTh8NzXQJslM7e8bxcl9BgmvK9vrUZNmxY5pzdunWLI488Mv70pz9lHj/uuOPi73//e63GGjNmTPTq1Wu1wERNqqqq4pRTTolbb701a/8nn3wS/fv3r90TgA1gCY8m7Oqrr856Q91rr73iggsuqLF/t27d4pZbbsna9+c//znmzJnTYDXm0s9//vNMeGKnnXaKM888M8cVAQAAazL86TeywhN7brVFnP+dXWvs361d67jp2AOy9l3zn7dizqIl9VpXcfPCOoUnIiIG9Ogcvzlkn6x9T370ZSz976wUABuTv82YkxWe+GZJizijU83vi10KC+KPPTtn7Rvx1byYu7yy3mubs3x5XDZlZqbdullePLT1FrUOT0TEOsMTAAANbWO81/fJJ5/EVVddlWlfd9110apVq/Ueb5tttql1eCIiIi8vL66//vrVviD9z38KidM4BCiaqKqqqrjtttuy9g0bNixrWsI12W+//WLPPffMtEtLS+P+++9vkBpz6fHHH4977rknIlask3TzzTdHswacLhKADbPyb1gqlYrjjz++Uc89YcKEzLnX9XeUTY/XHuReVVU6bn/tw6x9lx6057qvbbbtHXts1SPTLl1aEQ80kW9sHrXzdpG3Sv2Ly5fFpLkL1nIEQNNTlU7HvXOy37vO7dphne/Pe7Yujl1KWmTai6qq4l/zFtZ7fddMn5MVzLio6+bRu6iw3s8DSeL6CKBxbYz3+qqqquLEE0+MiooVX4I45JBD4uCDD26Uc6+qefPmcdhhh2XtGz26aXwmwKZPgKKJeu2112LWrFmZdp8+fWLw4MG1OvbEE0/Maj/yyCP1WFnuLVy4MH76059m2meddVYMHDgwhxUBAAA1eW3slJhV+r+ZI/p0aBuDt+lZq2NP2H1AVvvRDz6vz9LWW+sWzWPzVi2z9s1eVJajagDWz9uLy2LOKgGFnoUFsVtJy7Uc8T9Hd2ib1X5q/qL6LC3Kq6riwVXCHR3zm8WPNm9b8wEAAE3Qxniv7y9/+Uu8+eabERHRunXruO666xrlvGuy5ZZbZrVXzkoPDU2Aool64oknstpDhgypdTJ3yJAhWe2RI0fG4sWL6622XDv//PNjypQpERHRq1ev+PWvf53jigBIIt+eIVe89tjYPPnRl1ntb/XvXevX7rf6985qv/j5xFhcXlFD78ZVfcmOti1qPx0pQFPwnwXZoYe9WhfX+v15r2ohstdLl8SSyqoaetfdU/MXxbxVxvv+Zq2jmf/3AGvg+ghoyja2e33jxo2LX/3qV5n2VVddFV27dm3Qc67N0qVLs9pt27bNTSEkjgBFE/XBBx9ktXfbbbdaH9u1a9esdYEqKiri008/rafKcuvFF1+MESNGZNo33HBDtGxZu29HAAAAje/DyTOy2rtu2b3Wx3Zt2yp6tW+TaVcsr4xPp+f+GydjZsyJBWXlmXZJ88LYulP7HFYEUHefLCnPan9jlWU51qVzYUH0KCzItCvS6fh8aflajqib6uGO3Vv57AcA2PhsbPf6Tj755FiyZMUMkrvuumvWbPC5sHImjJV22mmnHFVC0ghQNFHV1/Hp379/nY6v3r8x1gVasGBBjBo1Kl566aV47733YuLEiVFZWbnuA2uprKwsTj755Ein0xER8X//93/xne98p97GB6DhDBs2LNLpdKTT6fj73/+e63JIEK89yL3PZszJam/bpUOdjq/e/7MmEKD47ROvZLWP3mW7yG+2fpfXk+cujLcnTIuXv5gUn0ybFbNKN53ZA4Gm7YtqgYetiwrrdHz1/p8vrb8Zgj5YnP1tw/4tiiIiojKdjucWLIpTx02NPT4eF33eHxPbfPB57Pbx2Dhl3NS4d/b8WFK14TNhpNPpmFheEe8uKou3Fi2Jz8vKY/7y+vuMC3LF9RFA49qY7vXdcsst8fzzz0dEREFBQdx88805ndln9OjR8dBDD2Xa+fn5cfTRR+esHpIlP9cFsLqysrKYNGlS1r4ePXrUaYzq/ceMGbPBda3NwIEDY9SoUVFV7SK1pKQkdt999/jBD34Qxx57bDRvvv7T2l522WXxxRdfRETEZpttFn/5y182pGQAAKCBlVUsi0lzF2Tt67FZ6zqNUb3/mGqBjMa0dNnyuPih5+OuNz/O7Nu8VcsY9r296zzWs5+Oix7nXRPTq33LOiKiV/s2sfc2PeOkPQfWacYOgNoqq6qKqRXZSxF1W2VGidroWq3/2HoKUCysrIxxqyzX1CwiejQviInlFXHG+OnxzuKyrP5lkY6FlVUxvnxZ/Gteafx+2uy4uNvmcfgqMxjVxf1zFsb/mzkvawmRlfoWFcYerVrG8Zu3i20s3QQArMXGdK9v+vTpcd5552Xa559/fmy33XYNcq7aePPNN+Pwww+Pior//Z/wl7/8ZZ1/f7C+BCiaoNmzZ2dmWYhYkfTq2LFjncbo1q1bVnvmzJn1UltNqk9DtNKiRYvi6aefjqeffjouvfTSuPbaa+Pwww+v8/jvvvtu/OlPf8q0hw8fXuffCQAA0LhmLyqLVS5toqBZXnRsVVynMbq2bZXVnlW6pD5Kq9Gb46ZG6So3AZcuXx6zFi6OdydOj4feGxMzV5khonPr4vjXz4+Kjq3r9pwiYo3BiZUmzFkQE14bFbe/Nir26dcrbj3uwNhiPW8EAqzJ3OWVscrbcxSkIjrkN6vTGJ0Lsz9WnL18eQ0962Zi+bKs2kqa5cWYsvL43piJsXANoYbqZixbHj+fMD0+LyuPX3av+2dHkyuW1fjYl0sr4sulFXH7rPlxQNtWcXXPztGujr83ACAZNqZ7faeddlrMnz8/IiK22mqruOSSSxrkPCvNmjUrPvzww0y7qqoqSktL44svvohnnnkmRo4cmfW7O/XUU+Oyyy5r0JpgVZbwaIIWLcr+IK1ly5Z1nianuDj7A7zqY+bCjBkz4ogjjshKsdXGsmXL4sQTT8wsBzJ48OA44YQTGqJEAGqhV69ekUqlIpVKxciRIyMiYuHChXHjjTfGvvvuG1tssUUUFhZGKpXKBOyGDRuWOeb4449f5znS6XTcfffd8d3vfje6du0aRUVF0bNnzxg6dGjcd999sfy/H87WddxVzZw5M37729/GN77xjWjfvn20aNEi+vTpEz/+8Y/jvffeq/G4v//975FKpaJ3795Z+1fWUf1n2LBhdaqLmnntee2x8VlUnv1t5JaFBXW/tmmePUV89THr22n/eDK+85e7Mz8HX3d/nHzHE3Hji+9lwhNFBfnxk72/Hu9fdnIM3KJzg9bzwmcT4htX3hovfT5p3Z0BamlxtSBCi7y8Or8/t8zL/lhxSS3CDbWxsNpysKmIOPbLKZnwRIu8VBzdoU1c26tL/KNv97i2V5c4un2bKKpW/3VfzY1bZ86tl5qqS0fE4/NLY8jo8TGmrHyd/aEhuD5yfQQ0bRvLvb77778/HnnkkUz7pptuiqKiono/z6peffXVGDJkSOZn//33j8MOOywuuuiieOGFFzLhie233z4eeuihuOGGG3K6nAjJYwaKJqj6G+D6vFG1aNFirWPWh6KiohgyZEgMHTo0BgwYEH379o22bdtGeXl5zJw5M15//fW455574sknn8xKiv3hD3+I9u3bx4UXXlir8/z+97/PJNGaN28eN910U70/FwDW31tvvRVHHnlkTJgwoV7GmzlzZhx22GHx8ssvZ+2fNGlSTJo0Kf7973/H4MGD4/7771/vczz99NNxzDHHxOzZs7P2jx8/PsaPHx933HFH/Pa3v40LLrhgvc9Bw/Pag6avetihqKDul6Atqh3T0AGKdSnMbxZn7DsoTt5zYGxex9k0IiK6t2sVB+6wVezTr1ds13Xz6NKmJIqbF8aCsqUxfvb8GDlmYox48b0YN3t+5pi5i8vi0L89EK9ccFz069KhHp8NkFRLqi3B2nw9PpBukZd9zOKq+glQLFiePc78yqqY/9/wxA4ti+LWLbtF92rLhxzevk2c1aV9HD92any6SqDhiimzYnDrktiyKDuMtyZbNi+Mb7Upjl1btYxtWjSPDvnNoigvL+YvX7GkyEsLF8eds+bHzOX/C3hMrVgex3w5OZ7s1ys2X4+/cVCfXB8BNC0bw72+OXPmxM9+9rNM+8c//nHss88+9XqO9fX1r389LrroojjooINyXQoJ5H/2TdDSpUuz2oWF677Iq6558+x1GMvKymrouX7OPvvs2H333aN9+/arPVZQUBAlJSXRp0+f+OEPfxivvPJKHHXUUTF16tRMn4svvjiGDh0aO+6441rPM3r06Ljyyisz7UsuuSS23nrr+nsiAGyQL7/8Ms4555xYuHBhRERsvfXW0bVr15g3b16MHj26zuMtWLAghgwZEqNGjcrsKywsjO233z5KSkpi3LhxMXny5Bg5cmQcdNBB8a1vfavO53jhhRfiwAMPjOXLl0d+fn5sv/320bZt25gyZUp88cUXEbFi2rgLL7wwttxyyzjssMOyju/WrVvsv//+UVZWFi+99FJm//7777/G8/Xt27fONbJuXntee2wcli7Lns69sFndpzlvXm1q9LKK+pkifn1VLK+MPzz9evz52TfiuN12iD8eMSRaFTVf53FtWjSPh08/PA7YfqvIy1v9RmX7kpbRvqRlfKNX1/jFkF3iysdfid888UpU/TeMPn/J0jju/z0ab1x8gm/eABtsaVU6q12wHu8rhdWOqT7m+qopiNG1ID/u26pHtK1hyYwezQvj/q17xL6fjM+EHMrT6bjhqznxh55dajxfj8KC+OfWPWK3GkJxHQryo0NBfuxc0jLO6Nw+Lp08M+5cJeQ2pWJ5XDhpRty6ZfdaPkOof66PXB8BTc/GcK/vrLPOyiwL0rFjx/jDH/5Qr+NviPfeey8OP/zw6NmzZ9x00001vr9DQxCgaIKqp9AqKur+Davy8uzpA+t7up3vfe97te67xx57xMiRI2PXXXfNpInT6XRccskl8a9//avG46qqquLEE0/MPJfttttO2higiTn77LOjtLQ0hg4dGtdcc01stdVWmcdmz5692n/y1+X888/P+oDm9NNPjyuuuCLatWuX2ffCCy/ESSedFG+++WaMHTu2zjUffvjhUVlZGRdeeGFccMEF0bZt28xjb775Zhx22GExZcqUiIg455xz4tBDD428VaYnXjm13IQJE7KmCv33v/9d51pYf157XntsHKrPOFFRbVr22ihfnn3M+sxiURfvXnpyVrt0aXnMWLA43p4wLe5+8+P498cr/v1XVqXj/73yYbwzYXo8e/YPo31Jy7WO2664RRy0Y+3C4M3y8uKy7+0V7YqL4uz7nv1fbRNnxMPvjYlDd+pXx2cFkK2oWpBrWbru4YeKasc0X0M4bH1Ur22lX3XvWGN4YqX2+fnxy+4d48wJ0zP7/jlnYVzRo1O0yFvzSsY9mhdGj+a1u6FRlJcXV/fsHEV5qbh55rzM/ifnL4oPFpfFgOIWazkaGo7rI9dHQNPT1O/1PfXUU/GPf/wj0/7zn/8cm222Wb2NvzYHH3xw1sz1y5cvj3nz5sWnn34a//nPf+KWW26JGTNmRETExIkTY+jQoXHTTTfFySefXNOQUK8EKJqgkpKSrHb1lFptVE+hVR+zsfXt2zeGDx8eP/7xjzP7nnzyyZg7d26Nb8h//etf4/XXX4+IFWvXjRgxIgoKCtbYFyDpVn6oUFfdu2/Yt6RKS0vjwAMPjEceeSSaVftWcYcOdZtifPTo0XHzzTdn2meffXb88Y9/XK3fPvvsEyNHjoxBgwbFV199Veea58yZEzfeeGP85Cc/We2xXXbZJR5++OHYeeedI51Ox6RJk2LkyJGx77771vk8NCyvvfq3vu8jNX+fEyJKqt2Qqj4jRW2UVTum+pgNrVVR82hV1Dy26rRZHL3L1+LZT8fF0SMejnlLVlynjZoyM35827/isZ8dWe/n/vl+O8cj74+Jlz6flNn3jzc+EqAANljLamGC8vUIUJRVm3GiuIaAQl1Vry0iol2zvDigXataHf+9dq3iV5O/ioX/XfZjaTod7y9eGru1WnvQrS4u7d4x/rNgUYwvX5bZ98+5CwUoyBnXR/Vvfa+PAFZqyvf6SktL49RTT820v/Od78TRRx9dL2Ovj/z8/Nh8881j7733jr333jvOP//8OPXUU+Puu++OiBVfyv7pT38a22+/fXzzm9/MWZ0kR/1c2VCvqr8BLlmyJCuJVRuLFy9e65i5cOyxx8bmm2+eaVdVVcV//vOfNfadMGFC/PKXv8y0Tz311Nhtt90avEaAjVWPHj3W62dDNW/ePEaMGLHaBzTr49Zbb838vevevXv85je/qbFvjx494oorrliv8+y7775r/IBmpW984xux5557Ztqvvvrqep2HhuW1V/9y9T7Cpq162GFJxbK6X9uUZ39Lp6Qot6HqIf37xGM/OzLyVpm6/smPvoxnPx3XIOf7xZBdstovjJkQyyvXPL09QG0VN8v+SLCsqqrO789Lqi21UV8BijWNs1NJi1ovM1KUlxcDWmZ/O3PUkvqd7jo/lYoTO7bL2vfiwsU19IaG5/qo/rk+AjZUU77Xd+GFF8akSSuC+i1btowbbrihXsatL61atYo777wzDjjggMy+ysrKOOecc3JYFUkiQNEEdejQIWtN22XLlmXWIKqtqVOnZrU7duxYL7VtiLy8vBg8eHDWvjFjxqyx77BhwzJ/GLp27Rq/+93vGro8ANbDAQccEF261M/3z5988snM9o9+9KN1Tkn3wx/+MIqL17xO8dqccsop6+yzxx57ZLY/++yzOp+Dhue1BxuHDiUtYtX7Xcsqq2Jmad1uME2bX5rV3ryGNeob065bdo8ffvNrWfvueG1UDb03zL79emX9DkuXVsT0BYsa5FxAcmyW3yxWjSMsS0fMXl63ZZZmVGTPENS+npZY2nwN4/Sp4+xDfYuy+89eVvclpNZlj2p/j8YvrajzTRGoL66PAJqepnqvb/z48VmBicsvvzx69eq1wePWt7y8vLj22muzfoevvfZafPHFFzmsiqSwhEcT1KJFi9hiiy1i4sSJmX2TJk2KTp061XqMlcmxlfr1axpTvFZP4c6aNWuN/ebPn5/ZnjZtWrRp02a9zrfq+ncRK9ZwOuuss9ZrLICmbPLkyTk576ofZmyIRYsWZYXqqgfu1qRly5YxaNCgGDlyZJ3Oteuuu66zT7du3TLbq/5Nounw2qt/6/0+8tSN9VsIm5QWhQWxxWZtYuKcBZl9k+YujE6ta/+tmUlzF2a1+3VuX2/1bYhDBm4Td77+Uab9+tiGmea5uHlhtGvZIuYu/t+3p2eVLo4em7VukPMBydAiLy+6FebHlFVCEFMrlq0xvFCTqRXLstrVQwvrq1fzgihMpaJilTBCq2Z1+w5YSbVv4c+vrP8ARbfC7N/V8oiYX1kV7fI3fAYAqCvXR/Vvfa+P7p9zTz1XAmysmuq9vgULFmSFPs8777w477zz6jzO7bffHrfffnum3aZNm3p/r+7Tp0/suOOO8cEHH2T2vfbaa7HVVlvV63mgOgGKJqpfv35Zb6qffvppDBo0qNbHjx49erXxmoKCguzpdpctW1ZDTwDqonv37jk5b58+feplnClTpkTVKlMA1/bv1rbbblvnD2k6d+68zj4tW/5vfeQlS5bUaXwah9de/Vvf95H6vx3Bpmabzu2zAhSjp82OQb261vr4z6bPXm28pqDP5tlTt89owKnbC6rdOFxmCQ+gHvQtap4VoPh8aUUMKG5R6+O/WJq9xNJW9RSgaJZKRZ/mhfHZ0vLMvvI6zuxQXm15kRb1tLzIqvLXsKTIcjNQkCOuj+rfen/OMqd+6wA2bpvqvb7GtOWWW2YFKGbMmJG7YkgMS3g0UQMGDMhqv/baa7U+dvr06TFhwoRMu6CgIPr3719PlW2Y6m9sm2++eY4qAaA+tGrVql7GqZ5Obtu2ba2OW58ZigoL6/bBrml4myavPdh47Ngj+9s1dZmpYfr80piwSviioFle9O/SNK8hqocc6svyyqqYs6gsa9/mrVrW0Bug9r7WonlW++1q7zVr89Wy5TF5lRkoClIRWxc1X8sRdbN9y+yx6roER/XlSBpiVohZy7KXMEk10HmgNlwfATRNm+q9vlyq/kVtaAhmoGiiDjzwwPj973+faf/nP/+JdDqdtdZPTZ555pms9j777BMlJbWfIrchvfLKK1nt6kt6rPTrX/86zjjjjDqPP2TIkKz2P/7xj6zpkLbZZps6jwlAzfIa4JtcdVGbv4tsmrz2YONxwPZbxfB/v55pPzd6fK2vbZ79dHxWe/A2vaKknr7hvKFWnVUjIqJT67qv/V0bb4ybGstX+SZofl5edK7DEigANflW25K47qu5mfbLCxfX+v35xWqz7uzWqjiK6zFI9u22JfHAKks4jVqytE7HV+/ft3n9/+14s1rgpFNB/hpnpYDG4PoIoGlqivf6+vbtG88++2ydj7vjjjvizjvvzLS//e1vZy390VDBhlVn8IiIOi2BAutLgKKJ2m233aJDhw4xe/aK6WrHjRsXI0eOjH322Wedx956661Z7e9///sNUmNdvfjiizF27Nisffvtt98a++6www71cs7dd989evXqVS9jAdBwqn9bZcGCBdG69brXdm/sNVDZ9HjtQcPbbcvu0aGkZcxetGLa5XGz58fIMRNjn3691nns/3v1g6z29wY0nXVOnxj1RVZ7+24dG+Q8t1X7HXxzy27Rsrlv3AAbblBxi9gsv1nM/e9sDRMrlsVri5bE7q3WHQi7e/b8rPZ32tRvsGvf1iVRlErF0v9+4/zTsvIYt7Qi+tQiRDemrHy15UV2a4CZe+6ZnR2k28PsQGwCXB8B1K+meK+vpKQkvvWtb9X5uOpfkO7Spct6jVMX06ZNi/feey9rX33dP4S1sYRHE5WXlxfHH3981r7LL798nVOVPffcc/Hyyy9n2q1atYojjjiiIUqsk8WLF8fPf/7zrH3bb799va3PB8DGrXv37lnJ688++6xWx9W2H9TEaw8aXl5eKo7dLfsDjisef3nd1zajx8crX0zOtFsVFcbhOzWN6UpHT58df39tVNa+7w3Yut7PM3LMxPjHGx9l7fv+ALPqAfUjL5WKI9tn3yz947TZ63x/fnnh4qzZF0ry8uKgzepn+YCVWjbLi0PbZ9+0/cv02bU69k/V+u1a0iI6FNTvd8genLMgXvtvMHCl77St398B5ILrI4D6tand62tsF154YVStMiNj7969Y/vtt89hRSSFAEUTdsEFF2RNx/Piiy9mTfVT3dSpU+Okk07K2nfmmWdGhw4d1nqeVCqV9TNy5Mi19j/zzDNj2rRp634C/zV79uz43ve+F6NGZX/AePnll9d6DAA2ba1atcpaZmldf4siIsrKyuLtt99uwKrWrvoUqdZj3Th57UHjOH//XaNklenTX/p8Uly9yrIe1U2dtzB+cscTWft+tt+g6LCOb/fmn/KbrJ+RYybW2Ld0aXmccddTMWXewhr7rMnHU2fGd/9yT1T89xvbERE927eJw3batsZjnv10XPz91Q9jeWVVjX2qe/6zCXH4DQ9GZdX//o13aVMSP9nr63WqF2BtTu+8WRSv8n+L1xeVZS3rUd30imVxzsQZWftO6tgu2uevPaDQ5d3Psn5eK1281v4REed06RBFq9zIfWDuwrin2swX1f195rx4bF5p1r6fdW5fY/9H5i6MJ+aV1un/Uw/PXRjnVvsdfK1F8/huW8srsfFzfQRQ/5rqvb7GcsMNN8T9999fp/fn5cuXx/nnn5+1ZEhExLnnnlvf5cEaCVA0YR06dIiLL744a99FF10Up512WlaAoaqqKh555JHYbbfdYsKECZn9Xbt2jXPOOafe67r22mujT58+ccghh8Rdd92Vdc5VTZ48OYYPHx7bb799PP/881mPHXzwwXHIIYfUe20AbLyGDh2a2b7zzjujvLx8rf3vueeeWLRoUUOXVaPi4uypjcvKymroSVPntQcNr0OrlnHhd3fL2vfLh1+IM+56KqbN/9+NrqqqdDz6/pjY8/e3x4Q5/5savWvbkjh7yDfrtabKqnTc+OJ7sdXF18f3r7sv7nx9VIydOW+NH+pULK+M18ZOidPveioGXXlrTF4ldJFKRfzlqG9Hi8Kal9WYNr80Trr98djyouvi7PuejRc+mxALlixdQ01V8ea4qfHj2x6L7/z57pi3Sp+8VCr+evT+lu8A6lX7/Pz4ebWAwW+nzooLJ82IGRXLMvuq0ul4an5pHDRmYkxeZX/ngvw4tdNmDVJb18KCOL1z9tjnTJwRF0+aEVNXqSEiYkrFsrhg4oy4ePJXWfsPadc69lnL8iJfLi2Pk8ZNjd0/GRdXTZ0V7ywqiyVrCLtVVKXjlYWL4/gvp8Rp46dF+Sp/K4pSqfjdFp1rtZY5bAxcHwHUr6Z6r6+xjBkzJo488sjYcsst46KLLoqXX345SktL19h3xowZMWLEiBg4cGAMHz4867FddtklTj311MYoGaJ+56+j3l1wwQXx2muvxeOPP57Zd8MNN8SIESOiZ8+e0aZNmxg/fvxq68y1aNEi7r///mjbtm2D1FVeXh6PPPJIPPLIIxER0bp16+jSpUu0adMmli1bFl999VWNs1TsueeecffddzdIXQBsvE466aT4y1/+Eul0OiZPnhy/+tWv4uqrr15j36lTp8Yvf/nLRq4wW9u2baOoqCiWLl1xc+vLL7+0Bt9GymsPGsf5++8Wr4+dEk+M+jKz78YX34ubX34/em7WJtq0aB7j5yyI+dWCBS0K8uOeUw6Nti2LGqSuZZVV8cSoLzN1tSoqjM6tS6JNy+YR6YgFZeUxYc78WLaGG2qpVMRNPzogDtqxdst3TJ1fGtc+91Zc+9xbERHRrW2r2Ky4RbRsXhClZeUxae7CWFRescbz/OnIIXHwwH4b8EwB1uyMzpvFO4uXxLML/jcrxO2z5sc/Zs2P7oUF0apZXkyuWBYLqr0PFqVScVOfrtEmv1mD1faLLh1i1JKlmdrSEXHbrPnx91nzY4vCgmiX3yzmLa+MidUCFRER27dsHsN7dq7VecaXL4trZ8yJa2fMibyI6FKYH22aNYuivFQsrKyKKeXLYukaAnYFqYjreneNnUpabMjThCbF9RFA/Wuq9/oa0/jx4+N3v/td/O53v4tUKhXdunWLdu3aRXFxcSxevDi++uqrmDlz5hqPHTBgQDz55JOrzToEDcUrrYnLy8uLBx54II466qis/ZWVlTFu3Lh4//33V3tDbd++fTz55JOx++67N1qdCxcujDFjxsRbb70V77///hrDE3l5eXH++efHc889Fy1auLAEIFv//v3jxBNPzLSHDx8eZ5555mp/51588cUYPHhwzJgxY51T1zWkZs2aZX0oc+2112atycfGw2sPGkdeXiru+8kP4shB/bP2V1alY9zs+fH+5K9WC0+0L24R//r5UbF73x6NVmfp0or4YubceGfC9Hhn4vT4YubcNYYntuq4WTzzix/GCXsMWO9zTZ1fGh9NnRlvjpsan06fvcbwRJc2JfHkmf8XZ+w7aL3PA7A2ealUjOjTLQ5u1yprf2VETKxYFh+Xla8WnmjXrFnctVX32Llk7UsrbahmqVTc3KdbHNG+ddb+9H9r+2DJ0jWGJ/ZvUxIPb90zipvV/aPPqoiYWrE8Pi0rj/cWL40vl1asMTyxZfPC+Nc2veKAar832Ni5PgKofxvLvb7Gkk6nY8qUKfHRRx/FG2+8ER999NEawxN5eXnxs5/9LF5++eXYbLOGmfUM1kSAYiNQVFQU99xzTzz44IMxYMCAGvsVFxfHaaedFp9++mkMHjy4weoZMWJEHHXUUdGjR+0+xOzcuXOceeaZMWbMmPj9738fBQWmnAVgzYYPHx5f+9rXMu1rr702OnXqFIMGDYp99tknevbsGYMHD44vv/wydt555/jJT36S6VtYWNjo9R599NGZ7VtvvTW6desWQ4YMiYMPPjjzc++99zZ6XdSd1x40jqKC/Ljr5EPi/p/8IAb06FRjv+LmBfHTwTvFR5f/JAZv07NBamnTonk8f+6P4rzv7BqDenWNwlp8g7qgWV7s269X3HHi9+ODy06Offr1qtW59tmmV1z2vb1i7617Rquidb9n5KVS8fUtOsfffjg0xlx5Wgzp36dW5wFYX0V5eXFDn25xc5+u8bUWzWvs1zIvFcdv3jZe2q537NaquMZ+9al5Xl5c06tr3NW3ewwqrvkLOamI+HpxUdyxZff4e9/utQpPHNSudfysc/v4RnGLKKrFEhz5EbFLSYv4W++u8cJ2vWPH4oaZHQlyzfURQP1ravf6GstFF10Ut9xySxx22GHRtWvXWh3TrVu3OOecc+KTTz6Ja6+9NkpKal6SDRqCJTw2Ij/4wQ/iBz/4QXz55Zfx5ptvxtSpU6OioiLatm0b2267bey+++5RVFT3C7c1rfG7NieffHKcfPLJERExZ86cGD16dEycODFmzZoVixcvjmbNmkW7du2iQ4cOMXDgwOjTp/E+7KvrcwGgaWnbtm08++yzcdhhh8Wrr74aEREVFRXxzjvvZPXbc88944EHHog///nPmX1t2rRp1FojIk477bR49NFH44UXXoiIFev0zZgxI6vP2i6IaDq89qBxHbpTvzh0p37x5cy58db4aTF1XmlUVFZG2xbNo1+XDrF73x5RVFD3y9XlI2o/hXQqlYq9tt4i9tp6i4iIKF+2PD6dPjvGzZoX0xcsitKlK2aDaNOiebRtWRTbdG4f23frWKugRXVbtG8Tvzpwz/jVgXtGOp2OsbPmxZcz58WUeQtj/pKlsXTZ8ihuXhjtWhZF93atY+feXaP1Wm5gAjSUA9u1jgPbtY7xSyvivcVlMWPZ8qhIp6NNs2axVVFhDCppEUXrMXXy9J02fAmifduUxL5tSmJ6xbJ4d3FZTKlYFkur0tG2WbPoWJAfO5e0iA51/NuxTYvmcXG3zSMiojKdji+XVsSk8mUxbdmyWFRZFRXpdBTn5UXb/GbRo7AgBhQXRQtTR5MAro8AGk5TuddXV8OGDYthw4bV+bhOnTrFiSeemJndaOrUqTFmzJgYP358zJs3L8rKyqK4uDhat24dXbp0iYEDB9Y6aAENRYBiI9S3b9/o27dvrsuIiBVTCO2xxx6xxx575LoUADYRnTt3jpdeeinuueeeuPPOO+ODDz6IefPmRceOHaN///5x7LHHxpFHHhn5+flZU7vlYsrQgoKCePbZZ+Mf//hHPPjgg/Hhhx/G7Nmzo6ysrNFrYcN57UHj69txs+jbsWlMw9m8ID8GbtE5Bm7RuUHPk0qlmtTzBliT3kWF0bsWM+bkQpfCgjiwsP5nN22WSsU2LZrHNgJsEBGujwAaWlO619eYunXrFt26dct1GbBWqbSv7MNG7di7R+W6BKAJuOPoHdbdaRO0/fbbx8cffxwREU899VR85zvfyXFFJIXX3v9U3nxJrksAYA1m3fTPXJcAwBp0fmd0rkuod66P/udPHw7PdQmwUTp7x/NyXQJAhjnnAICN0rvvvpv5gCY/Pz8GDRqU44pICq89AACAFVwfAQCbGgEKAKBJqc3kWIsWLYqTTjop0z7ggAOiffv2DVkWCeC1BwAAsILrIwAgqQQoAIAm5Zvf/Gb88Y9/jPHjx6/2WGVlZTz55JOxyy67xAcffBAREc2aNYuLL764katkU+S1BwAAsILrIwAgqfJzXQAAwKrGjh0b5557bpx77rnRqVOn6NOnTxQXF8fChQtj9OjRUVpamtX/8ssvj5133jlH1bIp8doDAABYwfURAJBUAhQAQJOSl/e/CbK++uqr+Oqrr9bYr1WrVnHVVVfF6aef3lilsYnz2gMAAFjB9REAkFQCFABAkzJq1Kh4+OGHY+TIkfHxxx/H1KlTY/HixVFQUBDt27eP7bbbLvbbb7/48Y9/HB06dMh1uWxCvPYAAABWcH0EACRVKp1Op3NdBLD+jr17VK5LAJqAO47eIdclAAlVefMluS4BgDWYddM/c10CAGvQ+Z3RuS6BBvSnD4fnugTYKJ2943m5LgEgI2/dXQAAAAAAAAAANm0CFAAAAAAAAABA4glQAAAAAAAAAACJJ0ABAAAAAAAAACSeAAUAAAAAAAAAkHgCFAAAAAAAAABA4glQAAAAAAAAAACJJ0ABAAAAAAAAACSeAAUAAAAAAAAAkHgCFAAAAAAAAABA4glQAAAAAAAAAACJJ0ABAAAAAAAAACSeAAUAAAAAAAAAkHgCFAAAAAAAAABA4glQAAAAAAAAAACJJ0ABAAAAAAAAACSeAAUAAAAAAAAAkHgCFAAAAAAAAABA4glQAAAAAAAAAACJJ0ABAAAAAAAAACSeAAUAAAAAAAAAkHgCFAAAAAAAAABA4glQAAAAAAAAAACJJ0ABAAAAAAAAACSeAAUAAAAAAAAAkHgCFAAAAAAAAABA4glQAAAAAAAAAACJJ0ABAAAAAAAAACSeAAUAAAAAAAAAkHgCFAAAAAAAAABA4glQAAAAAAAAAACJJ0ABAAAAAAAAACSeAAUAAAAAAAAAkHgCFAAAAAAAAABA4glQAAAAAAAAAACJJ0ABAAAAAAAAACSeAAUAAAAAAAAAkHgCFAAAAAAAAABA4glQAAAAAAAAAACJJ0ABAAAAAAAAACSeAAUAAAAAAAAAkHgCFAAAAAAAAABA4glQAAAAAAAAAACJJ0ABAAAAAAAAACSeAAUAAAAAAAAAkHgCFAAAAAAAAABA4glQAAAAAAAAAACJJ0ABAAAAAAAAACSeAAUAAAAAAAAAkHgCFAAAAAAAAABA4glQAAAAAAAAAACJJ0ABAAAAAAAAACSeAAUAAAAAAAAAkHgCFAAAAAAAAABA4glQAAAAAAAAAACJJ0ABAAAAAAAAACSeAAUAAAAAAAAAkHgCFAAAAAAAAABA4glQAAAAAAAAAACJJ0ABAAAAAAAAACSeAAUAAAAAAAAAkHgCFAAAAAAAAABA4glQAAAAAAAAAACJJ0ABAAAAAAAAACSeAAUAAAAAAAAAkHgCFAAAAAAAAABA4glQAAAAAAAAAACJJ0ABAAAAAAAAACSeAAUAAAAAAAAAkHgCFAAAAAAAAABA4glQAAAAAAAAAACJJ0ABAAAAAAAAACSeAAUAAAAAAAAAkHgCFAAAAAAAAABA4glQAAAAAAAAAACJJ0ABAAAAAAAAACSeAAUAAAAAAAAAkHgCFAAAAAAAAABA4glQAAAAAAAAAACJJ0ABAAAAAAAAACSeAAUAAAAAAAAAkHgCFAAAAAAAAABA4glQAAAAAAAAAACJJ0ABAAAAAAAAACSeAAUAAAAAAAAAkHgCFAAAAAAAAABA4glQAAAAAAAAAACJJ0ABAAAAAAAAACSeAAUAAAAAAAAAkHgCFAAAAAAAAABA4glQAAAAAAAAAACJJ0ABAAAAAAAAACSeAAUAAAAAAAAAkHgCFAAAAAAAAABA4glQAAAAAAAAAACJJ0ABAAAAAAAAACSeAAUAAAAAAAAAkHgCFAAAAAAAAABA4glQAAAAAAAAAACJJ0ABAAAAAAAAACSeAAUAAAAAAAAAkHgCFAAAAAAAAABA4glQAAAAAAAAAACJJ0ABAAAAAAAAACSeAAUAAAAAAAAAkHgCFAAAAAAAAABA4glQAAAAAAAAAACJJ0ABAAAAAAAAACSeAAUAAAAAAAAAkHgCFAAAAAAAAABA4glQAAAAAAAAAACJJ0ABAAAAAAAAACSeAAUAAAAAAAAAkHgCFAAAAAAAAABA4glQAAAAAAAAAACJJ0ABAAAAAAAAACSeAAUAAAAAAAAAkHgCFAAAAAAAAABA4glQAAAAAAAAAACJJ0ABAAAAAAAAACSeAAUAAAAAAAAAkHgCFAAAAAAAAABA4uXnugBgw9xx9A65LgEAAAAAIPHO3vG8XJcAAGwgM1AAAAAAAAAAAIknQAEAAAAAAAAAJJ4ABQAAAAAAAACQeAIUAAAAAAAAAEDiCVAAAAAAAAAAAIknQAEAAAAAAAAAJJ4ABQAAAAAAAACQeAIUAAAAAAAAAEDiCVAAAAAAAAAAAIknQAEAAAAAAAAAJJ4ABQAAAAAAAACQeAIUAAAAAAAAAEDiCVAAAAAAAAAAAIknQAEAAAAAAAAAJJ4ABQAAAAAAAACQeAIUAAAAAAAAAEDiCVAAAAAAAAAAAIknQAEAAAAAAAAAJJ4ABQAAAAAAAACQeAIUAAAAAAAAAEDiCVAAAAAAAAAAAIknQAEAAAAAAAAAJJ4ABQAAAAAAAACQeAIUAAAAAAAAAEDiCVAAAAAAAAAAAIknQAEAAAAAAAAAJJ4ABQAAAAAAAACQeAIUAAAAAAAAAEDiCVAAAAAAAAAAAIknQAEAAAAAAAAAJJ4ABQAAAAAAAACQeAIUAAAAAAAAAEDiCVAAAAAAAAAAAIknQAEAAAAAAAAAJJ4ABQAAAAAAAACQeKl0Op3OdREAAACQK1OmTIkePXpERMTkyZOje/fuOa4IgAjvzwAAQOMzAwUAAAAAAAAAkHgCFAAAAAAAAABA4glQAAAAAAAAAACJJ0ABAAAAAAAAACSeAAUAAAAAAAAAkHgCFAAAAAAAAABA4glQAAAAAAAAAACJJ0ABAAAAAAAAACSeAAUAAAAAAAAAkHgCFAAAAAAAAABA4glQAAAAAAAAAACJJ0ABAAAAAAAAACSeAAUAAAAAAAAAkHipdDqdznURAAAAAAAAAAC5ZAYKAAAAAAAAACDxBCgAAAAAAAAAgMQToAAAAAAAAAAAEk+AAgAAAAAAAABIPAEKAAAAAAAAACDxBCgAAAAAAAAAgMQToAAAAAAAAAAAEk+AAgAAAAAAAABIPAEKAAAAAAAAACDxBCgAAAAAAAAAgMQToAAAAKDJq6ioiJtuuimGDBkSnTt3jsLCwkilUpFKpWLAgAEREXH88cdn9g0bNqzBa1p5rlQqFRMmTGjw8wEkWTqdjnvuuScOOuig6N69exQVFWXeg9u2bZvpN2zYsMz+448/vsHr6tWrV+Z8I0eObPDzAQAADSs/1wUAAADA2pSWlsZ+++0Xb7/9dq5LASAHli9fHoccckg8/vjjuS4FAADYxAlQAAAA0KRdfPHFWeGJnj17Rt++fSM/f8Ul7ZZbbpmr0gBoBNdcc01WeKJLly7Rr1+/KCwsjIiIkpKSXJUGAABsYgQoAAAAaLIqKyvj9ttvz7R/97vfxQUXXJDDigBobLfeemtm+7TTTovrrrsuUqlUDisCAAA2Val0Op3OdREAAACwJqNHj47+/ftHRER+fn6UlZVlZp7ItVVv3o0fPz569eqVu2IANlFLliyJkpKSWPkRZlN7v+3Vq1dMnDgxIiJeeOGFGDx4cG4LAgAANkhergsAAACAmsydOzez3blz5yYTngCgccybNy9W/f5Xjx49clgNAACwqROgAAAAoMlatmxZZrtZs2Y5rASAXFj170CEvwUAAEDDEqAAAACgSRk5cmSkUqlIpVKxzz77ZPZPnDgxs3/Vn5WOP/74zL5hw4at9RyzZs2K4cOHx5AhQ6Jr167RokWLKCwsjHbt2sUOO+wQRxxxRPz5z3+OsWPH1qn2hQsXxrXXXhu77bZbdOrUKYqKiqJHjx5x1FFHxfPPP1+nsQDqolevXpn3wJEjR0ZERHl5edx2222x7777Rrdu3aJ58+bRtWvX+P73vx8PPfRQnc8xZcqUuPLKK2P33XePLl26RPPmzaNjx47xjW98I375y1/G559/Xi/PZcKECZnn0rt376zH1vR3YMKECZnHhw0bltl//PHHr/U8paWlccMNN8QBBxwQPXr0iJYtW0ZBQUG0bds2+vfvHwcffHBcddVV8dFHH9Wp/vr+vQMAAI3H3KcAAAAkyr333hunnnpqLFiwYLXH5s+fH/Pnz4+PPvooHnjggTj77LPjq6++io4dO65z3HfeeScOP/zwrBt5EStuON53331x3333xRlnnBHXXnttVvADoCF8+eWXcfjhh8cHH3yQtX/69Onx2GOPxWOPPRaHHHJI3HvvvVFYWLjO8YYPHx7Dhg2LJUuWZO2fNWtWzJo1K959990YPnx4/OIXv4irrroq8vKa9ve2nn/++TjmmGNi+vTpqz22YMGCWLBgQYwePToeffTRuPjii+PNN9+MnXfeeZ3j1vfvHQAAaFwCFAAAADQpm222Wey///4RETF37tx4++23IyKiqKgo9t577w0a+9///nf88Ic/jKqqqsy+bt26Re/evaOoqChKS0tj/PjxMXPmzMzjq/atyaeffhpHHXVUlJaWRiqViu222y4233zzmDVrVnzyySeRTqcjIuK6666Lnj17xrnnnrtBzwNgbWbMmBHHHHNMTJ06NSIitt566+jWrVvMnz8/Ro0aFZWVlRER8fDDD8fZZ58d11133VrHO+uss+Kaa67J2rfVVltFt27dYvbs2Zn3uWXLlsXVV18d48ePj3vvvXe9QxQtWrTI/B0oKyuLl156KfPYyv3V+9fFqFGj4oADDoilS5dm9m2++eax1VZbRcuWLWPRokUxefLkzO8vonZ/C+r79w4AADQ+AQoAAACalB122CH+/e9/R8SK5TxWLuPRqVOnzP71dd5552Vugu2+++7xt7/9LXbYYYfV+k2aNCkeffTRuPHGG2s17rHHHhulpaVx4oknxhVXXBFdunTJPPbZZ5/FEUcckZkCftiwYXHKKadE69atN+i5ANTkjDPOiDlz5sT3vve9+OMf/xh9+/bNPDZlypQ49thj44UXXoiIiBtuuCHOPPPM2GqrrdY41r333psVnthll11ixIgRWe+dEyZMiNNOOy2eeuqpiIh44IEHYuedd17vsNiq7/cTJkzIWsZjQ/8ORET88pe/zIQntt1227j55ptj9913X63fzJkz4/HHH48RI0bUatz6/L0DAAC50bTn0gMAAIB6Mnny5Pj4448jIqKkpCQef/zxNYYnIiK22GKL+NnPfhYff/xxrZbvmDNnTlx44YVxyy23ZIUnIiL69esXTzzxRLRs2TIiIhYvXhwPPvjgBj4bgJrNmTMnjj766HjkkUeybuJHRHTv3j0ee+yx6Nq1a0SsmFnhzjvvXOM45eXlceaZZ2bagwYNiueff361985evXrFv/71rzjggAMy+371q19lzebTVCxfvjyeffbZiIhIpVLx6KOPrjE8ERHRsWPHOOGEE+KNN96IQYMGrXPs+vq9A/D/27vzqKjuNP/jnwIFBJFFRAQ1ogkqqDGCGmPUYGwSNa7B1ozp6bQdl7aTcYkhyWTRaNJt1Di2JmO3rTma6ZiTuE2My0QdV9z33Yi7uLAFBEQQ4f7+6PH+LNYCSwqt9+sczrnPre/y1K3yco734fsFAMBxKKAAAAAAADiFxMRE8zgiIkK+vr7l9rFYLDYtQR8WFqYpU6aU+nqjRo0UGxtrxtu3by93TACoLF9fX82dO1cWi6XE12vXrq3XX3/djEu7Jy1dutQsgnBxcdGCBQvMYrCiXF1dNW/ePHl5eUmScnNztWDBgvt5Gw9ESkqK8vLyJP2zQMLWFSBcXV3LbWOv6w4AAADAcSigAAAAAAA4BQ8PD/M4ISFBt27dstvYw4YNU40aZe+S+eyzz5rHp06dstvcAFDUkCFDyt0myJZ70g8//GAed+/eXa1bty5zzODgYA0aNKjE/tXFvb8LkpOTdf36dbuNba/rDgAAAMBxKKAAAAAAADiFli1bqlatWpKkX375RbGxsTp//rxdxu7UqVO5bUJCQszjjIwMu8wLACWx1z1p9+7d5nHPnj1tmvull14yjw8dOqTbt2/b1K+q+Pn5KTQ0VJJkGIb69++vo0eP2mVsfhcAAAAADz8KKAAAAAAATsHDw0OjRo0y4zVr1qhZs2Z65pln9NFHH2n9+vW6efNmpcYOCgoqt829y97n5ORUah4AsIU97kn5+fm6dOmSGZe3+sRdrVq1Mo/z8vJ0+fJlm/pVpbFjx5rHu3fvVps2bdS2bVvFxcVp1apVSk9Pr9S4/C4AAAAAHn4UUAAAAAAAnMaf//xn9e/f34wNw9DOnTs1ZcoUxcTEyM/PT9HR0fr73/+u3Nxcm8d1c3OrUB6GYVSoPQBUREXvSSUpujpC3bp1beoXEBBQ5jjVwZtvvqnRo0dbnTt8+LCmT5+uPn36KCAgQB07dtR//Md/6MaNGzaPa4/rDgAAAMCxKKAAAAAAADgNd3d3rVixQj/88IN+9atfqUaNGlav5+fna/PmzRoxYoQef/xxbdiwwUGZAoBjFd16w9bigKLt8vLy7JaTvVgsFn355ZfasmWLBgwYIHd3d6vXCwsLtWfPHo0fP16hoaFavHixgzIFAAAAUNUooAAAAAAAOJ2+fftq3bp1+uWXX7Rq1Sq9/fbbat++vSwWi9nmypUr6t27t3bt2uXATAHAMerUqWMVZ2Vl2dSvaDsfHx+75WRvXbt21fLly5WRkaENGzboww8/VNeuXa2K69LT0zV06FAtX77cgZkCAAAAqCoUUAAAAAAAnJa3t7d69+6tadOmac+ePUpMTNR7770nV1dXSf/8C+z333/fwVkCQNXz9vaWh4eHGZ8/f96mfufOnbOK69WrZ9e8HgQPDw89//zzmjx5srZs2aKkpCR99tln8vT0NNu8/fbbDswQAAAAQFWhgAIAAAAAgP8THBysP/3pT/rggw/Mc1u3bq2WS9ADwIP21FNPmcd79uyxqc/u3bvN45CQEAUGBto9rwfN399fcXFx+vLLL81z586d09mzZx2YFQAAAICqQAEFAAAAAABF9O/f3zy+c+eO0tLSHJcMADhIly5dzOOlS5fqzp075fZZvHhxif0fRvf+LpCkpKQkxyQCAAAAoMpQQAEAAAAAcAqGYdjcNisryyr28/OzdzoAUO299tpr5vGVK1f0xRdflNn+u+++04EDB8x42LBhDyq1Sruf3wX+/v72TgcAAABANUMBBQAAAADAKXzzzTcaOnSo9u/fX2a7nJwcTZw40Yzbt2+vWrVqPej0AKDaadmypQYMGGDG77zzjn788ccS227fvl3Dhw834w4dOqhHjx4PPMeK2rp1q1566SVt3ry5zGKKgoICvfvuu2YcFBSksLCwqkgRAAAAgAPVcHQCAAAAAABUhTt37mjx4sVavHixwsLC9MILLygyMlINGjSQl5eXMjIytH//fn311Ve6ePGi2e+DDz5wYNYA4Fhz585VfHy8UlJSdPv2bfXt21exsbEaOHCgQkJClJqaqlWrVunrr79WQUGBJMnT01MLFy6UxWJxcPbFGYah1atXa/Xq1WrUqJF69uypqKgoNWrUSN7e3srKytLRo0e1aNEiHT9+3Oz33nvvycWFv0UDAAAAHnUUUAAAAAAAnM7p06d1+vTpctt9+umn6tu3bxVkBADVU/369bVp0ybFxMTo6tWrkqSlS5dq6dKlJbb38fHR6tWr1bJly6pMs1IuX76sefPmad68eWW2GzVqlN58880qygoAAACAI1E2DQAAAABwCtHR0YqLi1OrVq3K/Ktoi8Wirl27asuWLfr3f//3KswQAKqniIgIHTlyRH/84x/l6elZYhs3Nze9+uqrOnbsmDp37lzFGdqudevWmjRpkqKiouTq6lpm23bt2mn58uWaO3dutVxNAwAAAID9WYyyNvsDAAAAAOARlJ6erkOHDuns2bNKS0vTnTt3VLt2bTVp0kTt27dXcHCwo1MEgGopNzdXW7Zs0blz55Seni4fHx81btxYzz33nLy9vR2dXoVkZ2fr0KFDOnPmjFJSUpSXl6fatWsrJCREUVFRCg0NdXSKAAAAAKoYBRQAAAAAAAAAAAAAAMDpsYUHAAAAAAAAAAAAAABwehRQAAAAAAAAAAAAAAAAp0cBBQAAAAAAAAAAAAAAcHoUUAAAAAAAAAAAAAAAAKdHAQUAAAAAAAAAAAAAAHB6FFAAAAAAAAAAAAAAAACnRwEFAAAAAAAAAAAAAABwehRQAAAAAAAAAAAAAAAAp0cBBQAAAAAAAAAAAAAAcHoUUAAAAAAAAAAAAAAAAKdHAQUAAAAAAAAAAAAAAHB6FFAAAAAAAAAAAAAAAACnRwEFAAAAAAAAAAAAAABwehRQAAAAAAAAAAAAAAAAp0cBBQAAAAAAAAAAAAAAcHoUUAAAAAAAAAAPsfz8fIWHh8tischisejLL790dEqVVlhYqIiICPO9zJ4929EpAQAAAHAiFsMwDEcnAQAAAAAAAKByZs6cqbfeekuS1KxZM508eVI1a9Z0cFaVt2LFCg0cOFCS5Ofnp4SEBNWtW9fBWQEAAABwBqxAAQAAAAAAADykUlNTNXnyZDOeOHHiQ108IUkDBgxQVFSUJCk9PV0TJ050cEYAAAAAnAUFFAAAAAAAAEAl3N1mwmKx6LnnnnNIDtOmTdONGzckSY0bN9Yrr7zikDzsLS4uzjz++9//rkuXLjkwGwAAAADOggIKAAAAAAAA4CGUlJSkL7/80ozHjRunGjVqODAj+3n55ZfVrFkzSdLt27f1ySefODgjAAAAAM6AAgoAAAAAAADgITRnzhzl5ORIkmrVqqXXXnvNsQnZkYuLi4YPH27GixYtUlJSkgMzAgAAAOAMKKAAAAAAAAAAHjK5ubn629/+ZsaxsbHy9fV1XEIPwGuvvWauqHH79m399a9/dXBGAAAAAB51FFAAAAAAAAAAD5klS5YoNTXVjH/zm984MJsHo379+oqJiTHjefPmqbCw0IEZAQAAAHjUUUABAAAAAAAAPGT+8Y9/mMd+fn6Kjo52YDYPzoABA8zjq1evauPGjQ7MBgAAAMCjroajEwAAAAAAoDrau3evEhISdOXKFbm4uKhZs2aKjo6Wj49Pmf1yc3MVHx+vkydPKisrS35+fmrRooW6dOliLkV/P3JycrR9+3ZduXJFycnJcnV1VWBgoMLDw9WuXTtZLJb7Gj8xMVHHjx/X+fPndePGDUmSv7+/QkJC1KlTJ/n5+d33e7h48aIOHjyoxMREZWZmymKxyMvLSw0aNFDTpk0VEREhDw+P+56nqhQUFGjXrl26cOGCrl27poKCAkVEROill14qt+/PP/+sw4cPKyUlRTdu3JC/v7+Cg4P17LPPyt/f3655ZmdnKz4+XpcvX1ZKSop8fHzUrl07Pf300+V+bxITE7Vjxw5dunRJBQUFCgoKUufOnfX444/bJbdLly5p3759SkpKUnp6unx8fMw5goKC7DLHXfn5+dqxY4eOHTumjIwM1alTR40aNVK3bt3s8v2uCsnJyfrf//1fM+7Vq5dd7i93Vaf7X9++fTVixAgZhiFJWrx4sXr06FGpsQAAAACgXAYAAAAAAE5m06ZNhiTzZ+LEiYZhGMadO3eMv/zlL8YTTzxh9frdH09PT+Ptt982bt26VWzMzMxMIy4uzqhTp06JfevVq2fMnz+/0jnHx8cbPXv2NNzd3UscX5IRGBhofPjhh0ZmZqbN4+bn5xtr1641fv/73xuPPfZYqWNLMiwWi9GpUydjxYoVRmFhYYXyLygoMP72t78Zbdq0KXMOSYabm5vRqVMnY8aMGUZOTk6J450/f96qz29/+9sK5dOtWzer/mWZOHGiVdtNmzYZhmEYaWlpxoQJE4ygoKBi7+HJJ58sdbysrCxj0qRJRmhoaKnXwNXV1XjuueeMrVu32vyefvvb31qNcf78ecMwDCMxMdEYNmyYUbt27RLnatasmfHjjz+WOObBgweNmJgYw2KxlNi3S5cuxtGjR23O8V55eXnGrFmzjPDw8DK/c1FRUcYPP/xg87ilfV65ubnG5MmTDX9//1Kv+eDBg40LFy6UOX7R746tP3fvM/awcOFCq7Ercm95GO9/ERER5lj169ev8P0HAAAAAGzFFh4AAAAAAEi6efOmevbsqTFjxighIaHENjk5OZo+fbpiYmJ069Yt8/zZs2cVGRmpadOmKTMzs8S+KSkpev311zVu3LgK5/XrX/9azz77rNauXau8vLxS2yYnJ2vKlCkKCwvT3r17bRp/yJAh6tmzpxYsWKCLFy+W2dYwDO3cuVMDBgxQbGysbt68adMc6enp6tq1q0aOHKkjR46U2/727dvauXOnJkyYoCtXrtg0R1U7dOiQWrdurRkzZuj69es291u1apWaNWumSZMm6fz586W2Kygo0ObNm83rdufOnUrluXPnTj355JP66quvlJ2dXWKbs2fPqm/fvpozZ47V+QULFqhDhw5at26d+df/RW3btk2dOnXS9u3bK5TX7t271aJFC40dO1YnTpwotZ1hGNq3b5/69eunvn372vydK+rKlSt6+umn9dFHH+mXX34psU1BQYG+++47RUVF6eDBg5Wap6r89NNPVnG3bt3ua7zqev+76973l5SUVO0/HwAAAAAPLwooAAAAAABOzzAMDRkyROvXrzfPBQcHKyoqSuHh4XJ1dbVqv23bNo0ZM0bSP4sWunfvbj50tFgsatq0qdq3b6+mTZsWm2vWrFn65ptvbMorOTlZ3bp105IlS4q91rBhQ0VGRqpt27bFth24fv26nnvuOcXHx5c7R25ubrFz9erVU3h4uDp27Kgnn3xSAQEBxdosX75c/fr1U2FhYZnjG4ahfv36FXvAbrFYFBwcrHbt2qljx44KDw+Xr69vuflWB5cvX9YLL7ygq1evmudCQkIUGRmpsLCwUrcfmTdvnvr376/k5GSr856enmrZsqU6dOigxx9/XC4uLsX6xcbGllrEUJqEhAT16tVLaWlpkqQaNWqoefPmat++vUJCQqzaGoahsWPHatu2bZKkb7/9VsOHD1d+fr4kycvLSxEREYqMjCz2fcvOztaAAQOUnp5uU14//vijoqOjixWQuLm5qXnz5urQoYNatGhRbMuHH3/8Ud27dy/xO1uWjIwM9ejRQ4cOHTLPhYSEKCoqSq1atZK7u7tV+9TUVPXt27fUYoDq4O7nJEm+vr73tZVKdb3/3SsyMtIq3rp1a4XHAAAAAACbOG7xCwAAAAAAHKPoEvZNmjQxj1955RXjxIkTVu1TU1ON0aNHF9ta4MiRI8YLL7xgSDI8PDyMjz76yLh27ZpV31OnThldu3a16hsUFGTcvn27zBwLCgqM6OjoYsvgT58+vdgcBQUFRnx8vNG9e3er9g0bNjRSU1PLnKd3795GQECAMXr0aGP16tVGSkpKie0SEhKM9957z/Dw8LCaY+bMmWWO//3331u19/LyMqZPn25cv369xPaXLl0yFi1aZAwcONCoUaOGkZCQUGI7R27hUb9+fXPLhz/84Q/FcszJyTHWr19vdW7Dhg2Gi4uL1Th9+vQxNm/ebOTn51u1TUtLMz777DPD29vbqv3UqVPLzLPoFh53v9e+vr7GrFmzjPT0dKv2u3fvNlq3bm3VJyoqyjhz5ozh6elpSDLCwsKM5cuXG3l5eWa/O3fuGN99953h6+tr1Xf8+PFl5mcYhnHs2DGjVq1axbYBWbVqVbGtITIzM4158+aZ1/vuz6hRo8qco+jn1bRpU0OSUaNGDeONN94wzpw5Y9U+OzvbmDFjhlGzZk2rfnFxcSWOv2/fPmP9+vXG+vXrrdq3adPGPF/Sz9mzZ8u9PrZISkqymrdz584V6v8w3P+K2rNnj9UYQ4cOrVB/AAAAALAVBRQAAAAAAKdT9AHi3Z8ZM2aU2e93v/udVfuWLVsakozatWsbW7duLbXfzZs3zbZ3f1asWFHmXFOnTrVq37FjRyMpKanMPgUFBcYbb7xh1e/f/u3fyuyzY8eOYg+uy3Lw4EHD39/fHD8kJKRYAcC9Bg0aZJXPxo0bbZ7r0qVLRlZWVomvObKA4u7D+CVLltg0V3p6uhEUFGT2dXFxMRYsWFBuv+PHjxv16tUz+7m5uRV7QH2vogUUd4s9jh8/XmqflJQUIzAwsMTvdZcuXYzMzMxS+27cuLFYgU9ZD8bz8/ONVq1aWfX5+OOPjcLCwjKvQ2JiovHEE09Y9Ttw4ECp7Uv6vNzd3Y3Vq1eXOc8//vEPqz6BgYHlPui/t323bt3KbGsvRQs3hg0bVqH+D8P9r6jMzEyr/q1atapQfwAAAACwFVt4AAAAAAAgafDgwXrrrbfKbPPJJ59Yba9w8uRJSdLMmTPVpUuXUvt5enrqww8/tDq3du3aUtvn5ORo2rRpZtygQQOtWbNGgYGBZebn4uKiWbNm6emnnzbPffXVV8rIyCi1T6dOnUrdcqIkbdu2tcrtypUrWrduXantT58+bR63aNFC0dHRNs/VqFEj1a5d2+b2VWnChAmKjY21qe1f//pXXb9+3Yw//fRTDRs2rNx+4eHhWrhwoRnfvn1bX3zxRYXyXLhwocLDw0t9PSAgQOPHj7c6d/LkSfn7++v777+Xt7d3qX2jo6MVExNjxikpKdq3b1+p7ZcuXapjx46Z8ciRI/XRRx/JYrGU+R5CQkK0bNkyq397n3/+eZl9ipo6dap69epVZpuhQ4eqY8eOZpycnKz9+/dXaJ6qUHTrk4YNG973mNXp/lcSb29vq3vBxYsXK9QfAAAAAGxFAQUAAAAAwOlZLBZNnjy53HbBwcGKioqyOvfYY4/Z9DC8T58+Vg8fDx48WGrbr7/+Wr/88osZT5o0Sf7+/uXOIUmurq567733zDg7O1s//fSTTX1tNWTIELm6uprxjh07Sm1769Yt87hmzZp2zcNRPD09ra5xWQoKCjRnzhwzbty4cbkPqu/Vq1cvPfXUU2a8bNkym/s+88wzevHFF8tt17dv32LnRo8eraCgoHL79uvXzyou63s9a9Ys89jT01N//vOfyx3/rtatW1vN9cMPP6igoMCmviEhIfrjH/9oU9vBgwdbxQcOHLA5x6py+fJlq7hBgwb3NV51u/+VFUsZGAAAENFJREFU5t73mZWVVWZhGAAAAABUFgUUAAAAAACn16ZNG4WFhdnUtlWrVlbxgAEDrIoJSlO7dm01adLEjC9dulRq2zVr1pjHNWrU0JAhQ2zK7a7nn3/e6mHltm3bKtS/PF5eXlarYZT1MDQ4ONg8PnHiRKUenFY3vXv3Vp06dWxqe/jwYV29etWMhwwZUuFCkntXeTh16pRSU1Nt6jdo0CCb2oWFhcnNzc3qnK2ra7Ru3doqLu17nZaWpj179pjxSy+9JD8/P5vmuOve65CdnW3zd2ngwIE2X/O2bdtaxUWLFaqDGzduWMX3u0pLdbv/lTXGvYpeBwAAAACwBwooAAAAAABOLzIy0ua2devWtYrbtWtXqb6ZmZkltjEMQ9u3bzfjsLAwmx/W3+Xl5WU1192l9stz/Phxffzxx+rXr5+eeOIJBQQEyM3NTRaLpdjPtWvXzH5lPdD/1a9+ZR4XFBToxRdf1Pz585WTk1Oh91SddOjQwea2RYtXiv4Fvy0aN25sFdv6edr6vXZ1dZWPj48Z16xZs9iD8tIU/fdQ2vc6Pj5ehmGYcVVeh4rMVXSbnOr4kL7ov51atWrd13jV6f5XFk9PT6v45s2bFR4DAAAAAMpTw9EJAAAAAADgaPXq1bO5bdGHeJXte+/WFvdKSkqy2r7jxIkTslgsNs9RknvHK8nRo0f1xhtvaOvWrZUav6yl9EeNGqXZs2crKSlJkpScnKzhw4drzJgx6tGjh6Kjo9W5c2e1bdv2odniIzQ01Oa2RR/y//rXv77v+cv7PO+q7HfT39/fplUFivaTSv9eF70OcXFxiouLszm/kth6HYoWRZTFy8vLKi7t/VQn9xamVEZ1uv+V5X7fJwAAAADYghUoAAAAAABOz8PDwyF9S5KWlmbX8aSy/4p+1apVioqKqnTxhCTl5eWV+pq/v79WrVqlBg0aWJ3PycnRypUrNW7cOHXo0EH+/v7q1auX5s+fX2ZBRnVQkRVBqvrzvFdlv5v3850u7SH3w3gdpOr50L5oEUNubu59jVed7n9lKVp0UbTYBQAAAADsgRUoAAAAAACoRh5E8UBhYWGJ50+fPq3Y2Fjdvn3bPGexWNShQwc988wzatq0qYKCguTh4VHsQemrr75qripRnqioKB07dkxTp07VggULSlw5IDs7W2vXrtXatWs1fvx4jR8/Xu+//361XJWiIjlV5edZnXEd7MfX19cqzsrKckwiVSw7O9sqvnfbGQAAAACwFwooAAAAAACoRor+dXl4eLj+8pe/3NeYtWrVKvH8u+++a7V6RIcOHbRo0SK1aNGi3DEruq2Iv7+/pk2bpk8++USbN2/Wpk2btGXLFu3bt0/5+flWbbOysvTxxx9rw4YNWrduXbFr8jApmvvUqVMVGRl5X2NGRETcV39HKHodxo4dq969e9/XmE2bNr2v/g+rRo0aWcXXrl1zUCZV69736e3tXayQBAAAAADsgQIKAAAAAACqkYCAAKvYMAz16NHD7vNkZ2dr9erVZly/fn39z//8j/z8/Gzqn56eXql53dzcFBMTo5iYGEn/XJZ/165dWrNmjRYvXqyrV6+abbdv364JEyboP//zP4uNU9ECjqJycnLuq7+tin6eoaGhD+TzrO6KXocGDRo45XWwhyZNmljFiYmJjkmkCmVmZlqtQFH0GgAAAACAvbg4OgEAAAAAAPD/BQUFWa0YcfHixWIrNNjDgQMHrLbueOWVV2wunjhz5ozVyhX3o1atWoqOjtb06dN14cIFvf/++1avz58/X5mZmcX6Fd1S5NatWxWaNyUlpeLJVkJoaKhVfObMmSqZt7rhOthPmzZtrOKff/7ZQZlUnVOnTlnFRa8BAAAAANgLBRQAAAAAAFQjNWvWVOfOnc04JydHu3fvtvs8SUlJVnHz5s1t7rtx40Z7pyPpn+/9k08+0bPPPmuey8/PL/H916lTxyou+n7KkpqaqgsXLlQ6z4qIjo62ih/UtavuHtXrcO9KKIZhVMmcgYGBatiwoRkfO3asSuZ1pKNHj1rFUVFRDsoEAAAAwKOOAgoAAAAAAKqZF1980SqeM2eO3eco+rD33tUoyus3d+5cu+dzr3sLSKR/FjwUVatWLdWrV8+Mjxw5osLCQpvG/+677+4vwQro0KGD1coeGzdu1IkTJ6ps/uoiJCRErVq1MuOzZ89q7dq1DszIPry8vMzjqtoWRpK6dOliHmdmZiohIaHK5naE/fv3W8Vdu3Z1UCYAAAAAHnUUUAAAAAAAUM28/vrr8vX1NeOlS5dq9erVdp0jKCjIKo6Pj7ep39y5c3Xo0CG75lJU0YKJ0rYWadeunXmcnp6u9evXlzv2jRs39Nlnn91fghVQs2ZNjR071owNw9DIkSMfyLYs1d3bb79tFY8dO1Y3btxwUDb24e/vbx5X1aomkvTCCy9YxVu3bq2yuR1hy5Yt5nFgYKCeeuopB2YDAAAA4FFGAQUAAAAAANWMj4+P3nnnHTMuLCzUK6+8opUrV1ZonP3792vw4MElvhYZGSk3NzczXr58uXbs2FHmeKtWrdL48eNtnj8zM1NDhw7VwYMHbe5z4cIFLV261IxdXFzUtm3bEtv26tXLKn7nnXfKXAXg5s2bGjx4sC5fvmxzPvYwZswY1a9f34zj4+MVGxtboeKBmzdvavbs2VqwYMGDSLFKDB06VBEREWZ8+vRp9ezZU1evXrV5jPz8fC1atKhKi2DKcu/7SU1N1ebNm6tk3hdffFGurq5mvGnTpiqZ1xGSk5N18uRJM+7Zs6fV1ikAAAAAYE8UUAAAAAAAUA3FxcVZFQhkZWWpf//+GjhwoDZu3Ki8vLxifXJzc7Vnzx796U9/UmRkpKKiovT999+XOL6Xl5defvllMy4oKFDPnj01b9485ebmWrVNSEjQ6NGj1a9fP+Xl5SkwMFB169Yt9z0UFhZq8eLFateundq3b6/PPvtMBw4cKHG7kMzMTC1YsECdOnWyKizo06dPsdUy7ho6dKg8PT3N+PDhw+rRo0exgo3c3FwtX75c7du3108//SQ3Nzc1bNiw3PztxcfHR0uWLFHNmjXNcytXrlRERIQ+//xzXbp0qcR+ly9f1tKlS/Xqq68qODhYY8aMqfLiD3tydXXVsmXL5OPjY57buXOnWrVqpYkTJ+r06dMl9ktKStKqVas0cuRIhYSE6LXXXrN6oO5IMTExVvGAAQP07rvvasmSJVq3bp02bNhg/pw7d85u89avX1/du3c34zVr1jyyq5qsXLnSasuhf/mXf3FgNgAAAAAedTUcnQAAAAAAACjOxcVFixcvVv/+/c2/ajcMQytWrNCKFSvk7u6uxx57TH5+fsrNzVVGRoYSExNVUFBg8xxTpkzR6tWrlZmZKemfRQwjR47UmDFjFBYWJnd3d127dk2JiYlmH1dXVy1cuFB/+MMflJaWZvNc+/bt0759+/Tuu++aBQx+fn5ydXVVWlqaLly4UCz3evXqac6cOaWOWbduXU2ePFkTJkwwz+3cuVPt2rVTSEiIgoODdfPmTZ0/f163bt0y28yePVvffvut1ft60Lp06aKvv/5av/vd78wClStXrmjChAmaMGGCGjRooMDAQLm7u+vGjRtKTk5Wenp6leVXVZo3b64VK1bo5ZdfNt9fenq6Jk+erMmTJysgIEBBQUHy8vJSZmamUlNTlZKS4uCsS/ev//qv+vTTT81tZzIyMkpdHWPixImaNGmS3eb+zW9+Y25bk56erk2bNhUr6HgUrFixwjxu0KCBnn/+eQdmAwAAAOBRxwoUAAAAAABUUz4+Plq/fr3Gjx+vGjWs/wYiLy9Pp0+f1u7du3X48GFdvHixxOKJRo0alTp+s2bNtGTJEtWuXdvqfG5uro4cOaK9e/daFRl4eHjom2++Uc+ePe/rfd2+fVvnzp3T/v37tWfPHp09e7ZY7i1atFB8fHyZ+UvSuHHjNHz48GLnr1y5or179+rEiRNm8YSLi4tmzZqlkSNH3lf+lTVkyBDFx8crLCys2GvXrl3T4cOHtWfPHv38888lFk+4uroqODi4KlJ9oKKjo7V37161b9++2Gupqak6duyYdu/erZMnT5ZYPGGxWMr9XlQVf39/LVu2TIGBgVU+96BBgxQQEGDG//Vf/1XlOTxoSUlJWrdunRmPGDHCausSAAAAALA3CigAAAAAAKjGatSooc8//1w///yzRowYYdOD2iZNmmjEiBFat26dLly4UGbbmJgY7d27V3369Ckzh9jYWB0+fFiDBw+2OXdfX18dPHhQkyZNUufOneXu7l5unzZt2mj27Nk6cuRIiYUGRbm4uGjevHlauHChGjduXGq7Ll26aMeOHRozZozN+T8IkZGROnHihL7++ms9/fTT5T4Mdnd3V/fu3TVjxgxdvnxZI0aMqKJMH6xmzZppz549Wrlypbp37y43N7cy27u6uqpTp06aPHmyzpw5oylTplRRpuXr2rWrTp06pS+++EJ9+vRRaGiovL295eLyYP/bzcPDw6oYaNmyZcrIyHigc1a1RYsW6c6dO5IkNzc3jRo1ysEZAQAAAHjUWYx7NxEEAAAAAADVmmEYOn78uI4fP67U1FRlZGTI3d1dPj4+Cg0NVXh4eKVXKbh27Zq2bdumxMRE5eTkqE6dOnr88cf1zDPPyNfX975zz8vL04kTJ3TmzBldu3ZN2dnZslgsqlOnjpo0aaK2bdsqJCSk0uMbhqGDBw/q4MGDSk1NlWEYatSokZ555hmFhobed/4Pwo0bN7Rr1y5dvXpVqampys/Pl7e3twIDA9WiRQs1b95cHh4ejk7zgcvJydGuXbt0+fJlpaWl6datW6pdu7YCAgLUvHlztWzZUl5eXo5Os9pJSkpS06ZNlZOTI0maOXOmxo0b5+Cs7KOwsFDNmzfXmTNnJEm///3vNX/+fAdnBQAAAOBRRwEFAAAAAAAA8JCKi4vT9OnTJUmNGzfW2bNni2358zBaunSpBg0aJOmfq0+cPn1ajz32mIOzAgAAAPCoYwsPAAAAAAAA4CEVFxenOnXqSJIuXbqkb7/91sEZ2ce0adPM49dff53iCQAAAABVghUoAAAAAAAAgIfYzJkz9dZbb0mSmjVrppMnT6pmzZoOzqry/vu//1sDBgyQJPn6+iohIUEBAQEOzgoAAACAM2AFCgAAAAAAAOAh9uabb6ply5aSpLNnz2revHkOzqjyCgsL9cEHH5jxxx9/TPEEAAAAgCrDChQAAAAAAAAAAAAAAMDpsQIFAAAAAAAAAAAAAABwehRQAAAAAAAAAAAAAAAAp0cBBQAAAAAAAAAAAAAAcHoUUAAAAAAAAAAAAAAAAKdHAQUAAAAAAAAAAAAAAHB6FFAAAAAAAAAAAAAAAACnRwEFAAAAAAAAAAAAAABwehRQAAAAAAAAAAAAAAAAp0cBBQAAAAAAAAAAAAAAcHoUUAAAAAAAAAAAAAAAAKdHAQUAAAAAAAAAAAAAAHB6FFAAAAAAAAAAAAAAAACnRwEFAAAAAAAAAAAAAABwehRQAAAAAAAAAAAAAAAAp0cBBQAAAAAAAAAAAAAAcHoUUAAAAAAAAAAAAAAAAKdHAQUAAAAAAAAAAAAAAHB6FFAAAAAAAAAAAAAAAACnRwEFAAAAAAAAAAAAAABwehRQAAAAAAAAAAAAAAAAp0cBBQAAAAAAAAAAAAAAcHoUUAAAAAAAAAAAAAAAAKdHAQUAAAAAAAAAAAAAAHB6/w8TI9vSo9P5qwAAAABJRU5ErkJggg==\n"
                },
                "metadata": {
                  "image/png": {
                    "width": 1064,
                    "height": 462
                  }
                }
              }
            ]
          }
        },
        "14e52a7de6654fba82561c246f4b0218": {
          "model_module": "@jupyter-widgets/base",
          "model_name": "LayoutModel",
          "model_module_version": "1.2.0",
          "state": {
            "_model_module": "@jupyter-widgets/base",
            "_model_module_version": "1.2.0",
            "_model_name": "LayoutModel",
            "_view_count": null,
            "_view_module": "@jupyter-widgets/base",
            "_view_module_version": "1.2.0",
            "_view_name": "LayoutView",
            "align_content": null,
            "align_items": null,
            "align_self": null,
            "border": null,
            "bottom": null,
            "display": null,
            "flex": null,
            "flex_flow": null,
            "grid_area": null,
            "grid_auto_columns": null,
            "grid_auto_flow": null,
            "grid_auto_rows": null,
            "grid_column": null,
            "grid_gap": null,
            "grid_row": null,
            "grid_template_areas": null,
            "grid_template_columns": null,
            "grid_template_rows": null,
            "height": null,
            "justify_content": null,
            "justify_items": null,
            "left": null,
            "margin": null,
            "max_height": null,
            "max_width": null,
            "min_height": null,
            "min_width": null,
            "object_fit": null,
            "object_position": null,
            "order": null,
            "overflow": null,
            "overflow_x": null,
            "overflow_y": null,
            "padding": null,
            "right": null,
            "top": null,
            "visibility": null,
            "width": null
          }
        }
      }
    }
  },
  "nbformat": 4,
  "nbformat_minor": 0
}