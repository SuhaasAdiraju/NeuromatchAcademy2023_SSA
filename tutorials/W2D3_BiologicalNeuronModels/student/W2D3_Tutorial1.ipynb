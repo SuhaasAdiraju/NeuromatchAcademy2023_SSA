{
  "cells": [
    {
      "cell_type": "markdown",
      "metadata": {
        "id": "view-in-github",
        "colab_type": "text"
      },
      "source": [
        "<a href=\"https://colab.research.google.com/github/SuhaasAdiraju/NeuromatchAcademy2023_SSA/blob/main/tutorials/W2D3_BiologicalNeuronModels/student/W2D3_Tutorial1.ipynb\" target=\"_parent\"><img src=\"https://colab.research.google.com/assets/colab-badge.svg\" alt=\"Open In Colab\"/></a>"
      ]
    },
    {
      "cell_type": "markdown",
      "metadata": {
        "execution": {},
        "id": "gGJUSG2UQfHi"
      },
      "source": [
        "# Tutorial 1: The Leaky Integrate-and-Fire (LIF) Neuron Model\n",
        "\n",
        "**Week 2, Day 3: Biological Neuron Models**\n",
        "\n",
        "**By Neuromatch Academy**\n",
        "\n",
        "**Content creators:** Qinglong Gu, Songtin Li, John Murray, Richard Naud, Arvind Kumar\n",
        "\n",
        "**Content reviewers:**  Maryam Vaziri-Pashkam, Ella Batty, Lorenzo Fontolan, Richard Gao, Matthew Krause, Spiros Chavlis, Michael Waskom, Ethan Cheng\n",
        "\n",
        "**Production editors:** Gagana B, Spiros Chavlis"
      ]
    },
    {
      "cell_type": "markdown",
      "metadata": {
        "execution": {},
        "id": "DZRv_ZP4QfHn"
      },
      "source": [
        "---\n",
        "# Tutorial Objectives\n",
        "\n",
        "*Estimated timing of tutorial: 1 hour, 10 min*\n",
        "\n",
        "This is Tutorial 1 of a series on implementing realistic neuron models. In this tutorial, we will build up a leaky integrate-and-fire (LIF) neuron model and study its dynamics in response to various types of inputs. In particular, we are going to write a few lines of code to:\n",
        "\n",
        "- simulate the LIF neuron model\n",
        "\n",
        "- drive the LIF neuron with external inputs, such as direct currents, Gaussian white noise, and Poisson spike trains, etc.\n",
        "\n",
        "- study how different inputs affect the  LIF neuron's output (firing rate and spike time irregularity)\n",
        "\n",
        "Here, we will especially emphasize identifying conditions (input statistics) under which a neuron can spike at low firing rates and in an irregular manner. The reason for focusing on this is that in most cases, neocortical neurons spike in an irregular manner."
      ]
    },
    {
      "cell_type": "code",
      "execution_count": null,
      "metadata": {
        "cellView": "form",
        "execution": {},
        "id": "8AjqVRgrQfHo"
      },
      "outputs": [],
      "source": [
        "# @title Tutorial slides\n",
        "# @markdown These are the slides for the videos in all tutorials today\n",
        "from IPython.display import IFrame\n",
        "link_id = \"8djsm\"\n",
        "print(f\"If you want to download the slides: https://osf.io/download/{link_id}/\")\n",
        "IFrame(src=f\"https://mfr.ca-1.osf.io/render?url=https://osf.io/{link_id}/?direct%26mode=render%26action=download%26mode=render\", width=854, height=480)"
      ]
    },
    {
      "cell_type": "markdown",
      "metadata": {
        "execution": {},
        "id": "ZD0jSTm1QfHq"
      },
      "source": [
        "---\n",
        "# Setup"
      ]
    },
    {
      "cell_type": "code",
      "execution_count": 1,
      "metadata": {
        "cellView": "form",
        "execution": {},
        "id": "zFzttRPwQfHq",
        "outputId": "1b975689-489d-488d-9695-9cc481488518",
        "colab": {
          "base_uri": "https://localhost:8080/"
        }
      },
      "outputs": [
        {
          "output_type": "stream",
          "name": "stdout",
          "text": [
            "  Preparing metadata (setup.py) ... \u001b[?25l\u001b[?25hdone\n",
            "  Preparing metadata (setup.py) ... \u001b[?25l\u001b[?25hdone\n",
            "\u001b[2K     \u001b[90m━━━━━━━━━━━━━━━━━━━━━━━━━━━━━━━━━━━━━━━━\u001b[0m \u001b[32m1.6/1.6 MB\u001b[0m \u001b[31m26.3 MB/s\u001b[0m eta \u001b[36m0:00:00\u001b[0m\n",
            "\u001b[?25h  Building wheel for vibecheck (setup.py) ... \u001b[?25l\u001b[?25hdone\n",
            "  Building wheel for datatops (setup.py) ... \u001b[?25l\u001b[?25hdone\n"
          ]
        }
      ],
      "source": [
        "# @title Install and import feedback gadget\n",
        "\n",
        "!pip3 install vibecheck datatops --quiet\n",
        "\n",
        "from vibecheck import DatatopsContentReviewContainer\n",
        "def content_review(notebook_section: str):\n",
        "    return DatatopsContentReviewContainer(\n",
        "        \"\",  # No text prompt\n",
        "        notebook_section,\n",
        "        {\n",
        "            \"url\": \"https://pmyvdlilci.execute-api.us-east-1.amazonaws.com/klab\",\n",
        "            \"name\": \"neuromatch_cn\",\n",
        "            \"user_key\": \"y1x3mpx5\",\n",
        "        },\n",
        "    ).render()\n",
        "\n",
        "\n",
        "feedback_prefix = \"W2D3_T1\""
      ]
    },
    {
      "cell_type": "code",
      "execution_count": 2,
      "metadata": {
        "cellView": "both",
        "execution": {},
        "id": "dyfnvvilQfHq"
      },
      "outputs": [],
      "source": [
        "# Imports\n",
        "import numpy as np\n",
        "import matplotlib.pyplot as plt"
      ]
    },
    {
      "cell_type": "code",
      "execution_count": 3,
      "metadata": {
        "cellView": "form",
        "execution": {},
        "id": "SYNezwd1QfHq"
      },
      "outputs": [],
      "source": [
        "# @title Figure Settings\n",
        "import logging\n",
        "logging.getLogger('matplotlib.font_manager').disabled = True\n",
        "\n",
        "import ipywidgets as widgets  # interactive display\n",
        "%config InlineBackend.figure_format = 'retina'\n",
        "# use NMA plot style\n",
        "plt.style.use(\"https://raw.githubusercontent.com/NeuromatchAcademy/course-content/main/nma.mplstyle\")\n",
        "my_layout = widgets.Layout()"
      ]
    },
    {
      "cell_type": "code",
      "execution_count": 4,
      "metadata": {
        "cellView": "form",
        "execution": {},
        "id": "iTDZTVDGQfHr"
      },
      "outputs": [],
      "source": [
        "# @title Plotting Functions\n",
        "\n",
        "def plot_volt_trace(pars, v, sp):\n",
        "  \"\"\"\n",
        "  Plot trajetory of membrane potential for a single neuron\n",
        "\n",
        "  Expects:\n",
        "  pars   : parameter dictionary\n",
        "  v      : volt trajetory\n",
        "  sp     : spike train\n",
        "\n",
        "  Returns:\n",
        "  figure of the membrane potential trajetory for a single neuron\n",
        "  \"\"\"\n",
        "\n",
        "  V_th = pars['V_th']\n",
        "  dt, range_t = pars['dt'], pars['range_t']\n",
        "  if sp.size:\n",
        "    sp_num = (sp / dt).astype(int) - 1\n",
        "    v[sp_num] += 20  # draw nicer spikes\n",
        "\n",
        "  plt.plot(pars['range_t'], v, 'b')\n",
        "  plt.axhline(V_th, 0, 1, color='k', ls='--')\n",
        "  plt.xlabel('Time (ms)')\n",
        "  plt.ylabel('V (mV)')\n",
        "  plt.legend(['Membrane\\npotential', r'Threshold V$_{\\mathrm{th}}$'],\n",
        "             loc=[1.05, 0.75])\n",
        "  plt.ylim([-80, -40])\n",
        "  plt.show()\n",
        "\n",
        "\n",
        "def plot_GWN(pars, I_GWN):\n",
        "  \"\"\"\n",
        "  Args:\n",
        "    pars  : parameter dictionary\n",
        "    I_GWN : Gaussian white noise input\n",
        "\n",
        "  Returns:\n",
        "    figure of the gaussian white noise input\n",
        "  \"\"\"\n",
        "\n",
        "  plt.figure(figsize=(12, 4))\n",
        "  plt.subplot(121)\n",
        "  plt.plot(pars['range_t'][::3], I_GWN[::3], 'b')\n",
        "  plt.xlabel('Time (ms)')\n",
        "  plt.ylabel(r'$I_{GWN}$ (pA)')\n",
        "  plt.subplot(122)\n",
        "  plot_volt_trace(pars, v, sp)\n",
        "  plt.tight_layout()\n",
        "  plt.show()\n",
        "\n",
        "\n",
        "def my_hists(isi1, isi2, cv1, cv2, sigma1, sigma2):\n",
        "  \"\"\"\n",
        "  Args:\n",
        "    isi1 : vector with inter-spike intervals\n",
        "    isi2 : vector with inter-spike intervals\n",
        "    cv1  : coefficient of variation for isi1\n",
        "    cv2  : coefficient of variation for isi2\n",
        "\n",
        "  Returns:\n",
        "    figure with two histograms, isi1, isi2\n",
        "\n",
        "  \"\"\"\n",
        "  plt.figure(figsize=(11, 4))\n",
        "  my_bins = np.linspace(10, 30, 20)\n",
        "  plt.subplot(121)\n",
        "  plt.hist(isi1, bins=my_bins, color='b', alpha=0.5)\n",
        "  plt.xlabel('ISI (ms)')\n",
        "  plt.ylabel('count')\n",
        "  plt.title(r'$\\sigma_{GWN}=$%.1f, CV$_{\\mathrm{isi}}$=%.3f' % (sigma1, cv1))\n",
        "\n",
        "  plt.subplot(122)\n",
        "  plt.hist(isi2, bins=my_bins, color='b', alpha=0.5)\n",
        "  plt.xlabel('ISI (ms)')\n",
        "  plt.ylabel('count')\n",
        "  plt.title(r'$\\sigma_{GWN}=$%.1f, CV$_{\\mathrm{isi}}$=%.3f' % (sigma2, cv2))\n",
        "  plt.tight_layout()\n",
        "  plt.show()"
      ]
    },
    {
      "cell_type": "markdown",
      "metadata": {
        "execution": {},
        "id": "YAcM5NDZQfHr"
      },
      "source": [
        "---\n",
        "# Section 1: The Leaky Integrate-and-Fire (LIF) model"
      ]
    },
    {
      "cell_type": "code",
      "execution_count": null,
      "metadata": {
        "cellView": "form",
        "execution": {},
        "id": "-TqCyDRZQfHs"
      },
      "outputs": [],
      "source": [
        "# @title Video 1: Reduced Neuron Models\n",
        "from ipywidgets import widgets\n",
        "from IPython.display import YouTubeVideo\n",
        "from IPython.display import IFrame\n",
        "from IPython.display import display\n",
        "\n",
        "\n",
        "class PlayVideo(IFrame):\n",
        "  def __init__(self, id, source, page=1, width=400, height=300, **kwargs):\n",
        "    self.id = id\n",
        "    if source == 'Bilibili':\n",
        "      src = f'https://player.bilibili.com/player.html?bvid={id}&page={page}'\n",
        "    elif source == 'Osf':\n",
        "      src = f'https://mfr.ca-1.osf.io/render?url=https://osf.io/download/{id}/?direct%26mode=render'\n",
        "    super(PlayVideo, self).__init__(src, width, height, **kwargs)\n",
        "\n",
        "\n",
        "def display_videos(video_ids, W=400, H=300, fs=1):\n",
        "  tab_contents = []\n",
        "  for i, video_id in enumerate(video_ids):\n",
        "    out = widgets.Output()\n",
        "    with out:\n",
        "      if video_ids[i][0] == 'Youtube':\n",
        "        video = YouTubeVideo(id=video_ids[i][1], width=W,\n",
        "                             height=H, fs=fs, rel=0)\n",
        "        print(f'Video available at https://youtube.com/watch?v={video.id}')\n",
        "      else:\n",
        "        video = PlayVideo(id=video_ids[i][1], source=video_ids[i][0], width=W,\n",
        "                          height=H, fs=fs, autoplay=False)\n",
        "        if video_ids[i][0] == 'Bilibili':\n",
        "          print(f'Video available at https://www.bilibili.com/video/{video.id}')\n",
        "        elif video_ids[i][0] == 'Osf':\n",
        "          print(f'Video available at https://osf.io/{video.id}')\n",
        "      display(video)\n",
        "    tab_contents.append(out)\n",
        "  return tab_contents\n",
        "\n",
        "\n",
        "video_ids = [('Youtube', 'rSExvwCVRYg'), ('Bilibili', 'BV1m5411h7Jv')]\n",
        "tab_contents = display_videos(video_ids, W=854, H=480)\n",
        "tabs = widgets.Tab()\n",
        "tabs.children = tab_contents\n",
        "for i in range(len(tab_contents)):\n",
        "  tabs.set_title(i, video_ids[i][0])\n",
        "display(tabs)"
      ]
    },
    {
      "cell_type": "code",
      "execution_count": null,
      "metadata": {
        "cellView": "form",
        "execution": {},
        "id": "HWdvPPCFQfHs"
      },
      "outputs": [],
      "source": [
        "# @title Submit your feedback\n",
        "content_review(f\"{feedback_prefix}_LIF_model_Video\")"
      ]
    },
    {
      "cell_type": "markdown",
      "metadata": {
        "execution": {},
        "id": "34RYNxKjQfHs"
      },
      "source": [
        "This video introduces the reduction of a biological neuron to a simple leaky-integrate-fire (LIF) neuron model.\n",
        "\n",
        "<details>\n",
        "<summary> <font color='blue'>Click here for text recap of video </font></summary>\n",
        "\n",
        "Now, it's your turn to implement one of the simplest mathematical model of a neuron: the leaky integrate-and-fire (LIF) model. The basic idea of LIF neuron was proposed in 1907 by Louis Édouard Lapicque, long before we understood the electrophysiology of a neuron (see a translation of [Lapicque's paper](https://pubmed.ncbi.nlm.nih.gov/17968583/) ). More details of the model can be found in the book [**Theoretical neuroscience**](http://www.gatsby.ucl.ac.uk/~dayan/book/) by Peter Dayan and Laurence F. Abbott.\n",
        "\n",
        "The subthreshold membrane potential dynamics of a LIF neuron is described by\n",
        "\n",
        "\\begin{eqnarray}\n",
        "C_m\\frac{dV}{dt} = -g_L(V-E_L) + I,\\quad (1)\n",
        "\\end{eqnarray}\n",
        "\n",
        "where $C_m$ is the membrane capacitance, $V$ is the membrane potential, $g_L$ is the leak conductance ($g_L = 1/R$, the inverse of the leak resistance $R$ mentioned in previous tutorials), $E_L$ is the resting potential, and $I$ is the external input current.\n",
        "\n",
        "Dividing both sides of the above equation by $g_L$ gives\n",
        "\n",
        "\\begin{align}\n",
        "\\tau_m\\frac{dV}{dt} = -(V-E_L) + \\frac{I}{g_L}\\,,\\quad (2)\n",
        "\\end{align}\n",
        "\n",
        "where the $\\tau_m$ is membrane time constant and is defined as $\\tau_m=C_m/g_L$.\n",
        "\n",
        "Note that dividing capacitance by conductance gives units of time!\n",
        "\n",
        "Below, we will use Eqn.(2) to simulate LIF neuron dynamics.\n",
        "\n",
        "If $I$ is sufficiently strong such that $V$ reaches a certain threshold value $V_{\\rm th}$, $V$ is reset to a reset potential $V_{\\rm reset}< V_{\\rm th}$, and voltage is clamped to $V_{\\rm reset}$ for $\\tau_{\\rm ref}$ ms, mimicking the refractoriness of the neuron during an action potential:\n",
        "\n",
        "\\begin{eqnarray}\n",
        "\\mathrm{if}\\quad V(t_{\\text{sp}})\\geq V_{\\rm th}&:& V(t)=V_{\\rm reset} \\text{  for } t\\in(t_{\\text{sp}}, t_{\\text{sp}} + \\tau_{\\text{ref}}]\n",
        "\\end{eqnarray}\n",
        "where $t_{\\rm sp}$ is the spike time when $V(t)$ just exceeded $V_{\\rm th}$.\n",
        "\n",
        "(**Note:** in the lecture slides, $\\theta$ corresponds to the threshold voltage $V_{th}$, and $\\Delta$ corresponds to the refractory time $\\tau_{\\rm ref}$.)\n",
        "\n",
        "</details>\n",
        "\n",
        "Note that you have seen the LIF model before if you looked at the pre-reqs Python or Calculus days!\n",
        "\n",
        "The LIF model captures the facts that a neuron:\n",
        "- performs spatial and temporal integration of synaptic inputs\n",
        "- generates a spike when the voltage reaches a certain threshold\n",
        "- goes refractory during the action potential\n",
        "- has a leaky membrane\n",
        "\n",
        "The LIF model assumes that the spatial and temporal integration of inputs is linear. Also, membrane potential dynamics close to the spike threshold are much slower in LIF neurons than in real neurons."
      ]
    },
    {
      "cell_type": "markdown",
      "metadata": {
        "execution": {},
        "id": "REOvnUQrQfHt"
      },
      "source": [
        "## Coding Exercise 1: Python code to simulate the LIF neuron\n",
        "\n",
        "We now write Python code to calculate our equation for the LIF neuron and simulate the LIF neuron dynamics. We will use the Euler method, which you saw in the linear systems case yesterday  to numerically integrate this equation:\n",
        "\n",
        "\\begin{equation}\n",
        "\\tau_m\\frac{dV}{dt} = -(V-E_L) + \\frac{I}{g_L}\\,\n",
        "\\end{equation}\n",
        "\n",
        "where $V$ is the membrane potential, $g_L$ is the leak conductance, $E_L$ is the resting potential, $I$ is the external input current, and $\\tau_m$ is membrane time constant.\n",
        "\n",
        "The cell below initializes a dictionary that stores parameters of the LIF neuron model and the simulation scheme. You can use `pars=default_pars(T=simulation_time, dt=time_step)` to get the parameters. Note that, `simulation_time` and `time_step` have the unit `ms`. In addition, you can add the value to a new parameter by `pars['New_param'] = value`."
      ]
    },
    {
      "cell_type": "code",
      "execution_count": 8,
      "metadata": {
        "cellView": "form",
        "execution": {},
        "id": "YK0DCY52QfHt",
        "outputId": "d1b35707-1653-4c9c-feda-f33570c29726",
        "colab": {
          "base_uri": "https://localhost:8080/"
        }
      },
      "outputs": [
        {
          "output_type": "stream",
          "name": "stdout",
          "text": [
            "{'V_th': -55.0, 'V_reset': -75.0, 'tau_m': 10.0, 'g_L': 10.0, 'V_init': -75.0, 'E_L': -75.0, 'tref': 2.0, 'T': 400.0, 'dt': 0.1, 'range_t': array([0.000e+00, 1.000e-01, 2.000e-01, ..., 3.997e+02, 3.998e+02,\n",
            "       3.999e+02])}\n"
          ]
        }
      ],
      "source": [
        "# @markdown Execute this code to initialize the default parameters\n",
        "\n",
        "def default_pars(**kwargs):\n",
        "  pars = {}\n",
        "\n",
        "  # typical neuron parameters#\n",
        "  pars['V_th'] = -55.     # spike threshold [mV]\n",
        "  pars['V_reset'] = -75.  # reset potential [mV]\n",
        "  pars['tau_m'] = 10.     # membrane time constant [ms]\n",
        "  pars['g_L'] = 10.       # leak conductance [nS]\n",
        "  pars['V_init'] = -75.   # initial potential [mV]\n",
        "  pars['E_L'] = -75.      # leak reversal potential [mV]\n",
        "  pars['tref'] = 2.       # refractory time (ms)\n",
        "\n",
        "  # simulation parameters #\n",
        "  pars['T'] = 400.  # Total duration of simulation [ms]\n",
        "  pars['dt'] = .1   # Simulation time step [ms]\n",
        "\n",
        "  # external parameters if any #\n",
        "  for k in kwargs:\n",
        "    pars[k] = kwargs[k]\n",
        "\n",
        "  pars['range_t'] = np.arange(0, pars['T'], pars['dt'])  # Vector of discretized time points [ms]\n",
        "\n",
        "  return pars\n",
        "\n",
        "\n",
        "pars = default_pars()\n",
        "print(pars)"
      ]
    },
    {
      "cell_type": "markdown",
      "metadata": {
        "execution": {},
        "id": "NUh8Ix_KQfHt"
      },
      "source": [
        "Complete the function below to simulate the LIF neuron when receiving external current inputs. You can use `v, sp = run_LIF(pars, Iinj)` to get the membrane potential (`v`) and spike train (`sp`) given the dictionary `pars` and input current `Iinj`."
      ]
    },
    {
      "cell_type": "code",
      "execution_count": 7,
      "metadata": {
        "cellView": "both",
        "execution": {},
        "id": "cvaRV_gGQfHt",
        "outputId": "01095910-60bb-40f5-d567-5639d354b568",
        "colab": {
          "base_uri": "https://localhost:8080/",
          "height": 592
        }
      },
      "outputs": [
        {
          "output_type": "display_data",
          "data": {
            "text/plain": [
              "<Figure size 800x600 with 1 Axes>"
            ],
            "image/png": "[encoded data removed]"
          },
          "metadata": {
            "image/png": {
              "width": 767,
              "height": 575
            }
          }
        }
      ],
      "source": [
        "def run_LIF(pars, Iinj, stop=False):\n",
        "  \"\"\"\n",
        "  Simulate the LIF dynamics with external input current\n",
        "\n",
        "  Args:\n",
        "    pars       : parameter dictionary\n",
        "    Iinj       : input current [pA]. The injected current here can be a value\n",
        "                 or an array\n",
        "    stop       : boolean. If True, use a current pulse\n",
        "\n",
        "  Returns:\n",
        "    rec_v      : membrane potential\n",
        "    rec_sp     : spike times\n",
        "  \"\"\"\n",
        "\n",
        "  # Set parameters\n",
        "  V_th, V_reset = pars['V_th'], pars['V_reset']\n",
        "  tau_m, g_L = pars['tau_m'], pars['g_L']\n",
        "  V_init, E_L = pars['V_init'], pars['E_L']\n",
        "  dt, range_t = pars['dt'], pars['range_t']\n",
        "  Lt = range_t.size\n",
        "  tref = pars['tref']\n",
        "\n",
        "  # Initialize voltage\n",
        "  v = np.zeros(Lt)\n",
        "  v[0] = V_init\n",
        "\n",
        "  # Set current time course\n",
        "  Iinj = Iinj * np.ones(Lt)\n",
        "\n",
        "  # If current pulse, set beginning and end to 0\n",
        "  if stop:\n",
        "    Iinj[:int(len(Iinj) / 2) - 1000] = 0\n",
        "    Iinj[int(len(Iinj) / 2) + 1000:] = 0\n",
        "\n",
        "  # Loop over time\n",
        "  rec_spikes = []  # record spike times\n",
        "  tr = 0.  # the count for refractory duration\n",
        "\n",
        "  for it in range(Lt - 1):\n",
        "\n",
        "    if tr > 0:  # check if in refractory period\n",
        "      v[it] = V_reset  # set voltage to reset\n",
        "      tr = tr - 1 # reduce running counter of refractory period\n",
        "\n",
        "    elif v[it] >= V_th:  # if voltage over threshold\n",
        "      rec_spikes.append(it)  # record spike event\n",
        "      v[it] = V_reset  # reset voltage\n",
        "      tr = tref / dt  # set refractory time\n",
        "\n",
        "    ########################################################################\n",
        "    ## TODO for students: compute the membrane potential v, spike train sp #\n",
        "    # Fill out function and remove\n",
        "      #raise NotImplementedError('Student Exercise: calculate the dv/dt and the update step!')\n",
        "    ########################################################################\n",
        "\n",
        "    # Calculate the increment of the membrane potential\n",
        "    dv = (-(v[it] - E_L) + Iinj[it] / g_L) * (dt / tau_m)\n",
        "\n",
        "    # Update the membrane potential\n",
        "    v[it + 1] = v[it] + dv\n",
        "\n",
        "  # Get spike times in ms\n",
        "  rec_spikes = np.array(rec_spikes) * dt\n",
        "\n",
        "  return v, rec_spikes\n",
        "\n",
        "\n",
        "# Get parameters\n",
        "pars = default_pars(T=500)\n",
        "\n",
        "# Simulate LIF model\n",
        "v, sp = run_LIF(pars, Iinj=100, stop=True)\n",
        "\n",
        "# Visualize\n",
        "plot_volt_trace(pars, v, sp)"
      ]
    },
    {
      "cell_type": "markdown",
      "metadata": {
        "execution": {},
        "id": "PSff0MP2QfHt"
      },
      "source": [
        "[*Click for solution*](https://github.com/NeuromatchAcademy/course-content/tree/main/tutorials/W2D3_BiologicalNeuronModels/solutions/W2D3_Tutorial1_Solution_60a1e954.py)\n",
        "\n",
        "*Example output:*\n",
        "\n",
        "<img alt='Solution hint' align='left' width=771.0 height=577.0 src=https://raw.githubusercontent.com/NeuromatchAcademy/course-content/main/tutorials/W2D3_BiologicalNeuronModels/static/W2D3_Tutorial1_Solution_60a1e954_0.png>\n",
        "\n"
      ]
    },
    {
      "cell_type": "code",
      "execution_count": null,
      "metadata": {
        "cellView": "form",
        "execution": {},
        "id": "DrqENHC6QfHt"
      },
      "outputs": [],
      "source": [
        "# @title Submit your feedback\n",
        "content_review(f\"{feedback_prefix}_LIF_model_Exercise\")"
      ]
    },
    {
      "cell_type": "markdown",
      "metadata": {
        "execution": {},
        "id": "OLnqOgceQfHu"
      },
      "source": [
        "---\n",
        "# Section 2: Response of an LIF model to different types of input currents\n",
        "\n",
        "*Estimated timing to here from start of tutorial: 20 min*\n",
        "\n",
        "In the following section, we will learn how to inject direct current and white noise to study the response of an LIF neuron."
      ]
    },
    {
      "cell_type": "code",
      "execution_count": null,
      "metadata": {
        "cellView": "form",
        "execution": {},
        "id": "XmrjhDVuQfHu"
      },
      "outputs": [],
      "source": [
        "# @title Video 2: Response of the LIF neuron to different inputs\n",
        "from ipywidgets import widgets\n",
        "from IPython.display import YouTubeVideo\n",
        "from IPython.display import IFrame\n",
        "from IPython.display import display\n",
        "\n",
        "\n",
        "class PlayVideo(IFrame):\n",
        "  def __init__(self, id, source, page=1, width=400, height=300, **kwargs):\n",
        "    self.id = id\n",
        "    if source == 'Bilibili':\n",
        "      src = f'https://player.bilibili.com/player.html?bvid={id}&page={page}'\n",
        "    elif source == 'Osf':\n",
        "      src = f'https://mfr.ca-1.osf.io/render?url=https://osf.io/download/{id}/?direct%26mode=render'\n",
        "    super(PlayVideo, self).__init__(src, width, height, **kwargs)\n",
        "\n",
        "\n",
        "def display_videos(video_ids, W=400, H=300, fs=1):\n",
        "  tab_contents = []\n",
        "  for i, video_id in enumerate(video_ids):\n",
        "    out = widgets.Output()\n",
        "    with out:\n",
        "      if video_ids[i][0] == 'Youtube':\n",
        "        video = YouTubeVideo(id=video_ids[i][1], width=W,\n",
        "                             height=H, fs=fs, rel=0)\n",
        "        print(f'Video available at https://youtube.com/watch?v={video.id}')\n",
        "      else:\n",
        "        video = PlayVideo(id=video_ids[i][1], source=video_ids[i][0], width=W,\n",
        "                          height=H, fs=fs, autoplay=False)\n",
        "        if video_ids[i][0] == 'Bilibili':\n",
        "          print(f'Video available at https://www.bilibili.com/video/{video.id}')\n",
        "        elif video_ids[i][0] == 'Osf':\n",
        "          print(f'Video available at https://osf.io/{video.id}')\n",
        "      display(video)\n",
        "    tab_contents.append(out)\n",
        "  return tab_contents\n",
        "\n",
        "\n",
        "video_ids = [('Youtube', 'preNGdab7Kk'), ('Bilibili', 'BV1Li4y137wS')]\n",
        "tab_contents = display_videos(video_ids, W=854, H=480)\n",
        "tabs = widgets.Tab()\n",
        "tabs.children = tab_contents\n",
        "for i in range(len(tab_contents)):\n",
        "  tabs.set_title(i, video_ids[i][0])\n",
        "display(tabs)"
      ]
    },
    {
      "cell_type": "code",
      "execution_count": null,
      "metadata": {
        "cellView": "form",
        "execution": {},
        "id": "cZR1RS5cQfHu"
      },
      "outputs": [],
      "source": [
        "# @title Submit your feedback\n",
        "content_review(f\"{feedback_prefix}_Response_LIF_model_Video\")"
      ]
    },
    {
      "cell_type": "markdown",
      "metadata": {
        "execution": {},
        "id": "6LahtPRfQfHu"
      },
      "source": [
        "## Section 2.1: Direct current (DC)\n",
        "\n",
        "*Estimated timing to here from start of tutorial: 30 min*\n"
      ]
    },
    {
      "cell_type": "markdown",
      "metadata": {
        "execution": {},
        "id": "ytjnWICQQfHv"
      },
      "source": [
        "### Interactive Demo 2.1: Parameter exploration of DC input amplitude\n",
        "Here's an interactive demo that shows how the LIF neuron behavior changes for DC input (constant current) with different amplitudes. We plot the membrane potential of an LIF neuron. You may notice that the neuron generates a spike. But this is just a cosmetic spike only for illustration purposes. In an LIF neuron, we only need to keep track of times when the neuron hits the threshold so the postsynaptic neurons can be informed of the spike.\n",
        "\n",
        "How much DC is needed to reach the threshold (rheobase current)? How does the membrane time constant affect the frequency of the neuron?"
      ]
    },
    {
      "cell_type": "code",
      "execution_count": null,
      "metadata": {
        "cellView": "form",
        "execution": {},
        "id": "32dpbPKZQfHv"
      },
      "outputs": [],
      "source": [
        "# @markdown Make sure you execute this cell to enable the widget!\n",
        "my_layout.width = '450px'\n",
        "@widgets.interact(\n",
        "    I_dc=widgets.FloatSlider(50., min=0., max=300., step=10.,\n",
        "                             layout=my_layout),\n",
        "    tau_m=widgets.FloatSlider(10., min=2., max=20., step=2.,\n",
        "                              layout=my_layout)\n",
        ")\n",
        "\n",
        "def diff_DC(I_dc=200., tau_m=10.):\n",
        "  pars = default_pars(T=100.)\n",
        "  pars['tau_m'] = tau_m\n",
        "  v, sp = run_LIF(pars, Iinj=I_dc)\n",
        "  plot_volt_trace(pars, v, sp)\n",
        "  plt.show()"
      ]
    },
    {
      "cell_type": "markdown",
      "metadata": {
        "execution": {},
        "id": "S0zZH6fdQfHv"
      },
      "source": [
        "[*Click for solution*](https://github.com/NeuromatchAcademy/course-content/tree/main/tutorials/W2D3_BiologicalNeuronModels/solutions/W2D3_Tutorial1_Solution_1058324c.py)\n",
        "\n"
      ]
    },
    {
      "cell_type": "code",
      "execution_count": null,
      "metadata": {
        "cellView": "form",
        "execution": {},
        "id": "oapKzwQlQfHv"
      },
      "outputs": [],
      "source": [
        "# @title Submit your feedback\n",
        "content_review(f\"{feedback_prefix}_Parameter_exploration_of_DC_input_amplitude_Interactive_Demo_and_Discussion\")"
      ]
    },
    {
      "cell_type": "markdown",
      "metadata": {
        "execution": {},
        "id": "ZSluZv-gQfHv"
      },
      "source": [
        "## Section 2.2: Gaussian white noise (GWN) current\n",
        "\n",
        "*Estimated timing to here from start of tutorial: 38 min*\n",
        "\n",
        "Given the noisy nature of neuronal activity _in vivo_, neurons usually receive complex, time-varying inputs.\n",
        "\n",
        "To mimic this, we will now investigate the neuronal response when the LIF neuron receives Gaussian white noise $\\xi(t)$ with mean 0 ($\\mu = 0$) and some standard deviation $\\sigma$.\n",
        "\n",
        "Note that the GWN has zero mean, that is, it describes only the fluctuations of the input received by a neuron. We can thus modify our definition of GWN to have a nonzero mean value $\\mu$ that equals the DC input, since this is the average input into the cell. The cell below defines the modified gaussian white noise currents with nonzero mean $\\mu$."
      ]
    },
    {
      "cell_type": "markdown",
      "metadata": {
        "execution": {},
        "id": "GFW4KmGgQfHv"
      },
      "source": [
        "### Interactive Demo 2.2: LIF neuron Explorer for noisy input\n",
        "\n",
        "\n",
        "The mean of the Gaussian white noise (GWN) is the amplitude of DC. Indeed, when $\\sigma = 0$, GWN is just a DC.\n",
        "\n",
        "So the question arises how does $\\sigma$ of the GWN affect the spiking behavior of the neuron. For instance we may want to know\n",
        "1.  how does the minimum input (i.e., $\\mu$) needed to make a neuron spike change with increase in $\\sigma$\n",
        "2.  how does the spike regularity change with increase in $\\sigma$\n",
        "\n",
        "To get an intuition about these questions you can use the following interactive demo that shows how the LIF neuron behavior changes for noisy input with different amplitudes (the mean $\\mu$) and fluctuation sizes ($\\sigma$). We use a helper function to generate this noisy input current: `my_GWN(pars, mu, sig, myseed=False)`.  Note that fixing the value of the random seed (e.g., `myseed=2020`) will allow you to obtain the same result every time you run this. We then use our `run_LIF` function to simulate the LIF model.\n"
      ]
    },
    {
      "cell_type": "code",
      "execution_count": 11,
      "metadata": {
        "cellView": "form",
        "execution": {},
        "id": "WsvWOpJ_QfHv",
        "outputId": "29f7b73e-f3a9-4818-8379-936817fdecb9",
        "colab": {
          "base_uri": "https://localhost:8080/"
        }
      },
      "outputs": [
        {
          "output_type": "stream",
          "name": "stdout",
          "text": [
            "Help on function my_GWN in module __main__:\n",
            "\n",
            "my_GWN(pars, mu, sig, myseed=False)\n",
            "    Function that generates Gaussian white noise input\n",
            "    \n",
            "    Args:\n",
            "      pars       : parameter dictionary\n",
            "      mu         : noise baseline (mean)\n",
            "      sig        : noise amplitute (standard deviation)\n",
            "      myseed     : random seed. int or boolean\n",
            "                   the same seed will give the same\n",
            "                   random number sequence\n",
            "    \n",
            "    Returns:\n",
            "      I          : Gaussian white noise input\n",
            "\n"
          ]
        }
      ],
      "source": [
        "# @markdown Execute to enable helper function `my_GWN`\n",
        "\n",
        "def my_GWN(pars, mu, sig, myseed=False):\n",
        "  \"\"\"\n",
        "  Function that generates Gaussian white noise input\n",
        "\n",
        "  Args:\n",
        "    pars       : parameter dictionary\n",
        "    mu         : noise baseline (mean)\n",
        "    sig        : noise amplitute (standard deviation)\n",
        "    myseed     : random seed. int or boolean\n",
        "                 the same seed will give the same\n",
        "                 random number sequence\n",
        "\n",
        "  Returns:\n",
        "    I          : Gaussian white noise input\n",
        "  \"\"\"\n",
        "\n",
        "  # Retrieve simulation parameters\n",
        "  dt, range_t = pars['dt'], pars['range_t']\n",
        "  Lt = range_t.size\n",
        "\n",
        "  # Set random seed\n",
        "  if myseed:\n",
        "      np.random.seed(seed=myseed)\n",
        "  else:\n",
        "      np.random.seed()\n",
        "\n",
        "  # Generate GWN\n",
        "  # we divide here by 1000 to convert units to sec.\n",
        "  I_gwn = mu + sig * np.random.randn(Lt) / np.sqrt(dt / 1000.)\n",
        "\n",
        "  return I_gwn\n",
        "\n",
        "help(my_GWN)"
      ]
    },
    {
      "cell_type": "code",
      "execution_count": null,
      "metadata": {
        "cellView": "form",
        "execution": {},
        "id": "BGv_Wl51QfHw"
      },
      "outputs": [],
      "source": [
        "# @markdown Make sure you execute this cell to enable the widget!\n",
        "\n",
        "my_layout.width = '450px'\n",
        "@widgets.interact(\n",
        "    mu_gwn=widgets.FloatSlider(200., min=100., max=300., step=5.,\n",
        "                               layout=my_layout),\n",
        "    sig_gwn=widgets.FloatSlider(2.5, min=0., max=5., step=.5,\n",
        "                                layout=my_layout)\n",
        ")\n",
        "\n",
        "\n",
        "def diff_GWN_to_LIF(mu_gwn, sig_gwn):\n",
        "  pars = default_pars(T=100.)\n",
        "  I_GWN = my_GWN(pars, mu=mu_gwn, sig=sig_gwn)\n",
        "  v, sp = run_LIF(pars, Iinj=I_GWN)\n",
        "  plt.figure(figsize=(12, 4))\n",
        "  plt.subplot(121)\n",
        "  plt.plot(pars['range_t'][::3], I_GWN[::3], 'b')\n",
        "  plt.xlabel('Time (ms)')\n",
        "  plt.ylabel(r'$I_{GWN}$ (pA)')\n",
        "  plt.subplot(122)\n",
        "  plot_volt_trace(pars, v, sp)\n",
        "  plt.tight_layout()\n",
        "  plt.show()"
      ]
    },
    {
      "cell_type": "markdown",
      "metadata": {
        "execution": {},
        "id": "-ncXfVspQfHw"
      },
      "source": [
        "[*Click for solution*](https://github.com/NeuromatchAcademy/course-content/tree/main/tutorials/W2D3_BiologicalNeuronModels/solutions/W2D3_Tutorial1_Solution_2de5d8a9.py)\n",
        "\n"
      ]
    },
    {
      "cell_type": "code",
      "execution_count": null,
      "metadata": {
        "cellView": "form",
        "execution": {},
        "id": "jY-xlBkOQfHw"
      },
      "outputs": [],
      "source": [
        "# @title Submit your feedback\n",
        "content_review(f\"{feedback_prefix}_Gaussian_White_Noise_Interactive_Demo_and_Discussion\")"
      ]
    },
    {
      "cell_type": "markdown",
      "metadata": {
        "execution": {},
        "id": "4n6sS0GiQfHw"
      },
      "source": [
        "### Think! 2.2: Analyzing GWN Effects on Spiking\n",
        "- As we increase the input average ($\\mu$) or the input fluctuation ($\\sigma$), the spike count changes. How much can we increase the spike count, and what might be the relationship between GWN mean/std or DC value and spike count?\n",
        "\n",
        "- We have seen above that when we inject DC, the neuron spikes in a regular manner (clock-like), and this regularity is reduced when GWN is injected. The question is, how irregular can we make the neurons spiking by changing the parameters of the GWN?\n",
        "\n",
        "We will see the answers to these questions in the next section but discuss first!\n"
      ]
    },
    {
      "cell_type": "code",
      "execution_count": null,
      "metadata": {
        "cellView": "form",
        "execution": {},
        "id": "DUXI7N3vQfHw"
      },
      "outputs": [],
      "source": [
        "# @title Submit your feedback\n",
        "content_review(f\"{feedback_prefix}_Analyzing_GWN_effects_on_spiking_Discussion\")"
      ]
    },
    {
      "cell_type": "markdown",
      "metadata": {
        "execution": {},
        "id": "KnOLUWH8QfHw"
      },
      "source": [
        "---\n",
        "# Section 3: Firing rate and spike time irregularity\n",
        "\n",
        "*Estimated timing to here from start of tutorial: 48 min*\n",
        "\n",
        "When we plot the output firing rate as a function of GWN mean or DC value, it is called the input-output transfer function of the neuron (so simply F-I curve).\n",
        "\n",
        "Spike regularity can be quantified as the **coefficient of variation (CV) of the interspike interval (ISI)**:\n",
        "\n",
        "\\begin{equation}\n",
        "\\text{CV}_{\\text{ISI}} = \\frac{std(\\text{ISI})}{mean(\\text{ISI})}\n",
        "\\end{equation}\n",
        "\n",
        "A Poisson train is an example of high irregularity, in which $\\textbf{CV}_{\\textbf{ISI}} \\textbf{= 1}$. And for a clocklike (regular) process we have $\\textbf{CV}_{\\textbf{ISI}} \\textbf{= 0}$ because of **std(ISI)=0**."
      ]
    },
    {
      "cell_type": "markdown",
      "metadata": {
        "execution": {},
        "id": "ass1HufLQfHw"
      },
      "source": [
        "## Interactive Demo 3A: F-I Explorer for different `sig_gwn`\n",
        "\n",
        "How does the F-I curve of the LIF neuron change as we increase the $\\sigma$ of the GWN? We can already expect that the F-I curve will be stochastic and the results will vary from one trial to another. But will there be any other change compared to the F-I curved measured using DC?\n",
        "\n",
        "Here's an interactive demo that shows how the F-I curve of a LIF neuron changes for different levels of fluctuation $\\sigma$.\n"
      ]
    },
    {
      "cell_type": "code",
      "execution_count": 10,
      "metadata": {
        "cellView": "form",
        "execution": {},
        "id": "8xC__3puQfHx",
        "outputId": "a5ced9fb-12c5-42a9-ed49-3149297ec3dc",
        "colab": {
          "base_uri": "https://localhost:8080/",
          "height": 388,
          "referenced_widgets": [
            "2a918c1124c247139b77c8dab8fbd1ae",
            "1f79af967cf249309534b851ee2dab22",
            "badc5707c78e4fc88046c29993d7517d",
            "b591f6e4fdb5468e991e456c780f52a4",
            "4f5e3885fc1a4de6a900891304c2a7e4",
            "94cd0523b79140a0b4607831f7e53d67",
            "a0c73b7ad9684cc9ad52565b2a3e9531"
          ]
        }
      },
      "outputs": [
        {
          "output_type": "display_data",
          "data": {
            "text/plain": [
              "interactive(children=(FloatSlider(value=3.0, description='sig_gwn', layout=Layout(width='450px'), max=6.0, ste…"
            ],
            "application/vnd.jupyter.widget-view+json": {
              "version_major": 2,
              "version_minor": 0,
              "model_id": "2a918c1124c247139b77c8dab8fbd1ae"
            }
          },
          "metadata": {}
        }
      ],
      "source": [
        "# @markdown Make sure you execute this cell to enable the widget!\n",
        "\n",
        "my_layout.width = '450px'\n",
        "@widgets.interact(\n",
        "    sig_gwn=widgets.FloatSlider(3.0, min=0., max=6., step=0.5,\n",
        "                                layout=my_layout)\n",
        ")\n",
        "\n",
        "\n",
        "def diff_std_affect_fI(sig_gwn):\n",
        "  pars = default_pars(T=1000.)\n",
        "  I_mean = np.arange(100., 400., 10.)\n",
        "  spk_count = np.zeros(len(I_mean))\n",
        "  spk_count_dc = np.zeros(len(I_mean))\n",
        "\n",
        "  for idx in range(len(I_mean)):\n",
        "      I_GWN = my_GWN(pars, mu=I_mean[idx], sig=sig_gwn, myseed=2020)\n",
        "      v, rec_spikes = run_LIF(pars, Iinj=I_GWN)\n",
        "      v_dc, rec_sp_dc = run_LIF(pars, Iinj=I_mean[idx])\n",
        "      spk_count[idx] = len(rec_spikes)\n",
        "      spk_count_dc[idx] = len(rec_sp_dc)\n",
        "\n",
        "  # Plot the F-I curve i.e. Output firing rate as a function of input mean.\n",
        "  plt.figure()\n",
        "  plt.plot(I_mean, spk_count, 'k',\n",
        "           label=r'$\\sigma_{\\mathrm{GWN}}=%.2f$' % sig_gwn)\n",
        "  plt.plot(I_mean, spk_count_dc, 'k--', alpha=0.5, lw=4, dashes=(2, 2),\n",
        "           label='DC input')\n",
        "  plt.ylabel('Spike count')\n",
        "  plt.xlabel('Average injected current (pA)')\n",
        "  plt.legend(loc='best')\n",
        "  plt.show()"
      ]
    },
    {
      "cell_type": "markdown",
      "metadata": {
        "execution": {},
        "id": "ItpdYWujQfHx"
      },
      "source": [
        "[*Click for solution*](https://github.com/NeuromatchAcademy/course-content/tree/main/tutorials/W2D3_BiologicalNeuronModels/solutions/W2D3_Tutorial1_Solution_5aa4e3b0.py)\n",
        "\n"
      ]
    },
    {
      "cell_type": "code",
      "execution_count": null,
      "metadata": {
        "cellView": "form",
        "execution": {},
        "id": "eYm52ohVQfHy"
      },
      "outputs": [],
      "source": [
        "# @title Submit your feedback\n",
        "content_review(f\"{feedback_prefix}_F_I_explorer_Interactive_Demo_and_Discussion\")"
      ]
    },
    {
      "cell_type": "markdown",
      "metadata": {
        "execution": {},
        "id": "swgMznw6QfH2"
      },
      "source": [
        "## Coding Exercise 3: Compute $CV_{ISI}$ values\n",
        "\n",
        "As shown above, the F-I curve becomes smoother while increasing the amplitude of the fluctuation ($\\sigma$). In addition, the fluctuation can also change the irregularity of the spikes. Let's investigate the effect of $\\mu=250$ with $\\sigma=0.5$ vs $\\sigma=3$.\n",
        "\n",
        "Fill in the code below to compute ISI, then plot the histogram of the ISI and compute the $CV_{ISI}$. Note that, you can use `np.diff` to calculate ISI."
      ]
    },
    {
      "cell_type": "code",
      "execution_count": 12,
      "metadata": {
        "execution": {},
        "id": "5-hhZUfjQfH2",
        "outputId": "513c456b-ad8d-443d-c155-c912d6f4999c",
        "colab": {
          "base_uri": "https://localhost:8080/",
          "height": 392
        }
      },
      "outputs": [
        {
          "output_type": "display_data",
          "data": {
            "text/plain": [
              "<Figure size 1100x400 with 2 Axes>"
            ],
            "image/png": "[encoded data removed]"
          },
          "metadata": {
            "image/png": {
              "width": 1075,
              "height": 375
            }
          }
        }
      ],
      "source": [
        "def isi_cv_LIF(spike_times):\n",
        "  \"\"\"\n",
        "  Calculates the interspike intervals (isi) and\n",
        "  the coefficient of variation (cv) for a given spike_train\n",
        "\n",
        "  Args:\n",
        "    spike_times : (n, ) vector with the spike times (ndarray)\n",
        "\n",
        "  Returns:\n",
        "    isi         : (n-1,) vector with the inter-spike intervals (ms)\n",
        "    cv          : coefficient of variation of isi (float)\n",
        "\n",
        "  \"\"\"\n",
        "  ########################################################################\n",
        "  ## TODO for students: compute the membrane potential v, spike train sp #\n",
        "  # Fill out function and remove\n",
        "      #raise NotImplementedError('Student Exercise: calculate the isi and the cv!')\n",
        "  ########################################################################\n",
        "  if len(spike_times) >= 2:\n",
        "    # Compute isi\n",
        "    isi = np.diff(spike_times)\n",
        "    # Compute cv\n",
        "    cv = np.std(isi)/np.mean(isi)\n",
        "  else:\n",
        "    isi = np.nan\n",
        "    cv = np.nan\n",
        "\n",
        "  return isi, cv\n",
        "\n",
        "\n",
        "# Set parameters\n",
        "pars = default_pars(T=1000.)\n",
        "mu_gwn = 250\n",
        "sig_gwn1 = 0.5\n",
        "sig_gwn2 = 3.0\n",
        "\n",
        "# Run LIF model for sigma = 0.5\n",
        "I_GWN1 = my_GWN(pars, mu=mu_gwn, sig=sig_gwn1, myseed=2020)\n",
        "_, sp1 = run_LIF(pars, Iinj=I_GWN1)\n",
        "\n",
        "# Run LIF model for sigma = 3\n",
        "I_GWN2 = my_GWN(pars, mu=mu_gwn, sig=sig_gwn2, myseed=2020)\n",
        "_, sp2 = run_LIF(pars, Iinj=I_GWN2)\n",
        "\n",
        "# Compute ISIs/CV\n",
        "isi1, cv1 = isi_cv_LIF(sp1)\n",
        "isi2, cv2 = isi_cv_LIF(sp2)\n",
        "\n",
        "# Visualize\n",
        "my_hists(isi1, isi2, cv1, cv2, sig_gwn1, sig_gwn2)"
      ]
    },
    {
      "cell_type": "markdown",
      "metadata": {
        "execution": {},
        "id": "ZSrEIbmEQfH2"
      },
      "source": [
        "[*Click for solution*](https://github.com/NeuromatchAcademy/course-content/tree/main/tutorials/W2D3_BiologicalNeuronModels/solutions/W2D3_Tutorial1_Solution_27d69c89.py)\n",
        "\n",
        "*Example output:*\n",
        "\n",
        "<img alt='Solution hint' align='left' width=1079.0 height=378.0 src=https://raw.githubusercontent.com/NeuromatchAcademy/course-content/main/tutorials/W2D3_BiologicalNeuronModels/static/W2D3_Tutorial1_Solution_27d69c89_0.png>\n",
        "\n"
      ]
    },
    {
      "cell_type": "code",
      "execution_count": null,
      "metadata": {
        "cellView": "form",
        "execution": {},
        "id": "q3RKXi4IQfH3"
      },
      "outputs": [],
      "source": [
        "# @title Submit your feedback\n",
        "content_review(f\"{feedback_prefix}_Compute_CV_ISI_Exercise\")"
      ]
    },
    {
      "cell_type": "markdown",
      "metadata": {
        "execution": {},
        "id": "TYOH0OzzQfH3"
      },
      "source": [
        "## Interactive Demo 3B: Spike irregularity explorer for different `sig_gwn`\n",
        "\n",
        "In the above illustration, we see that the CV of inter-spike-interval (ISI) distribution depends on $\\sigma$ of GWN. What about the mean of GWN, should that also affect the CV$_{\\rm ISI}$? If yes, how? Does the efficacy of $\\sigma$ in increasing the CV$_{\\rm ISI}$ depend on $\\mu$?\n",
        "\n",
        "In the following interactive demo, you will examine how different levels of fluctuation $\\sigma$ affect the CVs for different average injected currents ($\\mu$).\n",
        "\n",
        "1. Does the standard deviation of the injected current affect the F-I curve in any qualitative manner?\n",
        "2. Why does increasing the mean of GWN reduce the CV$_{\\rm ISI}$?\n",
        "3.  If you plot spike count (or rate) vs. CV$_{\\rm ISI}$, should there be a relationship between the two? Try out yourself."
      ]
    },
    {
      "cell_type": "code",
      "execution_count": 13,
      "metadata": {
        "cellView": "form",
        "execution": {},
        "id": "8ORC4MTBQfH3",
        "outputId": "def6ff5c-c0ea-4d64-c094-7e4071234efd",
        "colab": {
          "base_uri": "https://localhost:8080/",
          "height": 624,
          "referenced_widgets": [
            "169a18951f1543499adfcdab1048e8ff",
            "46f42ee650b945db9cd9697bf134cd53",
            "500c3d38caa649459ac934dee539a69b",
            "3e36f90f8e3945e9adfa1856e3e1b65b",
            "4f5e3885fc1a4de6a900891304c2a7e4",
            "c907f225017d4a0cafc265d6b5a2db3a",
            "c7cd8a09bf48473788cd1cf7008fdc72"
          ]
        }
      },
      "outputs": [
        {
          "output_type": "display_data",
          "data": {
            "text/plain": [
              "interactive(children=(FloatSlider(value=0.0, description='sig_gwn', layout=Layout(width='450px'), max=10.0, st…"
            ],
            "application/vnd.jupyter.widget-view+json": {
              "version_major": 2,
              "version_minor": 0,
              "model_id": "169a18951f1543499adfcdab1048e8ff"
            }
          },
          "metadata": {}
        }
      ],
      "source": [
        "# @markdown Make sure you execute this cell to enable the widget!\n",
        "\n",
        "my_layout.width = '450px'\n",
        "@widgets.interact(\n",
        "    sig_gwn=widgets.FloatSlider(0.0, min=0., max=10.,\n",
        "                                step=0.5, layout=my_layout)\n",
        ")\n",
        "\n",
        "\n",
        "def diff_std_affect_fI(sig_gwn):\n",
        "  pars = default_pars(T=1000.)\n",
        "  I_mean = np.arange(100., 400., 20)\n",
        "  spk_count = np.zeros(len(I_mean))\n",
        "  cv_isi = np.empty(len(I_mean))\n",
        "\n",
        "  for idx in range(len(I_mean)):\n",
        "    I_GWN = my_GWN(pars, mu=I_mean[idx], sig=sig_gwn)\n",
        "    v, rec_spikes = run_LIF(pars, Iinj=I_GWN)\n",
        "    spk_count[idx] = len(rec_spikes)\n",
        "    if len(rec_spikes) > 3:\n",
        "      isi = np.diff(rec_spikes)\n",
        "      cv_isi[idx] = np.std(isi) / np.mean(isi)\n",
        "\n",
        "  # Plot the F-I curve i.e. Output firing rate as a function of input mean.\n",
        "  plt.figure()\n",
        "  plt.plot(I_mean[spk_count > 5], cv_isi[spk_count > 5], 'bo', alpha=0.5)\n",
        "  plt.xlabel('Average injected current (pA)')\n",
        "  plt.ylabel(r'Spike irregularity ($\\mathrm{CV}_\\mathrm{ISI}$)')\n",
        "  plt.ylim(-0.1, 1.5)\n",
        "  plt.grid(True)\n",
        "  plt.show()"
      ]
    },
    {
      "cell_type": "markdown",
      "metadata": {
        "execution": {},
        "id": "aHqZcKZnQfH3"
      },
      "source": [
        "[*Click for solution*](https://github.com/NeuromatchAcademy/course-content/tree/main/tutorials/W2D3_BiologicalNeuronModels/solutions/W2D3_Tutorial1_Solution_c6f1c4a2.py)\n",
        "\n"
      ]
    },
    {
      "cell_type": "code",
      "execution_count": null,
      "metadata": {
        "cellView": "form",
        "execution": {},
        "id": "_A0aJ6FvQfH3"
      },
      "outputs": [],
      "source": [
        "# @title Submit your feedback\n",
        "content_review(f\"{feedback_prefix}_Spike_Irregularity_Interactive_Demo_and_Discussion\")"
      ]
    },
    {
      "cell_type": "markdown",
      "metadata": {
        "execution": {},
        "id": "CzdmrCdBQfH3"
      },
      "source": [
        "---\n",
        "# Summary\n",
        "\n",
        "*Estimated timing of tutorial: 1 hour, 10 min*\n",
        "\n",
        "Congratulations! You've just built a leaky integrate-and-fire (LIF) neuron model from scratch, and studied its dynamics in response to various types of inputs, having:\n",
        "\n",
        "- simulated the LIF neuron model\n",
        "\n",
        "- driven the LIF neuron with external inputs, such as direct current and Gaussian white noise\n",
        "\n",
        "- studied how different inputs affect the  LIF neuron's output (firing rate and spike time irregularity),\n",
        "\n",
        "with a special focus on low rate and irregular firing regime to mimic real cortical neurons. The next tutorial will look at how spiking statistics may be influenced by a neuron's input statistics.\n",
        "\n",
        "If you have extra time, look at the bonus sections below to explore a different type of noise input and learn about extensions to integrate-and-fire models.\n"
      ]
    },
    {
      "cell_type": "markdown",
      "metadata": {
        "execution": {},
        "id": "6boZ0TvNQfH3"
      },
      "source": [
        "---\n",
        "# Bonus"
      ]
    },
    {
      "cell_type": "markdown",
      "metadata": {
        "execution": {},
        "id": "prBkCXR_QfH3"
      },
      "source": [
        "## Bonus Section 1: Ornstein-Uhlenbeck Process\n",
        "\n",
        "When a neuron receives spiking input, the synaptic current is Shot Noise -- which is a kind of colored noise and the spectrum of the noise determined by the synaptic kernel time constant. That is, a neuron is driven by **colored noise** and not GWN.\n",
        "\n",
        "We can model colored noise using the Ornstein-Uhlenbeck process - filtered white noise."
      ]
    },
    {
      "cell_type": "markdown",
      "metadata": {
        "execution": {},
        "id": "33hc7ilEQfH3"
      },
      "source": [
        "We next study if the input current is temporally correlated and is modeled as an Ornstein-Uhlenbeck process $\\eta(t)$, i.e., low-pass filtered GWN with a time constant $\\tau_{\\eta}$:\n",
        "\n",
        "\\begin{equation}\n",
        "\\tau_\\eta \\frac{d}{dt}\\eta(t) = \\mu-\\eta(t) + \\sigma_\\eta\\sqrt{2\\tau_\\eta}\\xi(t)\n",
        "\\end{equation}\n",
        "\n",
        "**Hint:** An OU process as defined above has\n",
        "\n",
        "\\begin{equation}\n",
        "\\mathbb{E}[\\eta(t)]=\\mu\n",
        "\\end{equation}\n",
        "\n",
        "and autocovariance\n",
        "\n",
        "\\begin{equation}\n",
        "[\\eta(t)\\eta(t+\\tau)]=\\sigma_\\eta^2e^{-|t-\\tau|/\\tau_\\eta}\n",
        "\\end{equation}\n",
        "\n",
        "which can be used to check your code."
      ]
    },
    {
      "cell_type": "code",
      "execution_count": null,
      "metadata": {
        "cellView": "form",
        "execution": {},
        "id": "gjM4BQxPQfH4"
      },
      "outputs": [],
      "source": [
        "# @markdown Execute this cell to get helper function `my_OU`\n",
        "\n",
        "\n",
        "def my_OU(pars, mu, sig, myseed=False):\n",
        "  \"\"\"\n",
        "  Function that produces Ornstein-Uhlenbeck input\n",
        "\n",
        "  Args:\n",
        "    pars       : parameter dictionary\n",
        "    sig        : noise amplitute\n",
        "    myseed     : random seed. int or boolean\n",
        "\n",
        "  Returns:\n",
        "    I_ou       : Ornstein-Uhlenbeck input current\n",
        "  \"\"\"\n",
        "\n",
        "  # Retrieve simulation parameters\n",
        "  dt, range_t = pars['dt'], pars['range_t']\n",
        "  Lt = range_t.size\n",
        "  tau_ou = pars['tau_ou']  # [ms]\n",
        "\n",
        "  # set random seed\n",
        "  if myseed:\n",
        "    np.random.seed(seed=myseed)\n",
        "  else:\n",
        "    np.random.seed()\n",
        "\n",
        "  # Initialize\n",
        "  noise = np.random.randn(Lt)\n",
        "  I_ou = np.zeros(Lt)\n",
        "  I_ou[0] = noise[0] * sig\n",
        "\n",
        "  # generate OU\n",
        "  for it in range(Lt-1):\n",
        "    I_ou[it+1] = I_ou[it] + (dt / tau_ou) * (mu - I_ou[it]) + np.sqrt(2 * dt / tau_ou) * sig * noise[it + 1]\n",
        "\n",
        "  return I_ou\n",
        "\n",
        "\n",
        "help(my_OU)"
      ]
    },
    {
      "cell_type": "markdown",
      "metadata": {
        "execution": {},
        "id": "W3oSDNpWQfH4"
      },
      "source": [
        "### Bonus Interactive Demo 1: LIF Explorer with OU input\n",
        "In the following, we will check how a neuron responds to a noisy current that follows the statistics of an OU process.\n",
        "\n",
        "-  How does the OU type input change neuron responsiveness?\n",
        "-  What do you think will happen to the spike pattern and rate if you increased or decreased the time constant of the OU process?"
      ]
    },
    {
      "cell_type": "code",
      "execution_count": null,
      "metadata": {
        "cellView": "form",
        "execution": {},
        "id": "EsxRA9ayQfH4"
      },
      "outputs": [],
      "source": [
        "# @markdown Remember to enable the widget by running the cell!\n",
        "\n",
        "my_layout.width = '450px'\n",
        "@widgets.interact(\n",
        "  tau_ou=widgets.FloatSlider(10.0, min=5., max=20.,\n",
        "                             step=2.5, layout=my_layout),\n",
        "  sig_ou=widgets.FloatSlider(10.0, min=5., max=40.,\n",
        "                             step=2.5, layout=my_layout),\n",
        "  mu_ou=widgets.FloatSlider(190.0, min=180., max=220.,\n",
        "                            step=2.5, layout=my_layout)\n",
        ")\n",
        "\n",
        "\n",
        "def LIF_with_OU(tau_ou=10., sig_ou=40., mu_ou=200.):\n",
        "  pars = default_pars(T=1000.)\n",
        "  pars['tau_ou'] = tau_ou  # [ms]\n",
        "\n",
        "  I_ou = my_OU(pars, mu_ou, sig_ou)\n",
        "  v, sp = run_LIF(pars, Iinj=I_ou)\n",
        "\n",
        "  plt.figure(figsize=(12, 4))\n",
        "  plt.subplot(121)\n",
        "  plt.plot(pars['range_t'], I_ou, 'b', lw=1.0)\n",
        "  plt.xlabel('Time (ms)')\n",
        "  plt.ylabel(r'$I_{\\mathrm{OU}}$ (pA)')\n",
        "  plt.subplot(122)\n",
        "  plot_volt_trace(pars, v, sp)\n",
        "  plt.tight_layout()\n",
        "  plt.show()"
      ]
    },
    {
      "cell_type": "markdown",
      "metadata": {
        "execution": {},
        "id": "iUWyGmzxQfH4"
      },
      "source": [
        "[*Click for solution*](https://github.com/NeuromatchAcademy/course-content/tree/main/tutorials/W2D3_BiologicalNeuronModels/solutions/W2D3_Tutorial1_Solution_a0f797af.py)\n",
        "\n"
      ]
    },
    {
      "cell_type": "code",
      "execution_count": null,
      "metadata": {
        "cellView": "form",
        "execution": {},
        "id": "wq5h_e9jQfH4"
      },
      "outputs": [],
      "source": [
        "# @title Submit your feedback\n",
        "content_review(f\"{feedback_prefix}_LIF_explorer_with_OU_input_Bonus_Interactive_Demo_and_Discussion\")"
      ]
    },
    {
      "cell_type": "markdown",
      "metadata": {
        "execution": {},
        "id": "yfF8kDMlQfH4"
      },
      "source": [
        "## Bonus Section 2: Generalized Integrate-and-Fire models\n",
        "\n",
        "LIF model is not the only abstraction of real neurons. If you want to learn about more realistic types of neuronal models, watch the Bonus Video!"
      ]
    },
    {
      "cell_type": "code",
      "execution_count": null,
      "metadata": {
        "cellView": "form",
        "execution": {},
        "id": "ikrVn2toQfH4"
      },
      "outputs": [],
      "source": [
        "# @title Video 3 (Bonus): Extensions to Integrate-and-Fire models\n",
        "from ipywidgets import widgets\n",
        "from IPython.display import YouTubeVideo\n",
        "from IPython.display import IFrame\n",
        "from IPython.display import display\n",
        "\n",
        "\n",
        "class PlayVideo(IFrame):\n",
        "  def __init__(self, id, source, page=1, width=400, height=300, **kwargs):\n",
        "    self.id = id\n",
        "    if source == 'Bilibili':\n",
        "      src = f'https://player.bilibili.com/player.html?bvid={id}&page={page}'\n",
        "    elif source == 'Osf':\n",
        "      src = f'https://mfr.ca-1.osf.io/render?url=https://osf.io/download/{id}/?direct%26mode=render'\n",
        "    super(PlayVideo, self).__init__(src, width, height, **kwargs)\n",
        "\n",
        "\n",
        "def display_videos(video_ids, W=400, H=300, fs=1):\n",
        "  tab_contents = []\n",
        "  for i, video_id in enumerate(video_ids):\n",
        "    out = widgets.Output()\n",
        "    with out:\n",
        "      if video_ids[i][0] == 'Youtube':\n",
        "        video = YouTubeVideo(id=video_ids[i][1], width=W,\n",
        "                             height=H, fs=fs, rel=0)\n",
        "        print(f'Video available at https://youtube.com/watch?v={video.id}')\n",
        "      else:\n",
        "        video = PlayVideo(id=video_ids[i][1], source=video_ids[i][0], width=W,\n",
        "                          height=H, fs=fs, autoplay=False)\n",
        "        if video_ids[i][0] == 'Bilibili':\n",
        "          print(f'Video available at https://www.bilibili.com/video/{video.id}')\n",
        "        elif video_ids[i][0] == 'Osf':\n",
        "          print(f'Video available at https://osf.io/{video.id}')\n",
        "      display(video)\n",
        "    tab_contents.append(out)\n",
        "  return tab_contents\n",
        "\n",
        "\n",
        "video_ids = [('Youtube', 'G0b6wLhuQxE'), ('Bilibili', 'BV1c54y1B7d7')]\n",
        "tab_contents = display_videos(video_ids, W=854, H=480)\n",
        "tabs = widgets.Tab()\n",
        "tabs.children = tab_contents\n",
        "for i in range(len(tab_contents)):\n",
        "  tabs.set_title(i, video_ids[i][0])\n",
        "display(tabs)"
      ]
    },
    {
      "cell_type": "code",
      "execution_count": null,
      "metadata": {
        "cellView": "form",
        "execution": {},
        "id": "vNrgqDcrQfH4"
      },
      "outputs": [],
      "source": [
        "# @title Submit your feedback\n",
        "content_review(f\"{feedback_prefix}_Extension_to_Integrate_and_Fire_Bonus_Video\")"
      ]
    }
  ],
  "metadata": {
    "colab": {
      "name": "W2D3_Tutorial1",
      "provenance": [],
      "include_colab_link": true
    },
    "kernel": {
      "display_name": "Python 3",
      "language": "python",
      "name": "python3"
    },
    "kernelspec": {
      "display_name": "Python 3",
      "name": "python3"
    },
    "language_info": {
      "codemirror_mode": {
        "name": "ipython",
        "version": 3
      },
      "file_extension": ".py",
      "mimetype": "text/x-python",
      "name": "python",
      "nbconvert_exporter": "python",
      "pygments_lexer": "ipython3",
      "version": "3.9.17"
    },
    "widgets": {
      "application/vnd.jupyter.widget-state+json": {
        "2a918c1124c247139b77c8dab8fbd1ae": {
          "model_module": "@jupyter-widgets/controls",
          "model_name": "VBoxModel",
          "model_module_version": "1.5.0",
          "state": {
            "_dom_classes": [
              "widget-interact"
            ],
            "_model_module": "@jupyter-widgets/controls",
            "_model_module_version": "1.5.0",
            "_model_name": "VBoxModel",
            "_view_count": null,
            "_view_module": "@jupyter-widgets/controls",
            "_view_module_version": "1.5.0",
            "_view_name": "VBoxView",
            "box_style": "",
            "children": [
              "IPY_MODEL_1f79af967cf249309534b851ee2dab22",
              "IPY_MODEL_badc5707c78e4fc88046c29993d7517d"
            ],
            "layout": "IPY_MODEL_b591f6e4fdb5468e991e456c780f52a4"
          }
        },
        "1f79af967cf249309534b851ee2dab22": {
          "model_module": "@jupyter-widgets/controls",
          "model_name": "FloatSliderModel",
          "model_module_version": "1.5.0",
          "state": {
            "_dom_classes": [],
            "_model_module": "@jupyter-widgets/controls",
            "_model_module_version": "1.5.0",
            "_model_name": "FloatSliderModel",
            "_view_count": null,
            "_view_module": "@jupyter-widgets/controls",
            "_view_module_version": "1.5.0",
            "_view_name": "FloatSliderView",
            "continuous_update": true,
            "description": "sig_gwn",
            "description_tooltip": null,
            "disabled": false,
            "layout": "IPY_MODEL_4f5e3885fc1a4de6a900891304c2a7e4",
            "max": 6,
            "min": 0,
            "orientation": "horizontal",
            "readout": true,
            "readout_format": ".2f",
            "step": 0.5,
            "style": "IPY_MODEL_94cd0523b79140a0b4607831f7e53d67",
            "value": 3
          }
        },
        "badc5707c78e4fc88046c29993d7517d": {
          "model_module": "@jupyter-widgets/output",
          "model_name": "OutputModel",
          "model_module_version": "1.0.0",
          "state": {
            "_dom_classes": [],
            "_model_module": "@jupyter-widgets/output",
            "_model_module_version": "1.0.0",
            "_model_name": "OutputModel",
            "_view_count": null,
            "_view_module": "@jupyter-widgets/output",
            "_view_module_version": "1.0.0",
            "_view_name": "OutputView",
            "layout": "IPY_MODEL_a0c73b7ad9684cc9ad52565b2a3e9531",
            "msg_id": "",
            "outputs": [
              {
                "output_type": "error",
                "ename": "NameError",
                "evalue": "ignored",
                "traceback": [
                  "\u001b[0;31m---------------------------------------------------------------------------\u001b[0m",
                  "\u001b[0;31mNameError\u001b[0m                                 Traceback (most recent call last)",
                  "\u001b[0;32m/usr/local/lib/python3.10/dist-packages/ipywidgets/widgets/interaction.py\u001b[0m in \u001b[0;36mupdate\u001b[0;34m(self, *args)\u001b[0m\n\u001b[1;32m    255\u001b[0m                     \u001b[0mvalue\u001b[0m \u001b[0;34m=\u001b[0m \u001b[0mwidget\u001b[0m\u001b[0;34m.\u001b[0m\u001b[0mget_interact_value\u001b[0m\u001b[0;34m(\u001b[0m\u001b[0;34m)\u001b[0m\u001b[0;34m\u001b[0m\u001b[0;34m\u001b[0m\u001b[0m\n\u001b[1;32m    256\u001b[0m                     \u001b[0mself\u001b[0m\u001b[0;34m.\u001b[0m\u001b[0mkwargs\u001b[0m\u001b[0;34m[\u001b[0m\u001b[0mwidget\u001b[0m\u001b[0;34m.\u001b[0m\u001b[0m_kwarg\u001b[0m\u001b[0;34m]\u001b[0m \u001b[0;34m=\u001b[0m \u001b[0mvalue\u001b[0m\u001b[0;34m\u001b[0m\u001b[0;34m\u001b[0m\u001b[0m\n\u001b[0;32m--> 257\u001b[0;31m                 \u001b[0mself\u001b[0m\u001b[0;34m.\u001b[0m\u001b[0mresult\u001b[0m \u001b[0;34m=\u001b[0m \u001b[0mself\u001b[0m\u001b[0;34m.\u001b[0m\u001b[0mf\u001b[0m\u001b[0;34m(\u001b[0m\u001b[0;34m**\u001b[0m\u001b[0mself\u001b[0m\u001b[0;34m.\u001b[0m\u001b[0mkwargs\u001b[0m\u001b[0;34m)\u001b[0m\u001b[0;34m\u001b[0m\u001b[0;34m\u001b[0m\u001b[0m\n\u001b[0m\u001b[1;32m    258\u001b[0m                 \u001b[0mshow_inline_matplotlib_plots\u001b[0m\u001b[0;34m(\u001b[0m\u001b[0;34m)\u001b[0m\u001b[0;34m\u001b[0m\u001b[0;34m\u001b[0m\u001b[0m\n\u001b[1;32m    259\u001b[0m                 \u001b[0;32mif\u001b[0m \u001b[0mself\u001b[0m\u001b[0;34m.\u001b[0m\u001b[0mauto_display\u001b[0m \u001b[0;32mand\u001b[0m \u001b[0mself\u001b[0m\u001b[0;34m.\u001b[0m\u001b[0mresult\u001b[0m \u001b[0;32mis\u001b[0m \u001b[0;32mnot\u001b[0m \u001b[0;32mNone\u001b[0m\u001b[0;34m:\u001b[0m\u001b[0;34m\u001b[0m\u001b[0;34m\u001b[0m\u001b[0m\n",
                  "\u001b[0;32m<ipython-input-10-46ecb3b23f00>\u001b[0m in \u001b[0;36mdiff_std_affect_fI\u001b[0;34m(sig_gwn)\u001b[0m\n\u001b[1;32m     15\u001b[0m \u001b[0;34m\u001b[0m\u001b[0m\n\u001b[1;32m     16\u001b[0m   \u001b[0;32mfor\u001b[0m \u001b[0midx\u001b[0m \u001b[0;32min\u001b[0m \u001b[0mrange\u001b[0m\u001b[0;34m(\u001b[0m\u001b[0mlen\u001b[0m\u001b[0;34m(\u001b[0m\u001b[0mI_mean\u001b[0m\u001b[0;34m)\u001b[0m\u001b[0;34m)\u001b[0m\u001b[0;34m:\u001b[0m\u001b[0;34m\u001b[0m\u001b[0;34m\u001b[0m\u001b[0m\n\u001b[0;32m---> 17\u001b[0;31m       \u001b[0mI_GWN\u001b[0m \u001b[0;34m=\u001b[0m \u001b[0mmy_GWN\u001b[0m\u001b[0;34m(\u001b[0m\u001b[0mpars\u001b[0m\u001b[0;34m,\u001b[0m \u001b[0mmu\u001b[0m\u001b[0;34m=\u001b[0m\u001b[0mI_mean\u001b[0m\u001b[0;34m[\u001b[0m\u001b[0midx\u001b[0m\u001b[0;34m]\u001b[0m\u001b[0;34m,\u001b[0m \u001b[0msig\u001b[0m\u001b[0;34m=\u001b[0m\u001b[0msig_gwn\u001b[0m\u001b[0;34m,\u001b[0m \u001b[0mmyseed\u001b[0m\u001b[0;34m=\u001b[0m\u001b[0;36m2020\u001b[0m\u001b[0;34m)\u001b[0m\u001b[0;34m\u001b[0m\u001b[0;34m\u001b[0m\u001b[0m\n\u001b[0m\u001b[1;32m     18\u001b[0m       \u001b[0mv\u001b[0m\u001b[0;34m,\u001b[0m \u001b[0mrec_spikes\u001b[0m \u001b[0;34m=\u001b[0m \u001b[0mrun_LIF\u001b[0m\u001b[0;34m(\u001b[0m\u001b[0mpars\u001b[0m\u001b[0;34m,\u001b[0m \u001b[0mIinj\u001b[0m\u001b[0;34m=\u001b[0m\u001b[0mI_GWN\u001b[0m\u001b[0;34m)\u001b[0m\u001b[0;34m\u001b[0m\u001b[0;34m\u001b[0m\u001b[0m\n\u001b[1;32m     19\u001b[0m       \u001b[0mv_dc\u001b[0m\u001b[0;34m,\u001b[0m \u001b[0mrec_sp_dc\u001b[0m \u001b[0;34m=\u001b[0m \u001b[0mrun_LIF\u001b[0m\u001b[0;34m(\u001b[0m\u001b[0mpars\u001b[0m\u001b[0;34m,\u001b[0m \u001b[0mIinj\u001b[0m\u001b[0;34m=\u001b[0m\u001b[0mI_mean\u001b[0m\u001b[0;34m[\u001b[0m\u001b[0midx\u001b[0m\u001b[0;34m]\u001b[0m\u001b[0;34m)\u001b[0m\u001b[0;34m\u001b[0m\u001b[0;34m\u001b[0m\u001b[0m\n",
                  "\u001b[0;31mNameError\u001b[0m: name 'my_GWN' is not defined"
                ]
              }
            ]
          }
        },
        "b591f6e4fdb5468e991e456c780f52a4": {
          "model_module": "@jupyter-widgets/base",
          "model_name": "LayoutModel",
          "model_module_version": "1.2.0",
          "state": {
            "_model_module": "@jupyter-widgets/base",
            "_model_module_version": "1.2.0",
            "_model_name": "LayoutModel",
            "_view_count": null,
            "_view_module": "@jupyter-widgets/base",
            "_view_module_version": "1.2.0",
            "_view_name": "LayoutView",
            "align_content": null,
            "align_items": null,
            "align_self": null,
            "border": null,
            "bottom": null,
            "display": null,
            "flex": null,
            "flex_flow": null,
            "grid_area": null,
            "grid_auto_columns": null,
            "grid_auto_flow": null,
            "grid_auto_rows": null,
            "grid_column": null,
            "grid_gap": null,
            "grid_row": null,
            "grid_template_areas": null,
            "grid_template_columns": null,
            "grid_template_rows": null,
            "height": null,
            "justify_content": null,
            "justify_items": null,
            "left": null,
            "margin": null,
            "max_height": null,
            "max_width": null,
            "min_height": null,
            "min_width": null,
            "object_fit": null,
            "object_position": null,
            "order": null,
            "overflow": null,
            "overflow_x": null,
            "overflow_y": null,
            "padding": null,
            "right": null,
            "top": null,
            "visibility": null,
            "width": null
          }
        },
        "4f5e3885fc1a4de6a900891304c2a7e4": {
          "model_module": "@jupyter-widgets/base",
          "model_name": "LayoutModel",
          "model_module_version": "1.2.0",
          "state": {
            "_model_module": "@jupyter-widgets/base",
            "_model_module_version": "1.2.0",
            "_model_name": "LayoutModel",
            "_view_count": null,
            "_view_module": "@jupyter-widgets/base",
            "_view_module_version": "1.2.0",
            "_view_name": "LayoutView",
            "align_content": null,
            "align_items": null,
            "align_self": null,
            "border": null,
            "bottom": null,
            "display": null,
            "flex": null,
            "flex_flow": null,
            "grid_area": null,
            "grid_auto_columns": null,
            "grid_auto_flow": null,
            "grid_auto_rows": null,
            "grid_column": null,
            "grid_gap": null,
            "grid_row": null,
            "grid_template_areas": null,
            "grid_template_columns": null,
            "grid_template_rows": null,
            "height": null,
            "justify_content": null,
            "justify_items": null,
            "left": null,
            "margin": null,
            "max_height": null,
            "max_width": null,
            "min_height": null,
            "min_width": null,
            "object_fit": null,
            "object_position": null,
            "order": null,
            "overflow": null,
            "overflow_x": null,
            "overflow_y": null,
            "padding": null,
            "right": null,
            "top": null,
            "visibility": null,
            "width": "450px"
          }
        },
        "94cd0523b79140a0b4607831f7e53d67": {
          "model_module": "@jupyter-widgets/controls",
          "model_name": "SliderStyleModel",
          "model_module_version": "1.5.0",
          "state": {
            "_model_module": "@jupyter-widgets/controls",
            "_model_module_version": "1.5.0",
            "_model_name": "SliderStyleModel",
            "_view_count": null,
            "_view_module": "@jupyter-widgets/base",
            "_view_module_version": "1.2.0",
            "_view_name": "StyleView",
            "description_width": "",
            "handle_color": null
          }
        },
        "a0c73b7ad9684cc9ad52565b2a3e9531": {
          "model_module": "@jupyter-widgets/base",
          "model_name": "LayoutModel",
          "model_module_version": "1.2.0",
          "state": {
            "_model_module": "@jupyter-widgets/base",
            "_model_module_version": "1.2.0",
            "_model_name": "LayoutModel",
            "_view_count": null,
            "_view_module": "@jupyter-widgets/base",
            "_view_module_version": "1.2.0",
            "_view_name": "LayoutView",
            "align_content": null,
            "align_items": null,
            "align_self": null,
            "border": null,
            "bottom": null,
            "display": null,
            "flex": null,
            "flex_flow": null,
            "grid_area": null,
            "grid_auto_columns": null,
            "grid_auto_flow": null,
            "grid_auto_rows": null,
            "grid_column": null,
            "grid_gap": null,
            "grid_row": null,
            "grid_template_areas": null,
            "grid_template_columns": null,
            "grid_template_rows": null,
            "height": null,
            "justify_content": null,
            "justify_items": null,
            "left": null,
            "margin": null,
            "max_height": null,
            "max_width": null,
            "min_height": null,
            "min_width": null,
            "object_fit": null,
            "object_position": null,
            "order": null,
            "overflow": null,
            "overflow_x": null,
            "overflow_y": null,
            "padding": null,
            "right": null,
            "top": null,
            "visibility": null,
            "width": null
          }
        },
        "169a18951f1543499adfcdab1048e8ff": {
          "model_module": "@jupyter-widgets/controls",
          "model_name": "VBoxModel",
          "model_module_version": "1.5.0",
          "state": {
            "_dom_classes": [
              "widget-interact"
            ],
            "_model_module": "@jupyter-widgets/controls",
            "_model_module_version": "1.5.0",
            "_model_name": "VBoxModel",
            "_view_count": null,
            "_view_module": "@jupyter-widgets/controls",
            "_view_module_version": "1.5.0",
            "_view_name": "VBoxView",
            "box_style": "",
            "children": [
              "IPY_MODEL_46f42ee650b945db9cd9697bf134cd53",
              "IPY_MODEL_500c3d38caa649459ac934dee539a69b"
            ],
            "layout": "IPY_MODEL_3e36f90f8e3945e9adfa1856e3e1b65b"
          }
        },
        "46f42ee650b945db9cd9697bf134cd53": {
          "model_module": "@jupyter-widgets/controls",
          "model_name": "FloatSliderModel",
          "model_module_version": "1.5.0",
          "state": {
            "_dom_classes": [],
            "_model_module": "@jupyter-widgets/controls",
            "_model_module_version": "1.5.0",
            "_model_name": "FloatSliderModel",
            "_view_count": null,
            "_view_module": "@jupyter-widgets/controls",
            "_view_module_version": "1.5.0",
            "_view_name": "FloatSliderView",
            "continuous_update": true,
            "description": "sig_gwn",
            "description_tooltip": null,
            "disabled": false,
            "layout": "IPY_MODEL_4f5e3885fc1a4de6a900891304c2a7e4",
            "max": 10,
            "min": 0,
            "orientation": "horizontal",
            "readout": true,
            "readout_format": ".2f",
            "step": 0.5,
            "style": "IPY_MODEL_c907f225017d4a0cafc265d6b5a2db3a",
            "value": 4.5
          }
        },
        "500c3d38caa649459ac934dee539a69b": {
          "model_module": "@jupyter-widgets/output",
          "model_name": "OutputModel",
          "model_module_version": "1.0.0",
          "state": {
            "_dom_classes": [],
            "_model_module": "@jupyter-widgets/output",
            "_model_module_version": "1.0.0",
            "_model_name": "OutputModel",
            "_view_count": null,
            "_view_module": "@jupyter-widgets/output",
            "_view_module_version": "1.0.0",
            "_view_name": "OutputView",
            "layout": "IPY_MODEL_c7cd8a09bf48473788cd1cf7008fdc72",
            "msg_id": "",
            "outputs": [
              {
                "output_type": "display_data",
                "data": {
                  "text/plain": "<Figure size 800x600 with 1 Axes>",
                  "image/png": "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\n"
                },
                "metadata": {
                  "image/png": {
                    "width": 775,
                    "height": 575
                  }
                }
              }
            ]
          }
        },
        "3e36f90f8e3945e9adfa1856e3e1b65b": {
          "model_module": "@jupyter-widgets/base",
          "model_name": "LayoutModel",
          "model_module_version": "1.2.0",
          "state": {
            "_model_module": "@jupyter-widgets/base",
            "_model_module_version": "1.2.0",
            "_model_name": "LayoutModel",
            "_view_count": null,
            "_view_module": "@jupyter-widgets/base",
            "_view_module_version": "1.2.0",
            "_view_name": "LayoutView",
            "align_content": null,
            "align_items": null,
            "align_self": null,
            "border": null,
            "bottom": null,
            "display": null,
            "flex": null,
            "flex_flow": null,
            "grid_area": null,
            "grid_auto_columns": null,
            "grid_auto_flow": null,
            "grid_auto_rows": null,
            "grid_column": null,
            "grid_gap": null,
            "grid_row": null,
            "grid_template_areas": null,
            "grid_template_columns": null,
            "grid_template_rows": null,
            "height": null,
            "justify_content": null,
            "justify_items": null,
            "left": null,
            "margin": null,
            "max_height": null,
            "max_width": null,
            "min_height": null,
            "min_width": null,
            "object_fit": null,
            "object_position": null,
            "order": null,
            "overflow": null,
            "overflow_x": null,
            "overflow_y": null,
            "padding": null,
            "right": null,
            "top": null,
            "visibility": null,
            "width": null
          }
        },
        "c907f225017d4a0cafc265d6b5a2db3a": {
          "model_module": "@jupyter-widgets/controls",
          "model_name": "SliderStyleModel",
          "model_module_version": "1.5.0",
          "state": {
            "_model_module": "@jupyter-widgets/controls",
            "_model_module_version": "1.5.0",
            "_model_name": "SliderStyleModel",
            "_view_count": null,
            "_view_module": "@jupyter-widgets/base",
            "_view_module_version": "1.2.0",
            "_view_name": "StyleView",
            "description_width": "",
            "handle_color": null
          }
        },
        "c7cd8a09bf48473788cd1cf7008fdc72": {
          "model_module": "@jupyter-widgets/base",
          "model_name": "LayoutModel",
          "model_module_version": "1.2.0",
          "state": {
            "_model_module": "@jupyter-widgets/base",
            "_model_module_version": "1.2.0",
            "_model_name": "LayoutModel",
            "_view_count": null,
            "_view_module": "@jupyter-widgets/base",
            "_view_module_version": "1.2.0",
            "_view_name": "LayoutView",
            "align_content": null,
            "align_items": null,
            "align_self": null,
            "border": null,
            "bottom": null,
            "display": null,
            "flex": null,
            "flex_flow": null,
            "grid_area": null,
            "grid_auto_columns": null,
            "grid_auto_flow": null,
            "grid_auto_rows": null,
            "grid_column": null,
            "grid_gap": null,
            "grid_row": null,
            "grid_template_areas": null,
            "grid_template_columns": null,
            "grid_template_rows": null,
            "height": null,
            "justify_content": null,
            "justify_items": null,
            "left": null,
            "margin": null,
            "max_height": null,
            "max_width": null,
            "min_height": null,
            "min_width": null,
            "object_fit": null,
            "object_position": null,
            "order": null,
            "overflow": null,
            "overflow_x": null,
            "overflow_y": null,
            "padding": null,
            "right": null,
            "top": null,
            "visibility": null,
            "width": null
          }
        }
      }
    }
  },
  "nbformat": 4,
  "nbformat_minor": 0
}